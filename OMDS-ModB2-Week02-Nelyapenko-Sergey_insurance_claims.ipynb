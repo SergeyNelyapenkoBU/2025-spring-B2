{
 "cells": [
  {
   "cell_type": "markdown",
   "id": "5190b54c-d49c-4d6f-80cc-22555336a9cd",
   "metadata": {},
   "source": [
    "# Week 2 - Preprocessing, part 2\n",
    "\n",
    "# 1. Lesson: None"
   ]
  },
  {
   "cell_type": "markdown",
   "id": "47c4e5ff-b05f-4ef2-96f1-49dcb5beb158",
   "metadata": {},
   "source": [
    "# 2. Weekly graph question"
   ]
  },
  {
   "cell_type": "markdown",
   "id": "aad37e29-6e84-41fa-886d-abc1312213ab",
   "metadata": {},
   "source": [
    "✅ The Storytelling With Data book mentions planning on a \"Who, What, and How\" for your data story.  Write down a possible Who, What, and How for your data, using the ideas in the book."
   ]
  },
  {
   "cell_type": "markdown",
   "id": "cca941aa",
   "metadata": {},
   "source": [
    "Dataset: Aqqad, A. (2023, August 22). Insurance_claims. Mendeley Data. \n",
    "\n",
    "#### **Who (Audience)**\n",
    "- **Fraud Investigators & Analysts:** Improve fraud detection models.  \n",
    "- **Claims Adjusters & Underwriters:** Assess claim validity.  \n",
    "- **Insurance Executives & Risk Managers:** Reduce fraud losses.  \n",
    "\n",
    "#### **What (Key Message)**\n",
    "- **Fraud is rare (6%) but costly.**  \n",
    "- **Patterns exist** in claim amount, number of vehicles, and incident type.  \n",
    "- **Better detection models** can minimize losses while ensuring fair claims.  \n",
    "\n",
    "#### **How (Visualization Approach)**\n",
    "- **Bar charts**: Fraud vs. non-fraud distribution.  \n",
    "- **Heatmaps**: Feature correlations.  \n",
    "- **Decision Trees**: Key fraud indicators.  \n",
    "- **Time trends**: Fraud patterns over time.  \n",
    "- **Geospatial maps**: Fraud hotspots.  "
   ]
  },
  {
   "cell_type": "markdown",
   "id": "898eb327-aefd-4ac0-b95a-92b616a2181b",
   "metadata": {},
   "source": [
    "# 3. Homework - work with your own data"
   ]
  },
  {
   "cell_type": "code",
   "execution_count": 2,
   "id": "fe925521-979f-4983-8d85-8db8d1316e99",
   "metadata": {},
   "outputs": [],
   "source": [
    "import pandas as pd\n",
    "import numpy as np\n",
    "from datetime import datetime, timedelta\n",
    "import kagglehub\n",
    "import os\n",
    "import matplotlib.pyplot as plt\n",
    "import seaborn as sns\n",
    "import requests\n",
    "import zipfile\n",
    "import io"
   ]
  },
  {
   "cell_type": "markdown",
   "id": "14836788-b235-4cd4-b94d-5f749c6141a8",
   "metadata": {},
   "source": [
    "This week, you will do the same types of exercises as last week, but you should use your own datasets that you found last semester.\n",
    "\n",
    "### Here are some types of analysis you can do  Use Google, documentation, and ChatGPT to help you:\n",
    "\n",
    "- ✅  Summarize the datasets using info() and describe()\n",
    "\n",
    "- ✅ Are there any duplicate rows?\n",
    "\n",
    "- ✅ Are there any duplicate values in a given column (when this would be inappropriate?)\n",
    "\n",
    "- ✅ What are the mean, median, and mode of each column?\n",
    "\n",
    "- ✅ Are there any missing or null values?\n",
    "\n",
    "    - ✅ Do you want to fill in the missing value with a mean value?  A value of your choice?  Remove that row?\n",
    "\n",
    "- ✅ Identify any other inconsistent data (e.g. someone seems to be taking an action before they are born.)\n",
    "\n",
    "- ✅ Encode any categorical variables (e.g. with one-hot encoding.)\n",
    "\n",
    "### Conclusions:\n",
    "\n",
    "- ✅ Are the data usable?  If not, find some new data!\n",
    "\n",
    "- ✅ Do you need to modify or correct the data in some way?\n",
    "\n",
    "- ✅ Is there any class imbalance?  (Categories that have many more items than other categories)."
   ]
  },
  {
   "cell_type": "code",
   "execution_count": 3,
   "id": "d927dc06",
   "metadata": {},
   "outputs": [
    {
     "name": "stdout",
     "output_type": "stream",
     "text": [
      "First few rows of the dataset:\n",
      "   months_as_customer  age  policy_number policy_bind_date policy_state  \\\n",
      "0                 328   48         521585       2014-10-17           OH   \n",
      "1                 228   42         342868       2006-06-27           IN   \n",
      "2                 134   29         687698       2000-09-06           OH   \n",
      "3                 256   41         227811       1990-05-25           IL   \n",
      "4                 228   44         367455       2014-06-06           IL   \n",
      "\n",
      "  policy_csl  policy_deductable  policy_annual_premium  umbrella_limit  \\\n",
      "0    250/500               1000                1406.91               0   \n",
      "1    250/500               2000                1197.22         5000000   \n",
      "2    100/300               2000                1413.14         5000000   \n",
      "3    250/500               2000                1415.74         6000000   \n",
      "4   500/1000               1000                1583.91         6000000   \n",
      "\n",
      "   insured_zip  ... police_report_available total_claim_amount injury_claim  \\\n",
      "0       466132  ...                     YES              71610         6510   \n",
      "1       468176  ...                       ?               5070          780   \n",
      "2       430632  ...                      NO              34650         7700   \n",
      "3       608117  ...                      NO              63400         6340   \n",
      "4       610706  ...                      NO               6500         1300   \n",
      "\n",
      "  property_claim vehicle_claim  auto_make  auto_model auto_year  \\\n",
      "0          13020         52080       Saab         92x      2004   \n",
      "1            780          3510   Mercedes        E400      2007   \n",
      "2           3850         23100      Dodge         RAM      2007   \n",
      "3           6340         50720  Chevrolet       Tahoe      2014   \n",
      "4            650          4550     Accura         RSX      2009   \n",
      "\n",
      "  fraud_reported _c39  \n",
      "0              Y  NaN  \n",
      "1              Y  NaN  \n",
      "2              N  NaN  \n",
      "3              Y  NaN  \n",
      "4              N  NaN  \n",
      "\n",
      "[5 rows x 40 columns]\n"
     ]
    }
   ],
   "source": [
    "# set variables\n",
    "df = pd.read_csv(\"data//auto//insurance_claims.csv\")\n",
    "print(\"First few rows of the dataset:\")\n",
    "print(df.head())\n",
    " \n",
    "df.head()\n",
    "\n",
    "dataset = df.copy()"
   ]
  },
  {
   "cell_type": "code",
   "execution_count": 4,
   "id": "d578b5e0",
   "metadata": {},
   "outputs": [
    {
     "name": "stdout",
     "output_type": "stream",
     "text": [
      "Download successful!\n",
      "Files in the ZIP archive: ['insurance_claims/insurance_claims.csv']\n",
      "   months_as_customer  age  policy_number policy_bind_date policy_state  \\\n",
      "0                 328   48         521585       2014-10-17           OH   \n",
      "1                 228   42         342868       2006-06-27           IN   \n",
      "2                 134   29         687698       2000-09-06           OH   \n",
      "3                 256   41         227811       1990-05-25           IL   \n",
      "4                 228   44         367455       2014-06-06           IL   \n",
      "\n",
      "  policy_csl  policy_deductable  policy_annual_premium  umbrella_limit  \\\n",
      "0    250/500               1000                1406.91               0   \n",
      "1    250/500               2000                1197.22         5000000   \n",
      "2    100/300               2000                1413.14         5000000   \n",
      "3    250/500               2000                1415.74         6000000   \n",
      "4   500/1000               1000                1583.91         6000000   \n",
      "\n",
      "   insured_zip  ... police_report_available total_claim_amount injury_claim  \\\n",
      "0       466132  ...                     YES              71610         6510   \n",
      "1       468176  ...                       ?               5070          780   \n",
      "2       430632  ...                      NO              34650         7700   \n",
      "3       608117  ...                      NO              63400         6340   \n",
      "4       610706  ...                      NO               6500         1300   \n",
      "\n",
      "  property_claim vehicle_claim  auto_make  auto_model auto_year  \\\n",
      "0          13020         52080       Saab         92x      2004   \n",
      "1            780          3510   Mercedes        E400      2007   \n",
      "2           3850         23100      Dodge         RAM      2007   \n",
      "3           6340         50720  Chevrolet       Tahoe      2014   \n",
      "4            650          4550     Accura         RSX      2009   \n",
      "\n",
      "  fraud_reported _c39  \n",
      "0              Y  NaN  \n",
      "1              Y  NaN  \n",
      "2              N  NaN  \n",
      "3              Y  NaN  \n",
      "4              N  NaN  \n",
      "\n",
      "[5 rows x 40 columns]\n"
     ]
    }
   ],
   "source": [
    "# URL of the ZIP file\n",
    "url = 'https://prod-dcd-datasets-cache-zipfiles.s3.eu-west-1.amazonaws.com/992mh7dk9y-2.zip'  # Replace with your actual URL\n",
    "\n",
    "# Download the ZIP file\n",
    "response = requests.get(url)\n",
    "if response.status_code == 200:\n",
    "    print(\"Download successful!\")\n",
    "else:\n",
    "    raise Exception(f\"Failed to download file, status code: {response.status_code}\")\n",
    "\n",
    "# Open the ZIP file in memory\n",
    "with zipfile.ZipFile(io.BytesIO(response.content)) as z:\n",
    "    # List files in the ZIP archive (optional)\n",
    "    file_list = z.namelist()\n",
    "    print(\"Files in the ZIP archive:\", file_list)\n",
    "    \n",
    "    # Find the CSV file - adjust the logic if multiple CSVs exist\n",
    "    csv_files = [f for f in file_list if f.endswith('.csv')]\n",
    "    if not csv_files:\n",
    "        raise Exception(\"No CSV file found in the ZIP archive.\")\n",
    "    \n",
    "    csv_filename = csv_files[0]\n",
    "    \n",
    "    # Read the CSV file directly into a pandas DataFrame\n",
    "    with z.open(csv_filename) as csvfile:\n",
    "        df = pd.read_csv(csvfile)\n",
    "\n",
    "# Display the first few rows of the DataFrame\n",
    "print(df.head())\n"
   ]
  },
  {
   "cell_type": "markdown",
   "id": "cf13ad4c",
   "metadata": {},
   "source": [
    "#### *Summarize the datasets using info() and describe()*"
   ]
  },
  {
   "cell_type": "code",
   "execution_count": 5,
   "id": "da95e54a",
   "metadata": {},
   "outputs": [
    {
     "name": "stdout",
     "output_type": "stream",
     "text": [
      "<class 'pandas.core.frame.DataFrame'>\n",
      "RangeIndex: 1000 entries, 0 to 999\n",
      "Data columns (total 40 columns):\n",
      " #   Column                       Non-Null Count  Dtype  \n",
      "---  ------                       --------------  -----  \n",
      " 0   months_as_customer           1000 non-null   int64  \n",
      " 1   age                          1000 non-null   int64  \n",
      " 2   policy_number                1000 non-null   int64  \n",
      " 3   policy_bind_date             1000 non-null   object \n",
      " 4   policy_state                 1000 non-null   object \n",
      " 5   policy_csl                   1000 non-null   object \n",
      " 6   policy_deductable            1000 non-null   int64  \n",
      " 7   policy_annual_premium        1000 non-null   float64\n",
      " 8   umbrella_limit               1000 non-null   int64  \n",
      " 9   insured_zip                  1000 non-null   int64  \n",
      " 10  insured_sex                  1000 non-null   object \n",
      " 11  insured_education_level      1000 non-null   object \n",
      " 12  insured_occupation           1000 non-null   object \n",
      " 13  insured_hobbies              1000 non-null   object \n",
      " 14  insured_relationship         1000 non-null   object \n",
      " 15  capital-gains                1000 non-null   int64  \n",
      " 16  capital-loss                 1000 non-null   int64  \n",
      " 17  incident_date                1000 non-null   object \n",
      " 18  incident_type                1000 non-null   object \n",
      " 19  collision_type               1000 non-null   object \n",
      " 20  incident_severity            1000 non-null   object \n",
      " 21  authorities_contacted        909 non-null    object \n",
      " 22  incident_state               1000 non-null   object \n",
      " 23  incident_city                1000 non-null   object \n",
      " 24  incident_location            1000 non-null   object \n",
      " 25  incident_hour_of_the_day     1000 non-null   int64  \n",
      " 26  number_of_vehicles_involved  1000 non-null   int64  \n",
      " 27  property_damage              1000 non-null   object \n",
      " 28  bodily_injuries              1000 non-null   int64  \n",
      " 29  witnesses                    1000 non-null   int64  \n",
      " 30  police_report_available      1000 non-null   object \n",
      " 31  total_claim_amount           1000 non-null   int64  \n",
      " 32  injury_claim                 1000 non-null   int64  \n",
      " 33  property_claim               1000 non-null   int64  \n",
      " 34  vehicle_claim                1000 non-null   int64  \n",
      " 35  auto_make                    1000 non-null   object \n",
      " 36  auto_model                   1000 non-null   object \n",
      " 37  auto_year                    1000 non-null   int64  \n",
      " 38  fraud_reported               1000 non-null   object \n",
      " 39  _c39                         0 non-null      float64\n",
      "dtypes: float64(2), int64(17), object(21)\n",
      "memory usage: 312.6+ KB\n"
     ]
    }
   ],
   "source": [
    "# Summarize the datasets using info()\n",
    "dataset.info(verbose=True)"
   ]
  },
  {
   "cell_type": "code",
   "execution_count": 6,
   "id": "a3e5022a",
   "metadata": {},
   "outputs": [],
   "source": [
    "# Delete control column: _c39\n",
    "dataset.drop('_c39', axis=1, inplace=True)\n"
   ]
  },
  {
   "cell_type": "code",
   "execution_count": 7,
   "id": "ff184d96",
   "metadata": {},
   "outputs": [],
   "source": [
    "# add target feature as integer\n",
    "dataset['FraudFound_Int'] = dataset['fraud_reported'].map({'Y': 1, 'N': 0})"
   ]
  },
  {
   "cell_type": "code",
   "execution_count": 8,
   "id": "baa0ba50",
   "metadata": {},
   "outputs": [
    {
     "data": {
      "application/vnd.microsoft.datawrangler.viewer.v0+json": {
       "columns": [
        {
         "name": "index",
         "rawType": "object",
         "type": "string"
        },
        {
         "name": "count",
         "rawType": "float64",
         "type": "float"
        },
        {
         "name": "mean",
         "rawType": "float64",
         "type": "float"
        },
        {
         "name": "std",
         "rawType": "float64",
         "type": "float"
        },
        {
         "name": "min",
         "rawType": "float64",
         "type": "float"
        },
        {
         "name": "25%",
         "rawType": "float64",
         "type": "float"
        },
        {
         "name": "50%",
         "rawType": "float64",
         "type": "float"
        },
        {
         "name": "75%",
         "rawType": "float64",
         "type": "float"
        },
        {
         "name": "max",
         "rawType": "float64",
         "type": "float"
        }
       ],
       "conversionMethod": "pd.DataFrame",
       "ref": "81fde5d2-b8c7-4ce8-aef3-1a686f65070c",
       "rows": [
        [
         "months_as_customer",
         "1000.0",
         "203.954",
         "115.11317442815538",
         "0.0",
         "115.75",
         "199.5",
         "276.25",
         "479.0"
        ],
        [
         "age",
         "1000.0",
         "38.948",
         "9.140286693580286",
         "19.0",
         "32.0",
         "38.0",
         "44.0",
         "64.0"
        ],
        [
         "policy_number",
         "1000.0",
         "546238.648",
         "257063.00527558493",
         "100804.0",
         "335980.25",
         "533135.0",
         "759099.75",
         "999435.0"
        ],
        [
         "policy_deductable",
         "1000.0",
         "1136.0",
         "611.8646732557604",
         "500.0",
         "500.0",
         "1000.0",
         "2000.0",
         "2000.0"
        ],
        [
         "policy_annual_premium",
         "1000.0",
         "1256.4061499999998",
         "244.16739496140704",
         "433.33",
         "1089.6075",
         "1257.1999999999998",
         "1415.6950000000002",
         "2047.59"
        ],
        [
         "umbrella_limit",
         "1000.0",
         "1101000.0",
         "2297406.598118208",
         "-1000000.0",
         "0.0",
         "0.0",
         "0.0",
         "10000000.0"
        ],
        [
         "insured_zip",
         "1000.0",
         "501214.488",
         "71701.61094135501",
         "430104.0",
         "448404.5",
         "466445.5",
         "603251.0",
         "620962.0"
        ],
        [
         "capital-gains",
         "1000.0",
         "25126.1",
         "27872.18770813725",
         "0.0",
         "0.0",
         "0.0",
         "51025.0",
         "100500.0"
        ],
        [
         "capital-loss",
         "1000.0",
         "-26793.7",
         "28104.096686436318",
         "-111100.0",
         "-51500.0",
         "-23250.0",
         "0.0",
         "0.0"
        ],
        [
         "incident_hour_of_the_day",
         "1000.0",
         "11.644",
         "6.951372928104605",
         "0.0",
         "6.0",
         "12.0",
         "17.0",
         "23.0"
        ],
        [
         "number_of_vehicles_involved",
         "1000.0",
         "1.839",
         "1.0188803252183825",
         "1.0",
         "1.0",
         "1.0",
         "3.0",
         "4.0"
        ],
        [
         "bodily_injuries",
         "1000.0",
         "0.992",
         "0.8201271905068193",
         "0.0",
         "0.0",
         "1.0",
         "2.0",
         "2.0"
        ],
        [
         "witnesses",
         "1000.0",
         "1.487",
         "1.1113352626755195",
         "0.0",
         "1.0",
         "1.0",
         "2.0",
         "3.0"
        ],
        [
         "total_claim_amount",
         "1000.0",
         "52761.94",
         "26401.533190161346",
         "100.0",
         "41812.5",
         "58055.0",
         "70592.5",
         "114920.0"
        ],
        [
         "injury_claim",
         "1000.0",
         "7433.42",
         "4880.951853337071",
         "0.0",
         "4295.0",
         "6775.0",
         "11305.0",
         "21450.0"
        ],
        [
         "property_claim",
         "1000.0",
         "7399.57",
         "4824.726178530528",
         "0.0",
         "4445.0",
         "6750.0",
         "10885.0",
         "23670.0"
        ],
        [
         "vehicle_claim",
         "1000.0",
         "37928.95",
         "18886.252893198423",
         "70.0",
         "30292.5",
         "42100.0",
         "50822.5",
         "79560.0"
        ],
        [
         "auto_year",
         "1000.0",
         "2005.103",
         "6.015860834625546",
         "1995.0",
         "2000.0",
         "2005.0",
         "2010.0",
         "2015.0"
        ],
        [
         "FraudFound_Int",
         "1000.0",
         "0.247",
         "0.4314825340348983",
         "0.0",
         "0.0",
         "0.0",
         "0.0",
         "1.0"
        ]
       ],
       "shape": {
        "columns": 8,
        "rows": 19
       }
      },
      "text/html": [
       "<div>\n",
       "<style scoped>\n",
       "    .dataframe tbody tr th:only-of-type {\n",
       "        vertical-align: middle;\n",
       "    }\n",
       "\n",
       "    .dataframe tbody tr th {\n",
       "        vertical-align: top;\n",
       "    }\n",
       "\n",
       "    .dataframe thead th {\n",
       "        text-align: right;\n",
       "    }\n",
       "</style>\n",
       "<table border=\"1\" class=\"dataframe\">\n",
       "  <thead>\n",
       "    <tr style=\"text-align: right;\">\n",
       "      <th></th>\n",
       "      <th>count</th>\n",
       "      <th>mean</th>\n",
       "      <th>std</th>\n",
       "      <th>min</th>\n",
       "      <th>25%</th>\n",
       "      <th>50%</th>\n",
       "      <th>75%</th>\n",
       "      <th>max</th>\n",
       "    </tr>\n",
       "  </thead>\n",
       "  <tbody>\n",
       "    <tr>\n",
       "      <th>months_as_customer</th>\n",
       "      <td>1000.0</td>\n",
       "      <td>2.039540e+02</td>\n",
       "      <td>1.151132e+02</td>\n",
       "      <td>0.00</td>\n",
       "      <td>115.7500</td>\n",
       "      <td>199.5</td>\n",
       "      <td>276.250</td>\n",
       "      <td>479.00</td>\n",
       "    </tr>\n",
       "    <tr>\n",
       "      <th>age</th>\n",
       "      <td>1000.0</td>\n",
       "      <td>3.894800e+01</td>\n",
       "      <td>9.140287e+00</td>\n",
       "      <td>19.00</td>\n",
       "      <td>32.0000</td>\n",
       "      <td>38.0</td>\n",
       "      <td>44.000</td>\n",
       "      <td>64.00</td>\n",
       "    </tr>\n",
       "    <tr>\n",
       "      <th>policy_number</th>\n",
       "      <td>1000.0</td>\n",
       "      <td>5.462386e+05</td>\n",
       "      <td>2.570630e+05</td>\n",
       "      <td>100804.00</td>\n",
       "      <td>335980.2500</td>\n",
       "      <td>533135.0</td>\n",
       "      <td>759099.750</td>\n",
       "      <td>999435.00</td>\n",
       "    </tr>\n",
       "    <tr>\n",
       "      <th>policy_deductable</th>\n",
       "      <td>1000.0</td>\n",
       "      <td>1.136000e+03</td>\n",
       "      <td>6.118647e+02</td>\n",
       "      <td>500.00</td>\n",
       "      <td>500.0000</td>\n",
       "      <td>1000.0</td>\n",
       "      <td>2000.000</td>\n",
       "      <td>2000.00</td>\n",
       "    </tr>\n",
       "    <tr>\n",
       "      <th>policy_annual_premium</th>\n",
       "      <td>1000.0</td>\n",
       "      <td>1.256406e+03</td>\n",
       "      <td>2.441674e+02</td>\n",
       "      <td>433.33</td>\n",
       "      <td>1089.6075</td>\n",
       "      <td>1257.2</td>\n",
       "      <td>1415.695</td>\n",
       "      <td>2047.59</td>\n",
       "    </tr>\n",
       "    <tr>\n",
       "      <th>umbrella_limit</th>\n",
       "      <td>1000.0</td>\n",
       "      <td>1.101000e+06</td>\n",
       "      <td>2.297407e+06</td>\n",
       "      <td>-1000000.00</td>\n",
       "      <td>0.0000</td>\n",
       "      <td>0.0</td>\n",
       "      <td>0.000</td>\n",
       "      <td>10000000.00</td>\n",
       "    </tr>\n",
       "    <tr>\n",
       "      <th>insured_zip</th>\n",
       "      <td>1000.0</td>\n",
       "      <td>5.012145e+05</td>\n",
       "      <td>7.170161e+04</td>\n",
       "      <td>430104.00</td>\n",
       "      <td>448404.5000</td>\n",
       "      <td>466445.5</td>\n",
       "      <td>603251.000</td>\n",
       "      <td>620962.00</td>\n",
       "    </tr>\n",
       "    <tr>\n",
       "      <th>capital-gains</th>\n",
       "      <td>1000.0</td>\n",
       "      <td>2.512610e+04</td>\n",
       "      <td>2.787219e+04</td>\n",
       "      <td>0.00</td>\n",
       "      <td>0.0000</td>\n",
       "      <td>0.0</td>\n",
       "      <td>51025.000</td>\n",
       "      <td>100500.00</td>\n",
       "    </tr>\n",
       "    <tr>\n",
       "      <th>capital-loss</th>\n",
       "      <td>1000.0</td>\n",
       "      <td>-2.679370e+04</td>\n",
       "      <td>2.810410e+04</td>\n",
       "      <td>-111100.00</td>\n",
       "      <td>-51500.0000</td>\n",
       "      <td>-23250.0</td>\n",
       "      <td>0.000</td>\n",
       "      <td>0.00</td>\n",
       "    </tr>\n",
       "    <tr>\n",
       "      <th>incident_hour_of_the_day</th>\n",
       "      <td>1000.0</td>\n",
       "      <td>1.164400e+01</td>\n",
       "      <td>6.951373e+00</td>\n",
       "      <td>0.00</td>\n",
       "      <td>6.0000</td>\n",
       "      <td>12.0</td>\n",
       "      <td>17.000</td>\n",
       "      <td>23.00</td>\n",
       "    </tr>\n",
       "    <tr>\n",
       "      <th>number_of_vehicles_involved</th>\n",
       "      <td>1000.0</td>\n",
       "      <td>1.839000e+00</td>\n",
       "      <td>1.018880e+00</td>\n",
       "      <td>1.00</td>\n",
       "      <td>1.0000</td>\n",
       "      <td>1.0</td>\n",
       "      <td>3.000</td>\n",
       "      <td>4.00</td>\n",
       "    </tr>\n",
       "    <tr>\n",
       "      <th>bodily_injuries</th>\n",
       "      <td>1000.0</td>\n",
       "      <td>9.920000e-01</td>\n",
       "      <td>8.201272e-01</td>\n",
       "      <td>0.00</td>\n",
       "      <td>0.0000</td>\n",
       "      <td>1.0</td>\n",
       "      <td>2.000</td>\n",
       "      <td>2.00</td>\n",
       "    </tr>\n",
       "    <tr>\n",
       "      <th>witnesses</th>\n",
       "      <td>1000.0</td>\n",
       "      <td>1.487000e+00</td>\n",
       "      <td>1.111335e+00</td>\n",
       "      <td>0.00</td>\n",
       "      <td>1.0000</td>\n",
       "      <td>1.0</td>\n",
       "      <td>2.000</td>\n",
       "      <td>3.00</td>\n",
       "    </tr>\n",
       "    <tr>\n",
       "      <th>total_claim_amount</th>\n",
       "      <td>1000.0</td>\n",
       "      <td>5.276194e+04</td>\n",
       "      <td>2.640153e+04</td>\n",
       "      <td>100.00</td>\n",
       "      <td>41812.5000</td>\n",
       "      <td>58055.0</td>\n",
       "      <td>70592.500</td>\n",
       "      <td>114920.00</td>\n",
       "    </tr>\n",
       "    <tr>\n",
       "      <th>injury_claim</th>\n",
       "      <td>1000.0</td>\n",
       "      <td>7.433420e+03</td>\n",
       "      <td>4.880952e+03</td>\n",
       "      <td>0.00</td>\n",
       "      <td>4295.0000</td>\n",
       "      <td>6775.0</td>\n",
       "      <td>11305.000</td>\n",
       "      <td>21450.00</td>\n",
       "    </tr>\n",
       "    <tr>\n",
       "      <th>property_claim</th>\n",
       "      <td>1000.0</td>\n",
       "      <td>7.399570e+03</td>\n",
       "      <td>4.824726e+03</td>\n",
       "      <td>0.00</td>\n",
       "      <td>4445.0000</td>\n",
       "      <td>6750.0</td>\n",
       "      <td>10885.000</td>\n",
       "      <td>23670.00</td>\n",
       "    </tr>\n",
       "    <tr>\n",
       "      <th>vehicle_claim</th>\n",
       "      <td>1000.0</td>\n",
       "      <td>3.792895e+04</td>\n",
       "      <td>1.888625e+04</td>\n",
       "      <td>70.00</td>\n",
       "      <td>30292.5000</td>\n",
       "      <td>42100.0</td>\n",
       "      <td>50822.500</td>\n",
       "      <td>79560.00</td>\n",
       "    </tr>\n",
       "    <tr>\n",
       "      <th>auto_year</th>\n",
       "      <td>1000.0</td>\n",
       "      <td>2.005103e+03</td>\n",
       "      <td>6.015861e+00</td>\n",
       "      <td>1995.00</td>\n",
       "      <td>2000.0000</td>\n",
       "      <td>2005.0</td>\n",
       "      <td>2010.000</td>\n",
       "      <td>2015.00</td>\n",
       "    </tr>\n",
       "    <tr>\n",
       "      <th>FraudFound_Int</th>\n",
       "      <td>1000.0</td>\n",
       "      <td>2.470000e-01</td>\n",
       "      <td>4.314825e-01</td>\n",
       "      <td>0.00</td>\n",
       "      <td>0.0000</td>\n",
       "      <td>0.0</td>\n",
       "      <td>0.000</td>\n",
       "      <td>1.00</td>\n",
       "    </tr>\n",
       "  </tbody>\n",
       "</table>\n",
       "</div>"
      ],
      "text/plain": [
       "                              count          mean           std         min  \\\n",
       "months_as_customer           1000.0  2.039540e+02  1.151132e+02        0.00   \n",
       "age                          1000.0  3.894800e+01  9.140287e+00       19.00   \n",
       "policy_number                1000.0  5.462386e+05  2.570630e+05   100804.00   \n",
       "policy_deductable            1000.0  1.136000e+03  6.118647e+02      500.00   \n",
       "policy_annual_premium        1000.0  1.256406e+03  2.441674e+02      433.33   \n",
       "umbrella_limit               1000.0  1.101000e+06  2.297407e+06 -1000000.00   \n",
       "insured_zip                  1000.0  5.012145e+05  7.170161e+04   430104.00   \n",
       "capital-gains                1000.0  2.512610e+04  2.787219e+04        0.00   \n",
       "capital-loss                 1000.0 -2.679370e+04  2.810410e+04  -111100.00   \n",
       "incident_hour_of_the_day     1000.0  1.164400e+01  6.951373e+00        0.00   \n",
       "number_of_vehicles_involved  1000.0  1.839000e+00  1.018880e+00        1.00   \n",
       "bodily_injuries              1000.0  9.920000e-01  8.201272e-01        0.00   \n",
       "witnesses                    1000.0  1.487000e+00  1.111335e+00        0.00   \n",
       "total_claim_amount           1000.0  5.276194e+04  2.640153e+04      100.00   \n",
       "injury_claim                 1000.0  7.433420e+03  4.880952e+03        0.00   \n",
       "property_claim               1000.0  7.399570e+03  4.824726e+03        0.00   \n",
       "vehicle_claim                1000.0  3.792895e+04  1.888625e+04       70.00   \n",
       "auto_year                    1000.0  2.005103e+03  6.015861e+00     1995.00   \n",
       "FraudFound_Int               1000.0  2.470000e-01  4.314825e-01        0.00   \n",
       "\n",
       "                                     25%       50%         75%          max  \n",
       "months_as_customer              115.7500     199.5     276.250       479.00  \n",
       "age                              32.0000      38.0      44.000        64.00  \n",
       "policy_number                335980.2500  533135.0  759099.750    999435.00  \n",
       "policy_deductable               500.0000    1000.0    2000.000      2000.00  \n",
       "policy_annual_premium          1089.6075    1257.2    1415.695      2047.59  \n",
       "umbrella_limit                    0.0000       0.0       0.000  10000000.00  \n",
       "insured_zip                  448404.5000  466445.5  603251.000    620962.00  \n",
       "capital-gains                     0.0000       0.0   51025.000    100500.00  \n",
       "capital-loss                 -51500.0000  -23250.0       0.000         0.00  \n",
       "incident_hour_of_the_day          6.0000      12.0      17.000        23.00  \n",
       "number_of_vehicles_involved       1.0000       1.0       3.000         4.00  \n",
       "bodily_injuries                   0.0000       1.0       2.000         2.00  \n",
       "witnesses                         1.0000       1.0       2.000         3.00  \n",
       "total_claim_amount            41812.5000   58055.0   70592.500    114920.00  \n",
       "injury_claim                   4295.0000    6775.0   11305.000     21450.00  \n",
       "property_claim                 4445.0000    6750.0   10885.000     23670.00  \n",
       "vehicle_claim                 30292.5000   42100.0   50822.500     79560.00  \n",
       "auto_year                      2000.0000    2005.0    2010.000      2015.00  \n",
       "FraudFound_Int                    0.0000       0.0       0.000         1.00  "
      ]
     },
     "execution_count": 8,
     "metadata": {},
     "output_type": "execute_result"
    }
   ],
   "source": [
    "# Summarize the datasets using describe()\n",
    "dataset.describe().transpose()"
   ]
  },
  {
   "cell_type": "markdown",
   "id": "a693c038",
   "metadata": {},
   "source": [
    "#### *Are there any duplicate rows?*"
   ]
  },
  {
   "cell_type": "code",
   "execution_count": 9,
   "id": "8c07fa97",
   "metadata": {},
   "outputs": [
    {
     "name": "stdout",
     "output_type": "stream",
     "text": [
      "Number of duplicated Rows:  0\n",
      "No duplicates found.\n"
     ]
    }
   ],
   "source": [
    "# Are there any duplicate rows?\n",
    "# Note: There is no information describing primary key, therefore first duplicates check for all of the columns:\n",
    "print(\"Number of duplicated Rows: \", dataset.duplicated().sum())\n",
    "\n",
    "# show duplicated if any:\n",
    "if  dataset.duplicated().sum() > 0:\n",
    "    dataset_duplicates = dataset[dataset.duplicated()]\n",
    "    print(\"Duplicated Rows: \", dataset_duplicates)\n",
    "    # clean up from duplicates\n",
    "    deleted_duplicates = dataset.drop_duplicates()\n",
    "    print(\"Deleted Duplicated Rows:\", dataset_duplicates)\n",
    "    \n",
    "else:\n",
    "    print(\"No duplicates found.\")"
   ]
  },
  {
   "cell_type": "markdown",
   "id": "2b9500ea",
   "metadata": {},
   "source": [
    "#### *What are the mean, median, and mode of each column?*"
   ]
  },
  {
   "cell_type": "code",
   "execution_count": 10,
   "id": "b3dc9bcd",
   "metadata": {},
   "outputs": [
    {
     "name": "stdout",
     "output_type": "stream",
     "text": [
      "Mean, median, and mode:\n"
     ]
    },
    {
     "data": {
      "application/vnd.microsoft.datawrangler.viewer.v0+json": {
       "columns": [
        {
         "name": "index",
         "rawType": "object",
         "type": "string"
        },
        {
         "name": "mean",
         "rawType": "float64",
         "type": "float"
        },
        {
         "name": "median",
         "rawType": "float64",
         "type": "float"
        },
        {
         "name": "mode",
         "rawType": "float64",
         "type": "float"
        }
       ],
       "conversionMethod": "pd.DataFrame",
       "ref": "96a8fc69-d6f3-4db7-99d2-c566501b98c1",
       "rows": [
        [
         "months_as_customer",
         "203.954",
         "199.5",
         "194.0"
        ],
        [
         "age",
         "38.948",
         "38.0",
         "43.0"
        ],
        [
         "policy_number",
         "546238.648",
         "533135.0",
         "100804.0"
        ],
        [
         "policy_deductable",
         "1136.0",
         "1000.0",
         "1000.0"
        ],
        [
         "policy_annual_premium",
         "1256.4061499999998",
         "1257.1999999999998",
         "1073.83"
        ],
        [
         "umbrella_limit",
         "1101000.0",
         "0.0",
         "0.0"
        ],
        [
         "insured_zip",
         "501214.488",
         "466445.5",
         "431202.0"
        ],
        [
         "capital-gains",
         "25126.1",
         "0.0",
         "0.0"
        ],
        [
         "capital-loss",
         "-26793.7",
         "-23250.0",
         "0.0"
        ],
        [
         "incident_hour_of_the_day",
         "11.644",
         "12.0",
         "17.0"
        ],
        [
         "number_of_vehicles_involved",
         "1.839",
         "1.0",
         "1.0"
        ],
        [
         "bodily_injuries",
         "0.992",
         "1.0",
         "0.0"
        ],
        [
         "witnesses",
         "1.487",
         "1.0",
         "1.0"
        ],
        [
         "total_claim_amount",
         "52761.94",
         "58055.0",
         "59400.0"
        ],
        [
         "injury_claim",
         "7433.42",
         "6775.0",
         "0.0"
        ],
        [
         "property_claim",
         "7399.57",
         "6750.0",
         "0.0"
        ],
        [
         "vehicle_claim",
         "37928.95",
         "42100.0",
         "5040.0"
        ],
        [
         "auto_year",
         "2005.103",
         "2005.0",
         "1995.0"
        ],
        [
         "FraudFound_Int",
         "0.247",
         "0.0",
         "0.0"
        ]
       ],
       "shape": {
        "columns": 3,
        "rows": 19
       }
      },
      "text/html": [
       "<div>\n",
       "<style scoped>\n",
       "    .dataframe tbody tr th:only-of-type {\n",
       "        vertical-align: middle;\n",
       "    }\n",
       "\n",
       "    .dataframe tbody tr th {\n",
       "        vertical-align: top;\n",
       "    }\n",
       "\n",
       "    .dataframe thead th {\n",
       "        text-align: right;\n",
       "    }\n",
       "</style>\n",
       "<table border=\"1\" class=\"dataframe\">\n",
       "  <thead>\n",
       "    <tr style=\"text-align: right;\">\n",
       "      <th></th>\n",
       "      <th>mean</th>\n",
       "      <th>median</th>\n",
       "      <th>mode</th>\n",
       "    </tr>\n",
       "  </thead>\n",
       "  <tbody>\n",
       "    <tr>\n",
       "      <th>months_as_customer</th>\n",
       "      <td>2.039540e+02</td>\n",
       "      <td>199.5</td>\n",
       "      <td>194.00</td>\n",
       "    </tr>\n",
       "    <tr>\n",
       "      <th>age</th>\n",
       "      <td>3.894800e+01</td>\n",
       "      <td>38.0</td>\n",
       "      <td>43.00</td>\n",
       "    </tr>\n",
       "    <tr>\n",
       "      <th>policy_number</th>\n",
       "      <td>5.462386e+05</td>\n",
       "      <td>533135.0</td>\n",
       "      <td>100804.00</td>\n",
       "    </tr>\n",
       "    <tr>\n",
       "      <th>policy_deductable</th>\n",
       "      <td>1.136000e+03</td>\n",
       "      <td>1000.0</td>\n",
       "      <td>1000.00</td>\n",
       "    </tr>\n",
       "    <tr>\n",
       "      <th>policy_annual_premium</th>\n",
       "      <td>1.256406e+03</td>\n",
       "      <td>1257.2</td>\n",
       "      <td>1073.83</td>\n",
       "    </tr>\n",
       "    <tr>\n",
       "      <th>umbrella_limit</th>\n",
       "      <td>1.101000e+06</td>\n",
       "      <td>0.0</td>\n",
       "      <td>0.00</td>\n",
       "    </tr>\n",
       "    <tr>\n",
       "      <th>insured_zip</th>\n",
       "      <td>5.012145e+05</td>\n",
       "      <td>466445.5</td>\n",
       "      <td>431202.00</td>\n",
       "    </tr>\n",
       "    <tr>\n",
       "      <th>capital-gains</th>\n",
       "      <td>2.512610e+04</td>\n",
       "      <td>0.0</td>\n",
       "      <td>0.00</td>\n",
       "    </tr>\n",
       "    <tr>\n",
       "      <th>capital-loss</th>\n",
       "      <td>-2.679370e+04</td>\n",
       "      <td>-23250.0</td>\n",
       "      <td>0.00</td>\n",
       "    </tr>\n",
       "    <tr>\n",
       "      <th>incident_hour_of_the_day</th>\n",
       "      <td>1.164400e+01</td>\n",
       "      <td>12.0</td>\n",
       "      <td>17.00</td>\n",
       "    </tr>\n",
       "    <tr>\n",
       "      <th>number_of_vehicles_involved</th>\n",
       "      <td>1.839000e+00</td>\n",
       "      <td>1.0</td>\n",
       "      <td>1.00</td>\n",
       "    </tr>\n",
       "    <tr>\n",
       "      <th>bodily_injuries</th>\n",
       "      <td>9.920000e-01</td>\n",
       "      <td>1.0</td>\n",
       "      <td>0.00</td>\n",
       "    </tr>\n",
       "    <tr>\n",
       "      <th>witnesses</th>\n",
       "      <td>1.487000e+00</td>\n",
       "      <td>1.0</td>\n",
       "      <td>1.00</td>\n",
       "    </tr>\n",
       "    <tr>\n",
       "      <th>total_claim_amount</th>\n",
       "      <td>5.276194e+04</td>\n",
       "      <td>58055.0</td>\n",
       "      <td>59400.00</td>\n",
       "    </tr>\n",
       "    <tr>\n",
       "      <th>injury_claim</th>\n",
       "      <td>7.433420e+03</td>\n",
       "      <td>6775.0</td>\n",
       "      <td>0.00</td>\n",
       "    </tr>\n",
       "    <tr>\n",
       "      <th>property_claim</th>\n",
       "      <td>7.399570e+03</td>\n",
       "      <td>6750.0</td>\n",
       "      <td>0.00</td>\n",
       "    </tr>\n",
       "    <tr>\n",
       "      <th>vehicle_claim</th>\n",
       "      <td>3.792895e+04</td>\n",
       "      <td>42100.0</td>\n",
       "      <td>5040.00</td>\n",
       "    </tr>\n",
       "    <tr>\n",
       "      <th>auto_year</th>\n",
       "      <td>2.005103e+03</td>\n",
       "      <td>2005.0</td>\n",
       "      <td>1995.00</td>\n",
       "    </tr>\n",
       "    <tr>\n",
       "      <th>FraudFound_Int</th>\n",
       "      <td>2.470000e-01</td>\n",
       "      <td>0.0</td>\n",
       "      <td>0.00</td>\n",
       "    </tr>\n",
       "  </tbody>\n",
       "</table>\n",
       "</div>"
      ],
      "text/plain": [
       "                                     mean    median       mode\n",
       "months_as_customer           2.039540e+02     199.5     194.00\n",
       "age                          3.894800e+01      38.0      43.00\n",
       "policy_number                5.462386e+05  533135.0  100804.00\n",
       "policy_deductable            1.136000e+03    1000.0    1000.00\n",
       "policy_annual_premium        1.256406e+03    1257.2    1073.83\n",
       "umbrella_limit               1.101000e+06       0.0       0.00\n",
       "insured_zip                  5.012145e+05  466445.5  431202.00\n",
       "capital-gains                2.512610e+04       0.0       0.00\n",
       "capital-loss                -2.679370e+04  -23250.0       0.00\n",
       "incident_hour_of_the_day     1.164400e+01      12.0      17.00\n",
       "number_of_vehicles_involved  1.839000e+00       1.0       1.00\n",
       "bodily_injuries              9.920000e-01       1.0       0.00\n",
       "witnesses                    1.487000e+00       1.0       1.00\n",
       "total_claim_amount           5.276194e+04   58055.0   59400.00\n",
       "injury_claim                 7.433420e+03    6775.0       0.00\n",
       "property_claim               7.399570e+03    6750.0       0.00\n",
       "vehicle_claim                3.792895e+04   42100.0    5040.00\n",
       "auto_year                    2.005103e+03    2005.0    1995.00\n",
       "FraudFound_Int               2.470000e-01       0.0       0.00"
      ]
     },
     "execution_count": 10,
     "metadata": {},
     "output_type": "execute_result"
    }
   ],
   "source": [
    "# What are the mean, median, and mode of each column?\n",
    "# select only numeric columns\n",
    "numeric_dataset = dataset.select_dtypes(include=['number'])\n",
    "\n",
    "# compute mean, median, and mode only for numeric columns\n",
    "summary_stats = numeric_dataset.agg(['mean', 'median']).transpose()\n",
    "\n",
    "# compute mode separately\n",
    "mode_values = numeric_dataset.mode().iloc[0]  # First mode for each column\n",
    "summary_stats['mode'] = mode_values\n",
    "print(\"Mean, median, and mode:\")\n",
    "summary_stats"
   ]
  },
  {
   "cell_type": "code",
   "execution_count": 11,
   "id": "3132c1f4",
   "metadata": {},
   "outputs": [
    {
     "name": "stdout",
     "output_type": "stream",
     "text": [
      "This dataset contain 1000 rows\n",
      "This dataset contain 40 columns\n"
     ]
    },
    {
     "data": {
      "application/vnd.microsoft.datawrangler.viewer.v0+json": {
       "columns": [
        {
         "name": "index",
         "rawType": "object",
         "type": "string"
        },
        {
         "name": "count",
         "rawType": "float64",
         "type": "float"
        },
        {
         "name": "nunique",
         "rawType": "float64",
         "type": "float"
        },
        {
         "name": "min",
         "rawType": "float64",
         "type": "float"
        },
        {
         "name": "max",
         "rawType": "float64",
         "type": "float"
        }
       ],
       "conversionMethod": "pd.DataFrame",
       "ref": "44f9a348-ef29-433b-b794-c7d7a4a9d209",
       "rows": [
        [
         "months_as_customer",
         "1000.0",
         "391.0",
         "0.0",
         "479.0"
        ],
        [
         "age",
         "1000.0",
         "46.0",
         "19.0",
         "64.0"
        ],
        [
         "policy_number",
         "1000.0",
         "1000.0",
         "100804.0",
         "999435.0"
        ],
        [
         "policy_deductable",
         "1000.0",
         "3.0",
         "500.0",
         "2000.0"
        ],
        [
         "policy_annual_premium",
         "1000.0",
         "991.0",
         "433.33",
         "2047.59"
        ],
        [
         "umbrella_limit",
         "1000.0",
         "11.0",
         "-1000000.0",
         "10000000.0"
        ],
        [
         "insured_zip",
         "1000.0",
         "995.0",
         "430104.0",
         "620962.0"
        ],
        [
         "capital-gains",
         "1000.0",
         "338.0",
         "0.0",
         "100500.0"
        ],
        [
         "capital-loss",
         "1000.0",
         "354.0",
         "-111100.0",
         "0.0"
        ],
        [
         "incident_hour_of_the_day",
         "1000.0",
         "24.0",
         "0.0",
         "23.0"
        ],
        [
         "number_of_vehicles_involved",
         "1000.0",
         "4.0",
         "1.0",
         "4.0"
        ],
        [
         "bodily_injuries",
         "1000.0",
         "3.0",
         "0.0",
         "2.0"
        ],
        [
         "witnesses",
         "1000.0",
         "4.0",
         "0.0",
         "3.0"
        ],
        [
         "total_claim_amount",
         "1000.0",
         "763.0",
         "100.0",
         "114920.0"
        ],
        [
         "injury_claim",
         "1000.0",
         "638.0",
         "0.0",
         "21450.0"
        ],
        [
         "property_claim",
         "1000.0",
         "626.0",
         "0.0",
         "23670.0"
        ],
        [
         "vehicle_claim",
         "1000.0",
         "726.0",
         "70.0",
         "79560.0"
        ],
        [
         "auto_year",
         "1000.0",
         "21.0",
         "1995.0",
         "2015.0"
        ],
        [
         "FraudFound_Int",
         "1000.0",
         "2.0",
         "0.0",
         "1.0"
        ]
       ],
       "shape": {
        "columns": 4,
        "rows": 19
       }
      },
      "text/html": [
       "<div>\n",
       "<style scoped>\n",
       "    .dataframe tbody tr th:only-of-type {\n",
       "        vertical-align: middle;\n",
       "    }\n",
       "\n",
       "    .dataframe tbody tr th {\n",
       "        vertical-align: top;\n",
       "    }\n",
       "\n",
       "    .dataframe thead th {\n",
       "        text-align: right;\n",
       "    }\n",
       "</style>\n",
       "<table border=\"1\" class=\"dataframe\">\n",
       "  <thead>\n",
       "    <tr style=\"text-align: right;\">\n",
       "      <th></th>\n",
       "      <th>count</th>\n",
       "      <th>nunique</th>\n",
       "      <th>min</th>\n",
       "      <th>max</th>\n",
       "    </tr>\n",
       "  </thead>\n",
       "  <tbody>\n",
       "    <tr>\n",
       "      <th>months_as_customer</th>\n",
       "      <td>1000.0</td>\n",
       "      <td>391.0</td>\n",
       "      <td>0.00</td>\n",
       "      <td>479.00</td>\n",
       "    </tr>\n",
       "    <tr>\n",
       "      <th>age</th>\n",
       "      <td>1000.0</td>\n",
       "      <td>46.0</td>\n",
       "      <td>19.00</td>\n",
       "      <td>64.00</td>\n",
       "    </tr>\n",
       "    <tr>\n",
       "      <th>policy_number</th>\n",
       "      <td>1000.0</td>\n",
       "      <td>1000.0</td>\n",
       "      <td>100804.00</td>\n",
       "      <td>999435.00</td>\n",
       "    </tr>\n",
       "    <tr>\n",
       "      <th>policy_deductable</th>\n",
       "      <td>1000.0</td>\n",
       "      <td>3.0</td>\n",
       "      <td>500.00</td>\n",
       "      <td>2000.00</td>\n",
       "    </tr>\n",
       "    <tr>\n",
       "      <th>policy_annual_premium</th>\n",
       "      <td>1000.0</td>\n",
       "      <td>991.0</td>\n",
       "      <td>433.33</td>\n",
       "      <td>2047.59</td>\n",
       "    </tr>\n",
       "    <tr>\n",
       "      <th>umbrella_limit</th>\n",
       "      <td>1000.0</td>\n",
       "      <td>11.0</td>\n",
       "      <td>-1000000.00</td>\n",
       "      <td>10000000.00</td>\n",
       "    </tr>\n",
       "    <tr>\n",
       "      <th>insured_zip</th>\n",
       "      <td>1000.0</td>\n",
       "      <td>995.0</td>\n",
       "      <td>430104.00</td>\n",
       "      <td>620962.00</td>\n",
       "    </tr>\n",
       "    <tr>\n",
       "      <th>capital-gains</th>\n",
       "      <td>1000.0</td>\n",
       "      <td>338.0</td>\n",
       "      <td>0.00</td>\n",
       "      <td>100500.00</td>\n",
       "    </tr>\n",
       "    <tr>\n",
       "      <th>capital-loss</th>\n",
       "      <td>1000.0</td>\n",
       "      <td>354.0</td>\n",
       "      <td>-111100.00</td>\n",
       "      <td>0.00</td>\n",
       "    </tr>\n",
       "    <tr>\n",
       "      <th>incident_hour_of_the_day</th>\n",
       "      <td>1000.0</td>\n",
       "      <td>24.0</td>\n",
       "      <td>0.00</td>\n",
       "      <td>23.00</td>\n",
       "    </tr>\n",
       "    <tr>\n",
       "      <th>number_of_vehicles_involved</th>\n",
       "      <td>1000.0</td>\n",
       "      <td>4.0</td>\n",
       "      <td>1.00</td>\n",
       "      <td>4.00</td>\n",
       "    </tr>\n",
       "    <tr>\n",
       "      <th>bodily_injuries</th>\n",
       "      <td>1000.0</td>\n",
       "      <td>3.0</td>\n",
       "      <td>0.00</td>\n",
       "      <td>2.00</td>\n",
       "    </tr>\n",
       "    <tr>\n",
       "      <th>witnesses</th>\n",
       "      <td>1000.0</td>\n",
       "      <td>4.0</td>\n",
       "      <td>0.00</td>\n",
       "      <td>3.00</td>\n",
       "    </tr>\n",
       "    <tr>\n",
       "      <th>total_claim_amount</th>\n",
       "      <td>1000.0</td>\n",
       "      <td>763.0</td>\n",
       "      <td>100.00</td>\n",
       "      <td>114920.00</td>\n",
       "    </tr>\n",
       "    <tr>\n",
       "      <th>injury_claim</th>\n",
       "      <td>1000.0</td>\n",
       "      <td>638.0</td>\n",
       "      <td>0.00</td>\n",
       "      <td>21450.00</td>\n",
       "    </tr>\n",
       "    <tr>\n",
       "      <th>property_claim</th>\n",
       "      <td>1000.0</td>\n",
       "      <td>626.0</td>\n",
       "      <td>0.00</td>\n",
       "      <td>23670.00</td>\n",
       "    </tr>\n",
       "    <tr>\n",
       "      <th>vehicle_claim</th>\n",
       "      <td>1000.0</td>\n",
       "      <td>726.0</td>\n",
       "      <td>70.00</td>\n",
       "      <td>79560.00</td>\n",
       "    </tr>\n",
       "    <tr>\n",
       "      <th>auto_year</th>\n",
       "      <td>1000.0</td>\n",
       "      <td>21.0</td>\n",
       "      <td>1995.00</td>\n",
       "      <td>2015.00</td>\n",
       "    </tr>\n",
       "    <tr>\n",
       "      <th>FraudFound_Int</th>\n",
       "      <td>1000.0</td>\n",
       "      <td>2.0</td>\n",
       "      <td>0.00</td>\n",
       "      <td>1.00</td>\n",
       "    </tr>\n",
       "  </tbody>\n",
       "</table>\n",
       "</div>"
      ],
      "text/plain": [
       "                              count  nunique         min          max\n",
       "months_as_customer           1000.0    391.0        0.00       479.00\n",
       "age                          1000.0     46.0       19.00        64.00\n",
       "policy_number                1000.0   1000.0   100804.00    999435.00\n",
       "policy_deductable            1000.0      3.0      500.00      2000.00\n",
       "policy_annual_premium        1000.0    991.0      433.33      2047.59\n",
       "umbrella_limit               1000.0     11.0 -1000000.00  10000000.00\n",
       "insured_zip                  1000.0    995.0   430104.00    620962.00\n",
       "capital-gains                1000.0    338.0        0.00    100500.00\n",
       "capital-loss                 1000.0    354.0  -111100.00         0.00\n",
       "incident_hour_of_the_day     1000.0     24.0        0.00        23.00\n",
       "number_of_vehicles_involved  1000.0      4.0        1.00         4.00\n",
       "bodily_injuries              1000.0      3.0        0.00         2.00\n",
       "witnesses                    1000.0      4.0        0.00         3.00\n",
       "total_claim_amount           1000.0    763.0      100.00    114920.00\n",
       "injury_claim                 1000.0    638.0        0.00     21450.00\n",
       "property_claim               1000.0    626.0        0.00     23670.00\n",
       "vehicle_claim                1000.0    726.0       70.00     79560.00\n",
       "auto_year                    1000.0     21.0     1995.00      2015.00\n",
       "FraudFound_Int               1000.0      2.0        0.00         1.00"
      ]
     },
     "execution_count": 11,
     "metadata": {},
     "output_type": "execute_result"
    }
   ],
   "source": [
    "# add some very basic data profiling:\n",
    "# shape \n",
    "print(f\"This dataset contain {dataset.shape[0]} rows\")\n",
    "print(f\"This dataset contain {dataset.shape[1]} columns\")\n",
    "\n",
    "# basic aggregates\n",
    "data_profiling = dataset.select_dtypes(include=['number']).agg(['count', 'nunique', 'min', 'max']).transpose()\n",
    "data_profiling"
   ]
  },
  {
   "cell_type": "markdown",
   "id": "e4efa801",
   "metadata": {},
   "source": [
    "#### *Are there any duplicate values in a given column (when this would be inappropriate?)*"
   ]
  },
  {
   "cell_type": "code",
   "execution_count": 12,
   "id": "7d7d095c",
   "metadata": {},
   "outputs": [
    {
     "data": {
      "application/vnd.microsoft.datawrangler.viewer.v0+json": {
       "columns": [
        {
         "name": "index",
         "rawType": "object",
         "type": "string"
        },
        {
         "name": "count",
         "rawType": "float64",
         "type": "float"
        },
        {
         "name": "nunique",
         "rawType": "float64",
         "type": "float"
        },
        {
         "name": "min",
         "rawType": "float64",
         "type": "float"
        },
        {
         "name": "max",
         "rawType": "float64",
         "type": "float"
        }
       ],
       "conversionMethod": "pd.DataFrame",
       "ref": "016f2999-7adb-49a5-a67f-492f7dd59f8e",
       "rows": [
        [
         "policy_number",
         "1000.0",
         "1000.0",
         "100804.0",
         "999435.0"
        ]
       ],
       "shape": {
        "columns": 4,
        "rows": 1
       }
      },
      "text/html": [
       "<div>\n",
       "<style scoped>\n",
       "    .dataframe tbody tr th:only-of-type {\n",
       "        vertical-align: middle;\n",
       "    }\n",
       "\n",
       "    .dataframe tbody tr th {\n",
       "        vertical-align: top;\n",
       "    }\n",
       "\n",
       "    .dataframe thead th {\n",
       "        text-align: right;\n",
       "    }\n",
       "</style>\n",
       "<table border=\"1\" class=\"dataframe\">\n",
       "  <thead>\n",
       "    <tr style=\"text-align: right;\">\n",
       "      <th></th>\n",
       "      <th>count</th>\n",
       "      <th>nunique</th>\n",
       "      <th>min</th>\n",
       "      <th>max</th>\n",
       "    </tr>\n",
       "  </thead>\n",
       "  <tbody>\n",
       "    <tr>\n",
       "      <th>policy_number</th>\n",
       "      <td>1000.0</td>\n",
       "      <td>1000.0</td>\n",
       "      <td>100804.0</td>\n",
       "      <td>999435.0</td>\n",
       "    </tr>\n",
       "  </tbody>\n",
       "</table>\n",
       "</div>"
      ],
      "text/plain": [
       "                count  nunique       min       max\n",
       "policy_number  1000.0   1000.0  100804.0  999435.0"
      ]
     },
     "execution_count": 12,
     "metadata": {},
     "output_type": "execute_result"
    }
   ],
   "source": [
    "# get list of columns where 'count' is equal to 'nunique', these are our natural key candidates:\n",
    "data_profiling_unique_columns = data_profiling[data_profiling['count'] == data_profiling['nunique']]\n",
    "data_profiling_unique_columns"
   ]
  },
  {
   "cell_type": "markdown",
   "id": "a8f1eb0f",
   "metadata": {},
   "source": [
    "Based on the data:\n",
    "\n",
    "- Policy_Number has 1000 unique values, which matches the total row count (1000).\n",
    "- The min value is 100804 and the max value is 999435, indicating a NOT continuous sequence.\n",
    "- The data type is int64, confirming it's numeric.\n",
    "\n",
    "Conclusion:\n",
    "- Policy_Number is a valid primary key for uniquely identifying each row in the dataset.\n",
    "- Not useful for analysis since it carries no meaningful information about the claims."
   ]
  },
  {
   "cell_type": "code",
   "execution_count": 13,
   "id": "eef10c18",
   "metadata": {},
   "outputs": [
    {
     "name": "stdout",
     "output_type": "stream",
     "text": [
      "Duplicates of Policy Numbers: 0\n"
     ]
    },
    {
     "data": {
      "application/vnd.microsoft.datawrangler.viewer.v0+json": {
       "columns": [
        {
         "name": "index",
         "rawType": "int64",
         "type": "integer"
        },
        {
         "name": "months_as_customer",
         "rawType": "int64",
         "type": "integer"
        },
        {
         "name": "age",
         "rawType": "int64",
         "type": "integer"
        },
        {
         "name": "policy_number",
         "rawType": "int64",
         "type": "integer"
        },
        {
         "name": "policy_bind_date",
         "rawType": "object",
         "type": "string"
        },
        {
         "name": "policy_state",
         "rawType": "object",
         "type": "string"
        },
        {
         "name": "policy_csl",
         "rawType": "object",
         "type": "string"
        },
        {
         "name": "policy_deductable",
         "rawType": "int64",
         "type": "integer"
        },
        {
         "name": "policy_annual_premium",
         "rawType": "float64",
         "type": "float"
        },
        {
         "name": "umbrella_limit",
         "rawType": "int64",
         "type": "integer"
        },
        {
         "name": "insured_zip",
         "rawType": "int64",
         "type": "integer"
        },
        {
         "name": "insured_sex",
         "rawType": "object",
         "type": "string"
        },
        {
         "name": "insured_education_level",
         "rawType": "object",
         "type": "string"
        },
        {
         "name": "insured_occupation",
         "rawType": "object",
         "type": "string"
        },
        {
         "name": "insured_hobbies",
         "rawType": "object",
         "type": "string"
        },
        {
         "name": "insured_relationship",
         "rawType": "object",
         "type": "string"
        },
        {
         "name": "capital-gains",
         "rawType": "int64",
         "type": "integer"
        },
        {
         "name": "capital-loss",
         "rawType": "int64",
         "type": "integer"
        },
        {
         "name": "incident_date",
         "rawType": "object",
         "type": "string"
        },
        {
         "name": "incident_type",
         "rawType": "object",
         "type": "string"
        },
        {
         "name": "collision_type",
         "rawType": "object",
         "type": "string"
        },
        {
         "name": "incident_severity",
         "rawType": "object",
         "type": "string"
        },
        {
         "name": "authorities_contacted",
         "rawType": "object",
         "type": "unknown"
        },
        {
         "name": "incident_state",
         "rawType": "object",
         "type": "string"
        },
        {
         "name": "incident_city",
         "rawType": "object",
         "type": "string"
        },
        {
         "name": "incident_location",
         "rawType": "object",
         "type": "string"
        },
        {
         "name": "incident_hour_of_the_day",
         "rawType": "int64",
         "type": "integer"
        },
        {
         "name": "number_of_vehicles_involved",
         "rawType": "int64",
         "type": "integer"
        },
        {
         "name": "property_damage",
         "rawType": "object",
         "type": "string"
        },
        {
         "name": "bodily_injuries",
         "rawType": "int64",
         "type": "integer"
        },
        {
         "name": "witnesses",
         "rawType": "int64",
         "type": "integer"
        },
        {
         "name": "police_report_available",
         "rawType": "object",
         "type": "string"
        },
        {
         "name": "total_claim_amount",
         "rawType": "int64",
         "type": "integer"
        },
        {
         "name": "injury_claim",
         "rawType": "int64",
         "type": "integer"
        },
        {
         "name": "property_claim",
         "rawType": "int64",
         "type": "integer"
        },
        {
         "name": "vehicle_claim",
         "rawType": "int64",
         "type": "integer"
        },
        {
         "name": "auto_make",
         "rawType": "object",
         "type": "string"
        },
        {
         "name": "auto_model",
         "rawType": "object",
         "type": "string"
        },
        {
         "name": "auto_year",
         "rawType": "int64",
         "type": "integer"
        },
        {
         "name": "fraud_reported",
         "rawType": "object",
         "type": "string"
        },
        {
         "name": "FraudFound_Int",
         "rawType": "int64",
         "type": "integer"
        }
       ],
       "conversionMethod": "pd.DataFrame",
       "ref": "8b5a80c1-b969-40d7-86d9-2db95cfd54b6",
       "rows": [
        [
         "0",
         "328",
         "48",
         "521585",
         "2014-10-17",
         "OH",
         "250/500",
         "1000",
         "1406.91",
         "0",
         "466132",
         "MALE",
         "MD",
         "craft-repair",
         "sleeping",
         "husband",
         "53300",
         "0",
         "2015-01-25",
         "Single Vehicle Collision",
         "Side Collision",
         "Major Damage",
         "Police",
         "SC",
         "Columbus",
         "9935 4th Drive",
         "5",
         "1",
         "YES",
         "1",
         "2",
         "YES",
         "71610",
         "6510",
         "13020",
         "52080",
         "Saab",
         "92x",
         "2004",
         "Y",
         "1"
        ],
        [
         "1",
         "228",
         "42",
         "342868",
         "2006-06-27",
         "IN",
         "250/500",
         "2000",
         "1197.22",
         "5000000",
         "468176",
         "MALE",
         "MD",
         "machine-op-inspct",
         "reading",
         "other-relative",
         "0",
         "0",
         "2015-01-21",
         "Vehicle Theft",
         "?",
         "Minor Damage",
         "Police",
         "VA",
         "Riverwood",
         "6608 MLK Hwy",
         "8",
         "1",
         "?",
         "0",
         "0",
         "?",
         "5070",
         "780",
         "780",
         "3510",
         "Mercedes",
         "E400",
         "2007",
         "Y",
         "1"
        ],
        [
         "2",
         "134",
         "29",
         "687698",
         "2000-09-06",
         "OH",
         "100/300",
         "2000",
         "1413.14",
         "5000000",
         "430632",
         "FEMALE",
         "PhD",
         "sales",
         "board-games",
         "own-child",
         "35100",
         "0",
         "2015-02-22",
         "Multi-vehicle Collision",
         "Rear Collision",
         "Minor Damage",
         "Police",
         "NY",
         "Columbus",
         "7121 Francis Lane",
         "7",
         "3",
         "NO",
         "2",
         "3",
         "NO",
         "34650",
         "7700",
         "3850",
         "23100",
         "Dodge",
         "RAM",
         "2007",
         "N",
         "0"
        ],
        [
         "3",
         "256",
         "41",
         "227811",
         "1990-05-25",
         "IL",
         "250/500",
         "2000",
         "1415.74",
         "6000000",
         "608117",
         "FEMALE",
         "PhD",
         "armed-forces",
         "board-games",
         "unmarried",
         "48900",
         "-62400",
         "2015-01-10",
         "Single Vehicle Collision",
         "Front Collision",
         "Major Damage",
         "Police",
         "OH",
         "Arlington",
         "6956 Maple Drive",
         "5",
         "1",
         "?",
         "1",
         "2",
         "NO",
         "63400",
         "6340",
         "6340",
         "50720",
         "Chevrolet",
         "Tahoe",
         "2014",
         "Y",
         "1"
        ],
        [
         "4",
         "228",
         "44",
         "367455",
         "2014-06-06",
         "IL",
         "500/1000",
         "1000",
         "1583.91",
         "6000000",
         "610706",
         "MALE",
         "Associate",
         "sales",
         "board-games",
         "unmarried",
         "66000",
         "-46000",
         "2015-02-17",
         "Vehicle Theft",
         "?",
         "Minor Damage",
         null,
         "NY",
         "Arlington",
         "3041 3rd Ave",
         "20",
         "1",
         "NO",
         "0",
         "1",
         "NO",
         "6500",
         "1300",
         "650",
         "4550",
         "Accura",
         "RSX",
         "2009",
         "N",
         "0"
        ]
       ],
       "shape": {
        "columns": 40,
        "rows": 5
       }
      },
      "text/html": [
       "<div>\n",
       "<style scoped>\n",
       "    .dataframe tbody tr th:only-of-type {\n",
       "        vertical-align: middle;\n",
       "    }\n",
       "\n",
       "    .dataframe tbody tr th {\n",
       "        vertical-align: top;\n",
       "    }\n",
       "\n",
       "    .dataframe thead th {\n",
       "        text-align: right;\n",
       "    }\n",
       "</style>\n",
       "<table border=\"1\" class=\"dataframe\">\n",
       "  <thead>\n",
       "    <tr style=\"text-align: right;\">\n",
       "      <th></th>\n",
       "      <th>months_as_customer</th>\n",
       "      <th>age</th>\n",
       "      <th>policy_number</th>\n",
       "      <th>policy_bind_date</th>\n",
       "      <th>policy_state</th>\n",
       "      <th>policy_csl</th>\n",
       "      <th>policy_deductable</th>\n",
       "      <th>policy_annual_premium</th>\n",
       "      <th>umbrella_limit</th>\n",
       "      <th>insured_zip</th>\n",
       "      <th>...</th>\n",
       "      <th>police_report_available</th>\n",
       "      <th>total_claim_amount</th>\n",
       "      <th>injury_claim</th>\n",
       "      <th>property_claim</th>\n",
       "      <th>vehicle_claim</th>\n",
       "      <th>auto_make</th>\n",
       "      <th>auto_model</th>\n",
       "      <th>auto_year</th>\n",
       "      <th>fraud_reported</th>\n",
       "      <th>FraudFound_Int</th>\n",
       "    </tr>\n",
       "  </thead>\n",
       "  <tbody>\n",
       "    <tr>\n",
       "      <th>0</th>\n",
       "      <td>328</td>\n",
       "      <td>48</td>\n",
       "      <td>521585</td>\n",
       "      <td>2014-10-17</td>\n",
       "      <td>OH</td>\n",
       "      <td>250/500</td>\n",
       "      <td>1000</td>\n",
       "      <td>1406.91</td>\n",
       "      <td>0</td>\n",
       "      <td>466132</td>\n",
       "      <td>...</td>\n",
       "      <td>YES</td>\n",
       "      <td>71610</td>\n",
       "      <td>6510</td>\n",
       "      <td>13020</td>\n",
       "      <td>52080</td>\n",
       "      <td>Saab</td>\n",
       "      <td>92x</td>\n",
       "      <td>2004</td>\n",
       "      <td>Y</td>\n",
       "      <td>1</td>\n",
       "    </tr>\n",
       "    <tr>\n",
       "      <th>1</th>\n",
       "      <td>228</td>\n",
       "      <td>42</td>\n",
       "      <td>342868</td>\n",
       "      <td>2006-06-27</td>\n",
       "      <td>IN</td>\n",
       "      <td>250/500</td>\n",
       "      <td>2000</td>\n",
       "      <td>1197.22</td>\n",
       "      <td>5000000</td>\n",
       "      <td>468176</td>\n",
       "      <td>...</td>\n",
       "      <td>?</td>\n",
       "      <td>5070</td>\n",
       "      <td>780</td>\n",
       "      <td>780</td>\n",
       "      <td>3510</td>\n",
       "      <td>Mercedes</td>\n",
       "      <td>E400</td>\n",
       "      <td>2007</td>\n",
       "      <td>Y</td>\n",
       "      <td>1</td>\n",
       "    </tr>\n",
       "    <tr>\n",
       "      <th>2</th>\n",
       "      <td>134</td>\n",
       "      <td>29</td>\n",
       "      <td>687698</td>\n",
       "      <td>2000-09-06</td>\n",
       "      <td>OH</td>\n",
       "      <td>100/300</td>\n",
       "      <td>2000</td>\n",
       "      <td>1413.14</td>\n",
       "      <td>5000000</td>\n",
       "      <td>430632</td>\n",
       "      <td>...</td>\n",
       "      <td>NO</td>\n",
       "      <td>34650</td>\n",
       "      <td>7700</td>\n",
       "      <td>3850</td>\n",
       "      <td>23100</td>\n",
       "      <td>Dodge</td>\n",
       "      <td>RAM</td>\n",
       "      <td>2007</td>\n",
       "      <td>N</td>\n",
       "      <td>0</td>\n",
       "    </tr>\n",
       "    <tr>\n",
       "      <th>3</th>\n",
       "      <td>256</td>\n",
       "      <td>41</td>\n",
       "      <td>227811</td>\n",
       "      <td>1990-05-25</td>\n",
       "      <td>IL</td>\n",
       "      <td>250/500</td>\n",
       "      <td>2000</td>\n",
       "      <td>1415.74</td>\n",
       "      <td>6000000</td>\n",
       "      <td>608117</td>\n",
       "      <td>...</td>\n",
       "      <td>NO</td>\n",
       "      <td>63400</td>\n",
       "      <td>6340</td>\n",
       "      <td>6340</td>\n",
       "      <td>50720</td>\n",
       "      <td>Chevrolet</td>\n",
       "      <td>Tahoe</td>\n",
       "      <td>2014</td>\n",
       "      <td>Y</td>\n",
       "      <td>1</td>\n",
       "    </tr>\n",
       "    <tr>\n",
       "      <th>4</th>\n",
       "      <td>228</td>\n",
       "      <td>44</td>\n",
       "      <td>367455</td>\n",
       "      <td>2014-06-06</td>\n",
       "      <td>IL</td>\n",
       "      <td>500/1000</td>\n",
       "      <td>1000</td>\n",
       "      <td>1583.91</td>\n",
       "      <td>6000000</td>\n",
       "      <td>610706</td>\n",
       "      <td>...</td>\n",
       "      <td>NO</td>\n",
       "      <td>6500</td>\n",
       "      <td>1300</td>\n",
       "      <td>650</td>\n",
       "      <td>4550</td>\n",
       "      <td>Accura</td>\n",
       "      <td>RSX</td>\n",
       "      <td>2009</td>\n",
       "      <td>N</td>\n",
       "      <td>0</td>\n",
       "    </tr>\n",
       "  </tbody>\n",
       "</table>\n",
       "<p>5 rows × 40 columns</p>\n",
       "</div>"
      ],
      "text/plain": [
       "   months_as_customer  age  policy_number policy_bind_date policy_state  \\\n",
       "0                 328   48         521585       2014-10-17           OH   \n",
       "1                 228   42         342868       2006-06-27           IN   \n",
       "2                 134   29         687698       2000-09-06           OH   \n",
       "3                 256   41         227811       1990-05-25           IL   \n",
       "4                 228   44         367455       2014-06-06           IL   \n",
       "\n",
       "  policy_csl  policy_deductable  policy_annual_premium  umbrella_limit  \\\n",
       "0    250/500               1000                1406.91               0   \n",
       "1    250/500               2000                1197.22         5000000   \n",
       "2    100/300               2000                1413.14         5000000   \n",
       "3    250/500               2000                1415.74         6000000   \n",
       "4   500/1000               1000                1583.91         6000000   \n",
       "\n",
       "   insured_zip  ... police_report_available total_claim_amount injury_claim  \\\n",
       "0       466132  ...                     YES              71610         6510   \n",
       "1       468176  ...                       ?               5070          780   \n",
       "2       430632  ...                      NO              34650         7700   \n",
       "3       608117  ...                      NO              63400         6340   \n",
       "4       610706  ...                      NO               6500         1300   \n",
       "\n",
       "  property_claim vehicle_claim  auto_make  auto_model auto_year  \\\n",
       "0          13020         52080       Saab         92x      2004   \n",
       "1            780          3510   Mercedes        E400      2007   \n",
       "2           3850         23100      Dodge         RAM      2007   \n",
       "3           6340         50720  Chevrolet       Tahoe      2014   \n",
       "4            650          4550     Accura         RSX      2009   \n",
       "\n",
       "  fraud_reported FraudFound_Int  \n",
       "0              Y              1  \n",
       "1              Y              1  \n",
       "2              N              0  \n",
       "3              Y              1  \n",
       "4              N              0  \n",
       "\n",
       "[5 rows x 40 columns]"
      ]
     },
     "execution_count": 13,
     "metadata": {},
     "output_type": "execute_result"
    }
   ],
   "source": [
    "# Assume the data must have a unique ID, such as PolicyNumber  \n",
    "# This is how duplicates can be detected  \n",
    "print(f\"Duplicates of Policy Numbers: {dataset['policy_number'].duplicated().sum()}\")\n",
    "\n",
    "# and deleted\n",
    "dataset_with_unique_policy_numbers = dataset.drop_duplicates(subset=['policy_number'], keep='last')\n",
    "dataset_with_unique_policy_numbers.head()"
   ]
  },
  {
   "cell_type": "markdown",
   "id": "52079df1",
   "metadata": {},
   "source": [
    "#### *Are there any duplicate values in a given column (when this would be inappropriate?)*\n",
    "\n",
    "##### Inapropriate duplicates could be : \n",
    "- Primary or natural keys: Unique identifiers such as a claim number(if provided), or a composite key formed by combining multiple columns (e.g., `PolicyNumber` + `Timestamp`).\n",
    "- Timestamps: Expected to be unique per claim, but collisions may occur.\n",
    "\n",
    "##### Apropriate duplicates are : \n",
    "- Categorical attributes: Examples include `Month`, `Sex`, `Marital Status`, etc.\n",
    "- Numerical values: Examples include `Deductible Amount`, etc."
   ]
  },
  {
   "cell_type": "markdown",
   "id": "f093503a",
   "metadata": {},
   "source": [
    "#### *Are there any missing or null values?*"
   ]
  },
  {
   "cell_type": "code",
   "execution_count": 22,
   "id": "5a5fb0b0",
   "metadata": {},
   "outputs": [
    {
     "name": "stdout",
     "output_type": "stream",
     "text": [
      "No null values detected.\n"
     ]
    }
   ],
   "source": [
    "# Are there any null values?\n",
    "\n",
    "# check null Values\n",
    "missing_values_number = dataset.isnull().sum().sum()\n",
    "if missing_values_number > 0:\n",
    "    print(f\"This dataframe contain null values = {missing_values_number}\")\n",
    "else:\n",
    "    print(\"No null values detected.\")"
   ]
  },
  {
   "cell_type": "code",
   "execution_count": 23,
   "id": "33ea946a",
   "metadata": {},
   "outputs": [
    {
     "name": "stdout",
     "output_type": "stream",
     "text": [
      "Missing values per column:\n",
      " Series([], dtype: int64)\n"
     ]
    }
   ],
   "source": [
    "missing_values = dataset.isnull().sum()\n",
    "print(\"Missing values per column:\\n\", missing_values[missing_values > 0])\n"
   ]
  },
  {
   "cell_type": "code",
   "execution_count": 17,
   "id": "57a762cc",
   "metadata": {},
   "outputs": [
    {
     "data": {
      "application/vnd.microsoft.datawrangler.viewer.v0+json": {
       "columns": [
        {
         "name": "index",
         "rawType": "int64",
         "type": "integer"
        },
        {
         "name": "months_as_customer",
         "rawType": "int64",
         "type": "integer"
        },
        {
         "name": "age",
         "rawType": "int64",
         "type": "integer"
        },
        {
         "name": "policy_number",
         "rawType": "int64",
         "type": "integer"
        },
        {
         "name": "policy_bind_date",
         "rawType": "object",
         "type": "string"
        },
        {
         "name": "policy_state",
         "rawType": "object",
         "type": "string"
        },
        {
         "name": "policy_csl",
         "rawType": "object",
         "type": "string"
        },
        {
         "name": "policy_deductable",
         "rawType": "int64",
         "type": "integer"
        },
        {
         "name": "policy_annual_premium",
         "rawType": "float64",
         "type": "float"
        },
        {
         "name": "umbrella_limit",
         "rawType": "int64",
         "type": "integer"
        },
        {
         "name": "insured_zip",
         "rawType": "int64",
         "type": "integer"
        },
        {
         "name": "insured_sex",
         "rawType": "object",
         "type": "string"
        },
        {
         "name": "insured_education_level",
         "rawType": "object",
         "type": "string"
        },
        {
         "name": "insured_occupation",
         "rawType": "object",
         "type": "string"
        },
        {
         "name": "insured_hobbies",
         "rawType": "object",
         "type": "string"
        },
        {
         "name": "insured_relationship",
         "rawType": "object",
         "type": "string"
        },
        {
         "name": "capital-gains",
         "rawType": "int64",
         "type": "integer"
        },
        {
         "name": "capital-loss",
         "rawType": "int64",
         "type": "integer"
        },
        {
         "name": "incident_date",
         "rawType": "object",
         "type": "string"
        },
        {
         "name": "incident_type",
         "rawType": "object",
         "type": "string"
        },
        {
         "name": "collision_type",
         "rawType": "object",
         "type": "string"
        },
        {
         "name": "incident_severity",
         "rawType": "object",
         "type": "string"
        },
        {
         "name": "authorities_contacted",
         "rawType": "object",
         "type": "string"
        },
        {
         "name": "incident_state",
         "rawType": "object",
         "type": "string"
        },
        {
         "name": "incident_city",
         "rawType": "object",
         "type": "string"
        },
        {
         "name": "incident_location",
         "rawType": "object",
         "type": "string"
        },
        {
         "name": "incident_hour_of_the_day",
         "rawType": "int64",
         "type": "integer"
        },
        {
         "name": "number_of_vehicles_involved",
         "rawType": "int64",
         "type": "integer"
        },
        {
         "name": "property_damage",
         "rawType": "object",
         "type": "string"
        },
        {
         "name": "bodily_injuries",
         "rawType": "int64",
         "type": "integer"
        },
        {
         "name": "witnesses",
         "rawType": "int64",
         "type": "integer"
        },
        {
         "name": "police_report_available",
         "rawType": "object",
         "type": "string"
        },
        {
         "name": "total_claim_amount",
         "rawType": "int64",
         "type": "integer"
        },
        {
         "name": "injury_claim",
         "rawType": "int64",
         "type": "integer"
        },
        {
         "name": "property_claim",
         "rawType": "int64",
         "type": "integer"
        },
        {
         "name": "vehicle_claim",
         "rawType": "int64",
         "type": "integer"
        },
        {
         "name": "auto_make",
         "rawType": "object",
         "type": "string"
        },
        {
         "name": "auto_model",
         "rawType": "object",
         "type": "string"
        },
        {
         "name": "auto_year",
         "rawType": "int64",
         "type": "integer"
        },
        {
         "name": "fraud_reported",
         "rawType": "object",
         "type": "string"
        },
        {
         "name": "FraudFound_Int",
         "rawType": "int64",
         "type": "integer"
        }
       ],
       "conversionMethod": "pd.DataFrame",
       "ref": "cf23a2a2-a27c-4ceb-b256-c072eb121d47",
       "rows": [],
       "shape": {
        "columns": 40,
        "rows": 0
       }
      },
      "text/html": [
       "<div>\n",
       "<style scoped>\n",
       "    .dataframe tbody tr th:only-of-type {\n",
       "        vertical-align: middle;\n",
       "    }\n",
       "\n",
       "    .dataframe tbody tr th {\n",
       "        vertical-align: top;\n",
       "    }\n",
       "\n",
       "    .dataframe thead th {\n",
       "        text-align: right;\n",
       "    }\n",
       "</style>\n",
       "<table border=\"1\" class=\"dataframe\">\n",
       "  <thead>\n",
       "    <tr style=\"text-align: right;\">\n",
       "      <th></th>\n",
       "      <th>months_as_customer</th>\n",
       "      <th>age</th>\n",
       "      <th>policy_number</th>\n",
       "      <th>policy_bind_date</th>\n",
       "      <th>policy_state</th>\n",
       "      <th>policy_csl</th>\n",
       "      <th>policy_deductable</th>\n",
       "      <th>policy_annual_premium</th>\n",
       "      <th>umbrella_limit</th>\n",
       "      <th>insured_zip</th>\n",
       "      <th>...</th>\n",
       "      <th>police_report_available</th>\n",
       "      <th>total_claim_amount</th>\n",
       "      <th>injury_claim</th>\n",
       "      <th>property_claim</th>\n",
       "      <th>vehicle_claim</th>\n",
       "      <th>auto_make</th>\n",
       "      <th>auto_model</th>\n",
       "      <th>auto_year</th>\n",
       "      <th>fraud_reported</th>\n",
       "      <th>FraudFound_Int</th>\n",
       "    </tr>\n",
       "  </thead>\n",
       "  <tbody>\n",
       "  </tbody>\n",
       "</table>\n",
       "<p>0 rows × 40 columns</p>\n",
       "</div>"
      ],
      "text/plain": [
       "Empty DataFrame\n",
       "Columns: [months_as_customer, age, policy_number, policy_bind_date, policy_state, policy_csl, policy_deductable, policy_annual_premium, umbrella_limit, insured_zip, insured_sex, insured_education_level, insured_occupation, insured_hobbies, insured_relationship, capital-gains, capital-loss, incident_date, incident_type, collision_type, incident_severity, authorities_contacted, incident_state, incident_city, incident_location, incident_hour_of_the_day, number_of_vehicles_involved, property_damage, bodily_injuries, witnesses, police_report_available, total_claim_amount, injury_claim, property_claim, vehicle_claim, auto_make, auto_model, auto_year, fraud_reported, FraudFound_Int]\n",
       "Index: []\n",
       "\n",
       "[0 rows x 40 columns]"
      ]
     },
     "execution_count": 17,
     "metadata": {},
     "output_type": "execute_result"
    }
   ],
   "source": [
    "# Show nulls:\n",
    "dataset[dataset.isnull().any(axis=1)].head()"
   ]
  },
  {
   "cell_type": "markdown",
   "id": "787acd4a",
   "metadata": {},
   "source": [
    "#### *Do you want to fill in the missing value with a mean value?  A value of your choice?  Remove that row?*\n",
    "- **Few missing values or rows**:  Remove the rows.  \n",
    "- **Significant percentage of missing values**:  \n",
    "  - **Numerical columns**: Fill with the mean.  \n",
    "  - **Categorical columns**: Fill with \"Unknown\" and encode."
   ]
  },
  {
   "cell_type": "code",
   "execution_count": 21,
   "id": "62542f0e",
   "metadata": {},
   "outputs": [
    {
     "name": "stdout",
     "output_type": "stream",
     "text": [
      "Missing values in 'authorities_contacted' filled with 'None'.\n"
     ]
    }
   ],
   "source": [
    "dataset['authorities_contacted'] = dataset['authorities_contacted'].fillna('None')\n",
    "print(\"Missing values in 'authorities_contacted' filled with 'None'.\")\n"
   ]
  },
  {
   "cell_type": "code",
   "execution_count": 24,
   "id": "41cb17e3",
   "metadata": {},
   "outputs": [
    {
     "name": "stdout",
     "output_type": "stream",
     "text": [
      "Missing values per column:\n",
      " Series([], dtype: int64)\n"
     ]
    }
   ],
   "source": [
    "# Check results:\n",
    "missing_values = dataset.isnull().sum()\n",
    "print(\"Missing values per column:\\n\", missing_values[missing_values > 0])\n"
   ]
  },
  {
   "cell_type": "markdown",
   "id": "48c19fba",
   "metadata": {},
   "source": [
    "#### *Identify any other inconsistent data (e.g. someone seems to be taking an action before they are born.)*\n",
    "\n",
    "Based on the `data_profiling` dataframe: \n",
    " - Column `MonthClaimed` should contain valid month names (e.g., Jan, Feb, ..., Dec), but some rows have a value of 0, which is an inconsistency.\n",
    " - The column `Age` contains values of 0, which may indicate inconsistencies or errors.\n",
    " - The column `DayOfWeekClaimed` has 8 distinct values, which may indicate inconsistencies or errors, as there should only be 7 possible values (Monday to Sunday).\n",
    " - There are duplicated features like `AgeOfPolicyHolder` (categorical age range)  and `Age` (exact age).\n",
    "\n"
   ]
  },
  {
   "cell_type": "markdown",
   "id": "6bdbe8d0",
   "metadata": {},
   "source": [
    "#### *Encode any categorical variables (e.g. with one-hot encoding.)*\n"
   ]
  },
  {
   "cell_type": "code",
   "execution_count": 18,
   "id": "17d1d4c4",
   "metadata": {},
   "outputs": [
    {
     "data": {
      "application/vnd.microsoft.datawrangler.viewer.v0+json": {
       "columns": [
        {
         "name": "index",
         "rawType": "int64",
         "type": "integer"
        },
        {
         "name": "months_as_customer",
         "rawType": "int64",
         "type": "integer"
        },
        {
         "name": "age",
         "rawType": "int64",
         "type": "integer"
        },
        {
         "name": "policy_number",
         "rawType": "int64",
         "type": "integer"
        },
        {
         "name": "policy_bind_date",
         "rawType": "object",
         "type": "string"
        },
        {
         "name": "policy_state",
         "rawType": "object",
         "type": "string"
        },
        {
         "name": "policy_csl",
         "rawType": "object",
         "type": "string"
        },
        {
         "name": "policy_deductable",
         "rawType": "int64",
         "type": "integer"
        },
        {
         "name": "policy_annual_premium",
         "rawType": "float64",
         "type": "float"
        },
        {
         "name": "umbrella_limit",
         "rawType": "int64",
         "type": "integer"
        },
        {
         "name": "insured_zip",
         "rawType": "int64",
         "type": "integer"
        },
        {
         "name": "insured_occupation",
         "rawType": "object",
         "type": "string"
        },
        {
         "name": "insured_hobbies",
         "rawType": "object",
         "type": "string"
        },
        {
         "name": "insured_relationship",
         "rawType": "object",
         "type": "string"
        },
        {
         "name": "capital-gains",
         "rawType": "int64",
         "type": "integer"
        },
        {
         "name": "capital-loss",
         "rawType": "int64",
         "type": "integer"
        },
        {
         "name": "incident_date",
         "rawType": "object",
         "type": "string"
        },
        {
         "name": "incident_type",
         "rawType": "object",
         "type": "string"
        },
        {
         "name": "collision_type",
         "rawType": "object",
         "type": "string"
        },
        {
         "name": "incident_severity",
         "rawType": "object",
         "type": "string"
        },
        {
         "name": "authorities_contacted",
         "rawType": "object",
         "type": "string"
        },
        {
         "name": "incident_state",
         "rawType": "object",
         "type": "string"
        },
        {
         "name": "incident_city",
         "rawType": "object",
         "type": "string"
        },
        {
         "name": "incident_location",
         "rawType": "object",
         "type": "string"
        },
        {
         "name": "incident_hour_of_the_day",
         "rawType": "int64",
         "type": "integer"
        },
        {
         "name": "number_of_vehicles_involved",
         "rawType": "int64",
         "type": "integer"
        },
        {
         "name": "property_damage",
         "rawType": "object",
         "type": "string"
        },
        {
         "name": "bodily_injuries",
         "rawType": "int64",
         "type": "integer"
        },
        {
         "name": "witnesses",
         "rawType": "int64",
         "type": "integer"
        },
        {
         "name": "police_report_available",
         "rawType": "object",
         "type": "string"
        },
        {
         "name": "total_claim_amount",
         "rawType": "int64",
         "type": "integer"
        },
        {
         "name": "injury_claim",
         "rawType": "int64",
         "type": "integer"
        },
        {
         "name": "property_claim",
         "rawType": "int64",
         "type": "integer"
        },
        {
         "name": "vehicle_claim",
         "rawType": "int64",
         "type": "integer"
        },
        {
         "name": "auto_make",
         "rawType": "object",
         "type": "string"
        },
        {
         "name": "auto_model",
         "rawType": "object",
         "type": "string"
        },
        {
         "name": "auto_year",
         "rawType": "int64",
         "type": "integer"
        },
        {
         "name": "fraud_reported",
         "rawType": "object",
         "type": "string"
        },
        {
         "name": "FraudFound_Int",
         "rawType": "int64",
         "type": "integer"
        },
        {
         "name": "insured_sex_FEMALE",
         "rawType": "bool",
         "type": "boolean"
        },
        {
         "name": "insured_sex_MALE",
         "rawType": "bool",
         "type": "boolean"
        },
        {
         "name": "insured_education_level_Associate",
         "rawType": "bool",
         "type": "boolean"
        },
        {
         "name": "insured_education_level_College",
         "rawType": "bool",
         "type": "boolean"
        },
        {
         "name": "insured_education_level_High School",
         "rawType": "bool",
         "type": "boolean"
        },
        {
         "name": "insured_education_level_JD",
         "rawType": "bool",
         "type": "boolean"
        },
        {
         "name": "insured_education_level_MD",
         "rawType": "bool",
         "type": "boolean"
        },
        {
         "name": "insured_education_level_Masters",
         "rawType": "bool",
         "type": "boolean"
        },
        {
         "name": "insured_education_level_PhD",
         "rawType": "bool",
         "type": "boolean"
        }
       ],
       "conversionMethod": "pd.DataFrame",
       "ref": "75a36306-20b7-4a90-9c0d-95758a70e340",
       "rows": [
        [
         "0",
         "328",
         "48",
         "521585",
         "2014-10-17",
         "OH",
         "250/500",
         "1000",
         "1406.91",
         "0",
         "466132",
         "craft-repair",
         "sleeping",
         "husband",
         "53300",
         "0",
         "2015-01-25",
         "Single Vehicle Collision",
         "Side Collision",
         "Major Damage",
         "Police",
         "SC",
         "Columbus",
         "9935 4th Drive",
         "5",
         "1",
         "YES",
         "1",
         "2",
         "YES",
         "71610",
         "6510",
         "13020",
         "52080",
         "Saab",
         "92x",
         "2004",
         "Y",
         "1",
         "False",
         "True",
         "False",
         "False",
         "False",
         "False",
         "True",
         "False",
         "False"
        ],
        [
         "1",
         "228",
         "42",
         "342868",
         "2006-06-27",
         "IN",
         "250/500",
         "2000",
         "1197.22",
         "5000000",
         "468176",
         "machine-op-inspct",
         "reading",
         "other-relative",
         "0",
         "0",
         "2015-01-21",
         "Vehicle Theft",
         "?",
         "Minor Damage",
         "Police",
         "VA",
         "Riverwood",
         "6608 MLK Hwy",
         "8",
         "1",
         "?",
         "0",
         "0",
         "?",
         "5070",
         "780",
         "780",
         "3510",
         "Mercedes",
         "E400",
         "2007",
         "Y",
         "1",
         "False",
         "True",
         "False",
         "False",
         "False",
         "False",
         "True",
         "False",
         "False"
        ],
        [
         "2",
         "134",
         "29",
         "687698",
         "2000-09-06",
         "OH",
         "100/300",
         "2000",
         "1413.14",
         "5000000",
         "430632",
         "sales",
         "board-games",
         "own-child",
         "35100",
         "0",
         "2015-02-22",
         "Multi-vehicle Collision",
         "Rear Collision",
         "Minor Damage",
         "Police",
         "NY",
         "Columbus",
         "7121 Francis Lane",
         "7",
         "3",
         "NO",
         "2",
         "3",
         "NO",
         "34650",
         "7700",
         "3850",
         "23100",
         "Dodge",
         "RAM",
         "2007",
         "N",
         "0",
         "True",
         "False",
         "False",
         "False",
         "False",
         "False",
         "False",
         "False",
         "True"
        ],
        [
         "3",
         "256",
         "41",
         "227811",
         "1990-05-25",
         "IL",
         "250/500",
         "2000",
         "1415.74",
         "6000000",
         "608117",
         "armed-forces",
         "board-games",
         "unmarried",
         "48900",
         "-62400",
         "2015-01-10",
         "Single Vehicle Collision",
         "Front Collision",
         "Major Damage",
         "Police",
         "OH",
         "Arlington",
         "6956 Maple Drive",
         "5",
         "1",
         "?",
         "1",
         "2",
         "NO",
         "63400",
         "6340",
         "6340",
         "50720",
         "Chevrolet",
         "Tahoe",
         "2014",
         "Y",
         "1",
         "True",
         "False",
         "False",
         "False",
         "False",
         "False",
         "False",
         "False",
         "True"
        ],
        [
         "4",
         "228",
         "44",
         "367455",
         "2014-06-06",
         "IL",
         "500/1000",
         "1000",
         "1583.91",
         "6000000",
         "610706",
         "sales",
         "board-games",
         "unmarried",
         "66000",
         "-46000",
         "2015-02-17",
         "Vehicle Theft",
         "?",
         "Minor Damage",
         "None",
         "NY",
         "Arlington",
         "3041 3rd Ave",
         "20",
         "1",
         "NO",
         "0",
         "1",
         "NO",
         "6500",
         "1300",
         "650",
         "4550",
         "Accura",
         "RSX",
         "2009",
         "N",
         "0",
         "False",
         "True",
         "True",
         "False",
         "False",
         "False",
         "False",
         "False",
         "False"
        ]
       ],
       "shape": {
        "columns": 47,
        "rows": 5
       }
      },
      "text/html": [
       "<div>\n",
       "<style scoped>\n",
       "    .dataframe tbody tr th:only-of-type {\n",
       "        vertical-align: middle;\n",
       "    }\n",
       "\n",
       "    .dataframe tbody tr th {\n",
       "        vertical-align: top;\n",
       "    }\n",
       "\n",
       "    .dataframe thead th {\n",
       "        text-align: right;\n",
       "    }\n",
       "</style>\n",
       "<table border=\"1\" class=\"dataframe\">\n",
       "  <thead>\n",
       "    <tr style=\"text-align: right;\">\n",
       "      <th></th>\n",
       "      <th>months_as_customer</th>\n",
       "      <th>age</th>\n",
       "      <th>policy_number</th>\n",
       "      <th>policy_bind_date</th>\n",
       "      <th>policy_state</th>\n",
       "      <th>policy_csl</th>\n",
       "      <th>policy_deductable</th>\n",
       "      <th>policy_annual_premium</th>\n",
       "      <th>umbrella_limit</th>\n",
       "      <th>insured_zip</th>\n",
       "      <th>...</th>\n",
       "      <th>FraudFound_Int</th>\n",
       "      <th>insured_sex_FEMALE</th>\n",
       "      <th>insured_sex_MALE</th>\n",
       "      <th>insured_education_level_Associate</th>\n",
       "      <th>insured_education_level_College</th>\n",
       "      <th>insured_education_level_High School</th>\n",
       "      <th>insured_education_level_JD</th>\n",
       "      <th>insured_education_level_MD</th>\n",
       "      <th>insured_education_level_Masters</th>\n",
       "      <th>insured_education_level_PhD</th>\n",
       "    </tr>\n",
       "  </thead>\n",
       "  <tbody>\n",
       "    <tr>\n",
       "      <th>0</th>\n",
       "      <td>328</td>\n",
       "      <td>48</td>\n",
       "      <td>521585</td>\n",
       "      <td>2014-10-17</td>\n",
       "      <td>OH</td>\n",
       "      <td>250/500</td>\n",
       "      <td>1000</td>\n",
       "      <td>1406.91</td>\n",
       "      <td>0</td>\n",
       "      <td>466132</td>\n",
       "      <td>...</td>\n",
       "      <td>1</td>\n",
       "      <td>False</td>\n",
       "      <td>True</td>\n",
       "      <td>False</td>\n",
       "      <td>False</td>\n",
       "      <td>False</td>\n",
       "      <td>False</td>\n",
       "      <td>True</td>\n",
       "      <td>False</td>\n",
       "      <td>False</td>\n",
       "    </tr>\n",
       "    <tr>\n",
       "      <th>1</th>\n",
       "      <td>228</td>\n",
       "      <td>42</td>\n",
       "      <td>342868</td>\n",
       "      <td>2006-06-27</td>\n",
       "      <td>IN</td>\n",
       "      <td>250/500</td>\n",
       "      <td>2000</td>\n",
       "      <td>1197.22</td>\n",
       "      <td>5000000</td>\n",
       "      <td>468176</td>\n",
       "      <td>...</td>\n",
       "      <td>1</td>\n",
       "      <td>False</td>\n",
       "      <td>True</td>\n",
       "      <td>False</td>\n",
       "      <td>False</td>\n",
       "      <td>False</td>\n",
       "      <td>False</td>\n",
       "      <td>True</td>\n",
       "      <td>False</td>\n",
       "      <td>False</td>\n",
       "    </tr>\n",
       "    <tr>\n",
       "      <th>2</th>\n",
       "      <td>134</td>\n",
       "      <td>29</td>\n",
       "      <td>687698</td>\n",
       "      <td>2000-09-06</td>\n",
       "      <td>OH</td>\n",
       "      <td>100/300</td>\n",
       "      <td>2000</td>\n",
       "      <td>1413.14</td>\n",
       "      <td>5000000</td>\n",
       "      <td>430632</td>\n",
       "      <td>...</td>\n",
       "      <td>0</td>\n",
       "      <td>True</td>\n",
       "      <td>False</td>\n",
       "      <td>False</td>\n",
       "      <td>False</td>\n",
       "      <td>False</td>\n",
       "      <td>False</td>\n",
       "      <td>False</td>\n",
       "      <td>False</td>\n",
       "      <td>True</td>\n",
       "    </tr>\n",
       "    <tr>\n",
       "      <th>3</th>\n",
       "      <td>256</td>\n",
       "      <td>41</td>\n",
       "      <td>227811</td>\n",
       "      <td>1990-05-25</td>\n",
       "      <td>IL</td>\n",
       "      <td>250/500</td>\n",
       "      <td>2000</td>\n",
       "      <td>1415.74</td>\n",
       "      <td>6000000</td>\n",
       "      <td>608117</td>\n",
       "      <td>...</td>\n",
       "      <td>1</td>\n",
       "      <td>True</td>\n",
       "      <td>False</td>\n",
       "      <td>False</td>\n",
       "      <td>False</td>\n",
       "      <td>False</td>\n",
       "      <td>False</td>\n",
       "      <td>False</td>\n",
       "      <td>False</td>\n",
       "      <td>True</td>\n",
       "    </tr>\n",
       "    <tr>\n",
       "      <th>4</th>\n",
       "      <td>228</td>\n",
       "      <td>44</td>\n",
       "      <td>367455</td>\n",
       "      <td>2014-06-06</td>\n",
       "      <td>IL</td>\n",
       "      <td>500/1000</td>\n",
       "      <td>1000</td>\n",
       "      <td>1583.91</td>\n",
       "      <td>6000000</td>\n",
       "      <td>610706</td>\n",
       "      <td>...</td>\n",
       "      <td>0</td>\n",
       "      <td>False</td>\n",
       "      <td>True</td>\n",
       "      <td>True</td>\n",
       "      <td>False</td>\n",
       "      <td>False</td>\n",
       "      <td>False</td>\n",
       "      <td>False</td>\n",
       "      <td>False</td>\n",
       "      <td>False</td>\n",
       "    </tr>\n",
       "  </tbody>\n",
       "</table>\n",
       "<p>5 rows × 47 columns</p>\n",
       "</div>"
      ],
      "text/plain": [
       "   months_as_customer  age  policy_number policy_bind_date policy_state  \\\n",
       "0                 328   48         521585       2014-10-17           OH   \n",
       "1                 228   42         342868       2006-06-27           IN   \n",
       "2                 134   29         687698       2000-09-06           OH   \n",
       "3                 256   41         227811       1990-05-25           IL   \n",
       "4                 228   44         367455       2014-06-06           IL   \n",
       "\n",
       "  policy_csl  policy_deductable  policy_annual_premium  umbrella_limit  \\\n",
       "0    250/500               1000                1406.91               0   \n",
       "1    250/500               2000                1197.22         5000000   \n",
       "2    100/300               2000                1413.14         5000000   \n",
       "3    250/500               2000                1415.74         6000000   \n",
       "4   500/1000               1000                1583.91         6000000   \n",
       "\n",
       "   insured_zip  ... FraudFound_Int insured_sex_FEMALE insured_sex_MALE  \\\n",
       "0       466132  ...              1              False             True   \n",
       "1       468176  ...              1              False             True   \n",
       "2       430632  ...              0               True            False   \n",
       "3       608117  ...              1               True            False   \n",
       "4       610706  ...              0              False             True   \n",
       "\n",
       "   insured_education_level_Associate  insured_education_level_College  \\\n",
       "0                              False                            False   \n",
       "1                              False                            False   \n",
       "2                              False                            False   \n",
       "3                              False                            False   \n",
       "4                               True                            False   \n",
       "\n",
       "  insured_education_level_High School insured_education_level_JD  \\\n",
       "0                               False                      False   \n",
       "1                               False                      False   \n",
       "2                               False                      False   \n",
       "3                               False                      False   \n",
       "4                               False                      False   \n",
       "\n",
       "  insured_education_level_MD insured_education_level_Masters  \\\n",
       "0                       True                           False   \n",
       "1                       True                           False   \n",
       "2                      False                           False   \n",
       "3                      False                           False   \n",
       "4                      False                           False   \n",
       "\n",
       "  insured_education_level_PhD  \n",
       "0                       False  \n",
       "1                       False  \n",
       "2                        True  \n",
       "3                        True  \n",
       "4                       False  \n",
       "\n",
       "[5 rows x 47 columns]"
      ]
     },
     "execution_count": 18,
     "metadata": {},
     "output_type": "execute_result"
    }
   ],
   "source": [
    "# One-hot encode categorical columns\n",
    "dataset_encoded = pd.get_dummies(dataset, columns=['insured_sex', 'insured_education_level'])\n",
    "dataset_encoded.head()"
   ]
  },
  {
   "cell_type": "markdown",
   "id": "9b2a1508",
   "metadata": {},
   "source": [
    "### Conclusions:\n",
    "\n",
    "- *Are the data usable?  If not, find some new data!*\n",
    "  - The data appears usable, with minor inconsistencies.\n",
    "\n",
    "- *Do you need to modify or correct the data in some way?*\n",
    "  - There are some inconsistencies that can be fixed:\n",
    "    - `MonthClaimed`: Rows with 0 values can be removed.\n",
    "    - `Age`: This feature can be dropped, or 0 values can be replaced with the median age from the corresponding `AgeOfPolicyHolder` (categorical age range).\n",
    "    - `DayOfWeekClaimed`: Rows with 0 values can be removed.\n",
    "\n",
    "- *Is there any class imbalance?  (Categories that have many more items than other categories).*\n",
    "  - Most categorical columns have fewer than 10 unique values, while `Age` has 64 distinct categories."
   ]
  },
  {
   "cell_type": "markdown",
   "id": "abab9e6d-18cc-4863-b980-3e52f581763a",
   "metadata": {},
   "source": [
    "# 4. Storytelling With Data graph"
   ]
  },
  {
   "cell_type": "markdown",
   "id": "1911148d-9df6-4b33-a875-8c96408ec834",
   "metadata": {},
   "source": [
    "Just like last week: choose any graph in the Introduction of Storytelling With Data. \n",
    "- ✅ Use matplotlib to reproduce it in a rough way. I don't expect you to spend an enormous amount of time on this; I understand that you likely will not have time to re-create every feature of the graph. However, if you're excited about learning to use matplotlib, this is a good way to do that. You don't have to duplicate the exact values on the graph; just the same rough shape will be enough.  \n",
    "- ✅ If you don't feel comfortable using matplotlib yet, do the best you can and write down what you tried or what Google searches you did to find the answers."
   ]
  },
  {
   "cell_type": "code",
   "execution_count": 19,
   "id": "8b2888f9-3700-45ab-9829-6a5372106f9f",
   "metadata": {},
   "outputs": [
    {
     "data": {
      "image/png": "[encoded data removed]",
      "text/plain": [
       "<Figure size 800x500 with 1 Axes>"
      ]
     },
     "metadata": {},
     "output_type": "display_data"
    }
   ],
   "source": [
    "df = dataset.copy()\n",
    "\n",
    "fraud_counts = df.groupby([\"incident_type\", \"fraud_reported\"]).size().unstack(fill_value=0)\n",
    "\n",
    "fig, ax = plt.subplots(figsize=(8, 5))\n",
    "\n",
    "# plot the bars side by side (stacked=False for grouped bars)\n",
    "bars = fraud_counts.plot(kind='bar', stacked=False, ax=ax, color=['blue', 'red'], width=0.8)\n",
    "\n",
    "# adjusting labels on bars to prevent overlapping\n",
    "for bar_container in bars.containers:\n",
    "    ax.bar_label(bar_container, fmt='%d', padding=3, fontsize=10)\n",
    "\n",
    "# add labels and title\n",
    "ax.set_xlabel(\"incident_type\")\n",
    "ax.set_ylabel(\"Number of Claims\")\n",
    "ax.set_title(\"Legitimate vs. Fraudulent Claims by incident_type\")\n",
    "ax.legend(title=\"Fraud Found\", labels=[\"No (Legitimate)\", \"Yes (Fraudulent)\"])\n",
    "\n",
    "# adjust tick rotation and layout\n",
    "plt.xticks(rotation=0)\n",
    "plt.tight_layout()\n",
    "\n",
    "# show the chart\n",
    "plt.show()"
   ]
  },
  {
   "cell_type": "code",
   "execution_count": 20,
   "id": "fa64656b",
   "metadata": {},
   "outputs": [
    {
     "data": {
      "image/png": "[encoded data removed]",
      "text/plain": [
       "<Figure size 800x500 with 1 Axes>"
      ]
     },
     "metadata": {},
     "output_type": "display_data"
    }
   ],
   "source": [
    "fraud_counts = df.groupby([\"auto_make\", \"fraud_reported\"]).size().unstack(fill_value=0)\n",
    "\n",
    "# Plot grouped bar chart (bars next to each other)\n",
    "fig, ax = plt.subplots(figsize=(8, 5))\n",
    "fraud_counts.plot(kind='bar', stacked=False, ax=ax, color=['blue', 'red'], width=0.8)\n",
    "\n",
    "# add labels and title\n",
    "ax.set_xlabel(\"auto_make\")\n",
    "ax.set_ylabel(\"Number of Claims\")\n",
    "ax.set_title(\"Legitimate vs. Fraudulent Claims by auto_make\")\n",
    "ax.legend(title=\"Fraud Found\", labels=[\"No (Legitimate)\", \"Yes (Fraudulent)\"])\n",
    "\n",
    "# show the chart\n",
    "plt.xticks(rotation=45)\n",
    "plt.show()"
   ]
  },
  {
   "cell_type": "markdown",
   "id": "1a4545b0",
   "metadata": {},
   "source": [
    "#### *Write down what you tried or what Google searches you did to find the answers.*\n",
    "I've tried multiple combinations of categorical features, aiming to keep the chart readable while avoiding unnecessary complexity. \n",
    "\n",
    "I prefer bar charts as they are the easiest to read and interpret. I also searched on Google and found other projects on Kaggle with this dataset, but most of them focus on machine learning rather than descriptive analytics.\n",
    "\n",
    "Additionally, I added a heatmap below to visualize correlations and try to identify patterns in the data."
   ]
  },
  {
   "cell_type": "markdown",
   "id": "f15a2827",
   "metadata": {},
   "source": [
    "#### References\n",
    "\n",
    "1. Aqqad, A. (2023, August 22). *Insurance_claims.* Mendeley Data. https://data.mendeley.com/datasets/992mh7dk9y/2\n",
    "\n",
    "2. Nelyapenko, (2025). *ModB-Sem2 Weekly Homework: Week 02. OMDS-ModB2-Week2-Nelyapenko-Sergey_2.ipynb GitHub.* Retrieved from https://github.com/SergeyNelyapenkoBU/2025-spring-B2/blob/main/OMDS-ModB2-Week2-Nelyapenko-Sergey.ipynb\n"
   ]
  }
 ],
 "metadata": {
  "kernelspec": {
   "display_name": ".venv",
   "language": "python",
   "name": "python3"
  },
  "language_info": {
   "codemirror_mode": {
    "name": "ipython",
    "version": 3
   },
   "file_extension": ".py",
   "mimetype": "text/x-python",
   "name": "python",
   "nbconvert_exporter": "python",
   "pygments_lexer": "ipython3",
   "version": "3.9.13"
  }
 },
 "nbformat": 4,
 "nbformat_minor": 5
}
