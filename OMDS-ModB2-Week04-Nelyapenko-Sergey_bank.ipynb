{
 "cells": [
  {
   "cell_type": "markdown",
   "id": "4441d563-75a4-4c32-b1e7-2c229477ca1c",
   "metadata": {},
   "source": [
    "# Week 4 - Univariate Analysis, part 2"
   ]
  },
  {
   "cell_type": "markdown",
   "id": "98e23199-b611-403a-b843-2369d14d29bd",
   "metadata": {
    "jp-MarkdownHeadingCollapsed": true
   },
   "source": [
    "# 1. Lesson - None"
   ]
  },
  {
   "cell_type": "markdown",
   "id": "35a7a0ae-f55f-455f-a951-478605b5e192",
   "metadata": {},
   "source": [
    "# 2. Weekly graph question"
   ]
  },
  {
   "cell_type": "markdown",
   "id": "6807d39d-413e-4ce2-9281-3dd73eda198f",
   "metadata": {},
   "source": [
    "Below are a histogram and boxplot representation of the same data. A pharmacy is keeping a record of the prices of the drugs that it sells, and an administrator wants to know how much the more expensive drugs tend to cost, in the context of the other prices.\n",
    "\n",
    "Please write a short explanation of the pros and cons of these two representations. Which would you choose? How would you modify the formatting, if at all, to make it more visually interesting, clear, or informative?"
   ]
  },
  {
   "cell_type": "code",
   "execution_count": 2,
   "id": "1888593e-817d-4148-954d-5d156593bd8d",
   "metadata": {},
   "outputs": [],
   "source": [
    "import numpy as np\n",
    "import pandas as pd\n",
    "import kagglehub\n",
    "import matplotlib.pyplot as plt\n",
    "import seaborn as sns\n",
    "import os\n",
    "\n",
    "np.random.seed(0)\n",
    "num_data = 100\n",
    "data = np.exp(np.random.uniform(size = num_data) * 4)\n",
    "df = pd.DataFrame(data.T, columns = [\"data\"])"
   ]
  },
  {
   "cell_type": "code",
   "execution_count": 92,
   "id": "13745ab1-8a9b-4568-bf56-3245fa36a358",
   "metadata": {},
   "outputs": [
    {
     "name": "stdout",
     "output_type": "stream",
     "text": [
      "The 75th percentile is: data    15.457656\n",
      "Name: 0.75, dtype: float64\n"
     ]
    },
    {
     "data": {
      "text/plain": [
       "<Axes: ylabel='Frequency'>"
      ]
     },
     "execution_count": 92,
     "metadata": {},
     "output_type": "execute_result"
    },
    {
     "data": {
      "image/png": "[encoded data removed]",
      "text/plain": [
       "<Figure size 640x480 with 1 Axes>"
      ]
     },
     "metadata": {},
     "output_type": "display_data"
    }
   ],
   "source": [
    "print(\"The 75th percentile is:\", df.quantile(q = 0.75))\n",
    "df.plot.hist()"
   ]
  },
  {
   "cell_type": "code",
   "execution_count": 93,
   "id": "d4dbce72-bd33-43a2-b3e7-354a1cca6e39",
   "metadata": {},
   "outputs": [
    {
     "data": {
      "text/plain": [
       "<Axes: >"
      ]
     },
     "execution_count": 93,
     "metadata": {},
     "output_type": "execute_result"
    },
    {
     "data": {
      "image/png": "[encoded data removed]",
      "text/plain": [
       "<Figure size 640x480 with 1 Axes>"
      ]
     },
     "metadata": {},
     "output_type": "display_data"
    }
   ],
   "source": [
    "df.plot.box()"
   ]
  },
  {
   "cell_type": "markdown",
   "id": "ab830464-2f92-4281-a2d3-474ffd26d1c7",
   "metadata": {},
   "source": [
    "# 3. Homework - working on your datasets"
   ]
  },
  {
   "cell_type": "markdown",
   "id": "e892ba10-7f81-4330-9863-73f65fbdc4bd",
   "metadata": {},
   "source": [
    "This week, you will do the same types of exercises as last week, but you should use your own datasets that you found last semester.\n",
    "\n",
    "### Here are some types of analysis you can do:\n",
    "\n",
    "- Draw histograms and histogram variants for each feature or column.  (Swarm plot, kde plot, violin plot).\n",
    "\n",
    "- Draw grouped histograms.  For instance, if you have tree heights for both maple and oak trees, you could draw histograms for both.\n",
    "\n",
    "- Draw a bar plot to indicate total counts of each categorical variable in a given column.\n",
    "\n",
    "- Find means, medians, and modes.\n",
    "\n",
    "### Conclusions:\n",
    "\n",
    "- Explain what conclusions you would draw from this analysis: are the data what you expect?  Are the data likely to be usable?  If they are not useable, find some new data!\n",
    "\n",
    "- What is the overall shape of the distribution?  Is it normal, skewed, bimodal, uniform, etc.?\n",
    "\n",
    "- Are there any outliers present?  (Data points that are far from the others.)\n",
    "\n",
    "- If there are multiple related histograms, how does the distribution change across different groups?\n",
    "\n",
    "- What are the minimum and maximum values represented in each histogram?\n",
    "\n",
    "- How do bin sizes affect the histogram?  Does changing the bin width reveal different patterns in the data?\n",
    "\n",
    "- Does the distribution appear normal, or does it have a different distribution?"
   ]
  },
  {
   "cell_type": "code",
   "execution_count": 94,
   "id": "94da5fec",
   "metadata": {},
   "outputs": [
    {
     "name": "stdout",
     "output_type": "stream",
     "text": [
      "Path to kaggle dataset: ramyhafez/bank-customer-churn\n",
      "Kaggle dataset file name: Bank_Churn.csv\n",
      "Path to downloaded file: /home/codespace/.cache/kagglehub/datasets/ramyhafez/bank-customer-churn/versions/1\n"
     ]
    },
    {
     "data": {
      "application/vnd.microsoft.datawrangler.viewer.v0+json": {
       "columns": [
        {
         "name": "index",
         "rawType": "int64",
         "type": "integer"
        },
        {
         "name": "CustomerId",
         "rawType": "int64",
         "type": "integer"
        },
        {
         "name": "Surname",
         "rawType": "object",
         "type": "string"
        },
        {
         "name": "CreditScore",
         "rawType": "int64",
         "type": "integer"
        },
        {
         "name": "Geography",
         "rawType": "object",
         "type": "string"
        },
        {
         "name": "Gender",
         "rawType": "object",
         "type": "string"
        },
        {
         "name": "Age",
         "rawType": "int64",
         "type": "integer"
        },
        {
         "name": "Tenure",
         "rawType": "int64",
         "type": "integer"
        },
        {
         "name": "Balance",
         "rawType": "float64",
         "type": "float"
        },
        {
         "name": "NumOfProducts",
         "rawType": "int64",
         "type": "integer"
        },
        {
         "name": "HasCrCard",
         "rawType": "int64",
         "type": "integer"
        },
        {
         "name": "IsActiveMember",
         "rawType": "int64",
         "type": "integer"
        },
        {
         "name": "EstimatedSalary",
         "rawType": "float64",
         "type": "float"
        },
        {
         "name": "Exited",
         "rawType": "int64",
         "type": "integer"
        }
       ],
       "conversionMethod": "pd.DataFrame",
       "ref": "7f6c66f0-a928-45d8-bc9c-df354197deba",
       "rows": [
        [
         "0",
         "15634602",
         "Hargrave",
         "619",
         "France",
         "Female",
         "42",
         "2",
         "0.0",
         "1",
         "1",
         "1",
         "101348.88",
         "1"
        ],
        [
         "1",
         "15647311",
         "Hill",
         "608",
         "Spain",
         "Female",
         "41",
         "1",
         "83807.86",
         "1",
         "0",
         "1",
         "112542.58",
         "0"
        ],
        [
         "2",
         "15619304",
         "Onio",
         "502",
         "France",
         "Female",
         "42",
         "8",
         "159660.8",
         "3",
         "1",
         "0",
         "113931.57",
         "1"
        ],
        [
         "3",
         "15701354",
         "Boni",
         "699",
         "France",
         "Female",
         "39",
         "1",
         "0.0",
         "2",
         "0",
         "0",
         "93826.63",
         "0"
        ],
        [
         "4",
         "15737888",
         "Mitchell",
         "850",
         "Spain",
         "Female",
         "43",
         "2",
         "125510.82",
         "1",
         "1",
         "1",
         "79084.1",
         "0"
        ]
       ],
       "shape": {
        "columns": 13,
        "rows": 5
       }
      },
      "text/html": [
       "<div>\n",
       "<style scoped>\n",
       "    .dataframe tbody tr th:only-of-type {\n",
       "        vertical-align: middle;\n",
       "    }\n",
       "\n",
       "    .dataframe tbody tr th {\n",
       "        vertical-align: top;\n",
       "    }\n",
       "\n",
       "    .dataframe thead th {\n",
       "        text-align: right;\n",
       "    }\n",
       "</style>\n",
       "<table border=\"1\" class=\"dataframe\">\n",
       "  <thead>\n",
       "    <tr style=\"text-align: right;\">\n",
       "      <th></th>\n",
       "      <th>CustomerId</th>\n",
       "      <th>Surname</th>\n",
       "      <th>CreditScore</th>\n",
       "      <th>Geography</th>\n",
       "      <th>Gender</th>\n",
       "      <th>Age</th>\n",
       "      <th>Tenure</th>\n",
       "      <th>Balance</th>\n",
       "      <th>NumOfProducts</th>\n",
       "      <th>HasCrCard</th>\n",
       "      <th>IsActiveMember</th>\n",
       "      <th>EstimatedSalary</th>\n",
       "      <th>Exited</th>\n",
       "    </tr>\n",
       "  </thead>\n",
       "  <tbody>\n",
       "    <tr>\n",
       "      <th>0</th>\n",
       "      <td>15634602</td>\n",
       "      <td>Hargrave</td>\n",
       "      <td>619</td>\n",
       "      <td>France</td>\n",
       "      <td>Female</td>\n",
       "      <td>42</td>\n",
       "      <td>2</td>\n",
       "      <td>0.00</td>\n",
       "      <td>1</td>\n",
       "      <td>1</td>\n",
       "      <td>1</td>\n",
       "      <td>101348.88</td>\n",
       "      <td>1</td>\n",
       "    </tr>\n",
       "    <tr>\n",
       "      <th>1</th>\n",
       "      <td>15647311</td>\n",
       "      <td>Hill</td>\n",
       "      <td>608</td>\n",
       "      <td>Spain</td>\n",
       "      <td>Female</td>\n",
       "      <td>41</td>\n",
       "      <td>1</td>\n",
       "      <td>83807.86</td>\n",
       "      <td>1</td>\n",
       "      <td>0</td>\n",
       "      <td>1</td>\n",
       "      <td>112542.58</td>\n",
       "      <td>0</td>\n",
       "    </tr>\n",
       "    <tr>\n",
       "      <th>2</th>\n",
       "      <td>15619304</td>\n",
       "      <td>Onio</td>\n",
       "      <td>502</td>\n",
       "      <td>France</td>\n",
       "      <td>Female</td>\n",
       "      <td>42</td>\n",
       "      <td>8</td>\n",
       "      <td>159660.80</td>\n",
       "      <td>3</td>\n",
       "      <td>1</td>\n",
       "      <td>0</td>\n",
       "      <td>113931.57</td>\n",
       "      <td>1</td>\n",
       "    </tr>\n",
       "    <tr>\n",
       "      <th>3</th>\n",
       "      <td>15701354</td>\n",
       "      <td>Boni</td>\n",
       "      <td>699</td>\n",
       "      <td>France</td>\n",
       "      <td>Female</td>\n",
       "      <td>39</td>\n",
       "      <td>1</td>\n",
       "      <td>0.00</td>\n",
       "      <td>2</td>\n",
       "      <td>0</td>\n",
       "      <td>0</td>\n",
       "      <td>93826.63</td>\n",
       "      <td>0</td>\n",
       "    </tr>\n",
       "    <tr>\n",
       "      <th>4</th>\n",
       "      <td>15737888</td>\n",
       "      <td>Mitchell</td>\n",
       "      <td>850</td>\n",
       "      <td>Spain</td>\n",
       "      <td>Female</td>\n",
       "      <td>43</td>\n",
       "      <td>2</td>\n",
       "      <td>125510.82</td>\n",
       "      <td>1</td>\n",
       "      <td>1</td>\n",
       "      <td>1</td>\n",
       "      <td>79084.10</td>\n",
       "      <td>0</td>\n",
       "    </tr>\n",
       "  </tbody>\n",
       "</table>\n",
       "</div>"
      ],
      "text/plain": [
       "   CustomerId   Surname  CreditScore Geography  Gender  Age  Tenure  \\\n",
       "0    15634602  Hargrave          619    France  Female   42       2   \n",
       "1    15647311      Hill          608     Spain  Female   41       1   \n",
       "2    15619304      Onio          502    France  Female   42       8   \n",
       "3    15701354      Boni          699    France  Female   39       1   \n",
       "4    15737888  Mitchell          850     Spain  Female   43       2   \n",
       "\n",
       "     Balance  NumOfProducts  HasCrCard  IsActiveMember  EstimatedSalary  \\\n",
       "0       0.00              1          1               1        101348.88   \n",
       "1   83807.86              1          0               1        112542.58   \n",
       "2  159660.80              3          1               0        113931.57   \n",
       "3       0.00              2          0               0         93826.63   \n",
       "4  125510.82              1          1               1         79084.10   \n",
       "\n",
       "   Exited  \n",
       "0       1  \n",
       "1       0  \n",
       "2       1  \n",
       "3       0  \n",
       "4       0  "
      ]
     },
     "execution_count": 94,
     "metadata": {},
     "output_type": "execute_result"
    }
   ],
   "source": [
    "# set variables\n",
    "kaggle_dataset_path = \"ramyhafez/bank-customer-churn\"\n",
    "kaggle_dataset_file_name = \"Bank_Churn.csv\"\n",
    "print(f\"Path to kaggle dataset: {kaggle_dataset_path}\")\n",
    "print(f\"Kaggle dataset file name: {kaggle_dataset_file_name}\")\n",
    "\n",
    "# download the data set\n",
    "kaggle_dataset_local_path = kagglehub.dataset_download(kaggle_dataset_path)\n",
    "print(f\"Path to downloaded file: {kaggle_dataset_local_path}\")\n",
    "\n",
    "# read csv file to pandas dataframe\n",
    "kaggle_dataset_local_path_to_file = os.path.join(kaggle_dataset_local_path, kaggle_dataset_file_name)\n",
    "kaggle_dataset_raw = pd.read_csv(kaggle_dataset_local_path_to_file)\n",
    "\n",
    "# copy dataframe for EDA\n",
    "dataset = kaggle_dataset_raw.copy()\n",
    "\n",
    "# show top rows\n",
    "dataset.head()\n"
   ]
  },
  {
   "cell_type": "code",
   "execution_count": 95,
   "id": "5749b7ed",
   "metadata": {},
   "outputs": [
    {
     "data": {
      "application/vnd.microsoft.datawrangler.viewer.v0+json": {
       "columns": [
        {
         "name": "index",
         "rawType": "int64",
         "type": "integer"
        },
        {
         "name": "CustomerId",
         "rawType": "int64",
         "type": "integer"
        },
        {
         "name": "Surname",
         "rawType": "object",
         "type": "string"
        },
        {
         "name": "CreditScore",
         "rawType": "int64",
         "type": "integer"
        },
        {
         "name": "Geography",
         "rawType": "object",
         "type": "string"
        },
        {
         "name": "Gender",
         "rawType": "object",
         "type": "string"
        },
        {
         "name": "Age",
         "rawType": "int64",
         "type": "integer"
        },
        {
         "name": "Tenure",
         "rawType": "int64",
         "type": "integer"
        },
        {
         "name": "Balance",
         "rawType": "float64",
         "type": "float"
        },
        {
         "name": "NumOfProducts",
         "rawType": "int64",
         "type": "integer"
        },
        {
         "name": "HasCrCard",
         "rawType": "int64",
         "type": "integer"
        },
        {
         "name": "IsActiveMember",
         "rawType": "int64",
         "type": "integer"
        },
        {
         "name": "EstimatedSalary",
         "rawType": "float64",
         "type": "float"
        },
        {
         "name": "Exited",
         "rawType": "int64",
         "type": "integer"
        }
       ],
       "conversionMethod": "pd.DataFrame",
       "ref": "1aa5a3c3-4138-4266-9b08-2abc0e43b47c",
       "rows": [
        [
         "0",
         "15634602",
         "Hargrave",
         "619",
         "France",
         "Female",
         "42",
         "2",
         "0.0",
         "1",
         "1",
         "1",
         "101348.88",
         "1"
        ],
        [
         "1",
         "15647311",
         "Hill",
         "608",
         "Spain",
         "Female",
         "41",
         "1",
         "83807.86",
         "1",
         "0",
         "1",
         "112542.58",
         "0"
        ],
        [
         "2",
         "15619304",
         "Onio",
         "502",
         "France",
         "Female",
         "42",
         "8",
         "159660.8",
         "3",
         "1",
         "0",
         "113931.57",
         "1"
        ],
        [
         "3",
         "15701354",
         "Boni",
         "699",
         "France",
         "Female",
         "39",
         "1",
         "0.0",
         "2",
         "0",
         "0",
         "93826.63",
         "0"
        ],
        [
         "4",
         "15737888",
         "Mitchell",
         "850",
         "Spain",
         "Female",
         "43",
         "2",
         "125510.82",
         "1",
         "1",
         "1",
         "79084.1",
         "0"
        ]
       ],
       "shape": {
        "columns": 13,
        "rows": 5
       }
      },
      "text/html": [
       "<div>\n",
       "<style scoped>\n",
       "    .dataframe tbody tr th:only-of-type {\n",
       "        vertical-align: middle;\n",
       "    }\n",
       "\n",
       "    .dataframe tbody tr th {\n",
       "        vertical-align: top;\n",
       "    }\n",
       "\n",
       "    .dataframe thead th {\n",
       "        text-align: right;\n",
       "    }\n",
       "</style>\n",
       "<table border=\"1\" class=\"dataframe\">\n",
       "  <thead>\n",
       "    <tr style=\"text-align: right;\">\n",
       "      <th></th>\n",
       "      <th>CustomerId</th>\n",
       "      <th>Surname</th>\n",
       "      <th>CreditScore</th>\n",
       "      <th>Geography</th>\n",
       "      <th>Gender</th>\n",
       "      <th>Age</th>\n",
       "      <th>Tenure</th>\n",
       "      <th>Balance</th>\n",
       "      <th>NumOfProducts</th>\n",
       "      <th>HasCrCard</th>\n",
       "      <th>IsActiveMember</th>\n",
       "      <th>EstimatedSalary</th>\n",
       "      <th>Exited</th>\n",
       "    </tr>\n",
       "  </thead>\n",
       "  <tbody>\n",
       "    <tr>\n",
       "      <th>0</th>\n",
       "      <td>15634602</td>\n",
       "      <td>Hargrave</td>\n",
       "      <td>619</td>\n",
       "      <td>France</td>\n",
       "      <td>Female</td>\n",
       "      <td>42</td>\n",
       "      <td>2</td>\n",
       "      <td>0.00</td>\n",
       "      <td>1</td>\n",
       "      <td>1</td>\n",
       "      <td>1</td>\n",
       "      <td>101348.88</td>\n",
       "      <td>1</td>\n",
       "    </tr>\n",
       "    <tr>\n",
       "      <th>1</th>\n",
       "      <td>15647311</td>\n",
       "      <td>Hill</td>\n",
       "      <td>608</td>\n",
       "      <td>Spain</td>\n",
       "      <td>Female</td>\n",
       "      <td>41</td>\n",
       "      <td>1</td>\n",
       "      <td>83807.86</td>\n",
       "      <td>1</td>\n",
       "      <td>0</td>\n",
       "      <td>1</td>\n",
       "      <td>112542.58</td>\n",
       "      <td>0</td>\n",
       "    </tr>\n",
       "    <tr>\n",
       "      <th>2</th>\n",
       "      <td>15619304</td>\n",
       "      <td>Onio</td>\n",
       "      <td>502</td>\n",
       "      <td>France</td>\n",
       "      <td>Female</td>\n",
       "      <td>42</td>\n",
       "      <td>8</td>\n",
       "      <td>159660.80</td>\n",
       "      <td>3</td>\n",
       "      <td>1</td>\n",
       "      <td>0</td>\n",
       "      <td>113931.57</td>\n",
       "      <td>1</td>\n",
       "    </tr>\n",
       "    <tr>\n",
       "      <th>3</th>\n",
       "      <td>15701354</td>\n",
       "      <td>Boni</td>\n",
       "      <td>699</td>\n",
       "      <td>France</td>\n",
       "      <td>Female</td>\n",
       "      <td>39</td>\n",
       "      <td>1</td>\n",
       "      <td>0.00</td>\n",
       "      <td>2</td>\n",
       "      <td>0</td>\n",
       "      <td>0</td>\n",
       "      <td>93826.63</td>\n",
       "      <td>0</td>\n",
       "    </tr>\n",
       "    <tr>\n",
       "      <th>4</th>\n",
       "      <td>15737888</td>\n",
       "      <td>Mitchell</td>\n",
       "      <td>850</td>\n",
       "      <td>Spain</td>\n",
       "      <td>Female</td>\n",
       "      <td>43</td>\n",
       "      <td>2</td>\n",
       "      <td>125510.82</td>\n",
       "      <td>1</td>\n",
       "      <td>1</td>\n",
       "      <td>1</td>\n",
       "      <td>79084.10</td>\n",
       "      <td>0</td>\n",
       "    </tr>\n",
       "  </tbody>\n",
       "</table>\n",
       "</div>"
      ],
      "text/plain": [
       "   CustomerId   Surname  CreditScore Geography  Gender  Age  Tenure  \\\n",
       "0    15634602  Hargrave          619    France  Female   42       2   \n",
       "1    15647311      Hill          608     Spain  Female   41       1   \n",
       "2    15619304      Onio          502    France  Female   42       8   \n",
       "3    15701354      Boni          699    France  Female   39       1   \n",
       "4    15737888  Mitchell          850     Spain  Female   43       2   \n",
       "\n",
       "     Balance  NumOfProducts  HasCrCard  IsActiveMember  EstimatedSalary  \\\n",
       "0       0.00              1          1               1        101348.88   \n",
       "1   83807.86              1          0               1        112542.58   \n",
       "2  159660.80              3          1               0        113931.57   \n",
       "3       0.00              2          0               0         93826.63   \n",
       "4  125510.82              1          1               1         79084.10   \n",
       "\n",
       "   Exited  \n",
       "0       1  \n",
       "1       0  \n",
       "2       1  \n",
       "3       0  \n",
       "4       0  "
      ]
     },
     "execution_count": 95,
     "metadata": {},
     "output_type": "execute_result"
    }
   ],
   "source": [
    "dataset.head()"
   ]
  },
  {
   "cell_type": "code",
   "execution_count": 96,
   "id": "513b0ec7",
   "metadata": {},
   "outputs": [
    {
     "name": "stdout",
     "output_type": "stream",
     "text": [
      "<class 'pandas.core.frame.DataFrame'>\n",
      "RangeIndex: 10000 entries, 0 to 9999\n",
      "Data columns (total 13 columns):\n",
      " #   Column           Non-Null Count  Dtype  \n",
      "---  ------           --------------  -----  \n",
      " 0   CustomerId       10000 non-null  int64  \n",
      " 1   Surname          10000 non-null  object \n",
      " 2   CreditScore      10000 non-null  int64  \n",
      " 3   Geography        10000 non-null  object \n",
      " 4   Gender           10000 non-null  object \n",
      " 5   Age              10000 non-null  int64  \n",
      " 6   Tenure           10000 non-null  int64  \n",
      " 7   Balance          10000 non-null  float64\n",
      " 8   NumOfProducts    10000 non-null  int64  \n",
      " 9   HasCrCard        10000 non-null  int64  \n",
      " 10  IsActiveMember   10000 non-null  int64  \n",
      " 11  EstimatedSalary  10000 non-null  float64\n",
      " 12  Exited           10000 non-null  int64  \n",
      "dtypes: float64(2), int64(8), object(3)\n",
      "memory usage: 1015.8+ KB\n"
     ]
    }
   ],
   "source": [
    "# Summarize the datasets using info()\n",
    "dataset.info()"
   ]
  },
  {
   "cell_type": "code",
   "execution_count": 97,
   "id": "257798c6",
   "metadata": {},
   "outputs": [
    {
     "data": {
      "application/vnd.microsoft.datawrangler.viewer.v0+json": {
       "columns": [
        {
         "name": "index",
         "rawType": "object",
         "type": "string"
        },
        {
         "name": "count",
         "rawType": "float64",
         "type": "float"
        },
        {
         "name": "mean",
         "rawType": "float64",
         "type": "float"
        },
        {
         "name": "std",
         "rawType": "float64",
         "type": "float"
        },
        {
         "name": "min",
         "rawType": "float64",
         "type": "float"
        },
        {
         "name": "25%",
         "rawType": "float64",
         "type": "float"
        },
        {
         "name": "50%",
         "rawType": "float64",
         "type": "float"
        },
        {
         "name": "75%",
         "rawType": "float64",
         "type": "float"
        },
        {
         "name": "max",
         "rawType": "float64",
         "type": "float"
        }
       ],
       "conversionMethod": "pd.DataFrame",
       "ref": "d3b01c52-92a4-442a-9bb0-77b23940ba39",
       "rows": [
        [
         "CustomerId",
         "10000.0",
         "15690940.5694",
         "71936.1861227489",
         "15565701.0",
         "15628528.25",
         "15690738.0",
         "15753233.75",
         "15815690.0"
        ],
        [
         "CreditScore",
         "10000.0",
         "650.5288",
         "96.65329873613035",
         "350.0",
         "584.0",
         "652.0",
         "718.0",
         "850.0"
        ],
        [
         "Age",
         "10000.0",
         "38.9218",
         "10.487806451704609",
         "18.0",
         "32.0",
         "37.0",
         "44.0",
         "92.0"
        ],
        [
         "Tenure",
         "10000.0",
         "5.0128",
         "2.8921743770496837",
         "0.0",
         "3.0",
         "5.0",
         "7.0",
         "10.0"
        ],
        [
         "Balance",
         "10000.0",
         "76485.889288",
         "62397.405202385955",
         "0.0",
         "0.0",
         "97198.54000000001",
         "127644.24",
         "250898.09"
        ],
        [
         "NumOfProducts",
         "10000.0",
         "1.5302",
         "0.5816543579989906",
         "1.0",
         "1.0",
         "1.0",
         "2.0",
         "4.0"
        ],
        [
         "HasCrCard",
         "10000.0",
         "0.7055",
         "0.4558404644751333",
         "0.0",
         "0.0",
         "1.0",
         "1.0",
         "1.0"
        ],
        [
         "IsActiveMember",
         "10000.0",
         "0.5151",
         "0.49979692845891893",
         "0.0",
         "0.0",
         "1.0",
         "1.0",
         "1.0"
        ],
        [
         "EstimatedSalary",
         "10000.0",
         "100090.239881",
         "57510.49281769816",
         "11.58",
         "51002.11",
         "100193.915",
         "149388.2475",
         "199992.48"
        ],
        [
         "Exited",
         "10000.0",
         "0.2037",
         "0.4027685839948609",
         "0.0",
         "0.0",
         "0.0",
         "0.0",
         "1.0"
        ]
       ],
       "shape": {
        "columns": 8,
        "rows": 10
       }
      },
      "text/html": [
       "<div>\n",
       "<style scoped>\n",
       "    .dataframe tbody tr th:only-of-type {\n",
       "        vertical-align: middle;\n",
       "    }\n",
       "\n",
       "    .dataframe tbody tr th {\n",
       "        vertical-align: top;\n",
       "    }\n",
       "\n",
       "    .dataframe thead th {\n",
       "        text-align: right;\n",
       "    }\n",
       "</style>\n",
       "<table border=\"1\" class=\"dataframe\">\n",
       "  <thead>\n",
       "    <tr style=\"text-align: right;\">\n",
       "      <th></th>\n",
       "      <th>count</th>\n",
       "      <th>mean</th>\n",
       "      <th>std</th>\n",
       "      <th>min</th>\n",
       "      <th>25%</th>\n",
       "      <th>50%</th>\n",
       "      <th>75%</th>\n",
       "      <th>max</th>\n",
       "    </tr>\n",
       "  </thead>\n",
       "  <tbody>\n",
       "    <tr>\n",
       "      <th>CustomerId</th>\n",
       "      <td>10000.0</td>\n",
       "      <td>1.569094e+07</td>\n",
       "      <td>71936.186123</td>\n",
       "      <td>15565701.00</td>\n",
       "      <td>15628528.25</td>\n",
       "      <td>1.569074e+07</td>\n",
       "      <td>1.575323e+07</td>\n",
       "      <td>15815690.00</td>\n",
       "    </tr>\n",
       "    <tr>\n",
       "      <th>CreditScore</th>\n",
       "      <td>10000.0</td>\n",
       "      <td>6.505288e+02</td>\n",
       "      <td>96.653299</td>\n",
       "      <td>350.00</td>\n",
       "      <td>584.00</td>\n",
       "      <td>6.520000e+02</td>\n",
       "      <td>7.180000e+02</td>\n",
       "      <td>850.00</td>\n",
       "    </tr>\n",
       "    <tr>\n",
       "      <th>Age</th>\n",
       "      <td>10000.0</td>\n",
       "      <td>3.892180e+01</td>\n",
       "      <td>10.487806</td>\n",
       "      <td>18.00</td>\n",
       "      <td>32.00</td>\n",
       "      <td>3.700000e+01</td>\n",
       "      <td>4.400000e+01</td>\n",
       "      <td>92.00</td>\n",
       "    </tr>\n",
       "    <tr>\n",
       "      <th>Tenure</th>\n",
       "      <td>10000.0</td>\n",
       "      <td>5.012800e+00</td>\n",
       "      <td>2.892174</td>\n",
       "      <td>0.00</td>\n",
       "      <td>3.00</td>\n",
       "      <td>5.000000e+00</td>\n",
       "      <td>7.000000e+00</td>\n",
       "      <td>10.00</td>\n",
       "    </tr>\n",
       "    <tr>\n",
       "      <th>Balance</th>\n",
       "      <td>10000.0</td>\n",
       "      <td>7.648589e+04</td>\n",
       "      <td>62397.405202</td>\n",
       "      <td>0.00</td>\n",
       "      <td>0.00</td>\n",
       "      <td>9.719854e+04</td>\n",
       "      <td>1.276442e+05</td>\n",
       "      <td>250898.09</td>\n",
       "    </tr>\n",
       "    <tr>\n",
       "      <th>NumOfProducts</th>\n",
       "      <td>10000.0</td>\n",
       "      <td>1.530200e+00</td>\n",
       "      <td>0.581654</td>\n",
       "      <td>1.00</td>\n",
       "      <td>1.00</td>\n",
       "      <td>1.000000e+00</td>\n",
       "      <td>2.000000e+00</td>\n",
       "      <td>4.00</td>\n",
       "    </tr>\n",
       "    <tr>\n",
       "      <th>HasCrCard</th>\n",
       "      <td>10000.0</td>\n",
       "      <td>7.055000e-01</td>\n",
       "      <td>0.455840</td>\n",
       "      <td>0.00</td>\n",
       "      <td>0.00</td>\n",
       "      <td>1.000000e+00</td>\n",
       "      <td>1.000000e+00</td>\n",
       "      <td>1.00</td>\n",
       "    </tr>\n",
       "    <tr>\n",
       "      <th>IsActiveMember</th>\n",
       "      <td>10000.0</td>\n",
       "      <td>5.151000e-01</td>\n",
       "      <td>0.499797</td>\n",
       "      <td>0.00</td>\n",
       "      <td>0.00</td>\n",
       "      <td>1.000000e+00</td>\n",
       "      <td>1.000000e+00</td>\n",
       "      <td>1.00</td>\n",
       "    </tr>\n",
       "    <tr>\n",
       "      <th>EstimatedSalary</th>\n",
       "      <td>10000.0</td>\n",
       "      <td>1.000902e+05</td>\n",
       "      <td>57510.492818</td>\n",
       "      <td>11.58</td>\n",
       "      <td>51002.11</td>\n",
       "      <td>1.001939e+05</td>\n",
       "      <td>1.493882e+05</td>\n",
       "      <td>199992.48</td>\n",
       "    </tr>\n",
       "    <tr>\n",
       "      <th>Exited</th>\n",
       "      <td>10000.0</td>\n",
       "      <td>2.037000e-01</td>\n",
       "      <td>0.402769</td>\n",
       "      <td>0.00</td>\n",
       "      <td>0.00</td>\n",
       "      <td>0.000000e+00</td>\n",
       "      <td>0.000000e+00</td>\n",
       "      <td>1.00</td>\n",
       "    </tr>\n",
       "  </tbody>\n",
       "</table>\n",
       "</div>"
      ],
      "text/plain": [
       "                   count          mean           std          min  \\\n",
       "CustomerId       10000.0  1.569094e+07  71936.186123  15565701.00   \n",
       "CreditScore      10000.0  6.505288e+02     96.653299       350.00   \n",
       "Age              10000.0  3.892180e+01     10.487806        18.00   \n",
       "Tenure           10000.0  5.012800e+00      2.892174         0.00   \n",
       "Balance          10000.0  7.648589e+04  62397.405202         0.00   \n",
       "NumOfProducts    10000.0  1.530200e+00      0.581654         1.00   \n",
       "HasCrCard        10000.0  7.055000e-01      0.455840         0.00   \n",
       "IsActiveMember   10000.0  5.151000e-01      0.499797         0.00   \n",
       "EstimatedSalary  10000.0  1.000902e+05  57510.492818        11.58   \n",
       "Exited           10000.0  2.037000e-01      0.402769         0.00   \n",
       "\n",
       "                         25%           50%           75%          max  \n",
       "CustomerId       15628528.25  1.569074e+07  1.575323e+07  15815690.00  \n",
       "CreditScore           584.00  6.520000e+02  7.180000e+02       850.00  \n",
       "Age                    32.00  3.700000e+01  4.400000e+01        92.00  \n",
       "Tenure                  3.00  5.000000e+00  7.000000e+00        10.00  \n",
       "Balance                 0.00  9.719854e+04  1.276442e+05    250898.09  \n",
       "NumOfProducts           1.00  1.000000e+00  2.000000e+00         4.00  \n",
       "HasCrCard               0.00  1.000000e+00  1.000000e+00         1.00  \n",
       "IsActiveMember          0.00  1.000000e+00  1.000000e+00         1.00  \n",
       "EstimatedSalary     51002.11  1.001939e+05  1.493882e+05    199992.48  \n",
       "Exited                  0.00  0.000000e+00  0.000000e+00         1.00  "
      ]
     },
     "execution_count": 97,
     "metadata": {},
     "output_type": "execute_result"
    }
   ],
   "source": [
    "dataset.describe().transpose()"
   ]
  },
  {
   "cell_type": "code",
   "execution_count": 98,
   "id": "af488d52",
   "metadata": {},
   "outputs": [
    {
     "name": "stdout",
     "output_type": "stream",
     "text": [
      "Number of duplicate rows: 0\n",
      "Number of duplicate Customer IDs: 0\n"
     ]
    }
   ],
   "source": [
    "# Check for duplicate rows\n",
    "duplicates = dataset.duplicated().sum()\n",
    "print(f\"Number of duplicate rows: {duplicates}\")\n",
    "# Check for duplicate values in inappropriate columns (e.g., unique identifiers)\n",
    "duplicate_customer_ids = dataset[\"CustomerId\"].duplicated().sum()\n",
    "print(f\"Number of duplicate Customer IDs: {duplicate_customer_ids}\")\n"
   ]
  },
  {
   "cell_type": "code",
   "execution_count": 99,
   "id": "78187102",
   "metadata": {},
   "outputs": [
    {
     "name": "stdout",
     "output_type": "stream",
     "text": [
      "Combined Statistics Table:\n",
      "                          Mean        Median      Mode\n",
      "Age              3.892180e+01  3.700000e+01      37.0\n",
      "Balance          7.648589e+04  9.719854e+04       0.0\n",
      "CreditScore      6.505288e+02  6.520000e+02     850.0\n",
      "CustomerId       1.569094e+07  1.569074e+07  15565701\n",
      "EstimatedSalary  1.000902e+05  1.001939e+05  24924.92\n",
      "Exited           2.037000e-01  0.000000e+00       0.0\n",
      "Gender                    NaN           NaN      Male\n",
      "Geography                 NaN           NaN    France\n",
      "HasCrCard        7.055000e-01  1.000000e+00       1.0\n",
      "IsActiveMember   5.151000e-01  1.000000e+00       1.0\n",
      "NumOfProducts    1.530200e+00  1.000000e+00       1.0\n",
      "Surname                   NaN           NaN     Smith\n",
      "Tenure           5.012800e+00  5.000000e+00       2.0\n"
     ]
    }
   ],
   "source": [
    "# Compute mean, median, and mode\n",
    "mean_values = dataset.mean(numeric_only=True)\n",
    "median_values = dataset.median(numeric_only=True)\n",
    "mode_values = dataset.mode().iloc[0]\n",
    " \n",
    "# Combine mean, median, and mode into a single table\n",
    "statistics_table = pd.DataFrame({\n",
    "    \"Mean\": mean_values,\n",
    "    \"Median\": median_values,\n",
    "    \"Mode\": mode_values\n",
    "})\n",
    "print(\"Combined Statistics Table:\\n\", statistics_table)"
   ]
  },
  {
   "cell_type": "code",
   "execution_count": 100,
   "id": "5cc354b8",
   "metadata": {},
   "outputs": [
    {
     "name": "stdout",
     "output_type": "stream",
     "text": [
      "Missing values per column:\n",
      " CustomerId         0\n",
      "Surname            0\n",
      "CreditScore        0\n",
      "Geography          0\n",
      "Gender             0\n",
      "Age                0\n",
      "Tenure             0\n",
      "Balance            0\n",
      "NumOfProducts      0\n",
      "HasCrCard          0\n",
      "IsActiveMember     0\n",
      "EstimatedSalary    0\n",
      "Exited             0\n",
      "dtype: int64\n"
     ]
    }
   ],
   "source": [
    "# Check for missing values\n",
    "missing_values = dataset.isnull().sum()\n",
    "print(\"Missing values per column:\\n\", missing_values)"
   ]
  },
  {
   "cell_type": "code",
   "execution_count": 101,
   "id": "5ae45c81",
   "metadata": {},
   "outputs": [
    {
     "name": "stdout",
     "output_type": "stream",
     "text": [
      "Missing values filled with column means.\n"
     ]
    }
   ],
   "source": [
    "# Handling missing values\n",
    "dataset.fillna(dataset.mean(numeric_only=True), inplace=True)\n",
    "print(\"Missing values filled with column means.\")\n"
   ]
  },
  {
   "cell_type": "markdown",
   "id": "5053a7ca",
   "metadata": {},
   "source": [
    "Note: The dataset does not contain any missing values or duplicates. This can be explained by its synthetic origin."
   ]
  },
  {
   "cell_type": "code",
   "execution_count": 102,
   "id": "4fd7f20c",
   "metadata": {},
   "outputs": [
    {
     "name": "stdout",
     "output_type": "stream",
     "text": [
      "Number of inconsistent ages: 0\n"
     ]
    }
   ],
   "source": [
    "# Identify inconsistent data (e.g., negative age values)\n",
    "inconsistent_age = dataset[dataset[\"Age\"] < 0]\n",
    "print(f\"Number of inconsistent ages: {len(inconsistent_age)}\")"
   ]
  },
  {
   "cell_type": "code",
   "execution_count": 103,
   "id": "9a5b2e5c",
   "metadata": {},
   "outputs": [
    {
     "name": "stdout",
     "output_type": "stream",
     "text": [
      "Categorical variables encoded.\n"
     ]
    },
    {
     "data": {
      "application/vnd.microsoft.datawrangler.viewer.v0+json": {
       "columns": [
        {
         "name": "index",
         "rawType": "int64",
         "type": "integer"
        },
        {
         "name": "CustomerId",
         "rawType": "int64",
         "type": "integer"
        },
        {
         "name": "Surname",
         "rawType": "object",
         "type": "string"
        },
        {
         "name": "CreditScore",
         "rawType": "int64",
         "type": "integer"
        },
        {
         "name": "Age",
         "rawType": "int64",
         "type": "integer"
        },
        {
         "name": "Tenure",
         "rawType": "int64",
         "type": "integer"
        },
        {
         "name": "Balance",
         "rawType": "float64",
         "type": "float"
        },
        {
         "name": "NumOfProducts",
         "rawType": "int64",
         "type": "integer"
        },
        {
         "name": "HasCrCard",
         "rawType": "int64",
         "type": "integer"
        },
        {
         "name": "IsActiveMember",
         "rawType": "int64",
         "type": "integer"
        },
        {
         "name": "EstimatedSalary",
         "rawType": "float64",
         "type": "float"
        },
        {
         "name": "Exited",
         "rawType": "int64",
         "type": "integer"
        },
        {
         "name": "Geography_Germany",
         "rawType": "bool",
         "type": "boolean"
        },
        {
         "name": "Geography_Spain",
         "rawType": "bool",
         "type": "boolean"
        },
        {
         "name": "Gender_Male",
         "rawType": "bool",
         "type": "boolean"
        }
       ],
       "conversionMethod": "pd.DataFrame",
       "ref": "1a254055-8b96-4484-b7db-2ce04d65b935",
       "rows": [
        [
         "0",
         "15634602",
         "Hargrave",
         "619",
         "42",
         "2",
         "0.0",
         "1",
         "1",
         "1",
         "101348.88",
         "1",
         "False",
         "False",
         "False"
        ],
        [
         "1",
         "15647311",
         "Hill",
         "608",
         "41",
         "1",
         "83807.86",
         "1",
         "0",
         "1",
         "112542.58",
         "0",
         "False",
         "True",
         "False"
        ],
        [
         "2",
         "15619304",
         "Onio",
         "502",
         "42",
         "8",
         "159660.8",
         "3",
         "1",
         "0",
         "113931.57",
         "1",
         "False",
         "False",
         "False"
        ],
        [
         "3",
         "15701354",
         "Boni",
         "699",
         "39",
         "1",
         "0.0",
         "2",
         "0",
         "0",
         "93826.63",
         "0",
         "False",
         "False",
         "False"
        ],
        [
         "4",
         "15737888",
         "Mitchell",
         "850",
         "43",
         "2",
         "125510.82",
         "1",
         "1",
         "1",
         "79084.1",
         "0",
         "False",
         "True",
         "False"
        ]
       ],
       "shape": {
        "columns": 14,
        "rows": 5
       }
      },
      "text/html": [
       "<div>\n",
       "<style scoped>\n",
       "    .dataframe tbody tr th:only-of-type {\n",
       "        vertical-align: middle;\n",
       "    }\n",
       "\n",
       "    .dataframe tbody tr th {\n",
       "        vertical-align: top;\n",
       "    }\n",
       "\n",
       "    .dataframe thead th {\n",
       "        text-align: right;\n",
       "    }\n",
       "</style>\n",
       "<table border=\"1\" class=\"dataframe\">\n",
       "  <thead>\n",
       "    <tr style=\"text-align: right;\">\n",
       "      <th></th>\n",
       "      <th>CustomerId</th>\n",
       "      <th>Surname</th>\n",
       "      <th>CreditScore</th>\n",
       "      <th>Age</th>\n",
       "      <th>Tenure</th>\n",
       "      <th>Balance</th>\n",
       "      <th>NumOfProducts</th>\n",
       "      <th>HasCrCard</th>\n",
       "      <th>IsActiveMember</th>\n",
       "      <th>EstimatedSalary</th>\n",
       "      <th>Exited</th>\n",
       "      <th>Geography_Germany</th>\n",
       "      <th>Geography_Spain</th>\n",
       "      <th>Gender_Male</th>\n",
       "    </tr>\n",
       "  </thead>\n",
       "  <tbody>\n",
       "    <tr>\n",
       "      <th>0</th>\n",
       "      <td>15634602</td>\n",
       "      <td>Hargrave</td>\n",
       "      <td>619</td>\n",
       "      <td>42</td>\n",
       "      <td>2</td>\n",
       "      <td>0.00</td>\n",
       "      <td>1</td>\n",
       "      <td>1</td>\n",
       "      <td>1</td>\n",
       "      <td>101348.88</td>\n",
       "      <td>1</td>\n",
       "      <td>False</td>\n",
       "      <td>False</td>\n",
       "      <td>False</td>\n",
       "    </tr>\n",
       "    <tr>\n",
       "      <th>1</th>\n",
       "      <td>15647311</td>\n",
       "      <td>Hill</td>\n",
       "      <td>608</td>\n",
       "      <td>41</td>\n",
       "      <td>1</td>\n",
       "      <td>83807.86</td>\n",
       "      <td>1</td>\n",
       "      <td>0</td>\n",
       "      <td>1</td>\n",
       "      <td>112542.58</td>\n",
       "      <td>0</td>\n",
       "      <td>False</td>\n",
       "      <td>True</td>\n",
       "      <td>False</td>\n",
       "    </tr>\n",
       "    <tr>\n",
       "      <th>2</th>\n",
       "      <td>15619304</td>\n",
       "      <td>Onio</td>\n",
       "      <td>502</td>\n",
       "      <td>42</td>\n",
       "      <td>8</td>\n",
       "      <td>159660.80</td>\n",
       "      <td>3</td>\n",
       "      <td>1</td>\n",
       "      <td>0</td>\n",
       "      <td>113931.57</td>\n",
       "      <td>1</td>\n",
       "      <td>False</td>\n",
       "      <td>False</td>\n",
       "      <td>False</td>\n",
       "    </tr>\n",
       "    <tr>\n",
       "      <th>3</th>\n",
       "      <td>15701354</td>\n",
       "      <td>Boni</td>\n",
       "      <td>699</td>\n",
       "      <td>39</td>\n",
       "      <td>1</td>\n",
       "      <td>0.00</td>\n",
       "      <td>2</td>\n",
       "      <td>0</td>\n",
       "      <td>0</td>\n",
       "      <td>93826.63</td>\n",
       "      <td>0</td>\n",
       "      <td>False</td>\n",
       "      <td>False</td>\n",
       "      <td>False</td>\n",
       "    </tr>\n",
       "    <tr>\n",
       "      <th>4</th>\n",
       "      <td>15737888</td>\n",
       "      <td>Mitchell</td>\n",
       "      <td>850</td>\n",
       "      <td>43</td>\n",
       "      <td>2</td>\n",
       "      <td>125510.82</td>\n",
       "      <td>1</td>\n",
       "      <td>1</td>\n",
       "      <td>1</td>\n",
       "      <td>79084.10</td>\n",
       "      <td>0</td>\n",
       "      <td>False</td>\n",
       "      <td>True</td>\n",
       "      <td>False</td>\n",
       "    </tr>\n",
       "  </tbody>\n",
       "</table>\n",
       "</div>"
      ],
      "text/plain": [
       "   CustomerId   Surname  CreditScore  Age  Tenure    Balance  NumOfProducts  \\\n",
       "0    15634602  Hargrave          619   42       2       0.00              1   \n",
       "1    15647311      Hill          608   41       1   83807.86              1   \n",
       "2    15619304      Onio          502   42       8  159660.80              3   \n",
       "3    15701354      Boni          699   39       1       0.00              2   \n",
       "4    15737888  Mitchell          850   43       2  125510.82              1   \n",
       "\n",
       "   HasCrCard  IsActiveMember  EstimatedSalary  Exited  Geography_Germany  \\\n",
       "0          1               1        101348.88       1              False   \n",
       "1          0               1        112542.58       0              False   \n",
       "2          1               0        113931.57       1              False   \n",
       "3          0               0         93826.63       0              False   \n",
       "4          1               1         79084.10       0              False   \n",
       "\n",
       "   Geography_Spain  Gender_Male  \n",
       "0            False        False  \n",
       "1             True        False  \n",
       "2            False        False  \n",
       "3            False        False  \n",
       "4             True        False  "
      ]
     },
     "execution_count": 103,
     "metadata": {},
     "output_type": "execute_result"
    }
   ],
   "source": [
    "# Encode categorical variables using one-hot encoding\n",
    "categorical_columns = [\"Geography\", \"Gender\"]\n",
    "df_encoded = pd.get_dummies(dataset, columns=categorical_columns, drop_first=True)\n",
    "print(\"Categorical variables encoded.\")\n",
    "df_encoded.head()"
   ]
  },
  {
   "cell_type": "code",
   "execution_count": 104,
   "id": "7b699d07",
   "metadata": {},
   "outputs": [
    {
     "name": "stdout",
     "output_type": "stream",
     "text": [
      "<class 'pandas.core.frame.DataFrame'>\n",
      "RangeIndex: 10000 entries, 0 to 9999\n",
      "Data columns (total 14 columns):\n",
      " #   Column             Non-Null Count  Dtype  \n",
      "---  ------             --------------  -----  \n",
      " 0   CustomerId         10000 non-null  int64  \n",
      " 1   Surname            10000 non-null  object \n",
      " 2   CreditScore        10000 non-null  int64  \n",
      " 3   Age                10000 non-null  int64  \n",
      " 4   Tenure             10000 non-null  int64  \n",
      " 5   Balance            10000 non-null  float64\n",
      " 6   NumOfProducts      10000 non-null  int64  \n",
      " 7   HasCrCard          10000 non-null  int64  \n",
      " 8   IsActiveMember     10000 non-null  int64  \n",
      " 9   EstimatedSalary    10000 non-null  float64\n",
      " 10  Exited             10000 non-null  int64  \n",
      " 11  Geography_Germany  10000 non-null  bool   \n",
      " 12  Geography_Spain    10000 non-null  bool   \n",
      " 13  Gender_Male        10000 non-null  bool   \n",
      "dtypes: bool(3), float64(2), int64(8), object(1)\n",
      "memory usage: 888.8+ KB\n"
     ]
    }
   ],
   "source": [
    "df_encoded.info()"
   ]
  },
  {
   "cell_type": "code",
   "execution_count": 105,
   "id": "f1a49a53",
   "metadata": {},
   "outputs": [
    {
     "name": "stdout",
     "output_type": "stream",
     "text": [
      "<class 'pandas.core.frame.DataFrame'>\n",
      "RangeIndex: 10000 entries, 0 to 9999\n",
      "Data columns (total 14 columns):\n",
      " #   Column             Non-Null Count  Dtype  \n",
      "---  ------             --------------  -----  \n",
      " 0   CustomerId         10000 non-null  int64  \n",
      " 1   Surname            10000 non-null  object \n",
      " 2   CreditScore        10000 non-null  int64  \n",
      " 3   Age                10000 non-null  int64  \n",
      " 4   Tenure             10000 non-null  int64  \n",
      " 5   Balance            10000 non-null  float64\n",
      " 6   NumOfProducts      10000 non-null  int64  \n",
      " 7   HasCrCard          10000 non-null  int64  \n",
      " 8   IsActiveMember     10000 non-null  int64  \n",
      " 9   EstimatedSalary    10000 non-null  float64\n",
      " 10  Exited             10000 non-null  int64  \n",
      " 11  Geography_Germany  10000 non-null  int64  \n",
      " 12  Geography_Spain    10000 non-null  int64  \n",
      " 13  Gender_Male        10000 non-null  int64  \n",
      "dtypes: float64(2), int64(11), object(1)\n",
      "memory usage: 1.1+ MB\n"
     ]
    }
   ],
   "source": [
    "# Convert boolean columns to integer\n",
    "bool_cols = df_encoded.select_dtypes(include=[\"bool\"]).columns\n",
    "df_encoded[bool_cols] = df_encoded[bool_cols].astype(int)\n",
    "df_encoded.info()"
   ]
  },
  {
   "cell_type": "code",
   "execution_count": 106,
   "id": "8e9efdf3",
   "metadata": {},
   "outputs": [
    {
     "name": "stdout",
     "output_type": "stream",
     "text": [
      "Class distribution for Geography:\n",
      " Geography\n",
      "France     5014\n",
      "Germany    2509\n",
      "Spain      2477\n",
      "Name: count, dtype: int64\n",
      "Class distribution for Gender:\n",
      " Gender\n",
      "Male      5457\n",
      "Female    4543\n",
      "Name: count, dtype: int64\n"
     ]
    }
   ],
   "source": [
    "# Check for class imbalance in categorical columns\n",
    "for col in categorical_columns:\n",
    "    print(f\"Class distribution for {col}:\\n\", dataset[col].value_counts())\n"
   ]
  },
  {
   "cell_type": "code",
   "execution_count": 107,
   "id": "76ab59c7",
   "metadata": {},
   "outputs": [
    {
     "data": {
      "image/png": "[encoded data removed]",
      "text/plain": [
       "<Figure size 800x500 with 1 Axes>"
      ]
     },
     "metadata": {},
     "output_type": "display_data"
    }
   ],
   "source": [
    "# Display class imbalance\n",
    "df_categorical = pd.DataFrame({\n",
    "    \"Category\": dataset[\"Geography\"].value_counts().index,\n",
    "    \"Count\": dataset[\"Geography\"].value_counts().values\n",
    "})\n",
    "\n",
    "plt.figure(figsize=(8, 5))\n",
    "sns.barplot(x=\"Category\", y=\"Count\", data=df_categorical)\n",
    "plt.title(\"Class Imbalance Check - Geography\")\n",
    "plt.xlabel(\"Category\")\n",
    "plt.ylabel(\"Count\")\n",
    "plt.xticks(rotation=45)\n",
    "plt.show()"
   ]
  },
  {
   "cell_type": "code",
   "execution_count": 108,
   "id": "02ff6175",
   "metadata": {},
   "outputs": [
    {
     "data": {
      "image/png": "[encoded data removed]",
      "text/plain": [
       "<Figure size 800x500 with 1 Axes>"
      ]
     },
     "metadata": {},
     "output_type": "display_data"
    }
   ],
   "source": [
    "# Display class imbalance in Gender\n",
    "df_gender = pd.DataFrame({\n",
    "    \"Gender\": dataset[\"Gender\"].value_counts().index,\n",
    "    \"Count\": dataset[\"Gender\"].value_counts().values\n",
    "})\n",
    "\n",
    "plt.figure(figsize=(8, 5))\n",
    "sns.barplot(x=\"Gender\", y=\"Count\", data=df_gender)\n",
    "plt.title(\"Class Imbalance Check - Gender\")\n",
    "plt.xlabel(\"Gender\")\n",
    "plt.ylabel(\"Count\")\n",
    "plt.show()\n"
   ]
  },
  {
   "cell_type": "code",
   "execution_count": 109,
   "id": "0972fb3d",
   "metadata": {},
   "outputs": [
    {
     "data": {
      "text/plain": [
       "<Axes: xlabel='Age', ylabel='Count'>"
      ]
     },
     "execution_count": 109,
     "metadata": {},
     "output_type": "execute_result"
    },
    {
     "data": {
      "image/png": "[encoded data removed]",
      "text/plain": [
       "<Figure size 640x480 with 1 Axes>"
      ]
     },
     "metadata": {},
     "output_type": "display_data"
    }
   ],
   "source": [
    "\n",
    "# KDE plot of Age\n",
    "sns.histplot(dataset[\"Age\"], kde = True)"
   ]
  },
  {
   "cell_type": "code",
   "execution_count": 110,
   "id": "84dc2119",
   "metadata": {},
   "outputs": [
    {
     "data": {
      "text/plain": [
       "<Axes: xlabel='Tenure', ylabel='Count'>"
      ]
     },
     "execution_count": 110,
     "metadata": {},
     "output_type": "execute_result"
    },
    {
     "data": {
      "image/png": "[encoded data removed]",
      "text/plain": [
       "<Figure size 640x480 with 1 Axes>"
      ]
     },
     "metadata": {},
     "output_type": "display_data"
    }
   ],
   "source": [
    "# KDE plot of Tenure - The number of years the customer has been with the bank\n",
    "sns.histplot(dataset[\"Tenure\"], kde = True)"
   ]
  },
  {
   "cell_type": "markdown",
   "id": "a9373cf9",
   "metadata": {},
   "source": [
    "- The dataset is not evenly distributed across geographical regions, with France dominating.\n",
    "- Gender is relatively balanced, though there is a slight male dominance."
   ]
  },
  {
   "cell_type": "markdown",
   "id": "5c39bb8e",
   "metadata": {},
   "source": [
    "### Conclusions:\n",
    " - Data usability assessment: The dataset is usable as it was specifically generated for data science labs.\n",
    " - Identify required modifications or corrections: No modifications are needed since it is synthetic data.\n",
    " - Detect class imbalances: The dataset has an uneven distribution in Geography, with France being the majority. Gender distribution is relatively balanced but slightly male-dominant. These factors should be considered in model development."
   ]
  },
  {
   "cell_type": "markdown",
   "id": "a3f1934f-7ef3-4cbb-84bd-b27d93ba95d2",
   "metadata": {},
   "source": [
    "# 4. Storytelling With Data graph"
   ]
  },
  {
   "cell_type": "markdown",
   "id": "91ba396b-fc00-48ec-acc6-e026348536f6",
   "metadata": {},
   "source": [
    "Reproduce any graph of your choice in p. 52-68 of the Storytelling With Data book as best you can.  (The second half of chapter two).  You do not have to get the exact data values right, just the overall look and feel."
   ]
  },
  {
   "cell_type": "markdown",
   "id": "f32d0d32",
   "metadata": {},
   "source": [
    "#### FIGURE 2.7 Modified scatterplot (page 45)"
   ]
  },
  {
   "cell_type": "code",
   "execution_count": 3,
   "id": "5a7e4b4b-977a-4b0e-bec2-1f34a514da44",
   "metadata": {},
   "outputs": [],
   "source": [
    "# Generate synthetic data\n",
    "# Adjust data distribution to better match a U-shaped (parabolic) curve\n",
    "np.random.seed(42)\n",
    "\n",
    "# Generate miles driven values\n",
    "x = np.linspace(500, 4000, 50)\n",
    "\n",
    "# Create a U-shaped distribution for cost per mile (parabolic)\n",
    "y_base = 1.0 + ((x - 2000) ** 2) / 3e6  # Parabolic shape with a minimum around 2000 miles\n",
    "\n",
    "# Add some random noise\n",
    "cost_per_mile = y_base + np.random.uniform(-0.2, 0.2, len(x))\n",
    "\n",
    "# Determine colors based on threshold\n",
    "colors = ['orange' if c > 1.5 else 'gray' for c in cost_per_mile]\n",
    "\n",
    "avg_cost = cost_per_mile.mean()\n"
   ]
  },
  {
   "cell_type": "code",
   "execution_count": 4,
   "id": "3ae26976",
   "metadata": {},
   "outputs": [
    {
     "data": {
      "image/png": "[encoded data removed]",
      "text/plain": [
       "<Figure size 600x400 with 1 Axes>"
      ]
     },
     "metadata": {},
     "output_type": "display_data"
    }
   ],
   "source": [
    "# Plot\n",
    "plt.figure(figsize=(6, 4))\n",
    "plt.scatter(x, cost_per_mile, c=colors, edgecolors='black')\n",
    "\n",
    "# Add the average cost per mile line\n",
    "plt.axhline(avg_cost, color='black', linestyle='dashed')\n",
    "\n",
    "# Add the \"AVG\" point as a dark gray dot\n",
    "plt.scatter([2000], [avg_cost], color='dimgray', s=80, edgecolors='black', zorder=3)\n",
    "plt.text(2050, avg_cost + 0.05, \"AVG\", fontsize=10, fontweight='bold', color='dimgray')\n",
    "\n",
    "# Labels with dark gray color\n",
    "plt.xlabel(\"Miles driven per month\", color='dimgray', loc='left')\n",
    "plt.ylabel(\"Cost per mile ($)\", color='dimgray', loc='top')\n",
    "plt.title(\"Cost per mile by miles driven\", color='dimgray', loc='left')\n",
    "\n",
    "# Formatting\n",
    "plt.xticks([0, 1000, 2000, 3000, 4000], labels=['0', '1,000', '2,000', '3,000', '4,000'], color='dimgray')\n",
    "plt.yticks([0, 0.5, 1.0, 1.5, 2.0, 2.5, 3.0], labels=[\"$0.00\", \"$0.50\", \"$1.00\", \"$1.50\", \"$2.00\", \"$2.50\", \"$3.00\"], color='dimgray')\n",
    "plt.xlim(0, 4000)\n",
    "plt.ylim(0, 3)\n",
    "\n",
    "# Show plot\n",
    "plt.show()\n"
   ]
  }
 ],
 "metadata": {
  "kernelspec": {
   "display_name": ".venv",
   "language": "python",
   "name": "python3"
  },
  "language_info": {
   "codemirror_mode": {
    "name": "ipython",
    "version": 3
   },
   "file_extension": ".py",
   "mimetype": "text/x-python",
   "name": "python",
   "nbconvert_exporter": "python",
   "pygments_lexer": "ipython3",
   "version": "3.9.13"
  }
 },
 "nbformat": 4,
 "nbformat_minor": 5
}
