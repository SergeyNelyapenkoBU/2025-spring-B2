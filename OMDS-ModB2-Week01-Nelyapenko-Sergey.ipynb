{
 "cells": [
  {
   "cell_type": "code",
   "execution_count": null,
   "id": "e0392320-e3f8-4e08-a7f2-373d91054cae",
   "metadata": {
    "jupyter": {
     "source_hidden": true
    }
   },
   "outputs": [],
   "source": []
  },
  {
   "cell_type": "markdown",
   "id": "48a74b5e-5180-4544-86a0-b047a877eb8e",
   "metadata": {},
   "source": [
    "# Week 1 - Preprocessing\n",
    "\n",
    "## Please run the cells of the notebook as you get to them while reading"
   ]
  },
  {
   "cell_type": "code",
   "execution_count": 1,
   "id": "5c24f12c-b364-40f0-b295-7c1ba88be680",
   "metadata": {},
   "outputs": [],
   "source": [
    "import pandas as pd\n",
    "import numpy as np\n",
    "from datetime import datetime, timedelta"
   ]
  },
  {
   "cell_type": "markdown",
   "id": "23c513ee-9d2b-408f-bbcd-33fa70a299e8",
   "metadata": {},
   "source": [
    "# 1. Lesson on how to search for Python commands\n",
    "\n",
    "Let's consider a few possible ways to learn about Python programming.  Let's suppose you want to learn how to produce a short summary of the information in your DataFrame.\n",
    "\n",
    "1. Your **instructor** could provide the information.\n",
    "\n",
    "You could be provided with a lesson about functions like info() and describe().  If you have a pandas DataFrame called df, then you can summarize its contents using df.info() or df.describe().  df.info() provides a list of column names with their counts and data types.  df.describe() will provide information such as the mean, min, max, standard deviation, and quantiles.  Thus:"
   ]
  },
  {
   "cell_type": "code",
   "execution_count": 2,
   "id": "33d97ef1-f92d-45a1-89e6-efea4d42ba75",
   "metadata": {},
   "outputs": [
    {
     "data": {
      "application/vnd.microsoft.datawrangler.viewer.v0+json": {
       "columns": [
        {
         "name": "index",
         "rawType": "object",
         "type": "string"
        },
        {
         "name": "A",
         "rawType": "float64",
         "type": "float"
        },
        {
         "name": "B",
         "rawType": "float64",
         "type": "float"
        }
       ],
       "conversionMethod": "pd.DataFrame",
       "ref": "02d8e9e2-54ca-4bbb-b5a7-3520dee9f818",
       "rows": [
        [
         "count",
         "4.0",
         "4.0"
        ],
        [
         "mean",
         "2.5",
         "5.5"
        ],
        [
         "std",
         "1.2909944487358056",
         "1.2909944487358056"
        ],
        [
         "min",
         "1.0",
         "4.0"
        ],
        [
         "25%",
         "1.75",
         "4.75"
        ],
        [
         "50%",
         "2.5",
         "5.5"
        ],
        [
         "75%",
         "3.25",
         "6.25"
        ],
        [
         "max",
         "4.0",
         "7.0"
        ]
       ],
       "shape": {
        "columns": 2,
        "rows": 8
       }
      },
      "text/html": [
       "<div>\n",
       "<style scoped>\n",
       "    .dataframe tbody tr th:only-of-type {\n",
       "        vertical-align: middle;\n",
       "    }\n",
       "\n",
       "    .dataframe tbody tr th {\n",
       "        vertical-align: top;\n",
       "    }\n",
       "\n",
       "    .dataframe thead th {\n",
       "        text-align: right;\n",
       "    }\n",
       "</style>\n",
       "<table border=\"1\" class=\"dataframe\">\n",
       "  <thead>\n",
       "    <tr style=\"text-align: right;\">\n",
       "      <th></th>\n",
       "      <th>A</th>\n",
       "      <th>B</th>\n",
       "    </tr>\n",
       "  </thead>\n",
       "  <tbody>\n",
       "    <tr>\n",
       "      <th>count</th>\n",
       "      <td>4.000000</td>\n",
       "      <td>4.000000</td>\n",
       "    </tr>\n",
       "    <tr>\n",
       "      <th>mean</th>\n",
       "      <td>2.500000</td>\n",
       "      <td>5.500000</td>\n",
       "    </tr>\n",
       "    <tr>\n",
       "      <th>std</th>\n",
       "      <td>1.290994</td>\n",
       "      <td>1.290994</td>\n",
       "    </tr>\n",
       "    <tr>\n",
       "      <th>min</th>\n",
       "      <td>1.000000</td>\n",
       "      <td>4.000000</td>\n",
       "    </tr>\n",
       "    <tr>\n",
       "      <th>25%</th>\n",
       "      <td>1.750000</td>\n",
       "      <td>4.750000</td>\n",
       "    </tr>\n",
       "    <tr>\n",
       "      <th>50%</th>\n",
       "      <td>2.500000</td>\n",
       "      <td>5.500000</td>\n",
       "    </tr>\n",
       "    <tr>\n",
       "      <th>75%</th>\n",
       "      <td>3.250000</td>\n",
       "      <td>6.250000</td>\n",
       "    </tr>\n",
       "    <tr>\n",
       "      <th>max</th>\n",
       "      <td>4.000000</td>\n",
       "      <td>7.000000</td>\n",
       "    </tr>\n",
       "  </tbody>\n",
       "</table>\n",
       "</div>"
      ],
      "text/plain": [
       "              A         B\n",
       "count  4.000000  4.000000\n",
       "mean   2.500000  5.500000\n",
       "std    1.290994  1.290994\n",
       "min    1.000000  4.000000\n",
       "25%    1.750000  4.750000\n",
       "50%    2.500000  5.500000\n",
       "75%    3.250000  6.250000\n",
       "max    4.000000  7.000000"
      ]
     },
     "execution_count": 2,
     "metadata": {},
     "output_type": "execute_result"
    }
   ],
   "source": [
    "df = pd.DataFrame([[1, 4], [2, 5], [3, 6], [4, 7]], columns = ['A', 'B'])\n",
    "df.describe()"
   ]
  },
  {
   "cell_type": "markdown",
   "id": "6541ee48-fb69-40d5-8b39-8f1b02918a9e",
   "metadata": {},
   "source": [
    "In this describe() result, we see that the two columns A and B each have four elements.  The means and other statistics are shown.\n",
    "\n",
    "2. You could look up the information on **Google**.\n",
    "\n",
    "If I Google the question \"how do I briefly summarize the contents of a dataframe using Python,\" I receive the following link (among others), which discusses the describe() command mentioned above:\n",
    "\n",
    "https://www.w3schools.com/python/pandas/ref_df_describe.asp\n",
    "\n",
    "It also provide the complete usage information:\n",
    "\n",
    "dataframe.describe(percentiles, include, exclude, datetime_is_numeric)\n",
    "\n",
    "It explains that \"percentiles\" is set by default to [0.25, 0.5, 0.75] but we could change that.  Let's try it!  Since there are three intervals here rather than four, it might be more meaningful to ask about a 33rd and 67th percentile rather than 25, 50, and 75.  We can use 1/3 for 0.33 and 2/3 for 0.67 to get the exact percentile values."
   ]
  },
  {
   "cell_type": "code",
   "execution_count": 3,
   "id": "3aea76dd-f492-4bbe-9431-8e1a41cf0db9",
   "metadata": {},
   "outputs": [
    {
     "data": {
      "application/vnd.microsoft.datawrangler.viewer.v0+json": {
       "columns": [
        {
         "name": "index",
         "rawType": "object",
         "type": "string"
        },
        {
         "name": "A",
         "rawType": "float64",
         "type": "float"
        },
        {
         "name": "B",
         "rawType": "float64",
         "type": "float"
        }
       ],
       "conversionMethod": "pd.DataFrame",
       "ref": "3b5050cd-671f-457c-b4bb-cab261509d43",
       "rows": [
        [
         "count",
         "4.0",
         "4.0"
        ],
        [
         "mean",
         "2.5",
         "5.5"
        ],
        [
         "std",
         "1.2909944487358056",
         "1.2909944487358056"
        ],
        [
         "min",
         "1.0",
         "4.0"
        ],
        [
         "33.3%",
         "1.9999999999999998",
         "5.0"
        ],
        [
         "50%",
         "2.5",
         "5.5"
        ],
        [
         "66.7%",
         "2.9999999999999996",
         "6.0"
        ],
        [
         "max",
         "4.0",
         "7.0"
        ]
       ],
       "shape": {
        "columns": 2,
        "rows": 8
       }
      },
      "text/html": [
       "<div>\n",
       "<style scoped>\n",
       "    .dataframe tbody tr th:only-of-type {\n",
       "        vertical-align: middle;\n",
       "    }\n",
       "\n",
       "    .dataframe tbody tr th {\n",
       "        vertical-align: top;\n",
       "    }\n",
       "\n",
       "    .dataframe thead th {\n",
       "        text-align: right;\n",
       "    }\n",
       "</style>\n",
       "<table border=\"1\" class=\"dataframe\">\n",
       "  <thead>\n",
       "    <tr style=\"text-align: right;\">\n",
       "      <th></th>\n",
       "      <th>A</th>\n",
       "      <th>B</th>\n",
       "    </tr>\n",
       "  </thead>\n",
       "  <tbody>\n",
       "    <tr>\n",
       "      <th>count</th>\n",
       "      <td>4.000000</td>\n",
       "      <td>4.000000</td>\n",
       "    </tr>\n",
       "    <tr>\n",
       "      <th>mean</th>\n",
       "      <td>2.500000</td>\n",
       "      <td>5.500000</td>\n",
       "    </tr>\n",
       "    <tr>\n",
       "      <th>std</th>\n",
       "      <td>1.290994</td>\n",
       "      <td>1.290994</td>\n",
       "    </tr>\n",
       "    <tr>\n",
       "      <th>min</th>\n",
       "      <td>1.000000</td>\n",
       "      <td>4.000000</td>\n",
       "    </tr>\n",
       "    <tr>\n",
       "      <th>33.3%</th>\n",
       "      <td>2.000000</td>\n",
       "      <td>5.000000</td>\n",
       "    </tr>\n",
       "    <tr>\n",
       "      <th>50%</th>\n",
       "      <td>2.500000</td>\n",
       "      <td>5.500000</td>\n",
       "    </tr>\n",
       "    <tr>\n",
       "      <th>66.7%</th>\n",
       "      <td>3.000000</td>\n",
       "      <td>6.000000</td>\n",
       "    </tr>\n",
       "    <tr>\n",
       "      <th>max</th>\n",
       "      <td>4.000000</td>\n",
       "      <td>7.000000</td>\n",
       "    </tr>\n",
       "  </tbody>\n",
       "</table>\n",
       "</div>"
      ],
      "text/plain": [
       "              A         B\n",
       "count  4.000000  4.000000\n",
       "mean   2.500000  5.500000\n",
       "std    1.290994  1.290994\n",
       "min    1.000000  4.000000\n",
       "33.3%  2.000000  5.000000\n",
       "50%    2.500000  5.500000\n",
       "66.7%  3.000000  6.000000\n",
       "max    4.000000  7.000000"
      ]
     },
     "execution_count": 3,
     "metadata": {},
     "output_type": "execute_result"
    }
   ],
   "source": [
    "df = pd.DataFrame([[1, 4], [2, 5], [3, 6], [4, 7]], columns = ['A', 'B'])\n",
    "df.describe(percentiles = [1/3, 2/3])"
   ]
  },
  {
   "cell_type": "markdown",
   "id": "6cd06ce3-edf9-4786-982d-5650fc22ca58",
   "metadata": {},
   "source": [
    "Apparently, the 50% value (the median) stays even though we did not specifically request it.\n",
    "\n",
    "3. You could look up the official **documentation**.\n",
    "\n",
    "Now that we know we want the pandas describe() function, try Googling: pandas documentation describe.\n",
    "\n",
    "Here is the general documentation page for pandas:\n",
    "\n",
    "https://pandas.pydata.org/docs/index.html\n",
    "\n",
    "Here is the specific page for the describe() function:\n",
    "\n",
    "https://pandas.pydata.org/docs/reference/api/pandas.DataFrame.describe.html\n",
    "\n",
    "When I look at this, it appears to be showing the most recent (currently 2.2) version of pandas; this is shown in the upper right corner.\n",
    "\n",
    "4. You could also ask **ChatGPT**.\n",
    "\n",
    "Let's try it.  ChatGPT, \"how do I briefly summarize the contents of a dataframe using Python\"\n",
    "\n",
    "When I do this, ChatGPT mentions describe() among other options, but does not go into detail.  However, I could ask it.  ChatGPT, \"tell me more about describe() in Python for summarizing dataframes.\"\n",
    "\n",
    "Then, I get a good explanation of describe(), although it does not mention the percentiles option.  One advantage of using Google or the documentation in addition of ChatGPT is that these sources may provide interesting information that does not directly answer our question.  Thus, we might not have known about the various arguments, such as percentiles, if we only used ChatGPT.  A second issue is that ChatGPT sometimes hallucinates (it makes up information).  In general, by examining multiple sources - Google, documentation, and ChatGPT - we can get more information."
   ]
  },
  {
   "cell_type": "markdown",
   "id": "1cede07d-03a8-4c36-b5ca-67619bbfd365",
   "metadata": {},
   "source": [
    "# 2. Weekly graph question"
   ]
  },
  {
   "cell_type": "markdown",
   "id": "4a71d462-12df-4b94-b34f-4d43e4d289d7",
   "metadata": {},
   "source": [
    "In Storytelling With Data, on page 1: examine the pie chart graph in the upper left corner of the graphs.  Please write a short explanation of the pros and cons of this graph.  What do you think of the choice of pie chart as a format?  The color scheme?  The legend?  The title?  How would you draw it differently if you were creating this graph?"
   ]
  },
  {
   "cell_type": "markdown",
   "id": "52a54048-d621-47b9-aa65-4b46d9c3bb4c",
   "metadata": {},
   "source": [
    "# 3. Homework - Bank Customers\n",
    "\n",
    "I will begin by creating a file for you to analyze.  I will show you all of the steps I used to create it.  Please run this code in order to create and save a file about bank customers.\n",
    "\n",
    "### The numbered problems are for you to solve."
   ]
  },
  {
   "cell_type": "code",
   "execution_count": 4,
   "id": "2950b5f1-9ab8-452f-b9d7-31ce82bbf698",
   "metadata": {},
   "outputs": [],
   "source": [
    "num_customers = 100\n",
    "np.random.seed(0)"
   ]
  },
  {
   "cell_type": "code",
   "execution_count": 5,
   "id": "95561d16-3aac-4537-841a-835272775080",
   "metadata": {},
   "outputs": [],
   "source": [
    "df_bank = pd.DataFrame(columns = [\"CustomerID\"])"
   ]
  },
  {
   "cell_type": "code",
   "execution_count": 6,
   "id": "3e84ff91-47c6-4788-b56b-1d63a2b06a33",
   "metadata": {},
   "outputs": [],
   "source": [
    "df_bank[\"CustomerID\"] = [str(x) for x in np.arange(num_customers)]"
   ]
  },
  {
   "cell_type": "code",
   "execution_count": 7,
   "id": "5983f3fb-8341-4bb0-92be-850dd712c853",
   "metadata": {},
   "outputs": [],
   "source": [
    "start = datetime(1950, 1, 1)\n",
    "end = datetime(2024, 1, 1)\n",
    "numdays = (end - start).days\n",
    "random_days = np.random.randint(0, numdays, size = num_customers)\n",
    "df_bank[\"BirthDate\"] = start + pd.to_timedelta(random_days, unit='D')\n",
    "df_bank[\"BirthDate\"] = df_bank[\"BirthDate\"].dt.strftime('%Y-%m-%d')"
   ]
  },
  {
   "cell_type": "code",
   "execution_count": 8,
   "id": "64adeb78-6b2c-46df-a4f0-8aee5fa75f83",
   "metadata": {},
   "outputs": [],
   "source": [
    "def make_ssn_string(num):\n",
    "    ssn_str = f'{num:09}'\n",
    "    return ssn_str[0:3] + \"-\" + ssn_str[3:5] + \"-\" + ssn_str[5:9]\n",
    "ssn_vector_func = np.vectorize(make_ssn_string)\n",
    "df_bank[\"SSN\"] = ssn_vector_func(np.random.randint(0, 999999999, size = num_customers))"
   ]
  },
  {
   "cell_type": "code",
   "execution_count": 9,
   "id": "0a8e00bb-2f97-4e11-a95f-138baf44206e",
   "metadata": {},
   "outputs": [],
   "source": [
    "df_bank[\"AccountID\"] = np.random.randint(0, num_customers, size = num_customers)"
   ]
  },
  {
   "cell_type": "code",
   "execution_count": 10,
   "id": "bc41db6c-9e4a-4efc-af0d-9f921bb77ec7",
   "metadata": {},
   "outputs": [],
   "source": [
    "random_days = np.random.randint(0, 365 * 80, size = num_customers)\n",
    "df_bank[\"AccountOpened\"] = (pd.to_datetime(df_bank[\"BirthDate\"]) + pd.to_timedelta(random_days, unit='D')).dt.strftime('%Y-%m-%d')"
   ]
  },
  {
   "cell_type": "code",
   "execution_count": 11,
   "id": "cd2ddf02-7ef2-485a-8d1a-1049b30630dd",
   "metadata": {},
   "outputs": [],
   "source": [
    "df_bank.loc[0, \"BirthDate\"] = \"1980\"\n",
    "df_bank.loc[1, \"BirthDate\"] = \"no date\""
   ]
  },
  {
   "cell_type": "code",
   "execution_count": 12,
   "id": "e5e52d8f-10b5-433f-bcfa-9d50232041e0",
   "metadata": {},
   "outputs": [],
   "source": [
    "df_bank.loc[2, \"AccountID\"] = np.nan"
   ]
  },
  {
   "cell_type": "code",
   "execution_count": 13,
   "id": "bdb0d5e7-1bcb-48f0-ab70-c7c3d4b8bfce",
   "metadata": {},
   "outputs": [],
   "source": [
    "df_bank[\"AccountType\"] = np.random.choice([\"checking\", \"savings\", \"cd\"], size = num_customers)"
   ]
  },
  {
   "cell_type": "markdown",
   "id": "314a2bef-d599-4599-b555-7a01c2cd3fb3",
   "metadata": {},
   "source": [
    "Load the bank_customers.csv file.  (There is no practical reason to save it, then load it - we're just demonstrating how this would be done.)\n",
    "I am calling the loaded df by a new name, df_bank_loaded, to make clear why it's not the same variable as the old df.  Of course, in actuality the two contain the exact same data!  But it's good to get in the habit of naming things carefully."
   ]
  },
  {
   "cell_type": "code",
   "execution_count": 14,
   "id": "15dea7e7-619d-4d3f-aa72-712f3da7d384",
   "metadata": {},
   "outputs": [],
   "source": [
    "df_bank.loc[num_customers - 1] = df.loc[0]\n",
    "df_bank.to_csv(\"bank_customers.csv\", index=False)"
   ]
  },
  {
   "cell_type": "code",
   "execution_count": 15,
   "id": "faf79336-ba67-446e-8220-e77534c4c949",
   "metadata": {},
   "outputs": [],
   "source": [
    "df_bank_loaded = pd.read_csv(\"bank_customers.csv\")"
   ]
  },
  {
   "cell_type": "markdown",
   "id": "380145bb-e051-418d-b3d2-ad032cab375b",
   "metadata": {},
   "source": [
    "1. Use describe() and info() to analyze the data.   Also, look at the first few rows."
   ]
  },
  {
   "cell_type": "markdown",
   "id": "8897936c-9af9-4344-bdb7-6290d8b34bce",
   "metadata": {},
   "source": [
    "Suggested Google Search or ChatGPT prompt: \"how do I use the describe function in python\"\n",
    "\n",
    "Example Google result: https://www.w3schools.com/python/pandas/ref_df_describe.asp"
   ]
  },
  {
   "cell_type": "code",
   "execution_count": 16,
   "id": "5fb74ed3-871e-41b6-99f5-da7eb3a37712",
   "metadata": {},
   "outputs": [
    {
     "data": {
      "application/vnd.microsoft.datawrangler.viewer.v0+json": {
       "columns": [
        {
         "name": "index",
         "rawType": "int64",
         "type": "integer"
        },
        {
         "name": "CustomerID",
         "rawType": "float64",
         "type": "float"
        },
        {
         "name": "BirthDate",
         "rawType": "object",
         "type": "string"
        },
        {
         "name": "SSN",
         "rawType": "object",
         "type": "string"
        },
        {
         "name": "AccountID",
         "rawType": "float64",
         "type": "float"
        },
        {
         "name": "AccountOpened",
         "rawType": "object",
         "type": "string"
        },
        {
         "name": "AccountType",
         "rawType": "object",
         "type": "string"
        }
       ],
       "conversionMethod": "pd.DataFrame",
       "ref": "cf5d759e-97d7-4fb6-9b4e-d5633c8d325c",
       "rows": [
        [
         "0",
         "0.0",
         "1980",
         "530-47-1866",
         "4.0",
         "1959-12-06",
         "checking"
        ],
        [
         "1",
         "1.0",
         "no date",
         "682-76-9175",
         "67.0",
         "2039-02-20",
         "cd"
        ],
        [
         "2",
         "2.0",
         "1976-12-15",
         "377-98-9839",
         null,
         "2019-03-25",
         "checking"
        ],
        [
         "3",
         "3.0",
         "2003-10-18",
         "474-05-7613",
         "86.0",
         "2004-03-02",
         "cd"
        ],
        [
         "4",
         "4.0",
         "1985-12-06",
         "750-55-5509",
         "77.0",
         "2059-05-05",
         "cd"
        ]
       ],
       "shape": {
        "columns": 6,
        "rows": 5
       }
      },
      "text/html": [
       "<div>\n",
       "<style scoped>\n",
       "    .dataframe tbody tr th:only-of-type {\n",
       "        vertical-align: middle;\n",
       "    }\n",
       "\n",
       "    .dataframe tbody tr th {\n",
       "        vertical-align: top;\n",
       "    }\n",
       "\n",
       "    .dataframe thead th {\n",
       "        text-align: right;\n",
       "    }\n",
       "</style>\n",
       "<table border=\"1\" class=\"dataframe\">\n",
       "  <thead>\n",
       "    <tr style=\"text-align: right;\">\n",
       "      <th></th>\n",
       "      <th>CustomerID</th>\n",
       "      <th>BirthDate</th>\n",
       "      <th>SSN</th>\n",
       "      <th>AccountID</th>\n",
       "      <th>AccountOpened</th>\n",
       "      <th>AccountType</th>\n",
       "    </tr>\n",
       "  </thead>\n",
       "  <tbody>\n",
       "    <tr>\n",
       "      <th>0</th>\n",
       "      <td>0.0</td>\n",
       "      <td>1980</td>\n",
       "      <td>530-47-1866</td>\n",
       "      <td>4.0</td>\n",
       "      <td>1959-12-06</td>\n",
       "      <td>checking</td>\n",
       "    </tr>\n",
       "    <tr>\n",
       "      <th>1</th>\n",
       "      <td>1.0</td>\n",
       "      <td>no date</td>\n",
       "      <td>682-76-9175</td>\n",
       "      <td>67.0</td>\n",
       "      <td>2039-02-20</td>\n",
       "      <td>cd</td>\n",
       "    </tr>\n",
       "    <tr>\n",
       "      <th>2</th>\n",
       "      <td>2.0</td>\n",
       "      <td>1976-12-15</td>\n",
       "      <td>377-98-9839</td>\n",
       "      <td>NaN</td>\n",
       "      <td>2019-03-25</td>\n",
       "      <td>checking</td>\n",
       "    </tr>\n",
       "    <tr>\n",
       "      <th>3</th>\n",
       "      <td>3.0</td>\n",
       "      <td>2003-10-18</td>\n",
       "      <td>474-05-7613</td>\n",
       "      <td>86.0</td>\n",
       "      <td>2004-03-02</td>\n",
       "      <td>cd</td>\n",
       "    </tr>\n",
       "    <tr>\n",
       "      <th>4</th>\n",
       "      <td>4.0</td>\n",
       "      <td>1985-12-06</td>\n",
       "      <td>750-55-5509</td>\n",
       "      <td>77.0</td>\n",
       "      <td>2059-05-05</td>\n",
       "      <td>cd</td>\n",
       "    </tr>\n",
       "  </tbody>\n",
       "</table>\n",
       "</div>"
      ],
      "text/plain": [
       "   CustomerID   BirthDate          SSN  AccountID AccountOpened AccountType\n",
       "0         0.0        1980  530-47-1866        4.0    1959-12-06    checking\n",
       "1         1.0     no date  682-76-9175       67.0    2039-02-20          cd\n",
       "2         2.0  1976-12-15  377-98-9839        NaN    2019-03-25    checking\n",
       "3         3.0  2003-10-18  474-05-7613       86.0    2004-03-02          cd\n",
       "4         4.0  1985-12-06  750-55-5509       77.0    2059-05-05          cd"
      ]
     },
     "execution_count": 16,
     "metadata": {},
     "output_type": "execute_result"
    }
   ],
   "source": [
    "# The first few rows\n",
    "df_bank_loaded.iloc[0:5]"
   ]
  },
  {
   "cell_type": "markdown",
   "id": "e6062d1d-bf7f-4e81-8d19-60bd160c02d5",
   "metadata": {},
   "source": [
    "If you used describe() and info(), you now know that BirthDate and AccountOpened are strings.  But we want them to be dates.  Let's convert them to dates (or Timestamps in pandas).  When we try this, we get a ValueError."
   ]
  },
  {
   "cell_type": "code",
   "execution_count": 17,
   "id": "89e37c09-aee4-49f5-abc5-1e6ec9837b53",
   "metadata": {},
   "outputs": [
    {
     "name": "stdout",
     "output_type": "stream",
     "text": [
      "ValueError for BirthDate: time data \"1980\" doesn't match format \"%Y-%m-%d\", at position 0. You might want to try:\n",
      "    - passing `format` if your strings have a consistent format;\n",
      "    - passing `format='ISO8601'` if your strings are all ISO8601 but not necessarily in exactly the same format;\n",
      "    - passing `format='mixed'`, and the format will be inferred for each element individually. You might want to use `dayfirst` alongside this.\n"
     ]
    }
   ],
   "source": [
    "try:\n",
    "    df_bank_loaded[\"BirthDate\"] = pd.to_datetime(df_bank_loaded[\"BirthDate\"], format='%Y-%m-%d')\n",
    "    print(\"It worked!\")\n",
    "except ValueError as e:\n",
    "    print(f\"ValueError for BirthDate: {e}\")"
   ]
  },
  {
   "cell_type": "code",
   "execution_count": 18,
   "id": "dbcb584b-134b-475b-8fd4-70ca1ba7d03b",
   "metadata": {},
   "outputs": [
    {
     "name": "stdout",
     "output_type": "stream",
     "text": [
      "It worked!\n"
     ]
    }
   ],
   "source": [
    "try:\n",
    "    df_bank_loaded[\"AccountOpened\"] = pd.to_datetime(df_bank_loaded[\"AccountOpened\"], format='%Y-%m-%d')\n",
    "    print(\"It worked!\")\n",
    "except ValueError as e:\n",
    "    print(f\"ValueError for AccountOpened: {e}\")"
   ]
  },
  {
   "cell_type": "markdown",
   "id": "d64b1ccf-1001-40ab-b026-beae68b7fd19",
   "metadata": {},
   "source": [
    "The simple way to fix this is to remove the rows that have bad dates for BirthDate.  I Googled:\n",
    "\n",
    "\"How to remove rows from a dataframe that have poorly formatted dates using python\"\n",
    "\n",
    "https://stackoverflow.com/questions/21556744/pandas-remove-rows-whose-date-does-not-follow-specified-format\n",
    "\n",
    "This recommends that I verify that the date is a string of length 10, because YYYY-MM-DD has that length:\n",
    "\n",
    "df1\\[df1.BirthDate.str.len() !=10]"
   ]
  },
  {
   "cell_type": "code",
   "execution_count": 19,
   "id": "70ec53a1-2de5-48b5-9942-6857495e2b05",
   "metadata": {},
   "outputs": [
    {
     "data": {
      "text/plain": [
       "97"
      ]
     },
     "execution_count": 19,
     "metadata": {},
     "output_type": "execute_result"
    }
   ],
   "source": [
    "len(df_bank_loaded[df_bank_loaded.BirthDate.str.len() == 10])"
   ]
  },
  {
   "cell_type": "code",
   "execution_count": 20,
   "id": "a4edac07-185c-45ad-ba95-cca56bca0c7e",
   "metadata": {},
   "outputs": [
    {
     "data": {
      "application/vnd.microsoft.datawrangler.viewer.v0+json": {
       "columns": [
        {
         "name": "index",
         "rawType": "int64",
         "type": "integer"
        },
        {
         "name": "CustomerID",
         "rawType": "float64",
         "type": "float"
        },
        {
         "name": "BirthDate",
         "rawType": "object",
         "type": "unknown"
        },
        {
         "name": "SSN",
         "rawType": "object",
         "type": "unknown"
        },
        {
         "name": "AccountID",
         "rawType": "float64",
         "type": "float"
        },
        {
         "name": "AccountOpened",
         "rawType": "datetime64[ns]",
         "type": "datetime"
        },
        {
         "name": "AccountType",
         "rawType": "object",
         "type": "unknown"
        }
       ],
       "conversionMethod": "pd.DataFrame",
       "ref": "37d4cf00-d4bd-4726-8822-7743bd903816",
       "rows": [
        [
         "0",
         "0.0",
         "1980",
         "530-47-1866",
         "4.0",
         "1959-12-06 00:00:00",
         "checking"
        ],
        [
         "1",
         "1.0",
         "no date",
         "682-76-9175",
         "67.0",
         "2039-02-20 00:00:00",
         "cd"
        ],
        [
         "99",
         null,
         null,
         null,
         null,
         null,
         null
        ]
       ],
       "shape": {
        "columns": 6,
        "rows": 3
       }
      },
      "text/html": [
       "<div>\n",
       "<style scoped>\n",
       "    .dataframe tbody tr th:only-of-type {\n",
       "        vertical-align: middle;\n",
       "    }\n",
       "\n",
       "    .dataframe tbody tr th {\n",
       "        vertical-align: top;\n",
       "    }\n",
       "\n",
       "    .dataframe thead th {\n",
       "        text-align: right;\n",
       "    }\n",
       "</style>\n",
       "<table border=\"1\" class=\"dataframe\">\n",
       "  <thead>\n",
       "    <tr style=\"text-align: right;\">\n",
       "      <th></th>\n",
       "      <th>CustomerID</th>\n",
       "      <th>BirthDate</th>\n",
       "      <th>SSN</th>\n",
       "      <th>AccountID</th>\n",
       "      <th>AccountOpened</th>\n",
       "      <th>AccountType</th>\n",
       "    </tr>\n",
       "  </thead>\n",
       "  <tbody>\n",
       "    <tr>\n",
       "      <th>0</th>\n",
       "      <td>0.0</td>\n",
       "      <td>1980</td>\n",
       "      <td>530-47-1866</td>\n",
       "      <td>4.0</td>\n",
       "      <td>1959-12-06</td>\n",
       "      <td>checking</td>\n",
       "    </tr>\n",
       "    <tr>\n",
       "      <th>1</th>\n",
       "      <td>1.0</td>\n",
       "      <td>no date</td>\n",
       "      <td>682-76-9175</td>\n",
       "      <td>67.0</td>\n",
       "      <td>2039-02-20</td>\n",
       "      <td>cd</td>\n",
       "    </tr>\n",
       "    <tr>\n",
       "      <th>99</th>\n",
       "      <td>NaN</td>\n",
       "      <td>NaN</td>\n",
       "      <td>NaN</td>\n",
       "      <td>NaN</td>\n",
       "      <td>NaT</td>\n",
       "      <td>NaN</td>\n",
       "    </tr>\n",
       "  </tbody>\n",
       "</table>\n",
       "</div>"
      ],
      "text/plain": [
       "    CustomerID BirthDate          SSN  AccountID AccountOpened AccountType\n",
       "0          0.0      1980  530-47-1866        4.0    1959-12-06    checking\n",
       "1          1.0   no date  682-76-9175       67.0    2039-02-20          cd\n",
       "99         NaN       NaN          NaN        NaN           NaT         NaN"
      ]
     },
     "execution_count": 20,
     "metadata": {},
     "output_type": "execute_result"
    }
   ],
   "source": [
    "df_bank_loaded[df_bank_loaded.BirthDate.str.len() != 10].iloc[0:5]"
   ]
  },
  {
   "cell_type": "markdown",
   "id": "2503d01f-0168-43f9-a271-6f529e47886f",
   "metadata": {},
   "source": [
    "Now we can make this permanent, creating a new DataFrame df_bank_datefix.\n",
    "I am making a copy in order to ensure that df_bank_datefix is a new DataFrame rather than being a slice of the old one."
   ]
  },
  {
   "cell_type": "code",
   "execution_count": 21,
   "id": "d1bed857-0d03-4091-9838-fd75227c63e3",
   "metadata": {},
   "outputs": [
    {
     "data": {
      "application/vnd.microsoft.datawrangler.viewer.v0+json": {
       "columns": [
        {
         "name": "index",
         "rawType": "int64",
         "type": "integer"
        },
        {
         "name": "CustomerID",
         "rawType": "float64",
         "type": "float"
        },
        {
         "name": "BirthDate",
         "rawType": "object",
         "type": "string"
        },
        {
         "name": "SSN",
         "rawType": "object",
         "type": "string"
        },
        {
         "name": "AccountID",
         "rawType": "float64",
         "type": "float"
        },
        {
         "name": "AccountOpened",
         "rawType": "datetime64[ns]",
         "type": "datetime"
        },
        {
         "name": "AccountType",
         "rawType": "object",
         "type": "string"
        }
       ],
       "conversionMethod": "pd.DataFrame",
       "ref": "e110f1d9-ef3a-49e1-aa18-989d738e4d19",
       "rows": [
        [
         "2",
         "2.0",
         "1976-12-15",
         "377-98-9839",
         null,
         "2019-03-25 00:00:00",
         "checking"
        ],
        [
         "3",
         "3.0",
         "2003-10-18",
         "474-05-7613",
         "86.0",
         "2004-03-02 00:00:00",
         "cd"
        ],
        [
         "4",
         "4.0",
         "1985-12-06",
         "750-55-5509",
         "77.0",
         "2059-05-05 00:00:00",
         "cd"
        ],
        [
         "5",
         "5.0",
         "2008-02-29",
         "671-43-0485",
         "75.0",
         "2025-05-03 00:00:00",
         "checking"
        ],
        [
         "6",
         "6.0",
         "1975-04-05",
         "288-62-9296",
         "56.0",
         "2048-09-21 00:00:00",
         "savings"
        ],
        [
         "7",
         "7.0",
         "2016-06-18",
         "593-49-1249",
         "16.0",
         "2087-07-24 00:00:00",
         "savings"
        ],
        [
         "8",
         "8.0",
         "2006-10-31",
         "121-74-2917",
         "24.0",
         "2046-11-17 00:00:00",
         "savings"
        ],
        [
         "9",
         "9.0",
         "2010-12-10",
         "844-31-4793",
         "29.0",
         "2048-06-01 00:00:00",
         "checking"
        ],
        [
         "10",
         "10.0",
         "1988-08-25",
         "857-15-1139",
         "21.0",
         "1998-01-04 00:00:00",
         "checking"
        ],
        [
         "11",
         "11.0",
         "1990-11-22",
         "509-92-0704",
         "25.0",
         "2036-03-17 00:00:00",
         "savings"
        ],
        [
         "12",
         "12.0",
         "1992-03-31",
         "698-04-7583",
         "80.0",
         "2008-09-07 00:00:00",
         "checking"
        ],
        [
         "13",
         "13.0",
         "1993-05-07",
         "304-91-3605",
         "60.0",
         "2001-02-26 00:00:00",
         "checking"
        ],
        [
         "14",
         "14.0",
         "1968-06-19",
         "058-28-9758",
         "61.0",
         "2002-08-04 00:00:00",
         "savings"
        ],
        [
         "15",
         "15.0",
         "2004-05-09",
         "417-04-6784",
         "83.0",
         "2031-01-21 00:00:00",
         "cd"
        ],
        [
         "16",
         "16.0",
         "1990-02-10",
         "527-61-9953",
         "33.0",
         "2047-01-25 00:00:00",
         "cd"
        ],
        [
         "17",
         "17.0",
         "1996-10-15",
         "377-72-0498",
         "32.0",
         "2063-08-28 00:00:00",
         "checking"
        ],
        [
         "18",
         "18.0",
         "2001-12-22",
         "745-86-2436",
         "70.0",
         "2070-08-26 00:00:00",
         "cd"
        ],
        [
         "19",
         "19.0",
         "1978-04-11",
         "412-73-9490",
         "85.0",
         "2019-09-22 00:00:00",
         "savings"
        ],
        [
         "20",
         "20.0",
         "2000-12-10",
         "953-24-6512",
         "31.0",
         "2009-08-31 00:00:00",
         "savings"
        ],
        [
         "21",
         "21.0",
         "2016-02-16",
         "972-63-5997",
         "13.0",
         "2077-03-09 00:00:00",
         "cd"
        ],
        [
         "22",
         "22.0",
         "1957-12-07",
         "550-58-6755",
         "71.0",
         "2016-11-20 00:00:00",
         "savings"
        ],
        [
         "23",
         "23.0",
         "2021-12-11",
         "939-09-9746",
         "56.0",
         "2071-09-01 00:00:00",
         "cd"
        ],
        [
         "24",
         "24.0",
         "1996-04-30",
         "041-33-6362",
         "24.0",
         "2050-05-22 00:00:00",
         "cd"
        ],
        [
         "25",
         "25.0",
         "1967-01-08",
         "973-93-1469",
         "79.0",
         "1989-11-06 00:00:00",
         "savings"
        ],
        [
         "26",
         "26.0",
         "1968-12-13",
         "239-29-2784",
         "41.0",
         "2028-07-28 00:00:00",
         "cd"
        ],
        [
         "27",
         "27.0",
         "1966-07-12",
         "450-30-8071",
         "18.0",
         "2023-03-16 00:00:00",
         "checking"
        ],
        [
         "28",
         "28.0",
         "1955-12-04",
         "863-97-2245",
         "40.0",
         "1996-02-08 00:00:00",
         "checking"
        ],
        [
         "29",
         "29.0",
         "1963-11-21",
         "085-84-6399",
         "54.0",
         "2021-05-09 00:00:00",
         "cd"
        ],
        [
         "30",
         "30.0",
         "1963-04-14",
         "168-31-0272",
         "79.0",
         "1970-04-19 00:00:00",
         "savings"
        ],
        [
         "31",
         "31.0",
         "1971-07-27",
         "823-39-2138",
         "11.0",
         "2033-06-08 00:00:00",
         "savings"
        ],
        [
         "32",
         "32.0",
         "2000-06-17",
         "140-90-4818",
         "38.0",
         "2070-03-26 00:00:00",
         "cd"
        ],
        [
         "33",
         "33.0",
         "1955-02-15",
         "986-06-7499",
         "93.0",
         "1967-11-11 00:00:00",
         "cd"
        ],
        [
         "34",
         "34.0",
         "1970-10-22",
         "516-24-0314",
         "1.0",
         "2006-11-15 00:00:00",
         "savings"
        ],
        [
         "35",
         "35.0",
         "1956-11-01",
         "470-06-0415",
         "95.0",
         "2031-10-28 00:00:00",
         "checking"
        ],
        [
         "36",
         "36.0",
         "1991-07-31",
         "198-17-0647",
         "44.0",
         "2028-11-27 00:00:00",
         "cd"
        ],
        [
         "37",
         "37.0",
         "2017-07-23",
         "991-68-0187",
         "88.0",
         "2094-12-17 00:00:00",
         "checking"
        ],
        [
         "38",
         "38.0",
         "1977-12-05",
         "509-93-1650",
         "24.0",
         "2039-11-09 00:00:00",
         "cd"
        ],
        [
         "39",
         "39.0",
         "1952-01-26",
         "810-29-3625",
         "67.0",
         "1983-11-04 00:00:00",
         "checking"
        ],
        [
         "40",
         "40.0",
         "1952-03-08",
         "291-98-5506",
         "82.0",
         "1953-05-05 00:00:00",
         "cd"
        ],
        [
         "41",
         "41.0",
         "1996-08-30",
         "560-38-9694",
         "3.0",
         "2073-11-13 00:00:00",
         "savings"
        ],
        [
         "42",
         "42.0",
         "1958-10-25",
         "705-50-4163",
         "76.0",
         "2036-04-28 00:00:00",
         "cd"
        ],
        [
         "43",
         "43.0",
         "1991-09-29",
         "722-56-5854",
         "35.0",
         "2068-07-28 00:00:00",
         "savings"
        ],
        [
         "44",
         "44.0",
         "2018-06-12",
         "275-51-1419",
         "86.0",
         "2095-12-10 00:00:00",
         "checking"
        ],
        [
         "45",
         "45.0",
         "2015-04-10",
         "931-24-3971",
         "61.0",
         "2078-11-23 00:00:00",
         "savings"
        ],
        [
         "46",
         "46.0",
         "1994-09-08",
         "826-66-1458",
         "69.0",
         "1997-05-02 00:00:00",
         "savings"
        ],
        [
         "47",
         "47.0",
         "2003-12-30",
         "279-98-4046",
         "87.0",
         "2015-12-17 00:00:00",
         "cd"
        ],
        [
         "48",
         "48.0",
         "2002-05-17",
         "286-05-1043",
         "43.0",
         "2027-02-27 00:00:00",
         "cd"
        ],
        [
         "49",
         "49.0",
         "2007-10-28",
         "494-36-1748",
         "32.0",
         "2069-08-14 00:00:00",
         "checking"
        ],
        [
         "50",
         "50.0",
         "1973-12-02",
         "066-09-7361",
         "11.0",
         "2033-01-08 00:00:00",
         "savings"
        ],
        [
         "51",
         "51.0",
         "2013-03-02",
         "038-52-1394",
         "84.0",
         "2014-05-09 00:00:00",
         "checking"
        ]
       ],
       "shape": {
        "columns": 6,
        "rows": 97
       }
      },
      "text/html": [
       "<div>\n",
       "<style scoped>\n",
       "    .dataframe tbody tr th:only-of-type {\n",
       "        vertical-align: middle;\n",
       "    }\n",
       "\n",
       "    .dataframe tbody tr th {\n",
       "        vertical-align: top;\n",
       "    }\n",
       "\n",
       "    .dataframe thead th {\n",
       "        text-align: right;\n",
       "    }\n",
       "</style>\n",
       "<table border=\"1\" class=\"dataframe\">\n",
       "  <thead>\n",
       "    <tr style=\"text-align: right;\">\n",
       "      <th></th>\n",
       "      <th>CustomerID</th>\n",
       "      <th>BirthDate</th>\n",
       "      <th>SSN</th>\n",
       "      <th>AccountID</th>\n",
       "      <th>AccountOpened</th>\n",
       "      <th>AccountType</th>\n",
       "    </tr>\n",
       "  </thead>\n",
       "  <tbody>\n",
       "    <tr>\n",
       "      <th>2</th>\n",
       "      <td>2.0</td>\n",
       "      <td>1976-12-15</td>\n",
       "      <td>377-98-9839</td>\n",
       "      <td>NaN</td>\n",
       "      <td>2019-03-25</td>\n",
       "      <td>checking</td>\n",
       "    </tr>\n",
       "    <tr>\n",
       "      <th>3</th>\n",
       "      <td>3.0</td>\n",
       "      <td>2003-10-18</td>\n",
       "      <td>474-05-7613</td>\n",
       "      <td>86.0</td>\n",
       "      <td>2004-03-02</td>\n",
       "      <td>cd</td>\n",
       "    </tr>\n",
       "    <tr>\n",
       "      <th>4</th>\n",
       "      <td>4.0</td>\n",
       "      <td>1985-12-06</td>\n",
       "      <td>750-55-5509</td>\n",
       "      <td>77.0</td>\n",
       "      <td>2059-05-05</td>\n",
       "      <td>cd</td>\n",
       "    </tr>\n",
       "    <tr>\n",
       "      <th>5</th>\n",
       "      <td>5.0</td>\n",
       "      <td>2008-02-29</td>\n",
       "      <td>671-43-0485</td>\n",
       "      <td>75.0</td>\n",
       "      <td>2025-05-03</td>\n",
       "      <td>checking</td>\n",
       "    </tr>\n",
       "    <tr>\n",
       "      <th>6</th>\n",
       "      <td>6.0</td>\n",
       "      <td>1975-04-05</td>\n",
       "      <td>288-62-9296</td>\n",
       "      <td>56.0</td>\n",
       "      <td>2048-09-21</td>\n",
       "      <td>savings</td>\n",
       "    </tr>\n",
       "    <tr>\n",
       "      <th>...</th>\n",
       "      <td>...</td>\n",
       "      <td>...</td>\n",
       "      <td>...</td>\n",
       "      <td>...</td>\n",
       "      <td>...</td>\n",
       "      <td>...</td>\n",
       "    </tr>\n",
       "    <tr>\n",
       "      <th>94</th>\n",
       "      <td>94.0</td>\n",
       "      <td>1969-03-14</td>\n",
       "      <td>958-12-8308</td>\n",
       "      <td>5.0</td>\n",
       "      <td>2037-04-03</td>\n",
       "      <td>savings</td>\n",
       "    </tr>\n",
       "    <tr>\n",
       "      <th>95</th>\n",
       "      <td>95.0</td>\n",
       "      <td>1975-09-23</td>\n",
       "      <td>607-97-1651</td>\n",
       "      <td>36.0</td>\n",
       "      <td>2011-07-24</td>\n",
       "      <td>checking</td>\n",
       "    </tr>\n",
       "    <tr>\n",
       "      <th>96</th>\n",
       "      <td>96.0</td>\n",
       "      <td>1989-03-09</td>\n",
       "      <td>870-80-0364</td>\n",
       "      <td>0.0</td>\n",
       "      <td>2054-11-01</td>\n",
       "      <td>cd</td>\n",
       "    </tr>\n",
       "    <tr>\n",
       "      <th>97</th>\n",
       "      <td>97.0</td>\n",
       "      <td>1960-09-23</td>\n",
       "      <td>773-33-2797</td>\n",
       "      <td>75.0</td>\n",
       "      <td>1993-09-16</td>\n",
       "      <td>cd</td>\n",
       "    </tr>\n",
       "    <tr>\n",
       "      <th>98</th>\n",
       "      <td>98.0</td>\n",
       "      <td>1975-08-17</td>\n",
       "      <td>846-64-7054</td>\n",
       "      <td>34.0</td>\n",
       "      <td>2032-12-25</td>\n",
       "      <td>savings</td>\n",
       "    </tr>\n",
       "  </tbody>\n",
       "</table>\n",
       "<p>97 rows × 6 columns</p>\n",
       "</div>"
      ],
      "text/plain": [
       "    CustomerID   BirthDate          SSN  AccountID AccountOpened AccountType\n",
       "2          2.0  1976-12-15  377-98-9839        NaN    2019-03-25    checking\n",
       "3          3.0  2003-10-18  474-05-7613       86.0    2004-03-02          cd\n",
       "4          4.0  1985-12-06  750-55-5509       77.0    2059-05-05          cd\n",
       "5          5.0  2008-02-29  671-43-0485       75.0    2025-05-03    checking\n",
       "6          6.0  1975-04-05  288-62-9296       56.0    2048-09-21     savings\n",
       "..         ...         ...          ...        ...           ...         ...\n",
       "94        94.0  1969-03-14  958-12-8308        5.0    2037-04-03     savings\n",
       "95        95.0  1975-09-23  607-97-1651       36.0    2011-07-24    checking\n",
       "96        96.0  1989-03-09  870-80-0364        0.0    2054-11-01          cd\n",
       "97        97.0  1960-09-23  773-33-2797       75.0    1993-09-16          cd\n",
       "98        98.0  1975-08-17  846-64-7054       34.0    2032-12-25     savings\n",
       "\n",
       "[97 rows x 6 columns]"
      ]
     },
     "execution_count": 21,
     "metadata": {},
     "output_type": "execute_result"
    }
   ],
   "source": [
    "df_bank_datefix = df_bank_loaded[df_bank_loaded.BirthDate.str.len() == 10].copy()\n",
    "\n",
    "\n",
    "df_bank_loaded[df_bank_loaded.BirthDate.str.len() == 10]\n"
   ]
  },
  {
   "cell_type": "markdown",
   "id": "838e568e-a333-4d18-ba8d-84c2926191e8",
   "metadata": {},
   "source": [
    "Test again:"
   ]
  },
  {
   "cell_type": "code",
   "execution_count": 22,
   "id": "d8655d6a-0a79-42c4-891a-cb421d664ca0",
   "metadata": {},
   "outputs": [
    {
     "name": "stdout",
     "output_type": "stream",
     "text": [
      "It worked!\n"
     ]
    }
   ],
   "source": [
    "try:\n",
    "    df_bank_datefix[\"BirthDate\"] = pd.to_datetime(df_bank_datefix[\"BirthDate\"], format='%Y-%m-%d')\n",
    "    print(\"It worked!\")\n",
    "except ValueError as e:\n",
    "    print(f\"ValueError: {e}\")"
   ]
  },
  {
   "cell_type": "markdown",
   "id": "fa88b739-9481-46fd-a8bd-996ed0e0bc2f",
   "metadata": {},
   "source": [
    "2. To check that it worked, use a summary function that will tell you if the BirthDate field is now a datetime type"
   ]
  },
  {
   "cell_type": "code",
   "execution_count": 23,
   "id": "ce550219-274c-4e3c-953d-cdf920a37990",
   "metadata": {},
   "outputs": [
    {
     "name": "stdout",
     "output_type": "stream",
     "text": [
      "<class 'pandas.core.frame.DataFrame'>\n",
      "Index: 97 entries, 2 to 98\n",
      "Data columns (total 6 columns):\n",
      " #   Column         Non-Null Count  Dtype         \n",
      "---  ------         --------------  -----         \n",
      " 0   CustomerID     97 non-null     float64       \n",
      " 1   BirthDate      97 non-null     datetime64[ns]\n",
      " 2   SSN            97 non-null     object        \n",
      " 3   AccountID      96 non-null     float64       \n",
      " 4   AccountOpened  97 non-null     datetime64[ns]\n",
      " 5   AccountType    97 non-null     object        \n",
      "dtypes: datetime64[ns](2), float64(2), object(2)\n",
      "memory usage: 5.3+ KB\n"
     ]
    }
   ],
   "source": [
    "df_bank_datefix.info()"
   ]
  },
  {
   "cell_type": "markdown",
   "id": "ed7ac0d0-be31-4c50-838d-f104463a8114",
   "metadata": {},
   "source": [
    "3. Check whether there are any null values in the DataFrame.  If so, remove those rows or (if you prefer) fill in the value with an appropriate number.\n",
    "\n",
    "First try at a Google search or ChatGPT prompt: \"how do I find out if there are any null values in a pandas DataFrame?\"\n",
    "\n",
    "This page gives an answer.  Unfortunately, it took my request too literally: it tells me only if there are any, and not which rows have them.  On reflection, that's not really what I want - I think I asked the wrong question.  I want to see the rows, not just _whether_ there are any.\n",
    "\n",
    "https://stackoverflow.com/questions/29530232/how-to-check-if-any-value-is-nan-in-a-pandas-dataframe\n",
    "\n",
    "ChatGPT likewise doesn't give the answer I want - because I asked the wrong question.\n",
    "\n",
    "Next try at a Google search or ChatGPT prompt: \"how do I check which rows have null values in a pandas DataFrame?\"\n",
    "\n",
    "This page gives an answer:\n",
    "\n",
    "https://stackoverflow.com/questions/36226083/how-to-find-which-columns-contain-any-nan-value-in-pandas-dataframe\n",
    "\n",
    "ChatGPT also gives a good answer.  I recommend looking at both of them!\n",
    "\n",
    "Now try it on your own:\n",
    "\n",
    "Suggested Google search or ChatGPT prompt: \"how do I remove rows with null values in a pandas DataFrame?\"\n",
    "\n",
    "Suggested Google search or ChatGPT prompt: \"how do I fill in null values in a pandas DataFrame?\""
   ]
  },
  {
   "cell_type": "code",
   "execution_count": 24,
   "id": "aaff44c7",
   "metadata": {},
   "outputs": [
    {
     "data": {
      "text/plain": [
       "CustomerID       False\n",
       "BirthDate        False\n",
       "SSN              False\n",
       "AccountID         True\n",
       "AccountOpened    False\n",
       "AccountType      False\n",
       "dtype: bool"
      ]
     },
     "execution_count": 24,
     "metadata": {},
     "output_type": "execute_result"
    }
   ],
   "source": [
    "df_bank_datefix.isna().any()"
   ]
  },
  {
   "cell_type": "code",
   "execution_count": 25,
   "id": "a8ffaf2e-a8b2-42a2-ad09-e014431fccea",
   "metadata": {},
   "outputs": [
    {
     "data": {
      "text/plain": [
       "CustomerID       False\n",
       "BirthDate        False\n",
       "SSN              False\n",
       "AccountID        False\n",
       "AccountOpened    False\n",
       "AccountType      False\n",
       "dtype: bool"
      ]
     },
     "execution_count": 25,
     "metadata": {},
     "output_type": "execute_result"
    }
   ],
   "source": [
    "df_bank_nafix_drop = df_bank_datefix.dropna()\n",
    "df_bank_nafix_drop.isna().any()"
   ]
  },
  {
   "cell_type": "code",
   "execution_count": 26,
   "id": "127de128",
   "metadata": {},
   "outputs": [
    {
     "data": {
      "text/plain": [
       "CustomerID       False\n",
       "BirthDate        False\n",
       "SSN              False\n",
       "AccountID        False\n",
       "AccountOpened    False\n",
       "AccountType      False\n",
       "dtype: bool"
      ]
     },
     "execution_count": 26,
     "metadata": {},
     "output_type": "execute_result"
    }
   ],
   "source": [
    "df_bank_nafix_fill = df_bank_datefix.fillna(-1)\n",
    "df_bank_nafix_fill.isna().any()"
   ]
  },
  {
   "cell_type": "markdown",
   "id": "54ca88fe-0b67-473e-965f-7e5da13f2a02",
   "metadata": {},
   "source": [
    "4. Find out if there are any duplicate rows (two rows exactly the same).  List their row numbers.  Then remove the duplicates"
   ]
  },
  {
   "cell_type": "markdown",
   "id": "5abf0983-4861-486b-bfc0-942b6772c866",
   "metadata": {},
   "source": [
    "Suggested Google search or ChatGPT prompt: \"how can I find out if there are any duplicate rows in a DataFrame using Python\"\n",
    "\n",
    "Again, Google provides me with a page that addresses the question:\n",
    "\n",
    "https://saturncloud.io/blog/how-to-find-all-duplicate-rows-in-a-pandas-dataframe/\n",
    "\n",
    "To remove the duplicates, do this search: \"how can I remove the duplicate rows in a DataFrame using Python\"\n",
    "\n",
    "This leads me to the following documentation.\n",
    "\n",
    "https://pandas.pydata.org/docs/reference/api/pandas.DataFrame.drop_duplicates.html"
   ]
  },
  {
   "cell_type": "code",
   "execution_count": 27,
   "id": "acd1cc2f-2879-4839-8ac7-9b2bc306dfb5",
   "metadata": {},
   "outputs": [
    {
     "name": "stdout",
     "output_type": "stream",
     "text": [
      "Duplicate Rows:\n",
      " Empty DataFrame\n",
      "Columns: [CustomerID, BirthDate, SSN, AccountID, AccountOpened, AccountType]\n",
      "Index: []\n"
     ]
    }
   ],
   "source": [
    "df_bank_duplicates = df_bank_nafix_drop[df_bank_nafix_drop.duplicated()]\n",
    "print(\"Duplicate Rows:\\n\", df_bank_duplicates)"
   ]
  },
  {
   "cell_type": "code",
   "execution_count": 28,
   "id": "17ab0abc",
   "metadata": {},
   "outputs": [
    {
     "name": "stdout",
     "output_type": "stream",
     "text": [
      "Indices of duplicate rows: []\n"
     ]
    }
   ],
   "source": [
    "df_bank_duplicate_indices = df_bank_duplicates.index.tolist()\n",
    "print(\"Indices of duplicate rows:\", df_bank_duplicate_indices)"
   ]
  },
  {
   "cell_type": "code",
   "execution_count": 29,
   "id": "38354c35",
   "metadata": {},
   "outputs": [
    {
     "data": {
      "application/vnd.microsoft.datawrangler.viewer.v0+json": {
       "columns": [
        {
         "name": "index",
         "rawType": "int64",
         "type": "integer"
        },
        {
         "name": "CustomerID",
         "rawType": "float64",
         "type": "float"
        },
        {
         "name": "BirthDate",
         "rawType": "datetime64[ns]",
         "type": "datetime"
        },
        {
         "name": "SSN",
         "rawType": "object",
         "type": "string"
        },
        {
         "name": "AccountID",
         "rawType": "float64",
         "type": "float"
        },
        {
         "name": "AccountOpened",
         "rawType": "datetime64[ns]",
         "type": "datetime"
        },
        {
         "name": "AccountType",
         "rawType": "object",
         "type": "string"
        }
       ],
       "conversionMethod": "pd.DataFrame",
       "ref": "fbf33483-67ab-4cc0-932e-8f5218d3aba7",
       "rows": [
        [
         "3",
         "3.0",
         "2003-10-18 00:00:00",
         "474-05-7613",
         "86.0",
         "2004-03-02 00:00:00",
         "cd"
        ],
        [
         "4",
         "4.0",
         "1985-12-06 00:00:00",
         "750-55-5509",
         "77.0",
         "2059-05-05 00:00:00",
         "cd"
        ],
        [
         "5",
         "5.0",
         "2008-02-29 00:00:00",
         "671-43-0485",
         "75.0",
         "2025-05-03 00:00:00",
         "checking"
        ],
        [
         "6",
         "6.0",
         "1975-04-05 00:00:00",
         "288-62-9296",
         "56.0",
         "2048-09-21 00:00:00",
         "savings"
        ],
        [
         "7",
         "7.0",
         "2016-06-18 00:00:00",
         "593-49-1249",
         "16.0",
         "2087-07-24 00:00:00",
         "savings"
        ],
        [
         "8",
         "8.0",
         "2006-10-31 00:00:00",
         "121-74-2917",
         "24.0",
         "2046-11-17 00:00:00",
         "savings"
        ],
        [
         "9",
         "9.0",
         "2010-12-10 00:00:00",
         "844-31-4793",
         "29.0",
         "2048-06-01 00:00:00",
         "checking"
        ],
        [
         "10",
         "10.0",
         "1988-08-25 00:00:00",
         "857-15-1139",
         "21.0",
         "1998-01-04 00:00:00",
         "checking"
        ],
        [
         "11",
         "11.0",
         "1990-11-22 00:00:00",
         "509-92-0704",
         "25.0",
         "2036-03-17 00:00:00",
         "savings"
        ],
        [
         "12",
         "12.0",
         "1992-03-31 00:00:00",
         "698-04-7583",
         "80.0",
         "2008-09-07 00:00:00",
         "checking"
        ],
        [
         "13",
         "13.0",
         "1993-05-07 00:00:00",
         "304-91-3605",
         "60.0",
         "2001-02-26 00:00:00",
         "checking"
        ],
        [
         "14",
         "14.0",
         "1968-06-19 00:00:00",
         "058-28-9758",
         "61.0",
         "2002-08-04 00:00:00",
         "savings"
        ],
        [
         "15",
         "15.0",
         "2004-05-09 00:00:00",
         "417-04-6784",
         "83.0",
         "2031-01-21 00:00:00",
         "cd"
        ],
        [
         "16",
         "16.0",
         "1990-02-10 00:00:00",
         "527-61-9953",
         "33.0",
         "2047-01-25 00:00:00",
         "cd"
        ],
        [
         "17",
         "17.0",
         "1996-10-15 00:00:00",
         "377-72-0498",
         "32.0",
         "2063-08-28 00:00:00",
         "checking"
        ],
        [
         "18",
         "18.0",
         "2001-12-22 00:00:00",
         "745-86-2436",
         "70.0",
         "2070-08-26 00:00:00",
         "cd"
        ],
        [
         "19",
         "19.0",
         "1978-04-11 00:00:00",
         "412-73-9490",
         "85.0",
         "2019-09-22 00:00:00",
         "savings"
        ],
        [
         "20",
         "20.0",
         "2000-12-10 00:00:00",
         "953-24-6512",
         "31.0",
         "2009-08-31 00:00:00",
         "savings"
        ],
        [
         "21",
         "21.0",
         "2016-02-16 00:00:00",
         "972-63-5997",
         "13.0",
         "2077-03-09 00:00:00",
         "cd"
        ],
        [
         "22",
         "22.0",
         "1957-12-07 00:00:00",
         "550-58-6755",
         "71.0",
         "2016-11-20 00:00:00",
         "savings"
        ],
        [
         "23",
         "23.0",
         "2021-12-11 00:00:00",
         "939-09-9746",
         "56.0",
         "2071-09-01 00:00:00",
         "cd"
        ],
        [
         "24",
         "24.0",
         "1996-04-30 00:00:00",
         "041-33-6362",
         "24.0",
         "2050-05-22 00:00:00",
         "cd"
        ],
        [
         "25",
         "25.0",
         "1967-01-08 00:00:00",
         "973-93-1469",
         "79.0",
         "1989-11-06 00:00:00",
         "savings"
        ],
        [
         "26",
         "26.0",
         "1968-12-13 00:00:00",
         "239-29-2784",
         "41.0",
         "2028-07-28 00:00:00",
         "cd"
        ],
        [
         "27",
         "27.0",
         "1966-07-12 00:00:00",
         "450-30-8071",
         "18.0",
         "2023-03-16 00:00:00",
         "checking"
        ],
        [
         "28",
         "28.0",
         "1955-12-04 00:00:00",
         "863-97-2245",
         "40.0",
         "1996-02-08 00:00:00",
         "checking"
        ],
        [
         "29",
         "29.0",
         "1963-11-21 00:00:00",
         "085-84-6399",
         "54.0",
         "2021-05-09 00:00:00",
         "cd"
        ],
        [
         "30",
         "30.0",
         "1963-04-14 00:00:00",
         "168-31-0272",
         "79.0",
         "1970-04-19 00:00:00",
         "savings"
        ],
        [
         "31",
         "31.0",
         "1971-07-27 00:00:00",
         "823-39-2138",
         "11.0",
         "2033-06-08 00:00:00",
         "savings"
        ],
        [
         "32",
         "32.0",
         "2000-06-17 00:00:00",
         "140-90-4818",
         "38.0",
         "2070-03-26 00:00:00",
         "cd"
        ],
        [
         "33",
         "33.0",
         "1955-02-15 00:00:00",
         "986-06-7499",
         "93.0",
         "1967-11-11 00:00:00",
         "cd"
        ],
        [
         "34",
         "34.0",
         "1970-10-22 00:00:00",
         "516-24-0314",
         "1.0",
         "2006-11-15 00:00:00",
         "savings"
        ],
        [
         "35",
         "35.0",
         "1956-11-01 00:00:00",
         "470-06-0415",
         "95.0",
         "2031-10-28 00:00:00",
         "checking"
        ],
        [
         "36",
         "36.0",
         "1991-07-31 00:00:00",
         "198-17-0647",
         "44.0",
         "2028-11-27 00:00:00",
         "cd"
        ],
        [
         "37",
         "37.0",
         "2017-07-23 00:00:00",
         "991-68-0187",
         "88.0",
         "2094-12-17 00:00:00",
         "checking"
        ],
        [
         "38",
         "38.0",
         "1977-12-05 00:00:00",
         "509-93-1650",
         "24.0",
         "2039-11-09 00:00:00",
         "cd"
        ],
        [
         "39",
         "39.0",
         "1952-01-26 00:00:00",
         "810-29-3625",
         "67.0",
         "1983-11-04 00:00:00",
         "checking"
        ],
        [
         "40",
         "40.0",
         "1952-03-08 00:00:00",
         "291-98-5506",
         "82.0",
         "1953-05-05 00:00:00",
         "cd"
        ],
        [
         "41",
         "41.0",
         "1996-08-30 00:00:00",
         "560-38-9694",
         "3.0",
         "2073-11-13 00:00:00",
         "savings"
        ],
        [
         "42",
         "42.0",
         "1958-10-25 00:00:00",
         "705-50-4163",
         "76.0",
         "2036-04-28 00:00:00",
         "cd"
        ],
        [
         "43",
         "43.0",
         "1991-09-29 00:00:00",
         "722-56-5854",
         "35.0",
         "2068-07-28 00:00:00",
         "savings"
        ],
        [
         "44",
         "44.0",
         "2018-06-12 00:00:00",
         "275-51-1419",
         "86.0",
         "2095-12-10 00:00:00",
         "checking"
        ],
        [
         "45",
         "45.0",
         "2015-04-10 00:00:00",
         "931-24-3971",
         "61.0",
         "2078-11-23 00:00:00",
         "savings"
        ],
        [
         "46",
         "46.0",
         "1994-09-08 00:00:00",
         "826-66-1458",
         "69.0",
         "1997-05-02 00:00:00",
         "savings"
        ],
        [
         "47",
         "47.0",
         "2003-12-30 00:00:00",
         "279-98-4046",
         "87.0",
         "2015-12-17 00:00:00",
         "cd"
        ],
        [
         "48",
         "48.0",
         "2002-05-17 00:00:00",
         "286-05-1043",
         "43.0",
         "2027-02-27 00:00:00",
         "cd"
        ],
        [
         "49",
         "49.0",
         "2007-10-28 00:00:00",
         "494-36-1748",
         "32.0",
         "2069-08-14 00:00:00",
         "checking"
        ],
        [
         "50",
         "50.0",
         "1973-12-02 00:00:00",
         "066-09-7361",
         "11.0",
         "2033-01-08 00:00:00",
         "savings"
        ],
        [
         "51",
         "51.0",
         "2013-03-02 00:00:00",
         "038-52-1394",
         "84.0",
         "2014-05-09 00:00:00",
         "checking"
        ],
        [
         "52",
         "52.0",
         "1996-10-24 00:00:00",
         "099-84-9627",
         "10.0",
         "2032-09-02 00:00:00",
         "checking"
        ]
       ],
       "shape": {
        "columns": 6,
        "rows": 96
       }
      },
      "text/html": [
       "<div>\n",
       "<style scoped>\n",
       "    .dataframe tbody tr th:only-of-type {\n",
       "        vertical-align: middle;\n",
       "    }\n",
       "\n",
       "    .dataframe tbody tr th {\n",
       "        vertical-align: top;\n",
       "    }\n",
       "\n",
       "    .dataframe thead th {\n",
       "        text-align: right;\n",
       "    }\n",
       "</style>\n",
       "<table border=\"1\" class=\"dataframe\">\n",
       "  <thead>\n",
       "    <tr style=\"text-align: right;\">\n",
       "      <th></th>\n",
       "      <th>CustomerID</th>\n",
       "      <th>BirthDate</th>\n",
       "      <th>SSN</th>\n",
       "      <th>AccountID</th>\n",
       "      <th>AccountOpened</th>\n",
       "      <th>AccountType</th>\n",
       "    </tr>\n",
       "  </thead>\n",
       "  <tbody>\n",
       "    <tr>\n",
       "      <th>3</th>\n",
       "      <td>3.0</td>\n",
       "      <td>2003-10-18</td>\n",
       "      <td>474-05-7613</td>\n",
       "      <td>86.0</td>\n",
       "      <td>2004-03-02</td>\n",
       "      <td>cd</td>\n",
       "    </tr>\n",
       "    <tr>\n",
       "      <th>4</th>\n",
       "      <td>4.0</td>\n",
       "      <td>1985-12-06</td>\n",
       "      <td>750-55-5509</td>\n",
       "      <td>77.0</td>\n",
       "      <td>2059-05-05</td>\n",
       "      <td>cd</td>\n",
       "    </tr>\n",
       "    <tr>\n",
       "      <th>5</th>\n",
       "      <td>5.0</td>\n",
       "      <td>2008-02-29</td>\n",
       "      <td>671-43-0485</td>\n",
       "      <td>75.0</td>\n",
       "      <td>2025-05-03</td>\n",
       "      <td>checking</td>\n",
       "    </tr>\n",
       "    <tr>\n",
       "      <th>6</th>\n",
       "      <td>6.0</td>\n",
       "      <td>1975-04-05</td>\n",
       "      <td>288-62-9296</td>\n",
       "      <td>56.0</td>\n",
       "      <td>2048-09-21</td>\n",
       "      <td>savings</td>\n",
       "    </tr>\n",
       "    <tr>\n",
       "      <th>7</th>\n",
       "      <td>7.0</td>\n",
       "      <td>2016-06-18</td>\n",
       "      <td>593-49-1249</td>\n",
       "      <td>16.0</td>\n",
       "      <td>2087-07-24</td>\n",
       "      <td>savings</td>\n",
       "    </tr>\n",
       "    <tr>\n",
       "      <th>...</th>\n",
       "      <td>...</td>\n",
       "      <td>...</td>\n",
       "      <td>...</td>\n",
       "      <td>...</td>\n",
       "      <td>...</td>\n",
       "      <td>...</td>\n",
       "    </tr>\n",
       "    <tr>\n",
       "      <th>94</th>\n",
       "      <td>94.0</td>\n",
       "      <td>1969-03-14</td>\n",
       "      <td>958-12-8308</td>\n",
       "      <td>5.0</td>\n",
       "      <td>2037-04-03</td>\n",
       "      <td>savings</td>\n",
       "    </tr>\n",
       "    <tr>\n",
       "      <th>95</th>\n",
       "      <td>95.0</td>\n",
       "      <td>1975-09-23</td>\n",
       "      <td>607-97-1651</td>\n",
       "      <td>36.0</td>\n",
       "      <td>2011-07-24</td>\n",
       "      <td>checking</td>\n",
       "    </tr>\n",
       "    <tr>\n",
       "      <th>96</th>\n",
       "      <td>96.0</td>\n",
       "      <td>1989-03-09</td>\n",
       "      <td>870-80-0364</td>\n",
       "      <td>0.0</td>\n",
       "      <td>2054-11-01</td>\n",
       "      <td>cd</td>\n",
       "    </tr>\n",
       "    <tr>\n",
       "      <th>97</th>\n",
       "      <td>97.0</td>\n",
       "      <td>1960-09-23</td>\n",
       "      <td>773-33-2797</td>\n",
       "      <td>75.0</td>\n",
       "      <td>1993-09-16</td>\n",
       "      <td>cd</td>\n",
       "    </tr>\n",
       "    <tr>\n",
       "      <th>98</th>\n",
       "      <td>98.0</td>\n",
       "      <td>1975-08-17</td>\n",
       "      <td>846-64-7054</td>\n",
       "      <td>34.0</td>\n",
       "      <td>2032-12-25</td>\n",
       "      <td>savings</td>\n",
       "    </tr>\n",
       "  </tbody>\n",
       "</table>\n",
       "<p>96 rows × 6 columns</p>\n",
       "</div>"
      ],
      "text/plain": [
       "    CustomerID  BirthDate          SSN  AccountID AccountOpened AccountType\n",
       "3          3.0 2003-10-18  474-05-7613       86.0    2004-03-02          cd\n",
       "4          4.0 1985-12-06  750-55-5509       77.0    2059-05-05          cd\n",
       "5          5.0 2008-02-29  671-43-0485       75.0    2025-05-03    checking\n",
       "6          6.0 1975-04-05  288-62-9296       56.0    2048-09-21     savings\n",
       "7          7.0 2016-06-18  593-49-1249       16.0    2087-07-24     savings\n",
       "..         ...        ...          ...        ...           ...         ...\n",
       "94        94.0 1969-03-14  958-12-8308        5.0    2037-04-03     savings\n",
       "95        95.0 1975-09-23  607-97-1651       36.0    2011-07-24    checking\n",
       "96        96.0 1989-03-09  870-80-0364        0.0    2054-11-01          cd\n",
       "97        97.0 1960-09-23  773-33-2797       75.0    1993-09-16          cd\n",
       "98        98.0 1975-08-17  846-64-7054       34.0    2032-12-25     savings\n",
       "\n",
       "[96 rows x 6 columns]"
      ]
     },
     "execution_count": 29,
     "metadata": {},
     "output_type": "execute_result"
    }
   ],
   "source": [
    "# Remove duplicate rows\n",
    "df_bank_nafix_no_duplicates = df_bank_nafix_drop.drop_duplicates()\n",
    "\n",
    "df_bank_nafix_no_duplicates"
   ]
  },
  {
   "cell_type": "markdown",
   "id": "cc5cd8a5-c8bd-498c-b8b5-25dd74cdd2c6",
   "metadata": {},
   "source": [
    "5. Check whether the customers all have unique AccountIDs.  If not, provide the first example of a non-unique AccountId."
   ]
  },
  {
   "cell_type": "markdown",
   "id": "9b4f3f46-b09e-4a48-a3f4-72e1d1ba77fc",
   "metadata": {},
   "source": [
    "Suggested Google search or ChatGPT prompt: \"how can I find the first non-unique item from a pandas Series in python\"\n",
    "\n",
    "By the way: why didn't I ask the question \"how can I check whether the customers all have unique AccountIDs\"?\n",
    "\n",
    "The problem would be that Google and ChatGPT don't know what \"customers\" you are talking about.  It's important to understand that the AccountIDs are a column of a DataFrame, and as such they are a Series.  Therefore, we should use the correct vocabulary and ask about a Series.  If you mess up and ask about a \"list\" instead of a Series, you _might_ get an answer that still works.  But it's better to get the vocabularly right.\n",
    "\n",
    "It's important to add \"in python\" because this task could be performed in many languages.\n",
    "\n",
    "ChatGPT gave me this suggestion: data[data.isin(data[data.duplicated()])].iloc[0]\n",
    "However, ChatGPT did not explain how this code worked and even claimed (falsely) that it was going to use the value_counts() function in the solution.  So although the code is correct, I personally found ChatGPT's answer very confusing.  You could, perhaps, ask ChatGPT to explain further how this code works.\n",
    "\n",
    "ChatGPT, \"How does this code work: data[data.isin(data[data.duplicated()])].iloc[0]\"\n",
    "\n",
    "On the other hand, Google leads me to the documentation for the duplicated() function:\n",
    "\n",
    "https://pandas.pydata.org/docs/reference/api/pandas.Series.duplicated.html\n",
    "\n",
    "Here, I can see that when I really need is data.duplicated(keep = False), where \"data\" should be the Series in question.  However, this just gives me a Series of boolean values indicating which ones are duplicates.  I have to somehow know that extracting the numerical values instead of a Series of booleans involves boolean indexing: data\\[data.duplicated(keep = False)].\n",
    "\n",
    "So as usual, I'd suggest that a combination of Google, documentation, and ChatGPT will give you the best information."
   ]
  },
  {
   "cell_type": "code",
   "execution_count": 30,
   "id": "d3825ba0-a790-42e0-94ad-df931dbad3cf",
   "metadata": {},
   "outputs": [
    {
     "data": {
      "application/vnd.microsoft.datawrangler.viewer.v0+json": {
       "columns": [
        {
         "name": "index",
         "rawType": "int64",
         "type": "integer"
        },
        {
         "name": "CustomerID",
         "rawType": "float64",
         "type": "float"
        },
        {
         "name": "BirthDate",
         "rawType": "datetime64[ns]",
         "type": "datetime"
        },
        {
         "name": "SSN",
         "rawType": "object",
         "type": "string"
        },
        {
         "name": "AccountID",
         "rawType": "float64",
         "type": "float"
        },
        {
         "name": "AccountOpened",
         "rawType": "datetime64[ns]",
         "type": "datetime"
        },
        {
         "name": "AccountType",
         "rawType": "object",
         "type": "string"
        }
       ],
       "conversionMethod": "pd.DataFrame",
       "ref": "13e2424a-e17b-46c8-9059-a9ecf6645a77",
       "rows": [
        [
         "74",
         "74.0",
         "2023-01-19 00:00:00",
         "086-36-1272",
         "3.0",
         "2093-12-24 00:00:00",
         "cd"
        ],
        [
         "78",
         "78.0",
         "1973-08-10 00:00:00",
         "020-16-6942",
         "3.0",
         "1990-01-24 00:00:00",
         "savings"
        ],
        [
         "80",
         "80.0",
         "2006-04-28 00:00:00",
         "763-71-6221",
         "9.0",
         "2029-03-10 00:00:00",
         "savings"
        ],
        [
         "81",
         "81.0",
         "2023-12-26 00:00:00",
         "299-00-8770",
         "10.0",
         "2029-12-29 00:00:00",
         "savings"
        ],
        [
         "50",
         "50.0",
         "1973-12-02 00:00:00",
         "066-09-7361",
         "11.0",
         "2033-01-08 00:00:00",
         "savings"
        ],
        [
         "73",
         "73.0",
         "2006-10-11 00:00:00",
         "226-86-6547",
         "23.0",
         "2032-07-17 00:00:00",
         "cd"
        ],
        [
         "24",
         "24.0",
         "1996-04-30 00:00:00",
         "041-33-6362",
         "24.0",
         "2050-05-22 00:00:00",
         "cd"
        ],
        [
         "38",
         "38.0",
         "1977-12-05 00:00:00",
         "509-93-1650",
         "24.0",
         "2039-11-09 00:00:00",
         "cd"
        ],
        [
         "82",
         "82.0",
         "2002-02-20 00:00:00",
         "085-93-3571",
         "27.0",
         "2014-12-14 00:00:00",
         "savings"
        ],
        [
         "66",
         "66.0",
         "1959-10-01 00:00:00",
         "929-11-8240",
         "29.0",
         "1962-08-06 00:00:00",
         "cd"
        ]
       ],
       "shape": {
        "columns": 6,
        "rows": 10
       }
      },
      "text/html": [
       "<div>\n",
       "<style scoped>\n",
       "    .dataframe tbody tr th:only-of-type {\n",
       "        vertical-align: middle;\n",
       "    }\n",
       "\n",
       "    .dataframe tbody tr th {\n",
       "        vertical-align: top;\n",
       "    }\n",
       "\n",
       "    .dataframe thead th {\n",
       "        text-align: right;\n",
       "    }\n",
       "</style>\n",
       "<table border=\"1\" class=\"dataframe\">\n",
       "  <thead>\n",
       "    <tr style=\"text-align: right;\">\n",
       "      <th></th>\n",
       "      <th>CustomerID</th>\n",
       "      <th>BirthDate</th>\n",
       "      <th>SSN</th>\n",
       "      <th>AccountID</th>\n",
       "      <th>AccountOpened</th>\n",
       "      <th>AccountType</th>\n",
       "    </tr>\n",
       "  </thead>\n",
       "  <tbody>\n",
       "    <tr>\n",
       "      <th>74</th>\n",
       "      <td>74.0</td>\n",
       "      <td>2023-01-19</td>\n",
       "      <td>086-36-1272</td>\n",
       "      <td>3.0</td>\n",
       "      <td>2093-12-24</td>\n",
       "      <td>cd</td>\n",
       "    </tr>\n",
       "    <tr>\n",
       "      <th>78</th>\n",
       "      <td>78.0</td>\n",
       "      <td>1973-08-10</td>\n",
       "      <td>020-16-6942</td>\n",
       "      <td>3.0</td>\n",
       "      <td>1990-01-24</td>\n",
       "      <td>savings</td>\n",
       "    </tr>\n",
       "    <tr>\n",
       "      <th>80</th>\n",
       "      <td>80.0</td>\n",
       "      <td>2006-04-28</td>\n",
       "      <td>763-71-6221</td>\n",
       "      <td>9.0</td>\n",
       "      <td>2029-03-10</td>\n",
       "      <td>savings</td>\n",
       "    </tr>\n",
       "    <tr>\n",
       "      <th>81</th>\n",
       "      <td>81.0</td>\n",
       "      <td>2023-12-26</td>\n",
       "      <td>299-00-8770</td>\n",
       "      <td>10.0</td>\n",
       "      <td>2029-12-29</td>\n",
       "      <td>savings</td>\n",
       "    </tr>\n",
       "    <tr>\n",
       "      <th>50</th>\n",
       "      <td>50.0</td>\n",
       "      <td>1973-12-02</td>\n",
       "      <td>066-09-7361</td>\n",
       "      <td>11.0</td>\n",
       "      <td>2033-01-08</td>\n",
       "      <td>savings</td>\n",
       "    </tr>\n",
       "    <tr>\n",
       "      <th>73</th>\n",
       "      <td>73.0</td>\n",
       "      <td>2006-10-11</td>\n",
       "      <td>226-86-6547</td>\n",
       "      <td>23.0</td>\n",
       "      <td>2032-07-17</td>\n",
       "      <td>cd</td>\n",
       "    </tr>\n",
       "    <tr>\n",
       "      <th>24</th>\n",
       "      <td>24.0</td>\n",
       "      <td>1996-04-30</td>\n",
       "      <td>041-33-6362</td>\n",
       "      <td>24.0</td>\n",
       "      <td>2050-05-22</td>\n",
       "      <td>cd</td>\n",
       "    </tr>\n",
       "    <tr>\n",
       "      <th>38</th>\n",
       "      <td>38.0</td>\n",
       "      <td>1977-12-05</td>\n",
       "      <td>509-93-1650</td>\n",
       "      <td>24.0</td>\n",
       "      <td>2039-11-09</td>\n",
       "      <td>cd</td>\n",
       "    </tr>\n",
       "    <tr>\n",
       "      <th>82</th>\n",
       "      <td>82.0</td>\n",
       "      <td>2002-02-20</td>\n",
       "      <td>085-93-3571</td>\n",
       "      <td>27.0</td>\n",
       "      <td>2014-12-14</td>\n",
       "      <td>savings</td>\n",
       "    </tr>\n",
       "    <tr>\n",
       "      <th>66</th>\n",
       "      <td>66.0</td>\n",
       "      <td>1959-10-01</td>\n",
       "      <td>929-11-8240</td>\n",
       "      <td>29.0</td>\n",
       "      <td>1962-08-06</td>\n",
       "      <td>cd</td>\n",
       "    </tr>\n",
       "  </tbody>\n",
       "</table>\n",
       "</div>"
      ],
      "text/plain": [
       "    CustomerID  BirthDate          SSN  AccountID AccountOpened AccountType\n",
       "74        74.0 2023-01-19  086-36-1272        3.0    2093-12-24          cd\n",
       "78        78.0 1973-08-10  020-16-6942        3.0    1990-01-24     savings\n",
       "80        80.0 2006-04-28  763-71-6221        9.0    2029-03-10     savings\n",
       "81        81.0 2023-12-26  299-00-8770       10.0    2029-12-29     savings\n",
       "50        50.0 1973-12-02  066-09-7361       11.0    2033-01-08     savings\n",
       "73        73.0 2006-10-11  226-86-6547       23.0    2032-07-17          cd\n",
       "24        24.0 1996-04-30  041-33-6362       24.0    2050-05-22          cd\n",
       "38        38.0 1977-12-05  509-93-1650       24.0    2039-11-09          cd\n",
       "82        82.0 2002-02-20  085-93-3571       27.0    2014-12-14     savings\n",
       "66        66.0 1959-10-01  929-11-8240       29.0    1962-08-06          cd"
      ]
     },
     "execution_count": 30,
     "metadata": {},
     "output_type": "execute_result"
    }
   ],
   "source": [
    "df_bank_duplicated_by_account_id = df_bank_nafix_fill[df_bank_nafix_fill.duplicated(subset=['AccountID'])]\n",
    "df_bank_duplicated_by_account_id.sort_values(by=['AccountID']).head(10)"
   ]
  },
  {
   "cell_type": "markdown",
   "id": "ed68b682-fb52-4c2d-a172-5a76aa31395b",
   "metadata": {},
   "source": [
    "6. Count how many distinct AccountIDs there are."
   ]
  },
  {
   "cell_type": "markdown",
   "id": "754c31c5-e1d2-4387-bbe8-d156e731483a",
   "metadata": {},
   "source": [
    "Suggested Google search or ChatGPT prompt: \"how can I find out how many distinct items there are in a pandas Series using python\"\n",
    "\n",
    "This time Google provides me with a page that's specifically made to answer this question:\n",
    "\n",
    "https://www.geeksforgeeks.org/how-to-count-distinct-values-of-a-pandas-dataframe-column/"
   ]
  },
  {
   "cell_type": "code",
   "execution_count": 31,
   "id": "3a5c497f-acca-4bea-b693-9e628ce40c8f",
   "metadata": {},
   "outputs": [
    {
     "name": "stdout",
     "output_type": "stream",
     "text": [
      "Number of distinct items in column 'AccountID': 63\n"
     ]
    }
   ],
   "source": [
    "distinct_count_account_id = len(df_bank_nafix_drop['AccountID'].unique())\n",
    "\n",
    "print(\"Number of distinct items in column 'AccountID':\", distinct_count_account_id)"
   ]
  },
  {
   "cell_type": "code",
   "execution_count": 32,
   "id": "00eed4aa",
   "metadata": {},
   "outputs": [
    {
     "name": "stdout",
     "output_type": "stream",
     "text": [
      "Number of distinct items in each column: \n",
      " CustomerID       96\n",
      "BirthDate        96\n",
      "SSN              96\n",
      "AccountID        63\n",
      "AccountOpened    96\n",
      "AccountType       3\n",
      "dtype: int64\n"
     ]
    }
   ],
   "source": [
    "distinct_count_all_columns = df_bank_nafix_drop.nunique()\n",
    "print(\"Number of distinct items in each column: \\n\", distinct_count_all_columns)"
   ]
  },
  {
   "cell_type": "markdown",
   "id": "85058f11-6222-4511-92f6-537be74c4807",
   "metadata": {},
   "source": [
    "7. Remove the duplicate AccountIDs so that each AccountID appears only once.\n",
    "\n",
    "This will involve using data.duplicated() but this time without keep = False.  We don't want to drop all duplicates; we want to leave one example of each value."
   ]
  },
  {
   "cell_type": "code",
   "execution_count": 33,
   "id": "d904a7ec-a21c-498b-bd1c-1b8415a48f2a",
   "metadata": {},
   "outputs": [
    {
     "data": {
      "text/plain": [
       "CustomerID       63\n",
       "BirthDate        63\n",
       "SSN              63\n",
       "AccountID        63\n",
       "AccountOpened    63\n",
       "AccountType       3\n",
       "dtype: int64"
      ]
     },
     "execution_count": 33,
     "metadata": {},
     "output_type": "execute_result"
    }
   ],
   "source": [
    "df_bank_nafix_no_duplicates_by_account_id = df_bank_nafix_drop[~df_bank_nafix_drop['AccountID'].duplicated(keep='first')]\n",
    "\n",
    "df_bank_nafix_no_duplicates_by_account_id.nunique()"
   ]
  },
  {
   "cell_type": "markdown",
   "id": "a3b55f40-7b54-462c-82a5-05960d970365",
   "metadata": {},
   "source": [
    "8. What are the mean, median, and mode customer age in years?  (Rounding down to the next lower age.)\n",
    "Are there any outliers?  (Customers with very large or very small ages, compared with the other ages?)"
   ]
  },
  {
   "cell_type": "markdown",
   "id": "48b8cb00-e676-4b21-9211-06f26edf5a61",
   "metadata": {},
   "source": [
    "Suggested Google search or ChatGPT prompt: \"how can I find out the mean, median, and mode of a pandas Series\""
   ]
  },
  {
   "cell_type": "code",
   "execution_count": 34,
   "id": "c35c242e",
   "metadata": {},
   "outputs": [
    {
     "name": "stderr",
     "output_type": "stream",
     "text": [
      "C:\\Users\\serge\\AppData\\Local\\Temp\\ipykernel_14592\\330268901.py:6: SettingWithCopyWarning: \n",
      "A value is trying to be set on a copy of a slice from a DataFrame.\n",
      "Try using .loc[row_indexer,col_indexer] = value instead\n",
      "\n",
      "See the caveats in the documentation: https://pandas.pydata.org/pandas-docs/stable/user_guide/indexing.html#returning-a-view-versus-a-copy\n",
      "  df_bank_nafix_no_duplicates_by_account_id.loc[:, \"Age\"] = df_bank_nafix_no_duplicates_by_account_id[\"BirthDate\"].apply(lambda x: calculate_age(x))\n",
      "C:\\Users\\serge\\AppData\\Local\\Temp\\ipykernel_14592\\330268901.py:8: SettingWithCopyWarning: \n",
      "A value is trying to be set on a copy of a slice from a DataFrame.\n",
      "Try using .loc[row_indexer,col_indexer] = value instead\n",
      "\n",
      "See the caveats in the documentation: https://pandas.pydata.org/pandas-docs/stable/user_guide/indexing.html#returning-a-view-versus-a-copy\n",
      "  df_bank_nafix_no_duplicates_by_account_id.loc[:, \"AccountAge\"] = df_bank_nafix_no_duplicates_by_account_id[\"AccountOpened\"].apply(lambda x: calculate_age(x))\n"
     ]
    },
    {
     "data": {
      "application/vnd.microsoft.datawrangler.viewer.v0+json": {
       "columns": [
        {
         "name": "index",
         "rawType": "int64",
         "type": "integer"
        },
        {
         "name": "CustomerID",
         "rawType": "float64",
         "type": "float"
        },
        {
         "name": "BirthDate",
         "rawType": "datetime64[ns]",
         "type": "datetime"
        },
        {
         "name": "SSN",
         "rawType": "object",
         "type": "string"
        },
        {
         "name": "AccountID",
         "rawType": "float64",
         "type": "float"
        },
        {
         "name": "AccountOpened",
         "rawType": "datetime64[ns]",
         "type": "datetime"
        },
        {
         "name": "AccountType",
         "rawType": "object",
         "type": "string"
        },
        {
         "name": "Age",
         "rawType": "int64",
         "type": "integer"
        },
        {
         "name": "AccountAge",
         "rawType": "int64",
         "type": "integer"
        }
       ],
       "conversionMethod": "pd.DataFrame",
       "ref": "78513083-5f69-411d-8bdd-e1030254f029",
       "rows": [
        [
         "3",
         "3.0",
         "2003-10-18 00:00:00",
         "474-05-7613",
         "86.0",
         "2004-03-02 00:00:00",
         "cd",
         "21",
         "21"
        ],
        [
         "4",
         "4.0",
         "1985-12-06 00:00:00",
         "750-55-5509",
         "77.0",
         "2059-05-05 00:00:00",
         "cd",
         "39",
         "-35"
        ],
        [
         "5",
         "5.0",
         "2008-02-29 00:00:00",
         "671-43-0485",
         "75.0",
         "2025-05-03 00:00:00",
         "checking",
         "17",
         "-1"
        ],
        [
         "6",
         "6.0",
         "1975-04-05 00:00:00",
         "288-62-9296",
         "56.0",
         "2048-09-21 00:00:00",
         "savings",
         "49",
         "-24"
        ],
        [
         "7",
         "7.0",
         "2016-06-18 00:00:00",
         "593-49-1249",
         "16.0",
         "2087-07-24 00:00:00",
         "savings",
         "8",
         "-63"
        ]
       ],
       "shape": {
        "columns": 8,
        "rows": 5
       }
      },
      "text/html": [
       "<div>\n",
       "<style scoped>\n",
       "    .dataframe tbody tr th:only-of-type {\n",
       "        vertical-align: middle;\n",
       "    }\n",
       "\n",
       "    .dataframe tbody tr th {\n",
       "        vertical-align: top;\n",
       "    }\n",
       "\n",
       "    .dataframe thead th {\n",
       "        text-align: right;\n",
       "    }\n",
       "</style>\n",
       "<table border=\"1\" class=\"dataframe\">\n",
       "  <thead>\n",
       "    <tr style=\"text-align: right;\">\n",
       "      <th></th>\n",
       "      <th>CustomerID</th>\n",
       "      <th>BirthDate</th>\n",
       "      <th>SSN</th>\n",
       "      <th>AccountID</th>\n",
       "      <th>AccountOpened</th>\n",
       "      <th>AccountType</th>\n",
       "      <th>Age</th>\n",
       "      <th>AccountAge</th>\n",
       "    </tr>\n",
       "  </thead>\n",
       "  <tbody>\n",
       "    <tr>\n",
       "      <th>3</th>\n",
       "      <td>3.0</td>\n",
       "      <td>2003-10-18</td>\n",
       "      <td>474-05-7613</td>\n",
       "      <td>86.0</td>\n",
       "      <td>2004-03-02</td>\n",
       "      <td>cd</td>\n",
       "      <td>21</td>\n",
       "      <td>21</td>\n",
       "    </tr>\n",
       "    <tr>\n",
       "      <th>4</th>\n",
       "      <td>4.0</td>\n",
       "      <td>1985-12-06</td>\n",
       "      <td>750-55-5509</td>\n",
       "      <td>77.0</td>\n",
       "      <td>2059-05-05</td>\n",
       "      <td>cd</td>\n",
       "      <td>39</td>\n",
       "      <td>-35</td>\n",
       "    </tr>\n",
       "    <tr>\n",
       "      <th>5</th>\n",
       "      <td>5.0</td>\n",
       "      <td>2008-02-29</td>\n",
       "      <td>671-43-0485</td>\n",
       "      <td>75.0</td>\n",
       "      <td>2025-05-03</td>\n",
       "      <td>checking</td>\n",
       "      <td>17</td>\n",
       "      <td>-1</td>\n",
       "    </tr>\n",
       "    <tr>\n",
       "      <th>6</th>\n",
       "      <td>6.0</td>\n",
       "      <td>1975-04-05</td>\n",
       "      <td>288-62-9296</td>\n",
       "      <td>56.0</td>\n",
       "      <td>2048-09-21</td>\n",
       "      <td>savings</td>\n",
       "      <td>49</td>\n",
       "      <td>-24</td>\n",
       "    </tr>\n",
       "    <tr>\n",
       "      <th>7</th>\n",
       "      <td>7.0</td>\n",
       "      <td>2016-06-18</td>\n",
       "      <td>593-49-1249</td>\n",
       "      <td>16.0</td>\n",
       "      <td>2087-07-24</td>\n",
       "      <td>savings</td>\n",
       "      <td>8</td>\n",
       "      <td>-63</td>\n",
       "    </tr>\n",
       "  </tbody>\n",
       "</table>\n",
       "</div>"
      ],
      "text/plain": [
       "   CustomerID  BirthDate          SSN  AccountID AccountOpened AccountType  \\\n",
       "3         3.0 2003-10-18  474-05-7613       86.0    2004-03-02          cd   \n",
       "4         4.0 1985-12-06  750-55-5509       77.0    2059-05-05          cd   \n",
       "5         5.0 2008-02-29  671-43-0485       75.0    2025-05-03    checking   \n",
       "6         6.0 1975-04-05  288-62-9296       56.0    2048-09-21     savings   \n",
       "7         7.0 2016-06-18  593-49-1249       16.0    2087-07-24     savings   \n",
       "\n",
       "   Age  AccountAge  \n",
       "3   21          21  \n",
       "4   39         -35  \n",
       "5   17          -1  \n",
       "6   49         -24  \n",
       "7    8         -63  "
      ]
     },
     "execution_count": 34,
     "metadata": {},
     "output_type": "execute_result"
    }
   ],
   "source": [
    "def calculate_age(birth_date):\n",
    "    today = datetime.today()\n",
    "    age = today.year - birth_date.year - ((today.month, today.day) < (birth_date.month, birth_date.day))\n",
    "    return age\n",
    "\n",
    "df_bank_nafix_no_duplicates_by_account_id.loc[:, \"Age\"] = df_bank_nafix_no_duplicates_by_account_id[\"BirthDate\"].apply(lambda x: calculate_age(x))\n",
    "\n",
    "df_bank_nafix_no_duplicates_by_account_id.loc[:, \"AccountAge\"] = df_bank_nafix_no_duplicates_by_account_id[\"AccountOpened\"].apply(lambda x: calculate_age(x))\n",
    "\n",
    "df_bank_nafix_no_duplicates_by_account_id.head()"
   ]
  },
  {
   "cell_type": "code",
   "execution_count": 35,
   "id": "64f65630",
   "metadata": {},
   "outputs": [
    {
     "name": "stdout",
     "output_type": "stream",
     "text": [
      "Max age: 73; Min age: 1\n",
      "Mean age: 36; Median: 34; Mode: 28; Standard deviation: 19.844144389825935\n"
     ]
    }
   ],
   "source": [
    "import math\n",
    "\n",
    "max_age = df_bank_nafix_no_duplicates_by_account_id[\"Age\"].max()\n",
    "min_age = df_bank_nafix_no_duplicates_by_account_id[\"Age\"].min()\n",
    "print(f\"Max age: {max_age}; Min age: {min_age}\")\n",
    "\n",
    "mean_age = math.floor(df_bank_nafix_no_duplicates_by_account_id[\"Age\"].mean())\n",
    "median_age = math.floor(df_bank_nafix_no_duplicates_by_account_id[\"Age\"].median())\n",
    "mode_age = math.floor(df_bank_nafix_no_duplicates_by_account_id[\"Age\"].mode().iloc[0])\n",
    "std_age = df_bank_nafix_no_duplicates_by_account_id[\"Age\"].std()\n",
    "\n",
    "print(f\"Mean age: {mean_age}; Median: {median_age}; Mode: {mode_age}; Standard deviation: {std_age}\")"
   ]
  },
  {
   "cell_type": "code",
   "execution_count": 36,
   "id": "94da19bf",
   "metadata": {},
   "outputs": [
    {
     "name": "stdout",
     "output_type": "stream",
     "text": [
      "Outliers using Rule-Based Method and domain knowlage:\n"
     ]
    },
    {
     "data": {
      "application/vnd.microsoft.datawrangler.viewer.v0+json": {
       "columns": [
        {
         "name": "index",
         "rawType": "int64",
         "type": "integer"
        },
        {
         "name": "CustomerID",
         "rawType": "float64",
         "type": "float"
        },
        {
         "name": "BirthDate",
         "rawType": "datetime64[ns]",
         "type": "datetime"
        },
        {
         "name": "SSN",
         "rawType": "object",
         "type": "string"
        },
        {
         "name": "AccountID",
         "rawType": "float64",
         "type": "float"
        },
        {
         "name": "AccountOpened",
         "rawType": "datetime64[ns]",
         "type": "datetime"
        },
        {
         "name": "AccountType",
         "rawType": "object",
         "type": "string"
        },
        {
         "name": "Age",
         "rawType": "int64",
         "type": "integer"
        },
        {
         "name": "AccountAge",
         "rawType": "int64",
         "type": "integer"
        }
       ],
       "conversionMethod": "pd.DataFrame",
       "ref": "0ba56561-f0ea-44e7-a281-c686ce317a3c",
       "rows": [
        [
         "5",
         "5.0",
         "2008-02-29 00:00:00",
         "671-43-0485",
         "75.0",
         "2025-05-03 00:00:00",
         "checking",
         "17",
         "-1"
        ],
        [
         "7",
         "7.0",
         "2016-06-18 00:00:00",
         "593-49-1249",
         "16.0",
         "2087-07-24 00:00:00",
         "savings",
         "8",
         "-63"
        ],
        [
         "9",
         "9.0",
         "2010-12-10 00:00:00",
         "844-31-4793",
         "29.0",
         "2048-06-01 00:00:00",
         "checking",
         "14",
         "-24"
        ],
        [
         "21",
         "21.0",
         "2016-02-16 00:00:00",
         "972-63-5997",
         "13.0",
         "2077-03-09 00:00:00",
         "cd",
         "9",
         "-52"
        ],
        [
         "37",
         "37.0",
         "2017-07-23 00:00:00",
         "991-68-0187",
         "88.0",
         "2094-12-17 00:00:00",
         "checking",
         "7",
         "-70"
        ]
       ],
       "shape": {
        "columns": 8,
        "rows": 5
       }
      },
      "text/html": [
       "<div>\n",
       "<style scoped>\n",
       "    .dataframe tbody tr th:only-of-type {\n",
       "        vertical-align: middle;\n",
       "    }\n",
       "\n",
       "    .dataframe tbody tr th {\n",
       "        vertical-align: top;\n",
       "    }\n",
       "\n",
       "    .dataframe thead th {\n",
       "        text-align: right;\n",
       "    }\n",
       "</style>\n",
       "<table border=\"1\" class=\"dataframe\">\n",
       "  <thead>\n",
       "    <tr style=\"text-align: right;\">\n",
       "      <th></th>\n",
       "      <th>CustomerID</th>\n",
       "      <th>BirthDate</th>\n",
       "      <th>SSN</th>\n",
       "      <th>AccountID</th>\n",
       "      <th>AccountOpened</th>\n",
       "      <th>AccountType</th>\n",
       "      <th>Age</th>\n",
       "      <th>AccountAge</th>\n",
       "    </tr>\n",
       "  </thead>\n",
       "  <tbody>\n",
       "    <tr>\n",
       "      <th>5</th>\n",
       "      <td>5.0</td>\n",
       "      <td>2008-02-29</td>\n",
       "      <td>671-43-0485</td>\n",
       "      <td>75.0</td>\n",
       "      <td>2025-05-03</td>\n",
       "      <td>checking</td>\n",
       "      <td>17</td>\n",
       "      <td>-1</td>\n",
       "    </tr>\n",
       "    <tr>\n",
       "      <th>7</th>\n",
       "      <td>7.0</td>\n",
       "      <td>2016-06-18</td>\n",
       "      <td>593-49-1249</td>\n",
       "      <td>16.0</td>\n",
       "      <td>2087-07-24</td>\n",
       "      <td>savings</td>\n",
       "      <td>8</td>\n",
       "      <td>-63</td>\n",
       "    </tr>\n",
       "    <tr>\n",
       "      <th>9</th>\n",
       "      <td>9.0</td>\n",
       "      <td>2010-12-10</td>\n",
       "      <td>844-31-4793</td>\n",
       "      <td>29.0</td>\n",
       "      <td>2048-06-01</td>\n",
       "      <td>checking</td>\n",
       "      <td>14</td>\n",
       "      <td>-24</td>\n",
       "    </tr>\n",
       "    <tr>\n",
       "      <th>21</th>\n",
       "      <td>21.0</td>\n",
       "      <td>2016-02-16</td>\n",
       "      <td>972-63-5997</td>\n",
       "      <td>13.0</td>\n",
       "      <td>2077-03-09</td>\n",
       "      <td>cd</td>\n",
       "      <td>9</td>\n",
       "      <td>-52</td>\n",
       "    </tr>\n",
       "    <tr>\n",
       "      <th>37</th>\n",
       "      <td>37.0</td>\n",
       "      <td>2017-07-23</td>\n",
       "      <td>991-68-0187</td>\n",
       "      <td>88.0</td>\n",
       "      <td>2094-12-17</td>\n",
       "      <td>checking</td>\n",
       "      <td>7</td>\n",
       "      <td>-70</td>\n",
       "    </tr>\n",
       "  </tbody>\n",
       "</table>\n",
       "</div>"
      ],
      "text/plain": [
       "    CustomerID  BirthDate          SSN  AccountID AccountOpened AccountType  \\\n",
       "5          5.0 2008-02-29  671-43-0485       75.0    2025-05-03    checking   \n",
       "7          7.0 2016-06-18  593-49-1249       16.0    2087-07-24     savings   \n",
       "9          9.0 2010-12-10  844-31-4793       29.0    2048-06-01    checking   \n",
       "21        21.0 2016-02-16  972-63-5997       13.0    2077-03-09          cd   \n",
       "37        37.0 2017-07-23  991-68-0187       88.0    2094-12-17    checking   \n",
       "\n",
       "    Age  AccountAge  \n",
       "5    17          -1  \n",
       "7     8         -63  \n",
       "9    14         -24  \n",
       "21    9         -52  \n",
       "37    7         -70  "
      ]
     },
     "execution_count": 36,
     "metadata": {},
     "output_type": "execute_result"
    }
   ],
   "source": [
    "lower_bound = 18 # leagal bound \n",
    "upper_bound = 80 # high risk bound\n",
    "outliers_rule = df_bank_nafix_no_duplicates_by_account_id[(df_bank_nafix_no_duplicates_by_account_id[\"Age\"] < lower_bound) | (df_bank_nafix_no_duplicates_by_account_id[\"Age\"] > upper_bound)]\n",
    "\n",
    "print(\"Outliers using Rule-Based Method and domain knowlage:\")\n",
    "outliers_rule.head()"
   ]
  },
  {
   "cell_type": "code",
   "execution_count": 37,
   "id": "5a82ec5f",
   "metadata": {},
   "outputs": [
    {
     "name": "stdout",
     "output_type": "stream",
     "text": [
      "Z-scores: \n",
      "3   -0.755890\n",
      "4    0.151178\n",
      "5   -0.957461\n",
      "6    0.655105\n",
      "7   -1.410996\n",
      "Name: Z_score, dtype: float64\n"
     ]
    },
    {
     "name": "stderr",
     "output_type": "stream",
     "text": [
      "C:\\Users\\serge\\AppData\\Local\\Temp\\ipykernel_14592\\2176572417.py:1: SettingWithCopyWarning: \n",
      "A value is trying to be set on a copy of a slice from a DataFrame.\n",
      "Try using .loc[row_indexer,col_indexer] = value instead\n",
      "\n",
      "See the caveats in the documentation: https://pandas.pydata.org/pandas-docs/stable/user_guide/indexing.html#returning-a-view-versus-a-copy\n",
      "  df_bank_nafix_no_duplicates_by_account_id.loc[:, \"Z_score\"] = (df_bank_nafix_no_duplicates_by_account_id[\"Age\"] - mean_age) / std_age\n"
     ]
    },
    {
     "data": {
      "application/vnd.microsoft.datawrangler.viewer.v0+json": {
       "columns": [
        {
         "name": "index",
         "rawType": "int64",
         "type": "integer"
        },
        {
         "name": "CustomerID",
         "rawType": "float64",
         "type": "float"
        },
        {
         "name": "BirthDate",
         "rawType": "datetime64[ns]",
         "type": "datetime"
        },
        {
         "name": "SSN",
         "rawType": "object",
         "type": "string"
        },
        {
         "name": "AccountID",
         "rawType": "float64",
         "type": "float"
        },
        {
         "name": "AccountOpened",
         "rawType": "datetime64[ns]",
         "type": "datetime"
        },
        {
         "name": "AccountType",
         "rawType": "object",
         "type": "string"
        },
        {
         "name": "Age",
         "rawType": "int64",
         "type": "integer"
        },
        {
         "name": "AccountAge",
         "rawType": "int64",
         "type": "integer"
        },
        {
         "name": "Z_score",
         "rawType": "float64",
         "type": "float"
        }
       ],
       "conversionMethod": "pd.DataFrame",
       "ref": "9800ccc7-0224-4953-8be7-fdcf4582cf04",
       "rows": [
        [
         "22",
         "22.0",
         "1957-12-07 00:00:00",
         "550-58-6755",
         "71.0",
         "2016-11-20 00:00:00",
         "savings",
         "67",
         "8",
         "1.5621736765780467"
        ],
        [
         "28",
         "28.0",
         "1955-12-04 00:00:00",
         "863-97-2245",
         "40.0",
         "1996-02-08 00:00:00",
         "checking",
         "69",
         "29",
         "1.662959075066953"
        ],
        [
         "33",
         "33.0",
         "1955-02-15 00:00:00",
         "986-06-7499",
         "93.0",
         "1967-11-11 00:00:00",
         "cd",
         "70",
         "57",
         "1.713351774311406"
        ],
        [
         "35",
         "35.0",
         "1956-11-01 00:00:00",
         "470-06-0415",
         "95.0",
         "2031-10-28 00:00:00",
         "checking",
         "68",
         "-7",
         "1.6125663758224997"
        ],
        [
         "39",
         "39.0",
         "1952-01-26 00:00:00",
         "810-29-3625",
         "67.0",
         "1983-11-04 00:00:00",
         "checking",
         "73",
         "41",
         "1.8645298720447654"
        ],
        [
         "40",
         "40.0",
         "1952-03-08 00:00:00",
         "291-98-5506",
         "82.0",
         "1953-05-05 00:00:00",
         "cd",
         "73",
         "71",
         "1.8645298720447654"
        ],
        [
         "42",
         "42.0",
         "1958-10-25 00:00:00",
         "705-50-4163",
         "76.0",
         "2036-04-28 00:00:00",
         "cd",
         "66",
         "-12",
         "1.5117809773335935"
        ],
        [
         "59",
         "59.0",
         "2019-06-26 00:00:00",
         "119-05-0326",
         "89.0",
         "2065-03-29 00:00:00",
         "savings",
         "5",
         "-41",
         "-1.5621736765780467"
        ],
        [
         "61",
         "61.0",
         "2023-03-31 00:00:00",
         "040-18-6728",
         "53.0",
         "2068-01-17 00:00:00",
         "savings",
         "1",
         "-43",
         "-1.7637444735558592"
        ],
        [
         "62",
         "62.0",
         "2022-08-23 00:00:00",
         "719-02-2091",
         "51.0",
         "2090-07-02 00:00:00",
         "cd",
         "2",
         "-66",
         "-1.713351774311406"
        ]
       ],
       "shape": {
        "columns": 9,
        "rows": 10
       }
      },
      "text/html": [
       "<div>\n",
       "<style scoped>\n",
       "    .dataframe tbody tr th:only-of-type {\n",
       "        vertical-align: middle;\n",
       "    }\n",
       "\n",
       "    .dataframe tbody tr th {\n",
       "        vertical-align: top;\n",
       "    }\n",
       "\n",
       "    .dataframe thead th {\n",
       "        text-align: right;\n",
       "    }\n",
       "</style>\n",
       "<table border=\"1\" class=\"dataframe\">\n",
       "  <thead>\n",
       "    <tr style=\"text-align: right;\">\n",
       "      <th></th>\n",
       "      <th>CustomerID</th>\n",
       "      <th>BirthDate</th>\n",
       "      <th>SSN</th>\n",
       "      <th>AccountID</th>\n",
       "      <th>AccountOpened</th>\n",
       "      <th>AccountType</th>\n",
       "      <th>Age</th>\n",
       "      <th>AccountAge</th>\n",
       "      <th>Z_score</th>\n",
       "    </tr>\n",
       "  </thead>\n",
       "  <tbody>\n",
       "    <tr>\n",
       "      <th>22</th>\n",
       "      <td>22.0</td>\n",
       "      <td>1957-12-07</td>\n",
       "      <td>550-58-6755</td>\n",
       "      <td>71.0</td>\n",
       "      <td>2016-11-20</td>\n",
       "      <td>savings</td>\n",
       "      <td>67</td>\n",
       "      <td>8</td>\n",
       "      <td>1.562174</td>\n",
       "    </tr>\n",
       "    <tr>\n",
       "      <th>28</th>\n",
       "      <td>28.0</td>\n",
       "      <td>1955-12-04</td>\n",
       "      <td>863-97-2245</td>\n",
       "      <td>40.0</td>\n",
       "      <td>1996-02-08</td>\n",
       "      <td>checking</td>\n",
       "      <td>69</td>\n",
       "      <td>29</td>\n",
       "      <td>1.662959</td>\n",
       "    </tr>\n",
       "    <tr>\n",
       "      <th>33</th>\n",
       "      <td>33.0</td>\n",
       "      <td>1955-02-15</td>\n",
       "      <td>986-06-7499</td>\n",
       "      <td>93.0</td>\n",
       "      <td>1967-11-11</td>\n",
       "      <td>cd</td>\n",
       "      <td>70</td>\n",
       "      <td>57</td>\n",
       "      <td>1.713352</td>\n",
       "    </tr>\n",
       "    <tr>\n",
       "      <th>35</th>\n",
       "      <td>35.0</td>\n",
       "      <td>1956-11-01</td>\n",
       "      <td>470-06-0415</td>\n",
       "      <td>95.0</td>\n",
       "      <td>2031-10-28</td>\n",
       "      <td>checking</td>\n",
       "      <td>68</td>\n",
       "      <td>-7</td>\n",
       "      <td>1.612566</td>\n",
       "    </tr>\n",
       "    <tr>\n",
       "      <th>39</th>\n",
       "      <td>39.0</td>\n",
       "      <td>1952-01-26</td>\n",
       "      <td>810-29-3625</td>\n",
       "      <td>67.0</td>\n",
       "      <td>1983-11-04</td>\n",
       "      <td>checking</td>\n",
       "      <td>73</td>\n",
       "      <td>41</td>\n",
       "      <td>1.864530</td>\n",
       "    </tr>\n",
       "    <tr>\n",
       "      <th>40</th>\n",
       "      <td>40.0</td>\n",
       "      <td>1952-03-08</td>\n",
       "      <td>291-98-5506</td>\n",
       "      <td>82.0</td>\n",
       "      <td>1953-05-05</td>\n",
       "      <td>cd</td>\n",
       "      <td>73</td>\n",
       "      <td>71</td>\n",
       "      <td>1.864530</td>\n",
       "    </tr>\n",
       "    <tr>\n",
       "      <th>42</th>\n",
       "      <td>42.0</td>\n",
       "      <td>1958-10-25</td>\n",
       "      <td>705-50-4163</td>\n",
       "      <td>76.0</td>\n",
       "      <td>2036-04-28</td>\n",
       "      <td>cd</td>\n",
       "      <td>66</td>\n",
       "      <td>-12</td>\n",
       "      <td>1.511781</td>\n",
       "    </tr>\n",
       "    <tr>\n",
       "      <th>59</th>\n",
       "      <td>59.0</td>\n",
       "      <td>2019-06-26</td>\n",
       "      <td>119-05-0326</td>\n",
       "      <td>89.0</td>\n",
       "      <td>2065-03-29</td>\n",
       "      <td>savings</td>\n",
       "      <td>5</td>\n",
       "      <td>-41</td>\n",
       "      <td>-1.562174</td>\n",
       "    </tr>\n",
       "    <tr>\n",
       "      <th>61</th>\n",
       "      <td>61.0</td>\n",
       "      <td>2023-03-31</td>\n",
       "      <td>040-18-6728</td>\n",
       "      <td>53.0</td>\n",
       "      <td>2068-01-17</td>\n",
       "      <td>savings</td>\n",
       "      <td>1</td>\n",
       "      <td>-43</td>\n",
       "      <td>-1.763744</td>\n",
       "    </tr>\n",
       "    <tr>\n",
       "      <th>62</th>\n",
       "      <td>62.0</td>\n",
       "      <td>2022-08-23</td>\n",
       "      <td>719-02-2091</td>\n",
       "      <td>51.0</td>\n",
       "      <td>2090-07-02</td>\n",
       "      <td>cd</td>\n",
       "      <td>2</td>\n",
       "      <td>-66</td>\n",
       "      <td>-1.713352</td>\n",
       "    </tr>\n",
       "  </tbody>\n",
       "</table>\n",
       "</div>"
      ],
      "text/plain": [
       "    CustomerID  BirthDate          SSN  AccountID AccountOpened AccountType  \\\n",
       "22        22.0 1957-12-07  550-58-6755       71.0    2016-11-20     savings   \n",
       "28        28.0 1955-12-04  863-97-2245       40.0    1996-02-08    checking   \n",
       "33        33.0 1955-02-15  986-06-7499       93.0    1967-11-11          cd   \n",
       "35        35.0 1956-11-01  470-06-0415       95.0    2031-10-28    checking   \n",
       "39        39.0 1952-01-26  810-29-3625       67.0    1983-11-04    checking   \n",
       "40        40.0 1952-03-08  291-98-5506       82.0    1953-05-05          cd   \n",
       "42        42.0 1958-10-25  705-50-4163       76.0    2036-04-28          cd   \n",
       "59        59.0 2019-06-26  119-05-0326       89.0    2065-03-29     savings   \n",
       "61        61.0 2023-03-31  040-18-6728       53.0    2068-01-17     savings   \n",
       "62        62.0 2022-08-23  719-02-2091       51.0    2090-07-02          cd   \n",
       "\n",
       "    Age  AccountAge   Z_score  \n",
       "22   67           8  1.562174  \n",
       "28   69          29  1.662959  \n",
       "33   70          57  1.713352  \n",
       "35   68          -7  1.612566  \n",
       "39   73          41  1.864530  \n",
       "40   73          71  1.864530  \n",
       "42   66         -12  1.511781  \n",
       "59    5         -41 -1.562174  \n",
       "61    1         -43 -1.763744  \n",
       "62    2         -66 -1.713352  "
      ]
     },
     "execution_count": 37,
     "metadata": {},
     "output_type": "execute_result"
    }
   ],
   "source": [
    "df_bank_nafix_no_duplicates_by_account_id.loc[:, \"Z_score\"] = (df_bank_nafix_no_duplicates_by_account_id[\"Age\"] - mean_age) / std_age\n",
    "print(f\"Z-scores: \\n{df_bank_nafix_no_duplicates_by_account_id['Z_score'].head()}\")\n",
    "\n",
    "outliers_z = df_bank_nafix_no_duplicates_by_account_id[(df_bank_nafix_no_duplicates_by_account_id[\"Z_score\"] > 1.5) | (df_bank_nafix_no_duplicates_by_account_id[\"Z_score\"] < -1.5)]\n",
    "\n",
    "outliers_z"
   ]
  },
  {
   "cell_type": "code",
   "execution_count": 38,
   "id": "77b9abca",
   "metadata": {},
   "outputs": [
    {
     "data": {
      "application/vnd.microsoft.datawrangler.viewer.v0+json": {
       "columns": [
        {
         "name": "index",
         "rawType": "int64",
         "type": "integer"
        },
        {
         "name": "CustomerID",
         "rawType": "float64",
         "type": "float"
        },
        {
         "name": "BirthDate",
         "rawType": "datetime64[ns]",
         "type": "datetime"
        },
        {
         "name": "SSN",
         "rawType": "object",
         "type": "string"
        },
        {
         "name": "AccountID",
         "rawType": "float64",
         "type": "float"
        },
        {
         "name": "AccountOpened",
         "rawType": "datetime64[ns]",
         "type": "datetime"
        },
        {
         "name": "AccountType",
         "rawType": "object",
         "type": "string"
        },
        {
         "name": "Age",
         "rawType": "int64",
         "type": "integer"
        },
        {
         "name": "AccountAge",
         "rawType": "int64",
         "type": "integer"
        },
        {
         "name": "Z_score",
         "rawType": "float64",
         "type": "float"
        }
       ],
       "conversionMethod": "pd.DataFrame",
       "ref": "af6f16ba-3de9-415e-a102-b8ef28557900",
       "rows": [
        [
         "4",
         "4.0",
         "1985-12-06 00:00:00",
         "750-55-5509",
         "77.0",
         "2059-05-05 00:00:00",
         "cd",
         "39",
         "-35",
         "0.15117809773335936"
        ],
        [
         "5",
         "5.0",
         "2008-02-29 00:00:00",
         "671-43-0485",
         "75.0",
         "2025-05-03 00:00:00",
         "checking",
         "17",
         "-1",
         "-0.9574612856446093"
        ],
        [
         "6",
         "6.0",
         "1975-04-05 00:00:00",
         "288-62-9296",
         "56.0",
         "2048-09-21 00:00:00",
         "savings",
         "49",
         "-24",
         "0.6551050901778905"
        ],
        [
         "7",
         "7.0",
         "2016-06-18 00:00:00",
         "593-49-1249",
         "16.0",
         "2087-07-24 00:00:00",
         "savings",
         "8",
         "-63",
         "-1.4109955788446873"
        ],
        [
         "8",
         "8.0",
         "2006-10-31 00:00:00",
         "121-74-2917",
         "24.0",
         "2046-11-17 00:00:00",
         "savings",
         "18",
         "-22",
         "-0.9070685864001562"
        ]
       ],
       "shape": {
        "columns": 9,
        "rows": 5
       }
      },
      "text/html": [
       "<div>\n",
       "<style scoped>\n",
       "    .dataframe tbody tr th:only-of-type {\n",
       "        vertical-align: middle;\n",
       "    }\n",
       "\n",
       "    .dataframe tbody tr th {\n",
       "        vertical-align: top;\n",
       "    }\n",
       "\n",
       "    .dataframe thead th {\n",
       "        text-align: right;\n",
       "    }\n",
       "</style>\n",
       "<table border=\"1\" class=\"dataframe\">\n",
       "  <thead>\n",
       "    <tr style=\"text-align: right;\">\n",
       "      <th></th>\n",
       "      <th>CustomerID</th>\n",
       "      <th>BirthDate</th>\n",
       "      <th>SSN</th>\n",
       "      <th>AccountID</th>\n",
       "      <th>AccountOpened</th>\n",
       "      <th>AccountType</th>\n",
       "      <th>Age</th>\n",
       "      <th>AccountAge</th>\n",
       "      <th>Z_score</th>\n",
       "    </tr>\n",
       "  </thead>\n",
       "  <tbody>\n",
       "    <tr>\n",
       "      <th>4</th>\n",
       "      <td>4.0</td>\n",
       "      <td>1985-12-06</td>\n",
       "      <td>750-55-5509</td>\n",
       "      <td>77.0</td>\n",
       "      <td>2059-05-05</td>\n",
       "      <td>cd</td>\n",
       "      <td>39</td>\n",
       "      <td>-35</td>\n",
       "      <td>0.151178</td>\n",
       "    </tr>\n",
       "    <tr>\n",
       "      <th>5</th>\n",
       "      <td>5.0</td>\n",
       "      <td>2008-02-29</td>\n",
       "      <td>671-43-0485</td>\n",
       "      <td>75.0</td>\n",
       "      <td>2025-05-03</td>\n",
       "      <td>checking</td>\n",
       "      <td>17</td>\n",
       "      <td>-1</td>\n",
       "      <td>-0.957461</td>\n",
       "    </tr>\n",
       "    <tr>\n",
       "      <th>6</th>\n",
       "      <td>6.0</td>\n",
       "      <td>1975-04-05</td>\n",
       "      <td>288-62-9296</td>\n",
       "      <td>56.0</td>\n",
       "      <td>2048-09-21</td>\n",
       "      <td>savings</td>\n",
       "      <td>49</td>\n",
       "      <td>-24</td>\n",
       "      <td>0.655105</td>\n",
       "    </tr>\n",
       "    <tr>\n",
       "      <th>7</th>\n",
       "      <td>7.0</td>\n",
       "      <td>2016-06-18</td>\n",
       "      <td>593-49-1249</td>\n",
       "      <td>16.0</td>\n",
       "      <td>2087-07-24</td>\n",
       "      <td>savings</td>\n",
       "      <td>8</td>\n",
       "      <td>-63</td>\n",
       "      <td>-1.410996</td>\n",
       "    </tr>\n",
       "    <tr>\n",
       "      <th>8</th>\n",
       "      <td>8.0</td>\n",
       "      <td>2006-10-31</td>\n",
       "      <td>121-74-2917</td>\n",
       "      <td>24.0</td>\n",
       "      <td>2046-11-17</td>\n",
       "      <td>savings</td>\n",
       "      <td>18</td>\n",
       "      <td>-22</td>\n",
       "      <td>-0.907069</td>\n",
       "    </tr>\n",
       "  </tbody>\n",
       "</table>\n",
       "</div>"
      ],
      "text/plain": [
       "   CustomerID  BirthDate          SSN  AccountID AccountOpened AccountType  \\\n",
       "4         4.0 1985-12-06  750-55-5509       77.0    2059-05-05          cd   \n",
       "5         5.0 2008-02-29  671-43-0485       75.0    2025-05-03    checking   \n",
       "6         6.0 1975-04-05  288-62-9296       56.0    2048-09-21     savings   \n",
       "7         7.0 2016-06-18  593-49-1249       16.0    2087-07-24     savings   \n",
       "8         8.0 2006-10-31  121-74-2917       24.0    2046-11-17     savings   \n",
       "\n",
       "   Age  AccountAge   Z_score  \n",
       "4   39         -35  0.151178  \n",
       "5   17          -1 -0.957461  \n",
       "6   49         -24  0.655105  \n",
       "7    8         -63 -1.410996  \n",
       "8   18         -22 -0.907069  "
      ]
     },
     "execution_count": 38,
     "metadata": {},
     "output_type": "execute_result"
    }
   ],
   "source": [
    "account_oppened_before_birth = df_bank_nafix_no_duplicates_by_account_id[(df_bank_nafix_no_duplicates_by_account_id[\"AccountAge\"] < 0)]\n",
    "account_oppened_before_birth.head()"
   ]
  },
  {
   "cell_type": "markdown",
   "id": "b2cc3e88-aa16-4748-bf2d-b4c9672c7170",
   "metadata": {},
   "source": [
    "9. One-hot encode the AccountType column.  This means creating a new \"checking,\" \"savings\", and \"cd\" columns so that you can run machine learning algorithms."
   ]
  },
  {
   "cell_type": "code",
   "execution_count": 39,
   "id": "3ef9c041-9c44-4130-beec-c701ca1117a8",
   "metadata": {},
   "outputs": [
    {
     "data": {
      "application/vnd.microsoft.datawrangler.viewer.v0+json": {
       "columns": [
        {
         "name": "index",
         "rawType": "int64",
         "type": "integer"
        },
        {
         "name": "CustomerID",
         "rawType": "float64",
         "type": "float"
        },
        {
         "name": "BirthDate",
         "rawType": "datetime64[ns]",
         "type": "datetime"
        },
        {
         "name": "SSN",
         "rawType": "object",
         "type": "string"
        },
        {
         "name": "AccountID",
         "rawType": "float64",
         "type": "float"
        },
        {
         "name": "AccountOpened",
         "rawType": "datetime64[ns]",
         "type": "datetime"
        },
        {
         "name": "AccountType",
         "rawType": "object",
         "type": "string"
        },
        {
         "name": "Age",
         "rawType": "int64",
         "type": "integer"
        },
        {
         "name": "AccountAge",
         "rawType": "int64",
         "type": "integer"
        },
        {
         "name": "Z_score",
         "rawType": "float64",
         "type": "float"
        },
        {
         "name": "cd",
         "rawType": "bool",
         "type": "boolean"
        },
        {
         "name": "checking",
         "rawType": "bool",
         "type": "boolean"
        },
        {
         "name": "savings",
         "rawType": "bool",
         "type": "boolean"
        }
       ],
       "conversionMethod": "pd.DataFrame",
       "ref": "42550a42-ba4e-4f29-8eaf-f257c366a82a",
       "rows": [
        [
         "3",
         "3.0",
         "2003-10-18 00:00:00",
         "474-05-7613",
         "86.0",
         "2004-03-02 00:00:00",
         "cd",
         "21",
         "21",
         "-0.7558904886667968",
         "True",
         "False",
         "False"
        ],
        [
         "4",
         "4.0",
         "1985-12-06 00:00:00",
         "750-55-5509",
         "77.0",
         "2059-05-05 00:00:00",
         "cd",
         "39",
         "-35",
         "0.15117809773335936",
         "True",
         "False",
         "False"
        ],
        [
         "5",
         "5.0",
         "2008-02-29 00:00:00",
         "671-43-0485",
         "75.0",
         "2025-05-03 00:00:00",
         "checking",
         "17",
         "-1",
         "-0.9574612856446093",
         "False",
         "True",
         "False"
        ],
        [
         "6",
         "6.0",
         "1975-04-05 00:00:00",
         "288-62-9296",
         "56.0",
         "2048-09-21 00:00:00",
         "savings",
         "49",
         "-24",
         "0.6551050901778905",
         "False",
         "False",
         "True"
        ],
        [
         "7",
         "7.0",
         "2016-06-18 00:00:00",
         "593-49-1249",
         "16.0",
         "2087-07-24 00:00:00",
         "savings",
         "8",
         "-63",
         "-1.4109955788446873",
         "False",
         "False",
         "True"
        ]
       ],
       "shape": {
        "columns": 12,
        "rows": 5
       }
      },
      "text/html": [
       "<div>\n",
       "<style scoped>\n",
       "    .dataframe tbody tr th:only-of-type {\n",
       "        vertical-align: middle;\n",
       "    }\n",
       "\n",
       "    .dataframe tbody tr th {\n",
       "        vertical-align: top;\n",
       "    }\n",
       "\n",
       "    .dataframe thead th {\n",
       "        text-align: right;\n",
       "    }\n",
       "</style>\n",
       "<table border=\"1\" class=\"dataframe\">\n",
       "  <thead>\n",
       "    <tr style=\"text-align: right;\">\n",
       "      <th></th>\n",
       "      <th>CustomerID</th>\n",
       "      <th>BirthDate</th>\n",
       "      <th>SSN</th>\n",
       "      <th>AccountID</th>\n",
       "      <th>AccountOpened</th>\n",
       "      <th>AccountType</th>\n",
       "      <th>Age</th>\n",
       "      <th>AccountAge</th>\n",
       "      <th>Z_score</th>\n",
       "      <th>cd</th>\n",
       "      <th>checking</th>\n",
       "      <th>savings</th>\n",
       "    </tr>\n",
       "  </thead>\n",
       "  <tbody>\n",
       "    <tr>\n",
       "      <th>3</th>\n",
       "      <td>3.0</td>\n",
       "      <td>2003-10-18</td>\n",
       "      <td>474-05-7613</td>\n",
       "      <td>86.0</td>\n",
       "      <td>2004-03-02</td>\n",
       "      <td>cd</td>\n",
       "      <td>21</td>\n",
       "      <td>21</td>\n",
       "      <td>-0.755890</td>\n",
       "      <td>True</td>\n",
       "      <td>False</td>\n",
       "      <td>False</td>\n",
       "    </tr>\n",
       "    <tr>\n",
       "      <th>4</th>\n",
       "      <td>4.0</td>\n",
       "      <td>1985-12-06</td>\n",
       "      <td>750-55-5509</td>\n",
       "      <td>77.0</td>\n",
       "      <td>2059-05-05</td>\n",
       "      <td>cd</td>\n",
       "      <td>39</td>\n",
       "      <td>-35</td>\n",
       "      <td>0.151178</td>\n",
       "      <td>True</td>\n",
       "      <td>False</td>\n",
       "      <td>False</td>\n",
       "    </tr>\n",
       "    <tr>\n",
       "      <th>5</th>\n",
       "      <td>5.0</td>\n",
       "      <td>2008-02-29</td>\n",
       "      <td>671-43-0485</td>\n",
       "      <td>75.0</td>\n",
       "      <td>2025-05-03</td>\n",
       "      <td>checking</td>\n",
       "      <td>17</td>\n",
       "      <td>-1</td>\n",
       "      <td>-0.957461</td>\n",
       "      <td>False</td>\n",
       "      <td>True</td>\n",
       "      <td>False</td>\n",
       "    </tr>\n",
       "    <tr>\n",
       "      <th>6</th>\n",
       "      <td>6.0</td>\n",
       "      <td>1975-04-05</td>\n",
       "      <td>288-62-9296</td>\n",
       "      <td>56.0</td>\n",
       "      <td>2048-09-21</td>\n",
       "      <td>savings</td>\n",
       "      <td>49</td>\n",
       "      <td>-24</td>\n",
       "      <td>0.655105</td>\n",
       "      <td>False</td>\n",
       "      <td>False</td>\n",
       "      <td>True</td>\n",
       "    </tr>\n",
       "    <tr>\n",
       "      <th>7</th>\n",
       "      <td>7.0</td>\n",
       "      <td>2016-06-18</td>\n",
       "      <td>593-49-1249</td>\n",
       "      <td>16.0</td>\n",
       "      <td>2087-07-24</td>\n",
       "      <td>savings</td>\n",
       "      <td>8</td>\n",
       "      <td>-63</td>\n",
       "      <td>-1.410996</td>\n",
       "      <td>False</td>\n",
       "      <td>False</td>\n",
       "      <td>True</td>\n",
       "    </tr>\n",
       "  </tbody>\n",
       "</table>\n",
       "</div>"
      ],
      "text/plain": [
       "   CustomerID  BirthDate          SSN  AccountID AccountOpened AccountType  \\\n",
       "3         3.0 2003-10-18  474-05-7613       86.0    2004-03-02          cd   \n",
       "4         4.0 1985-12-06  750-55-5509       77.0    2059-05-05          cd   \n",
       "5         5.0 2008-02-29  671-43-0485       75.0    2025-05-03    checking   \n",
       "6         6.0 1975-04-05  288-62-9296       56.0    2048-09-21     savings   \n",
       "7         7.0 2016-06-18  593-49-1249       16.0    2087-07-24     savings   \n",
       "\n",
       "   Age  AccountAge   Z_score     cd  checking  savings  \n",
       "3   21          21 -0.755890   True     False    False  \n",
       "4   39         -35  0.151178   True     False    False  \n",
       "5   17          -1 -0.957461  False      True    False  \n",
       "6   49         -24  0.655105  False     False     True  \n",
       "7    8         -63 -1.410996  False     False     True  "
      ]
     },
     "execution_count": 39,
     "metadata": {},
     "output_type": "execute_result"
    }
   ],
   "source": [
    "df1 = df_bank_nafix_no_duplicates_by_account_id.copy()\n",
    "df2 = df_bank_nafix_no_duplicates_by_account_id.copy()\n",
    "one_hot = pd.get_dummies(df1[\"AccountType\"])\n",
    "df2 = df2.join(one_hot)\n",
    "df2.iloc[0:5]"
   ]
  },
  {
   "cell_type": "markdown",
   "id": "55874415-e923-4179-86ea-502458cbcd7e",
   "metadata": {},
   "source": [
    "Now, change the cd, checking, and savings columns into integers."
   ]
  },
  {
   "cell_type": "code",
   "execution_count": 40,
   "id": "edda21a5-bb8c-4824-b320-1416dd807fc0",
   "metadata": {},
   "outputs": [
    {
     "data": {
      "application/vnd.microsoft.datawrangler.viewer.v0+json": {
       "columns": [
        {
         "name": "index",
         "rawType": "int64",
         "type": "integer"
        },
        {
         "name": "CustomerID",
         "rawType": "float64",
         "type": "float"
        },
        {
         "name": "BirthDate",
         "rawType": "datetime64[ns]",
         "type": "datetime"
        },
        {
         "name": "SSN",
         "rawType": "object",
         "type": "string"
        },
        {
         "name": "AccountID",
         "rawType": "float64",
         "type": "float"
        },
        {
         "name": "AccountOpened",
         "rawType": "datetime64[ns]",
         "type": "datetime"
        },
        {
         "name": "AccountType",
         "rawType": "object",
         "type": "string"
        },
        {
         "name": "Age",
         "rawType": "int64",
         "type": "integer"
        },
        {
         "name": "AccountAge",
         "rawType": "int64",
         "type": "integer"
        },
        {
         "name": "Z_score",
         "rawType": "float64",
         "type": "float"
        },
        {
         "name": "cd",
         "rawType": "int64",
         "type": "integer"
        },
        {
         "name": "checking",
         "rawType": "int64",
         "type": "integer"
        },
        {
         "name": "savings",
         "rawType": "int64",
         "type": "integer"
        }
       ],
       "conversionMethod": "pd.DataFrame",
       "ref": "18256620-f9cd-4c9e-919d-af215ef7c115",
       "rows": [
        [
         "3",
         "3.0",
         "2003-10-18 00:00:00",
         "474-05-7613",
         "86.0",
         "2004-03-02 00:00:00",
         "cd",
         "21",
         "21",
         "-0.7558904886667968",
         "1",
         "0",
         "0"
        ],
        [
         "4",
         "4.0",
         "1985-12-06 00:00:00",
         "750-55-5509",
         "77.0",
         "2059-05-05 00:00:00",
         "cd",
         "39",
         "-35",
         "0.15117809773335936",
         "1",
         "0",
         "0"
        ],
        [
         "5",
         "5.0",
         "2008-02-29 00:00:00",
         "671-43-0485",
         "75.0",
         "2025-05-03 00:00:00",
         "checking",
         "17",
         "-1",
         "-0.9574612856446093",
         "0",
         "1",
         "0"
        ],
        [
         "6",
         "6.0",
         "1975-04-05 00:00:00",
         "288-62-9296",
         "56.0",
         "2048-09-21 00:00:00",
         "savings",
         "49",
         "-24",
         "0.6551050901778905",
         "0",
         "0",
         "1"
        ],
        [
         "7",
         "7.0",
         "2016-06-18 00:00:00",
         "593-49-1249",
         "16.0",
         "2087-07-24 00:00:00",
         "savings",
         "8",
         "-63",
         "-1.4109955788446873",
         "0",
         "0",
         "1"
        ]
       ],
       "shape": {
        "columns": 12,
        "rows": 5
       }
      },
      "text/html": [
       "<div>\n",
       "<style scoped>\n",
       "    .dataframe tbody tr th:only-of-type {\n",
       "        vertical-align: middle;\n",
       "    }\n",
       "\n",
       "    .dataframe tbody tr th {\n",
       "        vertical-align: top;\n",
       "    }\n",
       "\n",
       "    .dataframe thead th {\n",
       "        text-align: right;\n",
       "    }\n",
       "</style>\n",
       "<table border=\"1\" class=\"dataframe\">\n",
       "  <thead>\n",
       "    <tr style=\"text-align: right;\">\n",
       "      <th></th>\n",
       "      <th>CustomerID</th>\n",
       "      <th>BirthDate</th>\n",
       "      <th>SSN</th>\n",
       "      <th>AccountID</th>\n",
       "      <th>AccountOpened</th>\n",
       "      <th>AccountType</th>\n",
       "      <th>Age</th>\n",
       "      <th>AccountAge</th>\n",
       "      <th>Z_score</th>\n",
       "      <th>cd</th>\n",
       "      <th>checking</th>\n",
       "      <th>savings</th>\n",
       "    </tr>\n",
       "  </thead>\n",
       "  <tbody>\n",
       "    <tr>\n",
       "      <th>3</th>\n",
       "      <td>3.0</td>\n",
       "      <td>2003-10-18</td>\n",
       "      <td>474-05-7613</td>\n",
       "      <td>86.0</td>\n",
       "      <td>2004-03-02</td>\n",
       "      <td>cd</td>\n",
       "      <td>21</td>\n",
       "      <td>21</td>\n",
       "      <td>-0.755890</td>\n",
       "      <td>1</td>\n",
       "      <td>0</td>\n",
       "      <td>0</td>\n",
       "    </tr>\n",
       "    <tr>\n",
       "      <th>4</th>\n",
       "      <td>4.0</td>\n",
       "      <td>1985-12-06</td>\n",
       "      <td>750-55-5509</td>\n",
       "      <td>77.0</td>\n",
       "      <td>2059-05-05</td>\n",
       "      <td>cd</td>\n",
       "      <td>39</td>\n",
       "      <td>-35</td>\n",
       "      <td>0.151178</td>\n",
       "      <td>1</td>\n",
       "      <td>0</td>\n",
       "      <td>0</td>\n",
       "    </tr>\n",
       "    <tr>\n",
       "      <th>5</th>\n",
       "      <td>5.0</td>\n",
       "      <td>2008-02-29</td>\n",
       "      <td>671-43-0485</td>\n",
       "      <td>75.0</td>\n",
       "      <td>2025-05-03</td>\n",
       "      <td>checking</td>\n",
       "      <td>17</td>\n",
       "      <td>-1</td>\n",
       "      <td>-0.957461</td>\n",
       "      <td>0</td>\n",
       "      <td>1</td>\n",
       "      <td>0</td>\n",
       "    </tr>\n",
       "    <tr>\n",
       "      <th>6</th>\n",
       "      <td>6.0</td>\n",
       "      <td>1975-04-05</td>\n",
       "      <td>288-62-9296</td>\n",
       "      <td>56.0</td>\n",
       "      <td>2048-09-21</td>\n",
       "      <td>savings</td>\n",
       "      <td>49</td>\n",
       "      <td>-24</td>\n",
       "      <td>0.655105</td>\n",
       "      <td>0</td>\n",
       "      <td>0</td>\n",
       "      <td>1</td>\n",
       "    </tr>\n",
       "    <tr>\n",
       "      <th>7</th>\n",
       "      <td>7.0</td>\n",
       "      <td>2016-06-18</td>\n",
       "      <td>593-49-1249</td>\n",
       "      <td>16.0</td>\n",
       "      <td>2087-07-24</td>\n",
       "      <td>savings</td>\n",
       "      <td>8</td>\n",
       "      <td>-63</td>\n",
       "      <td>-1.410996</td>\n",
       "      <td>0</td>\n",
       "      <td>0</td>\n",
       "      <td>1</td>\n",
       "    </tr>\n",
       "  </tbody>\n",
       "</table>\n",
       "</div>"
      ],
      "text/plain": [
       "   CustomerID  BirthDate          SSN  AccountID AccountOpened AccountType  \\\n",
       "3         3.0 2003-10-18  474-05-7613       86.0    2004-03-02          cd   \n",
       "4         4.0 1985-12-06  750-55-5509       77.0    2059-05-05          cd   \n",
       "5         5.0 2008-02-29  671-43-0485       75.0    2025-05-03    checking   \n",
       "6         6.0 1975-04-05  288-62-9296       56.0    2048-09-21     savings   \n",
       "7         7.0 2016-06-18  593-49-1249       16.0    2087-07-24     savings   \n",
       "\n",
       "   Age  AccountAge   Z_score  cd  checking  savings  \n",
       "3   21          21 -0.755890   1         0        0  \n",
       "4   39         -35  0.151178   1         0        0  \n",
       "5   17          -1 -0.957461   0         1        0  \n",
       "6   49         -24  0.655105   0         0        1  \n",
       "7    8         -63 -1.410996   0         0        1  "
      ]
     },
     "execution_count": 40,
     "metadata": {},
     "output_type": "execute_result"
    }
   ],
   "source": [
    "df2[\"cd\"] = df2[\"cd\"].astype(int)\n",
    "df2[\"checking\"] = df2[\"checking\"].astype(int)\n",
    "df2[\"savings\"] = df2[\"savings\"].astype(int)\n",
    "df2.head()"
   ]
  },
  {
   "cell_type": "code",
   "execution_count": 41,
   "id": "c397e9b3",
   "metadata": {},
   "outputs": [
    {
     "name": "stdout",
     "output_type": "stream",
     "text": [
      "<class 'pandas.core.frame.DataFrame'>\n",
      "Index: 63 entries, 3 to 96\n",
      "Data columns (total 12 columns):\n",
      " #   Column         Non-Null Count  Dtype         \n",
      "---  ------         --------------  -----         \n",
      " 0   CustomerID     63 non-null     float64       \n",
      " 1   BirthDate      63 non-null     datetime64[ns]\n",
      " 2   SSN            63 non-null     object        \n",
      " 3   AccountID      63 non-null     float64       \n",
      " 4   AccountOpened  63 non-null     datetime64[ns]\n",
      " 5   AccountType    63 non-null     object        \n",
      " 6   Age            63 non-null     int64         \n",
      " 7   AccountAge     63 non-null     int64         \n",
      " 8   Z_score        63 non-null     float64       \n",
      " 9   cd             63 non-null     int64         \n",
      " 10  checking       63 non-null     int64         \n",
      " 11  savings        63 non-null     int64         \n",
      "dtypes: datetime64[ns](2), float64(3), int64(5), object(2)\n",
      "memory usage: 6.4+ KB\n"
     ]
    }
   ],
   "source": [
    "df2.info()"
   ]
  },
  {
   "cell_type": "markdown",
   "id": "5e884d3e-1d76-42a2-9b2e-86471286aa51",
   "metadata": {},
   "source": [
    "10. Are there any other data values that do not seem right?  If not, give an example?"
   ]
  },
  {
   "cell_type": "markdown",
   "id": "5c08a456-ae6d-4c79-8ca6-41f28d5cff20",
   "metadata": {},
   "source": [
    "I don't think Google or ChatGPT alone will help you here.  To answer the question, look at the columns and think about what relationships they should have with each other.  For example, it seems reasonable to expect that BirthDate would be no earlier than 120 years ago (it's unlikely that a customer would be this old.)  Now we can ask Google:\n",
    "\n",
    "\"How can I find out how long ago a pandas date is\"\n",
    "\n",
    "Google provides this helpful link, although it is not exactly the solution - you'll have to work with it a bit:\n",
    "\n",
    "https://stackoverflow.com/questions/26072087/pandas-number-of-days-elapsed-since-a-certain-date\n",
    "\n",
    "If you check, I think you'll find that all dates are more recent than 120 years ago.  What about the AccountOpened columns?  I see some obviously wrong dates there just by looking at the first few rows.\n",
    "\n",
    "Along those same lines, are there any birth dates that are too recent?  Do we think that any two year olds will have opened bank accounts?  How common do you think this is in real life?  How common is it in our data set?  Can you detect the two year olds opening bank accounts using just one column, or do you need two columns?"
   ]
  },
  {
   "cell_type": "markdown",
   "id": "63be984a-21d0-43e7-8a55-fb8a67b8a351",
   "metadata": {},
   "source": [
    "11. Use Matplotlib and/or Seaborn to analyse the ages at which customers open their account.  Is there a connection between the year they are born vs. the age at which they open the account?  Graph this in whatever way you think is best."
   ]
  },
  {
   "cell_type": "markdown",
   "id": "84574af6-9f3a-481a-843a-877388973ef2",
   "metadata": {},
   "source": [
    "I asked Google and ChatGPT: \"How can I plot dates vs. dates in Matplotlib\".  This gave me a hard time at first - I had to tell ChatGPT it was giving me the wrong information because it tried to plot dates vs. numbers.  Eventually, I found out that you plot dates vs. dates in the same way you'd plot numbers vs. numbers.\n",
    "\n",
    "Think in terms of Storytelling With Data to plot these as best you can.  Once you've seen the result, try to think of the best way to plot the data so as to show the user what you want them to see.  Title the graph so as to display the lesson that you want the user to take away.\n",
    "Here are some options for the axes:\n",
    "\n",
    "1. A scatter or line plot: On the x-axis, the date they are born.  On the y-axis, the date they open the account.\n",
    "2. A scatter or line plot: On the x-axis, the date they are born.  On the y-axis, the age in years at which they open the account.\n",
    "3. A scatter or line plot: On the x-axis, they year (integer) they are born.  On the y-axis, the age in years at which they open the account.\n",
    "4. A histogram: on the x-axis, the age at which they open the account.\n",
    "\n",
    "Here is an example:"
   ]
  },
  {
   "cell_type": "code",
   "execution_count": 42,
   "id": "453acced-f7b1-4bb5-943d-716ae0505ace",
   "metadata": {},
   "outputs": [
    {
     "data": {
      "text/plain": [
       "Text(0.5, 0, 'Birth Date')"
      ]
     },
     "execution_count": 42,
     "metadata": {},
     "output_type": "execute_result"
    },
    {
     "data": {
      "image/png": "[encoded data removed]",
      "text/plain": [
       "<Figure size 640x480 with 1 Axes>"
      ]
     },
     "metadata": {},
     "output_type": "display_data"
    }
   ],
   "source": [
    "import matplotlib.pyplot as plt\n",
    "\n",
    "ax = plt.gca() # get an \"Axes\" object to draw on; gca stands for \"get current Axes\"\n",
    "ax.scatter(df2[\"BirthDate\"], df2[\"AccountOpened\"]) # create a scatter plot based on these two dates\n",
    "ax.set_ylabel(\"Account Opened\") # label the y axis\n",
    "ax.set_xlabel(\"Birth Date\") # label the x axis"
   ]
  },
  {
   "cell_type": "markdown",
   "id": "f5d2ca82-ea81-46e5-9002-8321987d08d9",
   "metadata": {},
   "source": [
    "# 4. Storytelling With Data graph"
   ]
  },
  {
   "cell_type": "markdown",
   "id": "b00e6940-4a0c-4b3e-93dd-460239bf9940",
   "metadata": {},
   "source": [
    "Choose any graph in the Introduction of Storytelling With Data.  Using matplotlib to reproduce it in a rough way.  I don't expect you to spend an enormous amount of time on this; I understand that you likely will not have time to re-create every feature of the graph.  However, if you're excited about learning to use matplotlib, this is a good way to do that.  You don't have to duplicate the exact values on the graph; just the same rough shape will be enough.  If you don't feel comfortable using matplotlib yet, do the best you can and write down what you tried or what Google searches you did to find the answers."
   ]
  },
  {
   "cell_type": "code",
   "execution_count": 43,
   "id": "c023ff6f-f3c8-4df7-a7a6-191e70bcb362",
   "metadata": {},
   "outputs": [
    {
     "data": {
      "image/png": "[encoded data removed]",
      "text/plain": [
       "<Figure size 800x600 with 1 Axes>"
      ]
     },
     "metadata": {},
     "output_type": "display_data"
    }
   ],
   "source": [
    "# Account Opened by Account Type\n",
    "plt.figure(figsize=(8, 6))\n",
    "for account_type in df2['AccountType'].unique():\n",
    "    filtered = df2[df2['AccountType'] == account_type]\n",
    "    plt.scatter(filtered['AccountOpened'], filtered['Age'], label=account_type)\n",
    "\n",
    "plt.title(\"Account Opened vs Age by Account Type\", fontsize=14)\n",
    "plt.xlabel(\"Account Opened\", fontsize=12)\n",
    "plt.ylabel(\"Age\", fontsize=12)\n",
    "plt.legend(title=\"Account Type\")\n",
    "plt.grid(True)\n",
    "\n",
    "plt.tight_layout()\n",
    "plt.show()"
   ]
  }
 ],
 "metadata": {
  "kernelspec": {
   "display_name": ".venv",
   "language": "python",
   "name": "python3"
  },
  "language_info": {
   "codemirror_mode": {
    "name": "ipython",
    "version": 3
   },
   "file_extension": ".py",
   "mimetype": "text/x-python",
   "name": "python",
   "nbconvert_exporter": "python",
   "pygments_lexer": "ipython3",
   "version": "3.9.13"
  }
 },
 "nbformat": 4,
 "nbformat_minor": 5
}
