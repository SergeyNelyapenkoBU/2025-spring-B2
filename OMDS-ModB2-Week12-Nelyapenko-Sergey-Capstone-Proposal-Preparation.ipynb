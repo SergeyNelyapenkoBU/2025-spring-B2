{
 "cells": [
  {
   "cell_type": "markdown",
   "id": "a3c0ed9a-4edc-492e-a2db-f2be89cca38d",
   "metadata": {},
   "source": [
    "# Week 12 - Milestone Two week"
   ]
  },
  {
   "cell_type": "markdown",
   "id": "802a9731-cc1f-4a1c-9a38-06f55f479323",
   "metadata": {
    "jp-MarkdownHeadingCollapsed": true
   },
   "source": [
    "# 1. Lesson: no lesson this week.  Milestone Two is due!"
   ]
  },
  {
   "cell_type": "markdown",
   "id": "f2002e49-8ab5-4ced-8c16-54fcd0361deb",
   "metadata": {},
   "source": [
    "# 2. Weekly graph question"
   ]
  },
  {
   "cell_type": "markdown",
   "id": "30f44a52-7850-4179-822c-f5a424168fec",
   "metadata": {},
   "source": [
    "Suppose you plot the number visitors to a museum over the seven days of a week; then again the following week.  Can you suggest the advantages and disadvantages of the following two ways of presenting the data?"
   ]
  },
  {
   "cell_type": "code",
   "execution_count": 1,
   "id": "938afcb1-281c-41d0-b421-b058d41df4a2",
   "metadata": {},
   "outputs": [],
   "source": [
    "import numpy as np\n",
    "import seaborn as sns\n",
    "import pandas as pd\n",
    "import matplotlib.pyplot as plt"
   ]
  }
 ],
 "metadata": {
  "kernelspec": {
   "display_name": ".venv",
   "language": "python",
   "name": "python3"
  },
  "language_info": {
   "codemirror_mode": {
    "name": "ipython",
    "version": 3
   },
   "file_extension": ".py",
   "mimetype": "text/x-python",
   "name": "python",
   "nbconvert_exporter": "python",
   "pygments_lexer": "ipython3",
   "version": "3.9.13"
  }
 },
 "nbformat": 4,
 "nbformat_minor": 5
}
