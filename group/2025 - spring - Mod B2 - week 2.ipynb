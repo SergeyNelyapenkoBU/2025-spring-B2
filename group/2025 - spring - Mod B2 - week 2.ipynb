{
 "cells": [
  {
   "cell_type": "markdown",
   "id": "64e8aa33-9838-43de-873f-90a6e4354b6f",
   "metadata": {},
   "source": [
    "# Topics\n",
    "\n",
    "Mean, Median, Mode​\n",
    "\n",
    "Standard deviation, variance​\n",
    "\n",
    "Quantiles​\n",
    "\n",
    "Range\n",
    "\n",
    "Histograms​\n",
    "\n",
    "Bar charts: plt.bar( … ) or df.bar( … )​\n",
    "\n",
    "Stacked bar chart​\n",
    "\n",
    "Kernel density plots: sns.histplot( … kde = True)​\n",
    "\n",
    "Swarm: sns.swarmplot( … )​\n",
    "\n",
    "Violin: sns.violinplot( … )​\n",
    "\n",
    "Box plot: sns.boxplot( … ) or df.boxplot( … )​\n",
    "\n",
    "Segmented univariate analysis (e.g. violin or swarm)\n",
    "\n",
    "Storytelling With Data\n",
    "1. Identify who, what, how​\n",
    "2. Make good and bad: bar, slope, line, scatter, heatmap, table, text graphs"
   ]
  },
  {
   "cell_type": "code",
   "execution_count": 1,
   "id": "e693a574-3064-46ea-8e09-77042c074d13",
   "metadata": {},
   "outputs": [],
   "source": [
    "import random\n",
    "import pandas as pd\n",
    "from datetime import datetime\n",
    "from datetime import timedelta\n",
    "import numpy as np\n",
    "numrows = 100\n",
    "np.random.seed(0)\n",
    "random.seed(0)\n",
    "df_groceries = pd.DataFrame({})\n",
    "df_groceries[\"name\"] = [random.choice([\"apples_pound\", \"oranges_pound\", \"bananas_pound\", \"milk_gallon\", \"lettuce\"]) for num in range(numrows)]"
   ]
  },
  {
   "cell_type": "code",
   "execution_count": 2,
   "id": "7c59615b-3a03-4f4f-afe7-e712685eee49",
   "metadata": {},
   "outputs": [],
   "source": [
    "numrows = 100\n",
    "df_groceries = pd.DataFrame({})\n",
    "#df_groceries[\"name\"] = [\"apple\", \"banana\", \"orange\", \"milk\", \"lettuce\"]\n",
    "df_groceries[\"name\"] = [random.choice([\"apples_pound\", \"bananas_pound\", \"oranges_pound\", \"milk_gallon\", \"lettuce\"]) for x in range(numrows)]"
   ]
  },
  {
   "cell_type": "code",
   "execution_count": 3,
   "id": "ef4a3f78-f6c6-478a-830d-e868873d61c7",
   "metadata": {},
   "outputs": [],
   "source": [
    "def choose_unit_price(name):\n",
    "    if(name == \"apples_pound\"):\n",
    "        return random.uniform(1.00, 2.00)\n",
    "    elif(name == \"oranges_pound\"):\n",
    "        return random.uniform(2.00, 4.00)\n",
    "    elif(name == \"bananas_pound\"):\n",
    "        return random.uniform(1.00, 2.00)\n",
    "    elif(name == \"milk_gallon\"):\n",
    "        return random.uniform(3.00, 5.00)\n",
    "    elif(name == \"lettuce\"):\n",
    "        return random.uniform(1.50, 2.50)"
   ]
  },
  {
   "cell_type": "code",
   "execution_count": 4,
   "id": "f6bace14-8010-4266-9dbc-588f1fb6c5e1",
   "metadata": {},
   "outputs": [],
   "source": [
    "df_groceries[\"unit_price\"] = df_groceries[\"name\"].apply(choose_unit_price)\n",
    "df_groceries[\"quantity\"] = [random.randint(1, 5) for num in range(numrows)]"
   ]
  },
  {
   "cell_type": "code",
   "execution_count": 5,
   "id": "d2eb2cc4-277c-4de6-affc-52fbd778f1df",
   "metadata": {},
   "outputs": [],
   "source": [
    "start = datetime(2020, 1, 1)\n",
    "end = datetime(2025, 1, 1)\n",
    "numdays = (end - start).days\n",
    "random_days = np.random.randint(0, numdays, size = numrows)\n",
    "df_groceries[\"date_purchased\"] = start + pd.to_timedelta(random_days, unit='D')\n",
    "df_groceries[\"state\"] = [random.choice([\"NY\", \"MA\", \"CA\"]) for num in range(numrows)]"
   ]
  },
  {
   "cell_type": "code",
   "execution_count": 6,
   "id": "0388800e-ef48-49f4-8c55-5951737b6e60",
   "metadata": {},
   "outputs": [
    {
     "data": {
      "application/vnd.microsoft.datawrangler.viewer.v0+json": {
       "columns": [
        {
         "name": "index",
         "rawType": "int64",
         "type": "integer"
        },
        {
         "name": "name",
         "rawType": "object",
         "type": "string"
        },
        {
         "name": "unit_price",
         "rawType": "float64",
         "type": "float"
        },
        {
         "name": "quantity",
         "rawType": "int64",
         "type": "integer"
        },
        {
         "name": "date_purchased",
         "rawType": "datetime64[ns]",
         "type": "datetime"
        },
        {
         "name": "state",
         "rawType": "object",
         "type": "string"
        }
       ],
       "conversionMethod": "pd.DataFrame",
       "ref": "55008968-d778-4d9e-84a1-bfc701f8ad90",
       "rows": [
        [
         "0",
         "oranges_pound",
         "2.7772844856628947",
         "3",
         "2021-11-15 00:00:00",
         "MA"
        ],
        [
         "1",
         "lettuce",
         "2.157616199932491",
         "1",
         "2021-07-13 00:00:00",
         "MA"
        ],
        [
         "2",
         "bananas_pound",
         "1.1534127709314244",
         "2",
         "2024-07-11 00:00:00",
         "CA"
        ],
        [
         "3",
         "bananas_pound",
         "1.6908227578732098",
         "2",
         "2023-05-01 00:00:00",
         "NY"
        ],
        [
         "4",
         "lettuce",
         "1.9579542036471842",
         "3",
         "2022-04-15 00:00:00",
         "NY"
        ],
        [
         "5",
         "milk_gallon",
         "3.158147578476616",
         "3",
         "2022-02-02 00:00:00",
         "CA"
        ],
        [
         "6",
         "lettuce",
         "2.2390161160059012",
         "3",
         "2024-09-27 00:00:00",
         "MA"
        ],
        [
         "7",
         "oranges_pound",
         "3.0886389953029627",
         "3",
         "2023-10-15 00:00:00",
         "NY"
        ],
        [
         "8",
         "milk_gallon",
         "3.2696752136965155",
         "1",
         "2022-10-30 00:00:00",
         "CA"
        ],
        [
         "9",
         "milk_gallon",
         "4.5243333124090634",
         "3",
         "2024-10-13 00:00:00",
         "MA"
        ],
        [
         "10",
         "oranges_pound",
         "2.9636541657481423",
         "5",
         "2020-10-04 00:00:00",
         "CA"
        ],
        [
         "11",
         "apples_pound",
         "1.6101356542697394",
         "1",
         "2024-11-13 00:00:00",
         "CA"
        ],
        [
         "12",
         "oranges_pound",
         "3.346806918966788",
         "1",
         "2021-08-22 00:00:00",
         "MA"
        ],
        [
         "13",
         "lettuce",
         "2.090277686319544",
         "3",
         "2022-12-30 00:00:00",
         "CA"
        ],
        [
         "14",
         "apples_pound",
         "1.8919435414206076",
         "2",
         "2024-02-05 00:00:00",
         "MA"
        ],
        [
         "15",
         "milk_gallon",
         "4.707548761681867",
         "2",
         "2021-08-23 00:00:00",
         "CA"
        ],
        [
         "16",
         "lettuce",
         "1.6323442810447464",
         "5",
         "2023-11-21 00:00:00",
         "MA"
        ],
        [
         "17",
         "oranges_pound",
         "2.6205951629283613",
         "3",
         "2020-11-10 00:00:00",
         "MA"
        ],
        [
         "18",
         "bananas_pound",
         "1.7484858811975865",
         "3",
         "2021-12-06 00:00:00",
         "MA"
        ],
        [
         "19",
         "bananas_pound",
         "1.8289027709575956",
         "4",
         "2024-02-19 00:00:00",
         "CA"
        ],
        [
         "20",
         "apples_pound",
         "1.0807231068724708",
         "5",
         "2021-07-05 00:00:00",
         "CA"
        ],
        [
         "21",
         "oranges_pound",
         "3.189153852944218",
         "2",
         "2020-03-28 00:00:00",
         "NY"
        ],
        [
         "22",
         "apples_pound",
         "1.6985826889753466",
         "3",
         "2020-06-23 00:00:00",
         "CA"
        ],
        [
         "23",
         "bananas_pound",
         "1.160079779024541",
         "1",
         "2024-06-12 00:00:00",
         "CA"
        ],
        [
         "24",
         "oranges_pound",
         "2.4461956417173054",
         "4",
         "2022-04-29 00:00:00",
         "NY"
        ],
        [
         "25",
         "bananas_pound",
         "1.448135326643646",
         "2",
         "2024-08-28 00:00:00",
         "NY"
        ],
        [
         "26",
         "oranges_pound",
         "3.4206999521765615",
         "1",
         "2021-06-21 00:00:00",
         "MA"
        ],
        [
         "27",
         "milk_gallon",
         "4.347550400616995",
         "3",
         "2022-04-25 00:00:00",
         "CA"
        ],
        [
         "28",
         "apples_pound",
         "1.8745376498580455",
         "2",
         "2020-03-13 00:00:00",
         "CA"
        ],
        [
         "29",
         "apples_pound",
         "1.031545478122436",
         "5",
         "2022-02-16 00:00:00",
         "MA"
        ],
        [
         "30",
         "bananas_pound",
         "1.871688192351383",
         "1",
         "2020-04-25 00:00:00",
         "MA"
        ],
        [
         "31",
         "bananas_pound",
         "1.5674723417924832",
         "3",
         "2022-09-03 00:00:00",
         "NY"
        ],
        [
         "32",
         "apples_pound",
         "1.7721857179864933",
         "4",
         "2022-01-25 00:00:00",
         "CA"
        ],
        [
         "33",
         "lettuce",
         "2.209006034186331",
         "3",
         "2024-09-29 00:00:00",
         "NY"
        ],
        [
         "34",
         "lettuce",
         "1.6656749728720799",
         "3",
         "2023-12-26 00:00:00",
         "MA"
        ],
        [
         "35",
         "lettuce",
         "1.5638863091113189",
         "4",
         "2021-03-24 00:00:00",
         "CA"
        ],
        [
         "36",
         "apples_pound",
         "1.7015161675042403",
         "1",
         "2022-04-30 00:00:00",
         "NY"
        ],
        [
         "37",
         "apples_pound",
         "1.4463647121755265",
         "1",
         "2020-04-09 00:00:00",
         "MA"
        ],
        [
         "38",
         "apples_pound",
         "1.884945507997763",
         "5",
         "2023-04-16 00:00:00",
         "CA"
        ],
        [
         "39",
         "bananas_pound",
         "1.9080398571595916",
         "4",
         "2022-01-25 00:00:00",
         "MA"
        ],
        [
         "40",
         "lettuce",
         "2.103977387811875",
         "4",
         "2022-03-08 00:00:00",
         "CA"
        ],
        [
         "41",
         "lettuce",
         "1.5000691628744836",
         "3",
         "2021-10-21 00:00:00",
         "CA"
        ],
        [
         "42",
         "apples_pound",
         "1.0389101840152044",
         "3",
         "2023-03-17 00:00:00",
         "MA"
        ],
        [
         "43",
         "milk_gallon",
         "3.651887808919821",
         "1",
         "2022-06-29 00:00:00",
         "NY"
        ],
        [
         "44",
         "apples_pound",
         "1.8377368410445172",
         "4",
         "2021-02-27 00:00:00",
         "NY"
        ],
        [
         "45",
         "oranges_pound",
         "2.0997139932073035",
         "1",
         "2023-08-05 00:00:00",
         "CA"
        ],
        [
         "46",
         "apples_pound",
         "1.8227199232206965",
         "4",
         "2023-07-13 00:00:00",
         "NY"
        ],
        [
         "47",
         "apples_pound",
         "1.9741768822998922",
         "4",
         "2021-11-28 00:00:00",
         "NY"
        ],
        [
         "48",
         "lettuce",
         "1.915137411564598",
         "1",
         "2021-10-01 00:00:00",
         "NY"
        ],
        [
         "49",
         "apples_pound",
         "1.548562064762565",
         "3",
         "2021-06-28 00:00:00",
         "NY"
        ]
       ],
       "shape": {
        "columns": 5,
        "rows": 100
       }
      },
      "text/html": [
       "<div>\n",
       "<style scoped>\n",
       "    .dataframe tbody tr th:only-of-type {\n",
       "        vertical-align: middle;\n",
       "    }\n",
       "\n",
       "    .dataframe tbody tr th {\n",
       "        vertical-align: top;\n",
       "    }\n",
       "\n",
       "    .dataframe thead th {\n",
       "        text-align: right;\n",
       "    }\n",
       "</style>\n",
       "<table border=\"1\" class=\"dataframe\">\n",
       "  <thead>\n",
       "    <tr style=\"text-align: right;\">\n",
       "      <th></th>\n",
       "      <th>name</th>\n",
       "      <th>unit_price</th>\n",
       "      <th>quantity</th>\n",
       "      <th>date_purchased</th>\n",
       "      <th>state</th>\n",
       "    </tr>\n",
       "  </thead>\n",
       "  <tbody>\n",
       "    <tr>\n",
       "      <th>0</th>\n",
       "      <td>oranges_pound</td>\n",
       "      <td>2.777284</td>\n",
       "      <td>3</td>\n",
       "      <td>2021-11-15</td>\n",
       "      <td>MA</td>\n",
       "    </tr>\n",
       "    <tr>\n",
       "      <th>1</th>\n",
       "      <td>lettuce</td>\n",
       "      <td>2.157616</td>\n",
       "      <td>1</td>\n",
       "      <td>2021-07-13</td>\n",
       "      <td>MA</td>\n",
       "    </tr>\n",
       "    <tr>\n",
       "      <th>2</th>\n",
       "      <td>bananas_pound</td>\n",
       "      <td>1.153413</td>\n",
       "      <td>2</td>\n",
       "      <td>2024-07-11</td>\n",
       "      <td>CA</td>\n",
       "    </tr>\n",
       "    <tr>\n",
       "      <th>3</th>\n",
       "      <td>bananas_pound</td>\n",
       "      <td>1.690823</td>\n",
       "      <td>2</td>\n",
       "      <td>2023-05-01</td>\n",
       "      <td>NY</td>\n",
       "    </tr>\n",
       "    <tr>\n",
       "      <th>4</th>\n",
       "      <td>lettuce</td>\n",
       "      <td>1.957954</td>\n",
       "      <td>3</td>\n",
       "      <td>2022-04-15</td>\n",
       "      <td>NY</td>\n",
       "    </tr>\n",
       "    <tr>\n",
       "      <th>...</th>\n",
       "      <td>...</td>\n",
       "      <td>...</td>\n",
       "      <td>...</td>\n",
       "      <td>...</td>\n",
       "      <td>...</td>\n",
       "    </tr>\n",
       "    <tr>\n",
       "      <th>95</th>\n",
       "      <td>milk_gallon</td>\n",
       "      <td>3.917329</td>\n",
       "      <td>5</td>\n",
       "      <td>2021-10-01</td>\n",
       "      <td>MA</td>\n",
       "    </tr>\n",
       "    <tr>\n",
       "      <th>96</th>\n",
       "      <td>lettuce</td>\n",
       "      <td>1.935441</td>\n",
       "      <td>2</td>\n",
       "      <td>2023-03-01</td>\n",
       "      <td>MA</td>\n",
       "    </tr>\n",
       "    <tr>\n",
       "      <th>97</th>\n",
       "      <td>lettuce</td>\n",
       "      <td>2.371411</td>\n",
       "      <td>1</td>\n",
       "      <td>2022-08-30</td>\n",
       "      <td>MA</td>\n",
       "    </tr>\n",
       "    <tr>\n",
       "      <th>98</th>\n",
       "      <td>oranges_pound</td>\n",
       "      <td>2.356577</td>\n",
       "      <td>2</td>\n",
       "      <td>2022-05-18</td>\n",
       "      <td>MA</td>\n",
       "    </tr>\n",
       "    <tr>\n",
       "      <th>99</th>\n",
       "      <td>oranges_pound</td>\n",
       "      <td>2.751158</td>\n",
       "      <td>4</td>\n",
       "      <td>2023-04-19</td>\n",
       "      <td>MA</td>\n",
       "    </tr>\n",
       "  </tbody>\n",
       "</table>\n",
       "<p>100 rows × 5 columns</p>\n",
       "</div>"
      ],
      "text/plain": [
       "             name  unit_price  quantity date_purchased state\n",
       "0   oranges_pound    2.777284         3     2021-11-15    MA\n",
       "1         lettuce    2.157616         1     2021-07-13    MA\n",
       "2   bananas_pound    1.153413         2     2024-07-11    CA\n",
       "3   bananas_pound    1.690823         2     2023-05-01    NY\n",
       "4         lettuce    1.957954         3     2022-04-15    NY\n",
       "..            ...         ...       ...            ...   ...\n",
       "95    milk_gallon    3.917329         5     2021-10-01    MA\n",
       "96        lettuce    1.935441         2     2023-03-01    MA\n",
       "97        lettuce    2.371411         1     2022-08-30    MA\n",
       "98  oranges_pound    2.356577         2     2022-05-18    MA\n",
       "99  oranges_pound    2.751158         4     2023-04-19    MA\n",
       "\n",
       "[100 rows x 5 columns]"
      ]
     },
     "execution_count": 6,
     "metadata": {},
     "output_type": "execute_result"
    }
   ],
   "source": [
    "df_groceries"
   ]
  },
  {
   "cell_type": "code",
   "execution_count": 7,
   "id": "059fa2ff-6615-4f56-8a6f-fcd6ca5104c4",
   "metadata": {},
   "outputs": [],
   "source": [
    "# Only numerical columns\n",
    "dfnum = df_groceries.select_dtypes(include='number')"
   ]
  },
  {
   "cell_type": "code",
   "execution_count": 8,
   "id": "c649278a-8b6d-4483-a0c7-e8d072130f80",
   "metadata": {},
   "outputs": [
    {
     "data": {
      "text/plain": [
       "unit_price    2.244599\n",
       "quantity      2.740000\n",
       "dtype: float64"
      ]
     },
     "execution_count": 8,
     "metadata": {},
     "output_type": "execute_result"
    }
   ],
   "source": [
    "# Mean, median, mode\n",
    "dfnum.mean(axis = 0)"
   ]
  },
  {
   "cell_type": "code",
   "execution_count": 9,
   "id": "a5fec0f3-f86b-4827-9e52-775b2799367f",
   "metadata": {},
   "outputs": [
    {
     "data": {
      "text/plain": [
       "0     2.888642\n",
       "1     1.578808\n",
       "2     1.576706\n",
       "3     1.845411\n",
       "4     2.478977\n",
       "        ...   \n",
       "95    4.458664\n",
       "96    1.967720\n",
       "97    1.685705\n",
       "98    2.178288\n",
       "99    3.375579\n",
       "Length: 100, dtype: float64"
      ]
     },
     "execution_count": 9,
     "metadata": {},
     "output_type": "execute_result"
    }
   ],
   "source": [
    "dfnum.mean(axis = 1)"
   ]
  },
  {
   "cell_type": "code",
   "execution_count": 10,
   "id": "329ab3f3-b966-47ff-a2a6-846917f6c6c2",
   "metadata": {},
   "outputs": [
    {
     "data": {
      "text/plain": [
       "unit_price    1.925289\n",
       "quantity      3.000000\n",
       "dtype: float64"
      ]
     },
     "execution_count": 10,
     "metadata": {},
     "output_type": "execute_result"
    }
   ],
   "source": [
    "dfnum.median()"
   ]
  },
  {
   "cell_type": "code",
   "execution_count": 11,
   "id": "884e92e7-12ee-4faf-8b02-727486db0206",
   "metadata": {},
   "outputs": [
    {
     "data": {
      "application/vnd.microsoft.datawrangler.viewer.v0+json": {
       "columns": [
        {
         "name": "index",
         "rawType": "int64",
         "type": "integer"
        },
        {
         "name": "unit_price",
         "rawType": "float64",
         "type": "float"
        },
        {
         "name": "quantity",
         "rawType": "float64",
         "type": "float"
        }
       ],
       "conversionMethod": "pd.DataFrame",
       "ref": "1b021570-0a75-4b1c-bfa9-a42b65f206d3",
       "rows": [
        [
         "0",
         "1.0147292867438258",
         "1.0"
        ],
        [
         "1",
         "1.0218454992377297",
         null
        ],
        [
         "2",
         "1.031545478122436",
         null
        ],
        [
         "3",
         "1.0389101840152044",
         null
        ],
        [
         "4",
         "1.042297602002794",
         null
        ],
        [
         "5",
         "1.0807231068724708",
         null
        ],
        [
         "6",
         "1.1534127709314244",
         null
        ],
        [
         "7",
         "1.1544401368380324",
         null
        ],
        [
         "8",
         "1.160079779024541",
         null
        ],
        [
         "9",
         "1.1822211451841942",
         null
        ],
        [
         "10",
         "1.1904599302925458",
         null
        ],
        [
         "11",
         "1.2057357406690477",
         null
        ],
        [
         "12",
         "1.2564887712405661",
         null
        ],
        [
         "13",
         "1.2596693825599234",
         null
        ],
        [
         "14",
         "1.417485075564512",
         null
        ],
        [
         "15",
         "1.4463647121755265",
         null
        ],
        [
         "16",
         "1.448135326643646",
         null
        ],
        [
         "17",
         "1.4756054792846598",
         null
        ],
        [
         "18",
         "1.4944856741455022",
         null
        ],
        [
         "19",
         "1.5000691628744836",
         null
        ],
        [
         "20",
         "1.5033928097302067",
         null
        ],
        [
         "21",
         "1.548562064762565",
         null
        ],
        [
         "22",
         "1.5638863091113189",
         null
        ],
        [
         "23",
         "1.5674723417924832",
         null
        ],
        [
         "24",
         "1.6075964991402765",
         null
        ],
        [
         "25",
         "1.6083596397136555",
         null
        ],
        [
         "26",
         "1.6101356542697394",
         null
        ],
        [
         "27",
         "1.6120619632138635",
         null
        ],
        [
         "28",
         "1.6151093458523142",
         null
        ],
        [
         "29",
         "1.6323442810447464",
         null
        ],
        [
         "30",
         "1.6656749728720799",
         null
        ],
        [
         "31",
         "1.6908227578732098",
         null
        ],
        [
         "32",
         "1.6985826889753466",
         null
        ],
        [
         "33",
         "1.7015161675042403",
         null
        ],
        [
         "34",
         "1.7484858811975865",
         null
        ],
        [
         "35",
         "1.7721857179864933",
         null
        ],
        [
         "36",
         "1.7998245566512758",
         null
        ],
        [
         "37",
         "1.8227199232206965",
         null
        ],
        [
         "38",
         "1.8289027709575956",
         null
        ],
        [
         "39",
         "1.8374483937438901",
         null
        ],
        [
         "40",
         "1.8377368410445172",
         null
        ],
        [
         "41",
         "1.849437788441811",
         null
        ],
        [
         "42",
         "1.8512397484375114",
         null
        ],
        [
         "43",
         "1.8668937976542024",
         null
        ],
        [
         "44",
         "1.871688192351383",
         null
        ],
        [
         "45",
         "1.8745376498580455",
         null
        ],
        [
         "46",
         "1.884945507997763",
         null
        ],
        [
         "47",
         "1.8919435414206076",
         null
        ],
        [
         "48",
         "1.9080398571595916",
         null
        ],
        [
         "49",
         "1.915137411564598",
         null
        ]
       ],
       "shape": {
        "columns": 2,
        "rows": 100
       }
      },
      "text/html": [
       "<div>\n",
       "<style scoped>\n",
       "    .dataframe tbody tr th:only-of-type {\n",
       "        vertical-align: middle;\n",
       "    }\n",
       "\n",
       "    .dataframe tbody tr th {\n",
       "        vertical-align: top;\n",
       "    }\n",
       "\n",
       "    .dataframe thead th {\n",
       "        text-align: right;\n",
       "    }\n",
       "</style>\n",
       "<table border=\"1\" class=\"dataframe\">\n",
       "  <thead>\n",
       "    <tr style=\"text-align: right;\">\n",
       "      <th></th>\n",
       "      <th>unit_price</th>\n",
       "      <th>quantity</th>\n",
       "    </tr>\n",
       "  </thead>\n",
       "  <tbody>\n",
       "    <tr>\n",
       "      <th>0</th>\n",
       "      <td>1.014729</td>\n",
       "      <td>1.0</td>\n",
       "    </tr>\n",
       "    <tr>\n",
       "      <th>1</th>\n",
       "      <td>1.021845</td>\n",
       "      <td>NaN</td>\n",
       "    </tr>\n",
       "    <tr>\n",
       "      <th>2</th>\n",
       "      <td>1.031545</td>\n",
       "      <td>NaN</td>\n",
       "    </tr>\n",
       "    <tr>\n",
       "      <th>3</th>\n",
       "      <td>1.038910</td>\n",
       "      <td>NaN</td>\n",
       "    </tr>\n",
       "    <tr>\n",
       "      <th>4</th>\n",
       "      <td>1.042298</td>\n",
       "      <td>NaN</td>\n",
       "    </tr>\n",
       "    <tr>\n",
       "      <th>...</th>\n",
       "      <td>...</td>\n",
       "      <td>...</td>\n",
       "    </tr>\n",
       "    <tr>\n",
       "      <th>95</th>\n",
       "      <td>4.347550</td>\n",
       "      <td>NaN</td>\n",
       "    </tr>\n",
       "    <tr>\n",
       "      <th>96</th>\n",
       "      <td>4.377080</td>\n",
       "      <td>NaN</td>\n",
       "    </tr>\n",
       "    <tr>\n",
       "      <th>97</th>\n",
       "      <td>4.524333</td>\n",
       "      <td>NaN</td>\n",
       "    </tr>\n",
       "    <tr>\n",
       "      <th>98</th>\n",
       "      <td>4.707549</td>\n",
       "      <td>NaN</td>\n",
       "    </tr>\n",
       "    <tr>\n",
       "      <th>99</th>\n",
       "      <td>4.922406</td>\n",
       "      <td>NaN</td>\n",
       "    </tr>\n",
       "  </tbody>\n",
       "</table>\n",
       "<p>100 rows × 2 columns</p>\n",
       "</div>"
      ],
      "text/plain": [
       "    unit_price  quantity\n",
       "0     1.014729       1.0\n",
       "1     1.021845       NaN\n",
       "2     1.031545       NaN\n",
       "3     1.038910       NaN\n",
       "4     1.042298       NaN\n",
       "..         ...       ...\n",
       "95    4.347550       NaN\n",
       "96    4.377080       NaN\n",
       "97    4.524333       NaN\n",
       "98    4.707549       NaN\n",
       "99    4.922406       NaN\n",
       "\n",
       "[100 rows x 2 columns]"
      ]
     },
     "execution_count": 11,
     "metadata": {},
     "output_type": "execute_result"
    }
   ],
   "source": [
    "dfnum.mode()"
   ]
  },
  {
   "cell_type": "code",
   "execution_count": 12,
   "id": "80a5cd70-e77d-46f2-b5d7-61c678506b64",
   "metadata": {},
   "outputs": [
    {
     "data": {
      "text/plain": [
       "unit_price    0.953421\n",
       "quantity      1.353036\n",
       "dtype: float64"
      ]
     },
     "execution_count": 12,
     "metadata": {},
     "output_type": "execute_result"
    }
   ],
   "source": [
    "dfnum.std()"
   ]
  },
  {
   "cell_type": "code",
   "execution_count": 13,
   "id": "c1784911-61bc-48ad-a192-b1c9cb576aeb",
   "metadata": {},
   "outputs": [
    {
     "data": {
      "text/plain": [
       "unit_price    0.909012\n",
       "quantity      1.830707\n",
       "dtype: float64"
      ]
     },
     "execution_count": 13,
     "metadata": {},
     "output_type": "execute_result"
    }
   ],
   "source": [
    "dfnum.var()"
   ]
  },
  {
   "cell_type": "code",
   "execution_count": 14,
   "id": "c75aae93-c182-47eb-be1f-2b6a709db474",
   "metadata": {},
   "outputs": [
    {
     "data": {
      "text/plain": [
       "unit_price    0.909012\n",
       "quantity      1.830707\n",
       "dtype: float64"
      ]
     },
     "execution_count": 14,
     "metadata": {},
     "output_type": "execute_result"
    }
   ],
   "source": [
    "# Computing the sample variance\n",
    "((dfnum - dfnum.mean())**2).mean() * dfnum.shape[0] / (dfnum.shape[0] - 1)"
   ]
  },
  {
   "cell_type": "code",
   "execution_count": 15,
   "id": "da8875e5-77fa-472a-be76-4abf00b4c524",
   "metadata": {},
   "outputs": [
    {
     "data": {
      "text/plain": [
       "unit_price    0.953421\n",
       "quantity      1.353036\n",
       "dtype: float64"
      ]
     },
     "execution_count": 15,
     "metadata": {},
     "output_type": "execute_result"
    }
   ],
   "source": [
    "# Computing the sample standard deviation\n",
    "np.sqrt(((dfnum - dfnum.mean())**2).mean() * dfnum.shape[0] / (dfnum.shape[0] - 1))"
   ]
  },
  {
   "cell_type": "code",
   "execution_count": 16,
   "id": "59579345-9780-428d-ba93-6285b6a3f88d",
   "metadata": {},
   "outputs": [
    {
     "data": {
      "text/plain": [
       "unit_price    1.597967\n",
       "quantity      1.000000\n",
       "Name: 0.24, dtype: float64"
      ]
     },
     "execution_count": 16,
     "metadata": {},
     "output_type": "execute_result"
    }
   ],
   "source": [
    "dfnum.quantile(q = 0.24)"
   ]
  },
  {
   "cell_type": "code",
   "execution_count": 17,
   "id": "16fe29bb-c488-4bd5-baad-280aa088a661",
   "metadata": {},
   "outputs": [
    {
     "data": {
      "text/plain": [
       "unit_price    1.609674\n",
       "quantity      2.000000\n",
       "Name: 0.26, dtype: float64"
      ]
     },
     "execution_count": 17,
     "metadata": {},
     "output_type": "execute_result"
    }
   ],
   "source": [
    "dfnum.quantile(q = 0.26)"
   ]
  },
  {
   "cell_type": "code",
   "execution_count": 18,
   "id": "698ea1b8-9cfa-4b89-84f5-711cc26fefed",
   "metadata": {},
   "outputs": [
    {
     "data": {
      "text/plain": [
       "unit_price    1.608169\n",
       "quantity      1.750000\n",
       "Name: 0.25, dtype: float64"
      ]
     },
     "execution_count": 18,
     "metadata": {},
     "output_type": "execute_result"
    }
   ],
   "source": [
    "dfnum.quantile(q = 0.25)"
   ]
  },
  {
   "cell_type": "code",
   "execution_count": 19,
   "id": "ac53e5de-4bb3-42a8-9946-41d43f44334a",
   "metadata": {},
   "outputs": [
    {
     "data": {
      "text/plain": [
       "(array([25, 20, 23, 20, 12]), array([1. , 1.8, 2.6, 3.4, 4.2, 5. ]))"
      ]
     },
     "execution_count": 19,
     "metadata": {},
     "output_type": "execute_result"
    }
   ],
   "source": [
    "np.histogram(dfnum.quantity, bins = 5)"
   ]
  },
  {
   "cell_type": "code",
   "execution_count": 20,
   "id": "c397eb72-1973-4daa-87e7-00e4fe5c2597",
   "metadata": {},
   "outputs": [
    {
     "data": {
      "text/plain": [
       "np.float64(1.3)"
      ]
     },
     "execution_count": 20,
     "metadata": {},
     "output_type": "execute_result"
    }
   ],
   "source": [
    "pd.Series([1, 2, 3, 4]).quantile(q = 0.1)"
   ]
  },
  {
   "cell_type": "code",
   "execution_count": 21,
   "id": "c01a7922-f897-4da8-bbe7-d826ea975d48",
   "metadata": {},
   "outputs": [
    {
     "data": {
      "text/plain": [
       "24.75"
      ]
     },
     "execution_count": 21,
     "metadata": {},
     "output_type": "execute_result"
    }
   ],
   "source": [
    "99 * 0.25"
   ]
  },
  {
   "cell_type": "code",
   "execution_count": 22,
   "id": "2c1410cd-a393-4add-85ad-a1f6ef629661",
   "metadata": {},
   "outputs": [
    {
     "data": {
      "text/plain": [
       "(unit_price    1.014729\n",
       " quantity      1.000000\n",
       " dtype: float64,\n",
       " unit_price    4.922406\n",
       " quantity      5.000000\n",
       " dtype: float64)"
      ]
     },
     "execution_count": 22,
     "metadata": {},
     "output_type": "execute_result"
    }
   ],
   "source": [
    "dfnum.min(), dfnum.max()"
   ]
  },
  {
   "cell_type": "code",
   "execution_count": 23,
   "id": "6c86fe27-d382-4ea5-ae3c-69034339e053",
   "metadata": {},
   "outputs": [
    {
     "data": {
      "text/plain": [
       "<Axes: xlabel='name'>"
      ]
     },
     "execution_count": 23,
     "metadata": {},
     "output_type": "execute_result"
    },
    {
     "data": {
      "image/png": "[encoded data removed]",
      "text/plain": [
       "<Figure size 640x480 with 1 Axes>"
      ]
     },
     "metadata": {},
     "output_type": "display_data"
    }
   ],
   "source": [
    "import matplotlib.pyplot as plt\n",
    "\n",
    "# Number of each product sold\n",
    "df_groceries.groupby(\"name\")[\"quantity\"].sum().plot.bar()"
   ]
  },
  {
   "cell_type": "code",
   "execution_count": 24,
   "id": "fb18bb95-36ae-47ad-8817-7346a74d8111",
   "metadata": {},
   "outputs": [
    {
     "data": {
      "text/plain": [
       "<Axes: xlabel='unit_price'>"
      ]
     },
     "execution_count": 24,
     "metadata": {},
     "output_type": "execute_result"
    },
    {
     "data": {
      "image/png": "[encoded data removed]",
      "text/plain": [
       "<Figure size 640x480 with 1 Axes>"
      ]
     },
     "metadata": {},
     "output_type": "display_data"
    }
   ],
   "source": [
    "# Number of purchases in each unit price range\n",
    "pd.cut(dfnum[\"unit_price\"], bins = 5).value_counts().plot.bar()"
   ]
  },
  {
   "cell_type": "code",
   "execution_count": 25,
   "id": "e96344c2-aaab-493d-865a-8c3f97ebac96",
   "metadata": {},
   "outputs": [
    {
     "data": {
      "text/plain": [
       "<Axes: >"
      ]
     },
     "execution_count": 25,
     "metadata": {},
     "output_type": "execute_result"
    },
    {
     "data": {
      "image/png": "[encoded data removed]",
      "text/plain": [
       "<Figure size 640x480 with 1 Axes>"
      ]
     },
     "metadata": {},
     "output_type": "display_data"
    }
   ],
   "source": [
    "# Number of purchases in each unit price range - histogram\n",
    "dfnum[\"unit_price\"].hist()"
   ]
  },
  {
   "cell_type": "code",
   "execution_count": null,
   "id": "d5e7979e-12fa-4bdb-9642-3bb98a641abc",
   "metadata": {},
   "outputs": [],
   "source": []
  },
  {
   "cell_type": "code",
   "execution_count": 26,
   "id": "3772d361-bf67-4405-8d12-a3778bcf1d92",
   "metadata": {},
   "outputs": [
    {
     "data": {
      "application/vnd.microsoft.datawrangler.viewer.v0+json": {
       "columns": [
        {
         "name": "index",
         "rawType": "int64",
         "type": "integer"
        },
        {
         "name": "name",
         "rawType": "object",
         "type": "string"
        },
        {
         "name": "CA",
         "rawType": "int64",
         "type": "integer"
        },
        {
         "name": "MA",
         "rawType": "int64",
         "type": "integer"
        },
        {
         "name": "NY",
         "rawType": "int64",
         "type": "integer"
        }
       ],
       "conversionMethod": "pd.DataFrame",
       "ref": "9bb646f3-2968-4a25-a464-e37e15148d0a",
       "rows": [
        [
         "0",
         "apples_pound",
         "30",
         "18",
         "26"
        ],
        [
         "1",
         "bananas_pound",
         "19",
         "16",
         "16"
        ],
        [
         "2",
         "lettuce",
         "21",
         "17",
         "15"
        ],
        [
         "3",
         "milk_gallon",
         "16",
         "24",
         "1"
        ],
        [
         "4",
         "oranges_pound",
         "15",
         "26",
         "14"
        ]
       ],
       "shape": {
        "columns": 4,
        "rows": 5
       }
      },
      "text/html": [
       "<div>\n",
       "<style scoped>\n",
       "    .dataframe tbody tr th:only-of-type {\n",
       "        vertical-align: middle;\n",
       "    }\n",
       "\n",
       "    .dataframe tbody tr th {\n",
       "        vertical-align: top;\n",
       "    }\n",
       "\n",
       "    .dataframe thead th {\n",
       "        text-align: right;\n",
       "    }\n",
       "</style>\n",
       "<table border=\"1\" class=\"dataframe\">\n",
       "  <thead>\n",
       "    <tr style=\"text-align: right;\">\n",
       "      <th>state</th>\n",
       "      <th>name</th>\n",
       "      <th>CA</th>\n",
       "      <th>MA</th>\n",
       "      <th>NY</th>\n",
       "    </tr>\n",
       "  </thead>\n",
       "  <tbody>\n",
       "    <tr>\n",
       "      <th>0</th>\n",
       "      <td>apples_pound</td>\n",
       "      <td>30</td>\n",
       "      <td>18</td>\n",
       "      <td>26</td>\n",
       "    </tr>\n",
       "    <tr>\n",
       "      <th>1</th>\n",
       "      <td>bananas_pound</td>\n",
       "      <td>19</td>\n",
       "      <td>16</td>\n",
       "      <td>16</td>\n",
       "    </tr>\n",
       "    <tr>\n",
       "      <th>2</th>\n",
       "      <td>lettuce</td>\n",
       "      <td>21</td>\n",
       "      <td>17</td>\n",
       "      <td>15</td>\n",
       "    </tr>\n",
       "    <tr>\n",
       "      <th>3</th>\n",
       "      <td>milk_gallon</td>\n",
       "      <td>16</td>\n",
       "      <td>24</td>\n",
       "      <td>1</td>\n",
       "    </tr>\n",
       "    <tr>\n",
       "      <th>4</th>\n",
       "      <td>oranges_pound</td>\n",
       "      <td>15</td>\n",
       "      <td>26</td>\n",
       "      <td>14</td>\n",
       "    </tr>\n",
       "  </tbody>\n",
       "</table>\n",
       "</div>"
      ],
      "text/plain": [
       "state           name  CA  MA  NY\n",
       "0       apples_pound  30  18  26\n",
       "1      bananas_pound  19  16  16\n",
       "2            lettuce  21  17  15\n",
       "3        milk_gallon  16  24   1\n",
       "4      oranges_pound  15  26  14"
      ]
     },
     "execution_count": 26,
     "metadata": {},
     "output_type": "execute_result"
    }
   ],
   "source": [
    "dfcopy = df_groceries.copy()\n",
    "dfg = dfcopy.groupby([\"name\", \"state\"])[\"quantity\"].sum()\n",
    "dfg_reset = dfg.reset_index()\n",
    "df_pivot = dfg_reset.pivot_table(index='name', columns='state', values='quantity', aggfunc='sum', fill_value=0)\n",
    "df_pivot.reset_index(inplace = True)\n",
    "df_pivot"
   ]
  },
  {
   "cell_type": "code",
   "execution_count": 27,
   "id": "f5cffdc3-c8c8-491c-9280-8168da21bc6e",
   "metadata": {},
   "outputs": [
    {
     "data": {
      "text/plain": [
       "<Axes: xlabel='name'>"
      ]
     },
     "execution_count": 27,
     "metadata": {},
     "output_type": "execute_result"
    },
    {
     "data": {
      "image/png": "[encoded data removed]",
      "text/plain": [
       "<Figure size 640x480 with 1 Axes>"
      ]
     },
     "metadata": {},
     "output_type": "display_data"
    }
   ],
   "source": [
    "df_pivot.plot.bar(x = \"name\", stacked = True)"
   ]
  },
  {
   "cell_type": "code",
   "execution_count": 28,
   "id": "5d125f28-a0d1-4c5f-b7d0-a5a871f02f3d",
   "metadata": {},
   "outputs": [
    {
     "data": {
      "text/plain": [
       "<Axes: xlabel='unit_price', ylabel='Count'>"
      ]
     },
     "execution_count": 28,
     "metadata": {},
     "output_type": "execute_result"
    },
    {
     "data": {
      "image/png": "[encoded data removed]",
      "text/plain": [
       "<Figure size 640x480 with 1 Axes>"
      ]
     },
     "metadata": {},
     "output_type": "display_data"
    }
   ],
   "source": [
    "import seaborn as sns\n",
    "\n",
    "# KDE plot of unit price\n",
    "sns.histplot(dfnum[\"unit_price\"], kde = True)"
   ]
  },
  {
   "cell_type": "code",
   "execution_count": 29,
   "id": "305ce9de-9163-4a55-af5a-9d4522a387d5",
   "metadata": {},
   "outputs": [
    {
     "data": {
      "text/plain": [
       "<Axes: ylabel='unit_price'>"
      ]
     },
     "execution_count": 29,
     "metadata": {},
     "output_type": "execute_result"
    },
    {
     "data": {
      "image/png": "[encoded data removed]",
      "text/plain": [
       "<Figure size 640x480 with 1 Axes>"
      ]
     },
     "metadata": {},
     "output_type": "display_data"
    }
   ],
   "source": [
    "sns.swarmplot(dfnum[\"unit_price\"])"
   ]
  },
  {
   "cell_type": "code",
   "execution_count": 30,
   "id": "c1219023-5bdd-48c0-b2dd-7ed45f2dbf1b",
   "metadata": {},
   "outputs": [
    {
     "data": {
      "text/plain": [
       "<Axes: ylabel='unit_price'>"
      ]
     },
     "execution_count": 30,
     "metadata": {},
     "output_type": "execute_result"
    },
    {
     "data": {
      "image/png": "[encoded data removed]",
      "text/plain": [
       "<Figure size 640x480 with 1 Axes>"
      ]
     },
     "metadata": {},
     "output_type": "display_data"
    }
   ],
   "source": [
    "sns.boxplot(dfnum[\"unit_price\"])"
   ]
  },
  {
   "cell_type": "code",
   "execution_count": 31,
   "id": "995ed42f-7311-4783-aac1-eee53ab68b6e",
   "metadata": {},
   "outputs": [
    {
     "data": {
      "text/plain": [
       "(np.float64(1.6081688545703108),\n",
       " np.float64(1.925289014579544),\n",
       " np.float64(2.757689504321805))"
      ]
     },
     "execution_count": 31,
     "metadata": {},
     "output_type": "execute_result"
    }
   ],
   "source": [
    "dfnum.unit_price.quantile(q = 0.25), dfnum.unit_price.quantile(q = 0.5), dfnum.unit_price.quantile(q = 0.75)"
   ]
  },
  {
   "cell_type": "code",
   "execution_count": 32,
   "id": "e6bf6a92-f7c9-4d9a-828a-ae4871c2d10f",
   "metadata": {},
   "outputs": [
    {
     "data": {
      "text/plain": [
       "<Axes: ylabel='unit_price'>"
      ]
     },
     "execution_count": 32,
     "metadata": {},
     "output_type": "execute_result"
    },
    {
     "data": {
      "image/png": "[encoded data removed]",
      "text/plain": [
       "<Figure size 640x480 with 1 Axes>"
      ]
     },
     "metadata": {},
     "output_type": "display_data"
    }
   ],
   "source": [
    "sns.violinplot(dfnum[\"unit_price\"])"
   ]
  },
  {
   "cell_type": "code",
   "execution_count": 33,
   "id": "14195fb7-5e7d-4202-a52a-91e90fedf016",
   "metadata": {},
   "outputs": [
    {
     "data": {
      "text/plain": [
       "<Axes: xlabel='name', ylabel='unit_price'>"
      ]
     },
     "execution_count": 33,
     "metadata": {},
     "output_type": "execute_result"
    },
    {
     "data": {
      "image/png": "[encoded data removed]",
      "text/plain": [
       "<Figure size 640x480 with 1 Axes>"
      ]
     },
     "metadata": {},
     "output_type": "display_data"
    }
   ],
   "source": [
    "sns.swarmplot(data = df_groceries, x = \"name\", y = \"unit_price\")"
   ]
  },
  {
   "cell_type": "code",
   "execution_count": 34,
   "id": "5ccfcca5-361b-4968-a635-edbf0e465890",
   "metadata": {},
   "outputs": [
    {
     "data": {
      "text/plain": [
       "<Axes: xlabel='name', ylabel='unit_price'>"
      ]
     },
     "execution_count": 34,
     "metadata": {},
     "output_type": "execute_result"
    },
    {
     "data": {
      "image/png": "[encoded data removed]",
      "text/plain": [
       "<Figure size 640x480 with 1 Axes>"
      ]
     },
     "metadata": {},
     "output_type": "display_data"
    }
   ],
   "source": [
    "sns.violinplot(data = df_groceries, x = \"name\", y = \"unit_price\")"
   ]
  },
  {
   "cell_type": "markdown",
   "id": "8a46577e-2192-4c5c-a99d-e3b21346ac64",
   "metadata": {},
   "source": [
    "Who is our audience?\n",
    "\n",
    "What do they need to know / what do they want to do?\n",
    "\n",
    "How will our data prove it?"
   ]
  },
  {
   "cell_type": "markdown",
   "id": "cd403fe9-5bac-4351-9b80-f94e0674b689",
   "metadata": {},
   "source": [
    "### Possibility 1:\n",
    "\n",
    "Our audience is a data scientist working at this chain of grocery stores.\n",
    "\n",
    "They need to focus on which items could benefit from coupons.\n",
    "\n",
    "How can our data help them?\n",
    "* Maybe the items with the highest variance in total spending will benefit the most from coupons.\n",
    "* Because they are a data scientist, they can understand advanced plot types, such as KDE plots."
   ]
  },
  {
   "cell_type": "code",
   "execution_count": 35,
   "id": "3c33d032-dde5-49cd-bc9d-14435001c1b7",
   "metadata": {},
   "outputs": [
    {
     "data": {
      "text/plain": [
       "Text(0.5, 1.0, 'milk_gallon has the largest variation in total spending\\n and might be best for coupons')"
      ]
     },
     "execution_count": 35,
     "metadata": {},
     "output_type": "execute_result"
    },
    {
     "data": {
      "image/png": "[encoded data removed]",
      "text/plain": [
       "<Figure size 640x480 with 1 Axes>"
      ]
     },
     "metadata": {},
     "output_type": "display_data"
    }
   ],
   "source": [
    "dfcopy2 = df_groceries.copy()\n",
    "dfcopy2[\"total_spending\"] = dfcopy2[\"unit_price\"] * dfcopy2[\"quantity\"]\n",
    "dfcopy2.groupby(\"name\")[\"total_spending\"].var()\n",
    "name = dfcopy2.groupby(\"name\")[\"total_spending\"].var().idxmax()\n",
    "sns.violinplot(data = dfcopy2, x = \"name\", y = \"total_spending\").set_title(f\"{name} has the largest variation in total spending\\n and might be best for coupons\")"
   ]
  },
  {
   "cell_type": "markdown",
   "id": "3af5a41a-006f-4295-8649-fa9979daa6c1",
   "metadata": {},
   "source": [
    "### Possibility 2:\n",
    "\n",
    "Our audience is a manager at this chain of grocery stores.\n",
    "\n",
    "They want to compare sales in different states, so that they can petition their supervisor for more resources to match their needs.\n",
    "\n",
    "How can our data help them?\n",
    "* Perhaps they would like to see the total sales for each product name\n",
    "* This would be a bar chart and would not require any special expertise to understand.\n",
    "* We already made this graph"
   ]
  },
  {
   "cell_type": "code",
   "execution_count": 36,
   "id": "03efff68-cfbf-4435-b2bf-31bfbed6e5b0",
   "metadata": {},
   "outputs": [
    {
     "data": {
      "text/plain": [
       "Text(0.5, 1.0, 'Total sales (in dollars) from each state')"
      ]
     },
     "execution_count": 36,
     "metadata": {},
     "output_type": "execute_result"
    },
    {
     "data": {
      "image/png": "[encoded data removed]",
      "text/plain": [
       "<Figure size 640x480 with 1 Axes>"
      ]
     },
     "metadata": {},
     "output_type": "display_data"
    }
   ],
   "source": [
    "df_pivot.plot.bar(x = \"name\", stacked = True).set_title(\"Total sales (in dollars) from each state\")"
   ]
  },
  {
   "cell_type": "markdown",
   "id": "a8426e95-414c-4538-92c0-bb214f5aedd8",
   "metadata": {},
   "source": [
    "### Problem\n",
    "\n",
    "The manager cannot easily compare the stacked bar heights.\n",
    "Let's try putting them in parallel instead."
   ]
  },
  {
   "cell_type": "code",
   "execution_count": 37,
   "id": "bceedce5-6675-48da-958d-ecf2d7f2ea3d",
   "metadata": {},
   "outputs": [
    {
     "data": {
      "text/plain": [
       "Text(0.5, 1.0, 'Total sales (in dollars) from each state')"
      ]
     },
     "execution_count": 37,
     "metadata": {},
     "output_type": "execute_result"
    },
    {
     "data": {
      "image/png": "[encoded data removed]",
      "text/plain": [
       "<Figure size 640x480 with 1 Axes>"
      ]
     },
     "metadata": {},
     "output_type": "display_data"
    }
   ],
   "source": [
    "df_pivot.plot.bar(x = \"name\", stacked = False).set_title(\"Total sales (in dollars) from each state\")"
   ]
  },
  {
   "cell_type": "code",
   "execution_count": null,
   "id": "154b6ad8-6df1-4363-b003-78b5196bf7ec",
   "metadata": {},
   "outputs": [],
   "source": []
  }
 ],
 "metadata": {
  "kernelspec": {
   "display_name": "Python 3",
   "language": "python",
   "name": "python3"
  },
  "language_info": {
   "codemirror_mode": {
    "name": "ipython",
    "version": 3
   },
   "file_extension": ".py",
   "mimetype": "text/x-python",
   "name": "python",
   "nbconvert_exporter": "python",
   "pygments_lexer": "ipython3",
   "version": "3.12.1"
  }
 },
 "nbformat": 4,
 "nbformat_minor": 5
}
