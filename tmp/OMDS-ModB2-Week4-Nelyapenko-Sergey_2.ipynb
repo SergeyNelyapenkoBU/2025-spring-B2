{
 "cells": [
  {
   "cell_type": "markdown",
   "id": "4441d563-75a4-4c32-b1e7-2c229477ca1c",
   "metadata": {},
   "source": [
    "# Week 4 - Univariate Analysis, part 2"
   ]
  },
  {
   "cell_type": "markdown",
   "id": "ab830464-2f92-4281-a2d3-474ffd26d1c7",
   "metadata": {},
   "source": [
    "# 3. Homework - working on your datasets"
   ]
  },
  {
   "cell_type": "markdown",
   "id": "e892ba10-7f81-4330-9863-73f65fbdc4bd",
   "metadata": {},
   "source": [
    "This week, you will do the same types of exercises as last week, but you should use your own datasets that you found last semester.\n",
    "\n",
    "### Here are some types of analysis you can do:\n",
    "\n",
    "- Draw histograms and histogram variants for each feature or column.  (Swarm plot, kde plot, violin plot).\n",
    "\n",
    "- Draw grouped histograms.  For instance, if you have tree heights for both maple and oak trees, you could draw histograms for both.\n",
    "\n",
    "- Draw a bar plot to indicate total counts of each categorical variable in a given column.\n",
    "\n",
    "- Find means, medians, and modes.\n",
    "\n",
    "### Conclusions:\n",
    "\n",
    "- Explain what conclusions you would draw from this analysis: are the data what you expect?  Are the data likely to be usable?  If they are not useable, find some new data!\n",
    "\n",
    "- What is the overall shape of the distribution?  Is it normal, skewed, bimodal, uniform, etc.?\n",
    "\n",
    "- Are there any outliers present?  (Data points that are far from the others.)\n",
    "\n",
    "- If there are multiple related histograms, how does the distribution change across different groups?\n",
    "\n",
    "- What are the minimum and maximum values represented in each histogram?\n",
    "\n",
    "- How do bin sizes affect the histogram?  Does changing the bin width reveal different patterns in the data?\n",
    "\n",
    "- Does the distribution appear normal, or does it have a different distribution?"
   ]
  },
  {
   "cell_type": "code",
   "execution_count": 35,
   "id": "94da5fec",
   "metadata": {},
   "outputs": [
    {
     "name": "stdout",
     "output_type": "stream",
     "text": [
      "Path to kaggle dataset: khusheekapoor/vehicle-insurance-fraud-detection\n",
      "Kaggle dataset file name: carclaims.csv\n",
      "Warning: Looks like you're using an outdated `kagglehub` version (installed: 0.3.6), please consider upgrading to the latest version (0.3.10).\n",
      "Path to downloaded file: C:\\Users\\serge\\.cache\\kagglehub\\datasets\\khusheekapoor\\vehicle-insurance-fraud-detection\\versions\\1\n"
     ]
    },
    {
     "data": {
      "application/vnd.microsoft.datawrangler.viewer.v0+json": {
       "columns": [
        {
         "name": "index",
         "rawType": "int64",
         "type": "integer"
        },
        {
         "name": "Month",
         "rawType": "object",
         "type": "string"
        },
        {
         "name": "WeekOfMonth",
         "rawType": "int64",
         "type": "integer"
        },
        {
         "name": "DayOfWeek",
         "rawType": "object",
         "type": "string"
        },
        {
         "name": "Make",
         "rawType": "object",
         "type": "string"
        },
        {
         "name": "AccidentArea",
         "rawType": "object",
         "type": "string"
        },
        {
         "name": "DayOfWeekClaimed",
         "rawType": "object",
         "type": "string"
        },
        {
         "name": "MonthClaimed",
         "rawType": "object",
         "type": "string"
        },
        {
         "name": "WeekOfMonthClaimed",
         "rawType": "int64",
         "type": "integer"
        },
        {
         "name": "Sex",
         "rawType": "object",
         "type": "string"
        },
        {
         "name": "MaritalStatus",
         "rawType": "object",
         "type": "string"
        },
        {
         "name": "Age",
         "rawType": "int64",
         "type": "integer"
        },
        {
         "name": "Fault",
         "rawType": "object",
         "type": "string"
        },
        {
         "name": "PolicyType",
         "rawType": "object",
         "type": "string"
        },
        {
         "name": "VehicleCategory",
         "rawType": "object",
         "type": "string"
        },
        {
         "name": "VehiclePrice",
         "rawType": "object",
         "type": "string"
        },
        {
         "name": "PolicyNumber",
         "rawType": "int64",
         "type": "integer"
        },
        {
         "name": "RepNumber",
         "rawType": "int64",
         "type": "integer"
        },
        {
         "name": "Deductible",
         "rawType": "int64",
         "type": "integer"
        },
        {
         "name": "DriverRating",
         "rawType": "int64",
         "type": "integer"
        },
        {
         "name": "Days:Policy-Accident",
         "rawType": "object",
         "type": "string"
        },
        {
         "name": "Days:Policy-Claim",
         "rawType": "object",
         "type": "string"
        },
        {
         "name": "PastNumberOfClaims",
         "rawType": "object",
         "type": "string"
        },
        {
         "name": "AgeOfVehicle",
         "rawType": "object",
         "type": "string"
        },
        {
         "name": "AgeOfPolicyHolder",
         "rawType": "object",
         "type": "string"
        },
        {
         "name": "PoliceReportFiled",
         "rawType": "object",
         "type": "string"
        },
        {
         "name": "WitnessPresent",
         "rawType": "object",
         "type": "string"
        },
        {
         "name": "AgentType",
         "rawType": "object",
         "type": "string"
        },
        {
         "name": "NumberOfSuppliments",
         "rawType": "object",
         "type": "string"
        },
        {
         "name": "AddressChange-Claim",
         "rawType": "object",
         "type": "string"
        },
        {
         "name": "NumberOfCars",
         "rawType": "object",
         "type": "string"
        },
        {
         "name": "Year",
         "rawType": "int64",
         "type": "integer"
        },
        {
         "name": "BasePolicy",
         "rawType": "object",
         "type": "string"
        },
        {
         "name": "FraudFound",
         "rawType": "object",
         "type": "string"
        }
       ],
       "conversionMethod": "pd.DataFrame",
       "ref": "cddae19a-fa40-4a4d-9923-8b432dea93a7",
       "rows": [
        [
         "0",
         "Dec",
         "5",
         "Wednesday",
         "Honda",
         "Urban",
         "Tuesday",
         "Jan",
         "1",
         "Female",
         "Single",
         "21",
         "Policy Holder",
         "Sport - Liability",
         "Sport",
         "more than 69,000",
         "1",
         "12",
         "300",
         "1",
         "more than 30",
         "more than 30",
         "none",
         "3 years",
         "26 to 30",
         "No",
         "No",
         "External",
         "none",
         "1 year",
         "3 to 4",
         "1994",
         "Liability",
         "No"
        ],
        [
         "1",
         "Jan",
         "3",
         "Wednesday",
         "Honda",
         "Urban",
         "Monday",
         "Jan",
         "4",
         "Male",
         "Single",
         "34",
         "Policy Holder",
         "Sport - Collision",
         "Sport",
         "more than 69,000",
         "2",
         "15",
         "400",
         "4",
         "more than 30",
         "more than 30",
         "none",
         "6 years",
         "31 to 35",
         "Yes",
         "No",
         "External",
         "none",
         "no change",
         "1 vehicle",
         "1994",
         "Collision",
         "No"
        ],
        [
         "2",
         "Oct",
         "5",
         "Friday",
         "Honda",
         "Urban",
         "Thursday",
         "Nov",
         "2",
         "Male",
         "Married",
         "47",
         "Policy Holder",
         "Sport - Collision",
         "Sport",
         "more than 69,000",
         "3",
         "7",
         "400",
         "3",
         "more than 30",
         "more than 30",
         "1",
         "7 years",
         "41 to 50",
         "No",
         "No",
         "External",
         "none",
         "no change",
         "1 vehicle",
         "1994",
         "Collision",
         "No"
        ],
        [
         "3",
         "Jun",
         "2",
         "Saturday",
         "Toyota",
         "Rural",
         "Friday",
         "Jul",
         "1",
         "Male",
         "Married",
         "65",
         "Third Party",
         "Sedan - Liability",
         "Sport",
         "20,000 to 29,000",
         "4",
         "4",
         "400",
         "2",
         "more than 30",
         "more than 30",
         "1",
         "more than 7",
         "51 to 65",
         "Yes",
         "No",
         "External",
         "more than 5",
         "no change",
         "1 vehicle",
         "1994",
         "Liability",
         "No"
        ],
        [
         "4",
         "Jan",
         "5",
         "Monday",
         "Honda",
         "Urban",
         "Tuesday",
         "Feb",
         "2",
         "Female",
         "Single",
         "27",
         "Third Party",
         "Sport - Collision",
         "Sport",
         "more than 69,000",
         "5",
         "3",
         "400",
         "1",
         "more than 30",
         "more than 30",
         "none",
         "5 years",
         "31 to 35",
         "No",
         "No",
         "External",
         "none",
         "no change",
         "1 vehicle",
         "1994",
         "Collision",
         "No"
        ]
       ],
       "shape": {
        "columns": 33,
        "rows": 5
       }
      },
      "text/html": [
       "<div>\n",
       "<style scoped>\n",
       "    .dataframe tbody tr th:only-of-type {\n",
       "        vertical-align: middle;\n",
       "    }\n",
       "\n",
       "    .dataframe tbody tr th {\n",
       "        vertical-align: top;\n",
       "    }\n",
       "\n",
       "    .dataframe thead th {\n",
       "        text-align: right;\n",
       "    }\n",
       "</style>\n",
       "<table border=\"1\" class=\"dataframe\">\n",
       "  <thead>\n",
       "    <tr style=\"text-align: right;\">\n",
       "      <th></th>\n",
       "      <th>Month</th>\n",
       "      <th>WeekOfMonth</th>\n",
       "      <th>DayOfWeek</th>\n",
       "      <th>Make</th>\n",
       "      <th>AccidentArea</th>\n",
       "      <th>DayOfWeekClaimed</th>\n",
       "      <th>MonthClaimed</th>\n",
       "      <th>WeekOfMonthClaimed</th>\n",
       "      <th>Sex</th>\n",
       "      <th>MaritalStatus</th>\n",
       "      <th>...</th>\n",
       "      <th>AgeOfPolicyHolder</th>\n",
       "      <th>PoliceReportFiled</th>\n",
       "      <th>WitnessPresent</th>\n",
       "      <th>AgentType</th>\n",
       "      <th>NumberOfSuppliments</th>\n",
       "      <th>AddressChange-Claim</th>\n",
       "      <th>NumberOfCars</th>\n",
       "      <th>Year</th>\n",
       "      <th>BasePolicy</th>\n",
       "      <th>FraudFound</th>\n",
       "    </tr>\n",
       "  </thead>\n",
       "  <tbody>\n",
       "    <tr>\n",
       "      <th>0</th>\n",
       "      <td>Dec</td>\n",
       "      <td>5</td>\n",
       "      <td>Wednesday</td>\n",
       "      <td>Honda</td>\n",
       "      <td>Urban</td>\n",
       "      <td>Tuesday</td>\n",
       "      <td>Jan</td>\n",
       "      <td>1</td>\n",
       "      <td>Female</td>\n",
       "      <td>Single</td>\n",
       "      <td>...</td>\n",
       "      <td>26 to 30</td>\n",
       "      <td>No</td>\n",
       "      <td>No</td>\n",
       "      <td>External</td>\n",
       "      <td>none</td>\n",
       "      <td>1 year</td>\n",
       "      <td>3 to 4</td>\n",
       "      <td>1994</td>\n",
       "      <td>Liability</td>\n",
       "      <td>No</td>\n",
       "    </tr>\n",
       "    <tr>\n",
       "      <th>1</th>\n",
       "      <td>Jan</td>\n",
       "      <td>3</td>\n",
       "      <td>Wednesday</td>\n",
       "      <td>Honda</td>\n",
       "      <td>Urban</td>\n",
       "      <td>Monday</td>\n",
       "      <td>Jan</td>\n",
       "      <td>4</td>\n",
       "      <td>Male</td>\n",
       "      <td>Single</td>\n",
       "      <td>...</td>\n",
       "      <td>31 to 35</td>\n",
       "      <td>Yes</td>\n",
       "      <td>No</td>\n",
       "      <td>External</td>\n",
       "      <td>none</td>\n",
       "      <td>no change</td>\n",
       "      <td>1 vehicle</td>\n",
       "      <td>1994</td>\n",
       "      <td>Collision</td>\n",
       "      <td>No</td>\n",
       "    </tr>\n",
       "    <tr>\n",
       "      <th>2</th>\n",
       "      <td>Oct</td>\n",
       "      <td>5</td>\n",
       "      <td>Friday</td>\n",
       "      <td>Honda</td>\n",
       "      <td>Urban</td>\n",
       "      <td>Thursday</td>\n",
       "      <td>Nov</td>\n",
       "      <td>2</td>\n",
       "      <td>Male</td>\n",
       "      <td>Married</td>\n",
       "      <td>...</td>\n",
       "      <td>41 to 50</td>\n",
       "      <td>No</td>\n",
       "      <td>No</td>\n",
       "      <td>External</td>\n",
       "      <td>none</td>\n",
       "      <td>no change</td>\n",
       "      <td>1 vehicle</td>\n",
       "      <td>1994</td>\n",
       "      <td>Collision</td>\n",
       "      <td>No</td>\n",
       "    </tr>\n",
       "    <tr>\n",
       "      <th>3</th>\n",
       "      <td>Jun</td>\n",
       "      <td>2</td>\n",
       "      <td>Saturday</td>\n",
       "      <td>Toyota</td>\n",
       "      <td>Rural</td>\n",
       "      <td>Friday</td>\n",
       "      <td>Jul</td>\n",
       "      <td>1</td>\n",
       "      <td>Male</td>\n",
       "      <td>Married</td>\n",
       "      <td>...</td>\n",
       "      <td>51 to 65</td>\n",
       "      <td>Yes</td>\n",
       "      <td>No</td>\n",
       "      <td>External</td>\n",
       "      <td>more than 5</td>\n",
       "      <td>no change</td>\n",
       "      <td>1 vehicle</td>\n",
       "      <td>1994</td>\n",
       "      <td>Liability</td>\n",
       "      <td>No</td>\n",
       "    </tr>\n",
       "    <tr>\n",
       "      <th>4</th>\n",
       "      <td>Jan</td>\n",
       "      <td>5</td>\n",
       "      <td>Monday</td>\n",
       "      <td>Honda</td>\n",
       "      <td>Urban</td>\n",
       "      <td>Tuesday</td>\n",
       "      <td>Feb</td>\n",
       "      <td>2</td>\n",
       "      <td>Female</td>\n",
       "      <td>Single</td>\n",
       "      <td>...</td>\n",
       "      <td>31 to 35</td>\n",
       "      <td>No</td>\n",
       "      <td>No</td>\n",
       "      <td>External</td>\n",
       "      <td>none</td>\n",
       "      <td>no change</td>\n",
       "      <td>1 vehicle</td>\n",
       "      <td>1994</td>\n",
       "      <td>Collision</td>\n",
       "      <td>No</td>\n",
       "    </tr>\n",
       "  </tbody>\n",
       "</table>\n",
       "<p>5 rows × 33 columns</p>\n",
       "</div>"
      ],
      "text/plain": [
       "  Month  WeekOfMonth  DayOfWeek    Make AccidentArea DayOfWeekClaimed  \\\n",
       "0   Dec            5  Wednesday   Honda        Urban          Tuesday   \n",
       "1   Jan            3  Wednesday   Honda        Urban           Monday   \n",
       "2   Oct            5     Friday   Honda        Urban         Thursday   \n",
       "3   Jun            2   Saturday  Toyota        Rural           Friday   \n",
       "4   Jan            5     Monday   Honda        Urban          Tuesday   \n",
       "\n",
       "  MonthClaimed  WeekOfMonthClaimed     Sex MaritalStatus  ...  \\\n",
       "0          Jan                   1  Female        Single  ...   \n",
       "1          Jan                   4    Male        Single  ...   \n",
       "2          Nov                   2    Male       Married  ...   \n",
       "3          Jul                   1    Male       Married  ...   \n",
       "4          Feb                   2  Female        Single  ...   \n",
       "\n",
       "   AgeOfPolicyHolder PoliceReportFiled WitnessPresent AgentType  \\\n",
       "0           26 to 30                No             No  External   \n",
       "1           31 to 35               Yes             No  External   \n",
       "2           41 to 50                No             No  External   \n",
       "3           51 to 65               Yes             No  External   \n",
       "4           31 to 35                No             No  External   \n",
       "\n",
       "  NumberOfSuppliments  AddressChange-Claim  NumberOfCars  Year  BasePolicy  \\\n",
       "0                none               1 year        3 to 4  1994   Liability   \n",
       "1                none            no change     1 vehicle  1994   Collision   \n",
       "2                none            no change     1 vehicle  1994   Collision   \n",
       "3         more than 5            no change     1 vehicle  1994   Liability   \n",
       "4                none            no change     1 vehicle  1994   Collision   \n",
       "\n",
       "  FraudFound  \n",
       "0         No  \n",
       "1         No  \n",
       "2         No  \n",
       "3         No  \n",
       "4         No  \n",
       "\n",
       "[5 rows x 33 columns]"
      ]
     },
     "execution_count": 35,
     "metadata": {},
     "output_type": "execute_result"
    }
   ],
   "source": [
    "# set variables\n",
    "kaggle_dataset_path = \"khusheekapoor/vehicle-insurance-fraud-detection\"\n",
    "kaggle_dataset_file_name = \"carclaims.csv\"\n",
    "print(f\"Path to kaggle dataset: {kaggle_dataset_path}\")\n",
    "print(f\"Kaggle dataset file name: {kaggle_dataset_file_name}\")\n",
    "\n",
    "# download the data set\n",
    "kaggle_dataset_local_path = kagglehub.dataset_download(kaggle_dataset_path)\n",
    "print(f\"Path to downloaded file: {kaggle_dataset_local_path}\")\n",
    "\n",
    "# read csv file to pandas dataframe\n",
    "kaggle_dataset_local_path_to_file = os.path.join(kaggle_dataset_local_path, kaggle_dataset_file_name)\n",
    "kaggle_dataset_raw = pd.read_csv(kaggle_dataset_local_path_to_file)\n",
    "\n",
    "# copy dataframe for EDA\n",
    "dataset = kaggle_dataset_raw.copy()\n",
    "\n",
    "# show top rows\n",
    "dataset.head()\n"
   ]
  },
  {
   "cell_type": "code",
   "execution_count": 36,
   "id": "5749b7ed",
   "metadata": {},
   "outputs": [
    {
     "data": {
      "application/vnd.microsoft.datawrangler.viewer.v0+json": {
       "columns": [
        {
         "name": "index",
         "rawType": "int64",
         "type": "integer"
        },
        {
         "name": "Month",
         "rawType": "object",
         "type": "string"
        },
        {
         "name": "WeekOfMonth",
         "rawType": "int64",
         "type": "integer"
        },
        {
         "name": "DayOfWeek",
         "rawType": "object",
         "type": "string"
        },
        {
         "name": "Make",
         "rawType": "object",
         "type": "string"
        },
        {
         "name": "AccidentArea",
         "rawType": "object",
         "type": "string"
        },
        {
         "name": "DayOfWeekClaimed",
         "rawType": "object",
         "type": "string"
        },
        {
         "name": "MonthClaimed",
         "rawType": "object",
         "type": "string"
        },
        {
         "name": "WeekOfMonthClaimed",
         "rawType": "int64",
         "type": "integer"
        },
        {
         "name": "Sex",
         "rawType": "object",
         "type": "string"
        },
        {
         "name": "MaritalStatus",
         "rawType": "object",
         "type": "string"
        },
        {
         "name": "Age",
         "rawType": "int64",
         "type": "integer"
        },
        {
         "name": "Fault",
         "rawType": "object",
         "type": "string"
        },
        {
         "name": "PolicyType",
         "rawType": "object",
         "type": "string"
        },
        {
         "name": "VehicleCategory",
         "rawType": "object",
         "type": "string"
        },
        {
         "name": "VehiclePrice",
         "rawType": "object",
         "type": "string"
        },
        {
         "name": "PolicyNumber",
         "rawType": "int64",
         "type": "integer"
        },
        {
         "name": "RepNumber",
         "rawType": "int64",
         "type": "integer"
        },
        {
         "name": "Deductible",
         "rawType": "int64",
         "type": "integer"
        },
        {
         "name": "DriverRating",
         "rawType": "int64",
         "type": "integer"
        },
        {
         "name": "Days:Policy-Accident",
         "rawType": "object",
         "type": "string"
        },
        {
         "name": "Days:Policy-Claim",
         "rawType": "object",
         "type": "string"
        },
        {
         "name": "PastNumberOfClaims",
         "rawType": "object",
         "type": "string"
        },
        {
         "name": "AgeOfVehicle",
         "rawType": "object",
         "type": "string"
        },
        {
         "name": "AgeOfPolicyHolder",
         "rawType": "object",
         "type": "string"
        },
        {
         "name": "PoliceReportFiled",
         "rawType": "object",
         "type": "string"
        },
        {
         "name": "WitnessPresent",
         "rawType": "object",
         "type": "string"
        },
        {
         "name": "AgentType",
         "rawType": "object",
         "type": "string"
        },
        {
         "name": "NumberOfSuppliments",
         "rawType": "object",
         "type": "string"
        },
        {
         "name": "AddressChange-Claim",
         "rawType": "object",
         "type": "string"
        },
        {
         "name": "NumberOfCars",
         "rawType": "object",
         "type": "string"
        },
        {
         "name": "Year",
         "rawType": "int64",
         "type": "integer"
        },
        {
         "name": "BasePolicy",
         "rawType": "object",
         "type": "string"
        },
        {
         "name": "FraudFound",
         "rawType": "object",
         "type": "string"
        }
       ],
       "conversionMethod": "pd.DataFrame",
       "ref": "378ee9a5-34f8-439e-9ea6-3369e600a14f",
       "rows": [
        [
         "0",
         "Dec",
         "5",
         "Wednesday",
         "Honda",
         "Urban",
         "Tuesday",
         "Jan",
         "1",
         "Female",
         "Single",
         "21",
         "Policy Holder",
         "Sport - Liability",
         "Sport",
         "more than 69,000",
         "1",
         "12",
         "300",
         "1",
         "more than 30",
         "more than 30",
         "none",
         "3 years",
         "26 to 30",
         "No",
         "No",
         "External",
         "none",
         "1 year",
         "3 to 4",
         "1994",
         "Liability",
         "No"
        ],
        [
         "1",
         "Jan",
         "3",
         "Wednesday",
         "Honda",
         "Urban",
         "Monday",
         "Jan",
         "4",
         "Male",
         "Single",
         "34",
         "Policy Holder",
         "Sport - Collision",
         "Sport",
         "more than 69,000",
         "2",
         "15",
         "400",
         "4",
         "more than 30",
         "more than 30",
         "none",
         "6 years",
         "31 to 35",
         "Yes",
         "No",
         "External",
         "none",
         "no change",
         "1 vehicle",
         "1994",
         "Collision",
         "No"
        ],
        [
         "2",
         "Oct",
         "5",
         "Friday",
         "Honda",
         "Urban",
         "Thursday",
         "Nov",
         "2",
         "Male",
         "Married",
         "47",
         "Policy Holder",
         "Sport - Collision",
         "Sport",
         "more than 69,000",
         "3",
         "7",
         "400",
         "3",
         "more than 30",
         "more than 30",
         "1",
         "7 years",
         "41 to 50",
         "No",
         "No",
         "External",
         "none",
         "no change",
         "1 vehicle",
         "1994",
         "Collision",
         "No"
        ],
        [
         "3",
         "Jun",
         "2",
         "Saturday",
         "Toyota",
         "Rural",
         "Friday",
         "Jul",
         "1",
         "Male",
         "Married",
         "65",
         "Third Party",
         "Sedan - Liability",
         "Sport",
         "20,000 to 29,000",
         "4",
         "4",
         "400",
         "2",
         "more than 30",
         "more than 30",
         "1",
         "more than 7",
         "51 to 65",
         "Yes",
         "No",
         "External",
         "more than 5",
         "no change",
         "1 vehicle",
         "1994",
         "Liability",
         "No"
        ],
        [
         "4",
         "Jan",
         "5",
         "Monday",
         "Honda",
         "Urban",
         "Tuesday",
         "Feb",
         "2",
         "Female",
         "Single",
         "27",
         "Third Party",
         "Sport - Collision",
         "Sport",
         "more than 69,000",
         "5",
         "3",
         "400",
         "1",
         "more than 30",
         "more than 30",
         "none",
         "5 years",
         "31 to 35",
         "No",
         "No",
         "External",
         "none",
         "no change",
         "1 vehicle",
         "1994",
         "Collision",
         "No"
        ]
       ],
       "shape": {
        "columns": 33,
        "rows": 5
       }
      },
      "text/html": [
       "<div>\n",
       "<style scoped>\n",
       "    .dataframe tbody tr th:only-of-type {\n",
       "        vertical-align: middle;\n",
       "    }\n",
       "\n",
       "    .dataframe tbody tr th {\n",
       "        vertical-align: top;\n",
       "    }\n",
       "\n",
       "    .dataframe thead th {\n",
       "        text-align: right;\n",
       "    }\n",
       "</style>\n",
       "<table border=\"1\" class=\"dataframe\">\n",
       "  <thead>\n",
       "    <tr style=\"text-align: right;\">\n",
       "      <th></th>\n",
       "      <th>Month</th>\n",
       "      <th>WeekOfMonth</th>\n",
       "      <th>DayOfWeek</th>\n",
       "      <th>Make</th>\n",
       "      <th>AccidentArea</th>\n",
       "      <th>DayOfWeekClaimed</th>\n",
       "      <th>MonthClaimed</th>\n",
       "      <th>WeekOfMonthClaimed</th>\n",
       "      <th>Sex</th>\n",
       "      <th>MaritalStatus</th>\n",
       "      <th>...</th>\n",
       "      <th>AgeOfPolicyHolder</th>\n",
       "      <th>PoliceReportFiled</th>\n",
       "      <th>WitnessPresent</th>\n",
       "      <th>AgentType</th>\n",
       "      <th>NumberOfSuppliments</th>\n",
       "      <th>AddressChange-Claim</th>\n",
       "      <th>NumberOfCars</th>\n",
       "      <th>Year</th>\n",
       "      <th>BasePolicy</th>\n",
       "      <th>FraudFound</th>\n",
       "    </tr>\n",
       "  </thead>\n",
       "  <tbody>\n",
       "    <tr>\n",
       "      <th>0</th>\n",
       "      <td>Dec</td>\n",
       "      <td>5</td>\n",
       "      <td>Wednesday</td>\n",
       "      <td>Honda</td>\n",
       "      <td>Urban</td>\n",
       "      <td>Tuesday</td>\n",
       "      <td>Jan</td>\n",
       "      <td>1</td>\n",
       "      <td>Female</td>\n",
       "      <td>Single</td>\n",
       "      <td>...</td>\n",
       "      <td>26 to 30</td>\n",
       "      <td>No</td>\n",
       "      <td>No</td>\n",
       "      <td>External</td>\n",
       "      <td>none</td>\n",
       "      <td>1 year</td>\n",
       "      <td>3 to 4</td>\n",
       "      <td>1994</td>\n",
       "      <td>Liability</td>\n",
       "      <td>No</td>\n",
       "    </tr>\n",
       "    <tr>\n",
       "      <th>1</th>\n",
       "      <td>Jan</td>\n",
       "      <td>3</td>\n",
       "      <td>Wednesday</td>\n",
       "      <td>Honda</td>\n",
       "      <td>Urban</td>\n",
       "      <td>Monday</td>\n",
       "      <td>Jan</td>\n",
       "      <td>4</td>\n",
       "      <td>Male</td>\n",
       "      <td>Single</td>\n",
       "      <td>...</td>\n",
       "      <td>31 to 35</td>\n",
       "      <td>Yes</td>\n",
       "      <td>No</td>\n",
       "      <td>External</td>\n",
       "      <td>none</td>\n",
       "      <td>no change</td>\n",
       "      <td>1 vehicle</td>\n",
       "      <td>1994</td>\n",
       "      <td>Collision</td>\n",
       "      <td>No</td>\n",
       "    </tr>\n",
       "    <tr>\n",
       "      <th>2</th>\n",
       "      <td>Oct</td>\n",
       "      <td>5</td>\n",
       "      <td>Friday</td>\n",
       "      <td>Honda</td>\n",
       "      <td>Urban</td>\n",
       "      <td>Thursday</td>\n",
       "      <td>Nov</td>\n",
       "      <td>2</td>\n",
       "      <td>Male</td>\n",
       "      <td>Married</td>\n",
       "      <td>...</td>\n",
       "      <td>41 to 50</td>\n",
       "      <td>No</td>\n",
       "      <td>No</td>\n",
       "      <td>External</td>\n",
       "      <td>none</td>\n",
       "      <td>no change</td>\n",
       "      <td>1 vehicle</td>\n",
       "      <td>1994</td>\n",
       "      <td>Collision</td>\n",
       "      <td>No</td>\n",
       "    </tr>\n",
       "    <tr>\n",
       "      <th>3</th>\n",
       "      <td>Jun</td>\n",
       "      <td>2</td>\n",
       "      <td>Saturday</td>\n",
       "      <td>Toyota</td>\n",
       "      <td>Rural</td>\n",
       "      <td>Friday</td>\n",
       "      <td>Jul</td>\n",
       "      <td>1</td>\n",
       "      <td>Male</td>\n",
       "      <td>Married</td>\n",
       "      <td>...</td>\n",
       "      <td>51 to 65</td>\n",
       "      <td>Yes</td>\n",
       "      <td>No</td>\n",
       "      <td>External</td>\n",
       "      <td>more than 5</td>\n",
       "      <td>no change</td>\n",
       "      <td>1 vehicle</td>\n",
       "      <td>1994</td>\n",
       "      <td>Liability</td>\n",
       "      <td>No</td>\n",
       "    </tr>\n",
       "    <tr>\n",
       "      <th>4</th>\n",
       "      <td>Jan</td>\n",
       "      <td>5</td>\n",
       "      <td>Monday</td>\n",
       "      <td>Honda</td>\n",
       "      <td>Urban</td>\n",
       "      <td>Tuesday</td>\n",
       "      <td>Feb</td>\n",
       "      <td>2</td>\n",
       "      <td>Female</td>\n",
       "      <td>Single</td>\n",
       "      <td>...</td>\n",
       "      <td>31 to 35</td>\n",
       "      <td>No</td>\n",
       "      <td>No</td>\n",
       "      <td>External</td>\n",
       "      <td>none</td>\n",
       "      <td>no change</td>\n",
       "      <td>1 vehicle</td>\n",
       "      <td>1994</td>\n",
       "      <td>Collision</td>\n",
       "      <td>No</td>\n",
       "    </tr>\n",
       "  </tbody>\n",
       "</table>\n",
       "<p>5 rows × 33 columns</p>\n",
       "</div>"
      ],
      "text/plain": [
       "  Month  WeekOfMonth  DayOfWeek    Make AccidentArea DayOfWeekClaimed  \\\n",
       "0   Dec            5  Wednesday   Honda        Urban          Tuesday   \n",
       "1   Jan            3  Wednesday   Honda        Urban           Monday   \n",
       "2   Oct            5     Friday   Honda        Urban         Thursday   \n",
       "3   Jun            2   Saturday  Toyota        Rural           Friday   \n",
       "4   Jan            5     Monday   Honda        Urban          Tuesday   \n",
       "\n",
       "  MonthClaimed  WeekOfMonthClaimed     Sex MaritalStatus  ...  \\\n",
       "0          Jan                   1  Female        Single  ...   \n",
       "1          Jan                   4    Male        Single  ...   \n",
       "2          Nov                   2    Male       Married  ...   \n",
       "3          Jul                   1    Male       Married  ...   \n",
       "4          Feb                   2  Female        Single  ...   \n",
       "\n",
       "   AgeOfPolicyHolder PoliceReportFiled WitnessPresent AgentType  \\\n",
       "0           26 to 30                No             No  External   \n",
       "1           31 to 35               Yes             No  External   \n",
       "2           41 to 50                No             No  External   \n",
       "3           51 to 65               Yes             No  External   \n",
       "4           31 to 35                No             No  External   \n",
       "\n",
       "  NumberOfSuppliments  AddressChange-Claim  NumberOfCars  Year  BasePolicy  \\\n",
       "0                none               1 year        3 to 4  1994   Liability   \n",
       "1                none            no change     1 vehicle  1994   Collision   \n",
       "2                none            no change     1 vehicle  1994   Collision   \n",
       "3         more than 5            no change     1 vehicle  1994   Liability   \n",
       "4                none            no change     1 vehicle  1994   Collision   \n",
       "\n",
       "  FraudFound  \n",
       "0         No  \n",
       "1         No  \n",
       "2         No  \n",
       "3         No  \n",
       "4         No  \n",
       "\n",
       "[5 rows x 33 columns]"
      ]
     },
     "execution_count": 36,
     "metadata": {},
     "output_type": "execute_result"
    }
   ],
   "source": [
    "dataset.head()"
   ]
  },
  {
   "cell_type": "code",
   "execution_count": 37,
   "id": "513b0ec7",
   "metadata": {},
   "outputs": [
    {
     "name": "stdout",
     "output_type": "stream",
     "text": [
      "<class 'pandas.core.frame.DataFrame'>\n",
      "RangeIndex: 15420 entries, 0 to 15419\n",
      "Data columns (total 33 columns):\n",
      " #   Column                Non-Null Count  Dtype \n",
      "---  ------                --------------  ----- \n",
      " 0   Month                 15420 non-null  object\n",
      " 1   WeekOfMonth           15420 non-null  int64 \n",
      " 2   DayOfWeek             15420 non-null  object\n",
      " 3   Make                  15420 non-null  object\n",
      " 4   AccidentArea          15420 non-null  object\n",
      " 5   DayOfWeekClaimed      15420 non-null  object\n",
      " 6   MonthClaimed          15420 non-null  object\n",
      " 7   WeekOfMonthClaimed    15420 non-null  int64 \n",
      " 8   Sex                   15420 non-null  object\n",
      " 9   MaritalStatus         15420 non-null  object\n",
      " 10  Age                   15420 non-null  int64 \n",
      " 11  Fault                 15420 non-null  object\n",
      " 12  PolicyType            15420 non-null  object\n",
      " 13  VehicleCategory       15420 non-null  object\n",
      " 14  VehiclePrice          15420 non-null  object\n",
      " 15  PolicyNumber          15420 non-null  int64 \n",
      " 16  RepNumber             15420 non-null  int64 \n",
      " 17  Deductible            15420 non-null  int64 \n",
      " 18  DriverRating          15420 non-null  int64 \n",
      " 19  Days:Policy-Accident  15420 non-null  object\n",
      " 20  Days:Policy-Claim     15420 non-null  object\n",
      " 21  PastNumberOfClaims    15420 non-null  object\n",
      " 22  AgeOfVehicle          15420 non-null  object\n",
      " 23  AgeOfPolicyHolder     15420 non-null  object\n",
      " 24  PoliceReportFiled     15420 non-null  object\n",
      " 25  WitnessPresent        15420 non-null  object\n",
      " 26  AgentType             15420 non-null  object\n",
      " 27  NumberOfSuppliments   15420 non-null  object\n",
      " 28  AddressChange-Claim   15420 non-null  object\n",
      " 29  NumberOfCars          15420 non-null  object\n",
      " 30  Year                  15420 non-null  int64 \n",
      " 31  BasePolicy            15420 non-null  object\n",
      " 32  FraudFound            15420 non-null  object\n",
      "dtypes: int64(8), object(25)\n",
      "memory usage: 3.9+ MB\n"
     ]
    }
   ],
   "source": [
    "# Summarize the datasets using info()\n",
    "dataset.info()"
   ]
  },
  {
   "cell_type": "code",
   "execution_count": 38,
   "id": "257798c6",
   "metadata": {},
   "outputs": [
    {
     "data": {
      "application/vnd.microsoft.datawrangler.viewer.v0+json": {
       "columns": [
        {
         "name": "index",
         "rawType": "object",
         "type": "string"
        },
        {
         "name": "count",
         "rawType": "float64",
         "type": "float"
        },
        {
         "name": "mean",
         "rawType": "float64",
         "type": "float"
        },
        {
         "name": "std",
         "rawType": "float64",
         "type": "float"
        },
        {
         "name": "min",
         "rawType": "float64",
         "type": "float"
        },
        {
         "name": "25%",
         "rawType": "float64",
         "type": "float"
        },
        {
         "name": "50%",
         "rawType": "float64",
         "type": "float"
        },
        {
         "name": "75%",
         "rawType": "float64",
         "type": "float"
        },
        {
         "name": "max",
         "rawType": "float64",
         "type": "float"
        }
       ],
       "conversionMethod": "pd.DataFrame",
       "ref": "c732220e-cb23-420a-8d73-8f7599a63967",
       "rows": [
        [
         "WeekOfMonth",
         "15420.0",
         "2.788586251621271",
         "1.2875853655947793",
         "1.0",
         "2.0",
         "3.0",
         "4.0",
         "5.0"
        ],
        [
         "WeekOfMonthClaimed",
         "15420.0",
         "2.693968871595331",
         "1.259115259662055",
         "1.0",
         "2.0",
         "3.0",
         "4.0",
         "5.0"
        ],
        [
         "Age",
         "15420.0",
         "39.855706874189366",
         "13.492376653415858",
         "0.0",
         "31.0",
         "38.0",
         "48.0",
         "80.0"
        ],
        [
         "PolicyNumber",
         "15420.0",
         "7710.5",
         "4451.514910679285",
         "1.0",
         "3855.75",
         "7710.5",
         "11565.25",
         "15420.0"
        ],
        [
         "RepNumber",
         "15420.0",
         "8.483268482490272",
         "4.599948138709523",
         "1.0",
         "5.0",
         "8.0",
         "12.0",
         "16.0"
        ],
        [
         "Deductible",
         "15420.0",
         "407.70428015564204",
         "43.9509979521991",
         "300.0",
         "400.0",
         "400.0",
         "400.0",
         "700.0"
        ],
        [
         "DriverRating",
         "15420.0",
         "2.4878080415045396",
         "1.1194530663530406",
         "1.0",
         "1.0",
         "2.0",
         "3.0",
         "4.0"
        ],
        [
         "Year",
         "15420.0",
         "1994.8664721141374",
         "0.8033131537726312",
         "1994.0",
         "1994.0",
         "1995.0",
         "1996.0",
         "1996.0"
        ]
       ],
       "shape": {
        "columns": 8,
        "rows": 8
       }
      },
      "text/html": [
       "<div>\n",
       "<style scoped>\n",
       "    .dataframe tbody tr th:only-of-type {\n",
       "        vertical-align: middle;\n",
       "    }\n",
       "\n",
       "    .dataframe tbody tr th {\n",
       "        vertical-align: top;\n",
       "    }\n",
       "\n",
       "    .dataframe thead th {\n",
       "        text-align: right;\n",
       "    }\n",
       "</style>\n",
       "<table border=\"1\" class=\"dataframe\">\n",
       "  <thead>\n",
       "    <tr style=\"text-align: right;\">\n",
       "      <th></th>\n",
       "      <th>count</th>\n",
       "      <th>mean</th>\n",
       "      <th>std</th>\n",
       "      <th>min</th>\n",
       "      <th>25%</th>\n",
       "      <th>50%</th>\n",
       "      <th>75%</th>\n",
       "      <th>max</th>\n",
       "    </tr>\n",
       "  </thead>\n",
       "  <tbody>\n",
       "    <tr>\n",
       "      <th>WeekOfMonth</th>\n",
       "      <td>15420.0</td>\n",
       "      <td>2.788586</td>\n",
       "      <td>1.287585</td>\n",
       "      <td>1.0</td>\n",
       "      <td>2.00</td>\n",
       "      <td>3.0</td>\n",
       "      <td>4.00</td>\n",
       "      <td>5.0</td>\n",
       "    </tr>\n",
       "    <tr>\n",
       "      <th>WeekOfMonthClaimed</th>\n",
       "      <td>15420.0</td>\n",
       "      <td>2.693969</td>\n",
       "      <td>1.259115</td>\n",
       "      <td>1.0</td>\n",
       "      <td>2.00</td>\n",
       "      <td>3.0</td>\n",
       "      <td>4.00</td>\n",
       "      <td>5.0</td>\n",
       "    </tr>\n",
       "    <tr>\n",
       "      <th>Age</th>\n",
       "      <td>15420.0</td>\n",
       "      <td>39.855707</td>\n",
       "      <td>13.492377</td>\n",
       "      <td>0.0</td>\n",
       "      <td>31.00</td>\n",
       "      <td>38.0</td>\n",
       "      <td>48.00</td>\n",
       "      <td>80.0</td>\n",
       "    </tr>\n",
       "    <tr>\n",
       "      <th>PolicyNumber</th>\n",
       "      <td>15420.0</td>\n",
       "      <td>7710.500000</td>\n",
       "      <td>4451.514911</td>\n",
       "      <td>1.0</td>\n",
       "      <td>3855.75</td>\n",
       "      <td>7710.5</td>\n",
       "      <td>11565.25</td>\n",
       "      <td>15420.0</td>\n",
       "    </tr>\n",
       "    <tr>\n",
       "      <th>RepNumber</th>\n",
       "      <td>15420.0</td>\n",
       "      <td>8.483268</td>\n",
       "      <td>4.599948</td>\n",
       "      <td>1.0</td>\n",
       "      <td>5.00</td>\n",
       "      <td>8.0</td>\n",
       "      <td>12.00</td>\n",
       "      <td>16.0</td>\n",
       "    </tr>\n",
       "    <tr>\n",
       "      <th>Deductible</th>\n",
       "      <td>15420.0</td>\n",
       "      <td>407.704280</td>\n",
       "      <td>43.950998</td>\n",
       "      <td>300.0</td>\n",
       "      <td>400.00</td>\n",
       "      <td>400.0</td>\n",
       "      <td>400.00</td>\n",
       "      <td>700.0</td>\n",
       "    </tr>\n",
       "    <tr>\n",
       "      <th>DriverRating</th>\n",
       "      <td>15420.0</td>\n",
       "      <td>2.487808</td>\n",
       "      <td>1.119453</td>\n",
       "      <td>1.0</td>\n",
       "      <td>1.00</td>\n",
       "      <td>2.0</td>\n",
       "      <td>3.00</td>\n",
       "      <td>4.0</td>\n",
       "    </tr>\n",
       "    <tr>\n",
       "      <th>Year</th>\n",
       "      <td>15420.0</td>\n",
       "      <td>1994.866472</td>\n",
       "      <td>0.803313</td>\n",
       "      <td>1994.0</td>\n",
       "      <td>1994.00</td>\n",
       "      <td>1995.0</td>\n",
       "      <td>1996.00</td>\n",
       "      <td>1996.0</td>\n",
       "    </tr>\n",
       "  </tbody>\n",
       "</table>\n",
       "</div>"
      ],
      "text/plain": [
       "                      count         mean          std     min      25%  \\\n",
       "WeekOfMonth         15420.0     2.788586     1.287585     1.0     2.00   \n",
       "WeekOfMonthClaimed  15420.0     2.693969     1.259115     1.0     2.00   \n",
       "Age                 15420.0    39.855707    13.492377     0.0    31.00   \n",
       "PolicyNumber        15420.0  7710.500000  4451.514911     1.0  3855.75   \n",
       "RepNumber           15420.0     8.483268     4.599948     1.0     5.00   \n",
       "Deductible          15420.0   407.704280    43.950998   300.0   400.00   \n",
       "DriverRating        15420.0     2.487808     1.119453     1.0     1.00   \n",
       "Year                15420.0  1994.866472     0.803313  1994.0  1994.00   \n",
       "\n",
       "                       50%       75%      max  \n",
       "WeekOfMonth            3.0      4.00      5.0  \n",
       "WeekOfMonthClaimed     3.0      4.00      5.0  \n",
       "Age                   38.0     48.00     80.0  \n",
       "PolicyNumber        7710.5  11565.25  15420.0  \n",
       "RepNumber              8.0     12.00     16.0  \n",
       "Deductible           400.0    400.00    700.0  \n",
       "DriverRating           2.0      3.00      4.0  \n",
       "Year                1995.0   1996.00   1996.0  "
      ]
     },
     "execution_count": 38,
     "metadata": {},
     "output_type": "execute_result"
    }
   ],
   "source": [
    "dataset.describe().transpose()"
   ]
  },
  {
   "cell_type": "code",
   "execution_count": 40,
   "id": "af488d52",
   "metadata": {},
   "outputs": [
    {
     "name": "stdout",
     "output_type": "stream",
     "text": [
      "Number of duplicate rows: 0\n",
      "Number of duplicate PolicyNumbers: 0\n"
     ]
    }
   ],
   "source": [
    "# Check for duplicate rows\n",
    "duplicates = dataset.duplicated().sum()\n",
    "print(f\"Number of duplicate rows: {duplicates}\")\n",
    "# Check for duplicate values in inappropriate columns (e.g., unique identifiers)\n",
    "duplicate_customer_ids = dataset[\"PolicyNumber\"].duplicated().sum()\n",
    "print(f\"Number of duplicate PolicyNumbers: {duplicate_customer_ids}\")\n"
   ]
  },
  {
   "cell_type": "code",
   "execution_count": 41,
   "id": "78187102",
   "metadata": {},
   "outputs": [
    {
     "name": "stdout",
     "output_type": "stream",
     "text": [
      "Combined Statistics Table:\n",
      "                              Mean  Median               Mode\n",
      "AccidentArea                  NaN     NaN              Urban\n",
      "AddressChange-Claim           NaN     NaN          no change\n",
      "Age                     39.855707    38.0               30.0\n",
      "AgeOfPolicyHolder             NaN     NaN           31 to 35\n",
      "AgeOfVehicle                  NaN     NaN            7 years\n",
      "AgentType                     NaN     NaN           External\n",
      "BasePolicy                    NaN     NaN          Collision\n",
      "DayOfWeek                     NaN     NaN             Monday\n",
      "DayOfWeekClaimed              NaN     NaN             Monday\n",
      "Days:Policy-Accident          NaN     NaN       more than 30\n",
      "Days:Policy-Claim             NaN     NaN       more than 30\n",
      "Deductible             407.704280   400.0              400.0\n",
      "DriverRating             2.487808     2.0                1.0\n",
      "Fault                         NaN     NaN      Policy Holder\n",
      "FraudFound                    NaN     NaN                 No\n",
      "Make                          NaN     NaN            Pontiac\n",
      "MaritalStatus                 NaN     NaN            Married\n",
      "Month                         NaN     NaN                Jan\n",
      "MonthClaimed                  NaN     NaN                Jan\n",
      "NumberOfCars                  NaN     NaN          1 vehicle\n",
      "NumberOfSuppliments           NaN     NaN               none\n",
      "PastNumberOfClaims            NaN     NaN             2 to 4\n",
      "PoliceReportFiled             NaN     NaN                 No\n",
      "PolicyNumber          7710.500000  7710.5                  1\n",
      "PolicyType                    NaN     NaN  Sedan - Collision\n",
      "RepNumber                8.483268     8.0                7.0\n",
      "Sex                           NaN     NaN               Male\n",
      "VehicleCategory               NaN     NaN              Sedan\n",
      "VehiclePrice                  NaN     NaN   20,000 to 29,000\n",
      "WeekOfMonth              2.788586     3.0                3.0\n",
      "WeekOfMonthClaimed       2.693969     3.0                2.0\n",
      "WitnessPresent                NaN     NaN                 No\n",
      "Year                  1994.866472  1995.0             1994.0\n"
     ]
    }
   ],
   "source": [
    "# Compute mean, median, and mode\n",
    "mean_values = dataset.mean(numeric_only=True)\n",
    "median_values = dataset.median(numeric_only=True)\n",
    "mode_values = dataset.mode().iloc[0]\n",
    " \n",
    "# Combine mean, median, and mode into a single table\n",
    "statistics_table = pd.DataFrame({\n",
    "    \"Mean\": mean_values,\n",
    "    \"Median\": median_values,\n",
    "    \"Mode\": mode_values\n",
    "})\n",
    "print(\"Combined Statistics Table:\\n\", statistics_table)"
   ]
  },
  {
   "cell_type": "code",
   "execution_count": 42,
   "id": "5cc354b8",
   "metadata": {},
   "outputs": [
    {
     "name": "stdout",
     "output_type": "stream",
     "text": [
      "Missing values per column:\n",
      " Month                   0\n",
      "WeekOfMonth             0\n",
      "DayOfWeek               0\n",
      "Make                    0\n",
      "AccidentArea            0\n",
      "DayOfWeekClaimed        0\n",
      "MonthClaimed            0\n",
      "WeekOfMonthClaimed      0\n",
      "Sex                     0\n",
      "MaritalStatus           0\n",
      "Age                     0\n",
      "Fault                   0\n",
      "PolicyType              0\n",
      "VehicleCategory         0\n",
      "VehiclePrice            0\n",
      "PolicyNumber            0\n",
      "RepNumber               0\n",
      "Deductible              0\n",
      "DriverRating            0\n",
      "Days:Policy-Accident    0\n",
      "Days:Policy-Claim       0\n",
      "PastNumberOfClaims      0\n",
      "AgeOfVehicle            0\n",
      "AgeOfPolicyHolder       0\n",
      "PoliceReportFiled       0\n",
      "WitnessPresent          0\n",
      "AgentType               0\n",
      "NumberOfSuppliments     0\n",
      "AddressChange-Claim     0\n",
      "NumberOfCars            0\n",
      "Year                    0\n",
      "BasePolicy              0\n",
      "FraudFound              0\n",
      "dtype: int64\n"
     ]
    }
   ],
   "source": [
    "# Check for missing values\n",
    "missing_values = dataset.isnull().sum()\n",
    "print(\"Missing values per column:\\n\", missing_values)"
   ]
  },
  {
   "cell_type": "code",
   "execution_count": 43,
   "id": "5ae45c81",
   "metadata": {},
   "outputs": [
    {
     "name": "stdout",
     "output_type": "stream",
     "text": [
      "Missing values filled with column means.\n"
     ]
    }
   ],
   "source": [
    "# Handling missing values\n",
    "dataset.fillna(dataset.mean(numeric_only=True), inplace=True)\n",
    "print(\"Missing values filled with column means.\")\n"
   ]
  },
  {
   "cell_type": "markdown",
   "id": "5053a7ca",
   "metadata": {},
   "source": [
    "Note: The dataset does not contain any missing values or duplicates. This can be explained by its synthetic origin."
   ]
  },
  {
   "cell_type": "code",
   "execution_count": 16,
   "id": "4fd7f20c",
   "metadata": {},
   "outputs": [
    {
     "name": "stdout",
     "output_type": "stream",
     "text": [
      "Number of inconsistent ages: 0\n",
      "Number of inconsistent Week Of Month: 0\n"
     ]
    }
   ],
   "source": [
    "# Identify inconsistent data (e.g., negative age values)\n",
    "inconsistent_age = dataset[dataset[\"Age\"] < 0]\n",
    "print(f\"Number of inconsistent ages: {len(inconsistent_age)}\")\n",
    "\n",
    "\n",
    "\n",
    "inconsistent_WeekOfMonth  = dataset[dataset[\"WeekOfMonth\"] > 52]\n",
    "print(f\"Number of inconsistent Week Of Month: {len(inconsistent_WeekOfMonth )}\")"
   ]
  },
  {
   "cell_type": "code",
   "execution_count": 17,
   "id": "9a5b2e5c",
   "metadata": {},
   "outputs": [
    {
     "name": "stdout",
     "output_type": "stream",
     "text": [
      "Categorical variables encoded.\n"
     ]
    },
    {
     "data": {
      "application/vnd.microsoft.datawrangler.viewer.v0+json": {
       "columns": [
        {
         "name": "index",
         "rawType": "int64",
         "type": "integer"
        },
        {
         "name": "Month",
         "rawType": "object",
         "type": "string"
        },
        {
         "name": "WeekOfMonth",
         "rawType": "int64",
         "type": "integer"
        },
        {
         "name": "DayOfWeek",
         "rawType": "object",
         "type": "string"
        },
        {
         "name": "AccidentArea",
         "rawType": "object",
         "type": "string"
        },
        {
         "name": "DayOfWeekClaimed",
         "rawType": "object",
         "type": "string"
        },
        {
         "name": "MonthClaimed",
         "rawType": "object",
         "type": "string"
        },
        {
         "name": "WeekOfMonthClaimed",
         "rawType": "int64",
         "type": "integer"
        },
        {
         "name": "Age",
         "rawType": "int64",
         "type": "integer"
        },
        {
         "name": "Fault",
         "rawType": "object",
         "type": "string"
        },
        {
         "name": "PolicyType",
         "rawType": "object",
         "type": "string"
        },
        {
         "name": "VehicleCategory",
         "rawType": "object",
         "type": "string"
        },
        {
         "name": "VehiclePrice",
         "rawType": "object",
         "type": "string"
        },
        {
         "name": "PolicyNumber",
         "rawType": "int64",
         "type": "integer"
        },
        {
         "name": "RepNumber",
         "rawType": "int64",
         "type": "integer"
        },
        {
         "name": "Deductible",
         "rawType": "int64",
         "type": "integer"
        },
        {
         "name": "DriverRating",
         "rawType": "int64",
         "type": "integer"
        },
        {
         "name": "Days:Policy-Accident",
         "rawType": "object",
         "type": "string"
        },
        {
         "name": "Days:Policy-Claim",
         "rawType": "object",
         "type": "string"
        },
        {
         "name": "PastNumberOfClaims",
         "rawType": "object",
         "type": "string"
        },
        {
         "name": "AgeOfVehicle",
         "rawType": "object",
         "type": "string"
        },
        {
         "name": "AgeOfPolicyHolder",
         "rawType": "object",
         "type": "string"
        },
        {
         "name": "PoliceReportFiled",
         "rawType": "object",
         "type": "string"
        },
        {
         "name": "WitnessPresent",
         "rawType": "object",
         "type": "string"
        },
        {
         "name": "AgentType",
         "rawType": "object",
         "type": "string"
        },
        {
         "name": "NumberOfSuppliments",
         "rawType": "object",
         "type": "string"
        },
        {
         "name": "AddressChange-Claim",
         "rawType": "object",
         "type": "string"
        },
        {
         "name": "NumberOfCars",
         "rawType": "object",
         "type": "string"
        },
        {
         "name": "Year",
         "rawType": "int64",
         "type": "integer"
        },
        {
         "name": "BasePolicy",
         "rawType": "object",
         "type": "string"
        },
        {
         "name": "FraudFound",
         "rawType": "object",
         "type": "string"
        },
        {
         "name": "Make_BMW",
         "rawType": "bool",
         "type": "boolean"
        },
        {
         "name": "Make_Chevrolet",
         "rawType": "bool",
         "type": "boolean"
        },
        {
         "name": "Make_Dodge",
         "rawType": "bool",
         "type": "boolean"
        },
        {
         "name": "Make_Ferrari",
         "rawType": "bool",
         "type": "boolean"
        },
        {
         "name": "Make_Ford",
         "rawType": "bool",
         "type": "boolean"
        },
        {
         "name": "Make_Honda",
         "rawType": "bool",
         "type": "boolean"
        },
        {
         "name": "Make_Jaguar",
         "rawType": "bool",
         "type": "boolean"
        },
        {
         "name": "Make_Lexus",
         "rawType": "bool",
         "type": "boolean"
        },
        {
         "name": "Make_Mazda",
         "rawType": "bool",
         "type": "boolean"
        },
        {
         "name": "Make_Mecedes",
         "rawType": "bool",
         "type": "boolean"
        },
        {
         "name": "Make_Mercury",
         "rawType": "bool",
         "type": "boolean"
        },
        {
         "name": "Make_Nisson",
         "rawType": "bool",
         "type": "boolean"
        },
        {
         "name": "Make_Pontiac",
         "rawType": "bool",
         "type": "boolean"
        },
        {
         "name": "Make_Porche",
         "rawType": "bool",
         "type": "boolean"
        },
        {
         "name": "Make_Saab",
         "rawType": "bool",
         "type": "boolean"
        },
        {
         "name": "Make_Saturn",
         "rawType": "bool",
         "type": "boolean"
        },
        {
         "name": "Make_Toyota",
         "rawType": "bool",
         "type": "boolean"
        },
        {
         "name": "Make_VW",
         "rawType": "bool",
         "type": "boolean"
        },
        {
         "name": "Sex_Male",
         "rawType": "bool",
         "type": "boolean"
        },
        {
         "name": "MaritalStatus_Married",
         "rawType": "bool",
         "type": "boolean"
        },
        {
         "name": "MaritalStatus_Single",
         "rawType": "bool",
         "type": "boolean"
        },
        {
         "name": "MaritalStatus_Widow",
         "rawType": "bool",
         "type": "boolean"
        }
       ],
       "conversionMethod": "pd.DataFrame",
       "ref": "540ac1b9-a706-45aa-9ea7-74e970fb1112",
       "rows": [
        [
         "0",
         "Dec",
         "5",
         "Wednesday",
         "Urban",
         "Tuesday",
         "Jan",
         "1",
         "21",
         "Policy Holder",
         "Sport - Liability",
         "Sport",
         "more than 69,000",
         "1",
         "12",
         "300",
         "1",
         "more than 30",
         "more than 30",
         "none",
         "3 years",
         "26 to 30",
         "No",
         "No",
         "External",
         "none",
         "1 year",
         "3 to 4",
         "1994",
         "Liability",
         "No",
         "False",
         "False",
         "False",
         "False",
         "False",
         "True",
         "False",
         "False",
         "False",
         "False",
         "False",
         "False",
         "False",
         "False",
         "False",
         "False",
         "False",
         "False",
         "False",
         "False",
         "True",
         "False"
        ],
        [
         "1",
         "Jan",
         "3",
         "Wednesday",
         "Urban",
         "Monday",
         "Jan",
         "4",
         "34",
         "Policy Holder",
         "Sport - Collision",
         "Sport",
         "more than 69,000",
         "2",
         "15",
         "400",
         "4",
         "more than 30",
         "more than 30",
         "none",
         "6 years",
         "31 to 35",
         "Yes",
         "No",
         "External",
         "none",
         "no change",
         "1 vehicle",
         "1994",
         "Collision",
         "No",
         "False",
         "False",
         "False",
         "False",
         "False",
         "True",
         "False",
         "False",
         "False",
         "False",
         "False",
         "False",
         "False",
         "False",
         "False",
         "False",
         "False",
         "False",
         "True",
         "False",
         "True",
         "False"
        ],
        [
         "2",
         "Oct",
         "5",
         "Friday",
         "Urban",
         "Thursday",
         "Nov",
         "2",
         "47",
         "Policy Holder",
         "Sport - Collision",
         "Sport",
         "more than 69,000",
         "3",
         "7",
         "400",
         "3",
         "more than 30",
         "more than 30",
         "1",
         "7 years",
         "41 to 50",
         "No",
         "No",
         "External",
         "none",
         "no change",
         "1 vehicle",
         "1994",
         "Collision",
         "No",
         "False",
         "False",
         "False",
         "False",
         "False",
         "True",
         "False",
         "False",
         "False",
         "False",
         "False",
         "False",
         "False",
         "False",
         "False",
         "False",
         "False",
         "False",
         "True",
         "True",
         "False",
         "False"
        ],
        [
         "3",
         "Jun",
         "2",
         "Saturday",
         "Rural",
         "Friday",
         "Jul",
         "1",
         "65",
         "Third Party",
         "Sedan - Liability",
         "Sport",
         "20,000 to 29,000",
         "4",
         "4",
         "400",
         "2",
         "more than 30",
         "more than 30",
         "1",
         "more than 7",
         "51 to 65",
         "Yes",
         "No",
         "External",
         "more than 5",
         "no change",
         "1 vehicle",
         "1994",
         "Liability",
         "No",
         "False",
         "False",
         "False",
         "False",
         "False",
         "False",
         "False",
         "False",
         "False",
         "False",
         "False",
         "False",
         "False",
         "False",
         "False",
         "False",
         "True",
         "False",
         "True",
         "True",
         "False",
         "False"
        ],
        [
         "4",
         "Jan",
         "5",
         "Monday",
         "Urban",
         "Tuesday",
         "Feb",
         "2",
         "27",
         "Third Party",
         "Sport - Collision",
         "Sport",
         "more than 69,000",
         "5",
         "3",
         "400",
         "1",
         "more than 30",
         "more than 30",
         "none",
         "5 years",
         "31 to 35",
         "No",
         "No",
         "External",
         "none",
         "no change",
         "1 vehicle",
         "1994",
         "Collision",
         "No",
         "False",
         "False",
         "False",
         "False",
         "False",
         "True",
         "False",
         "False",
         "False",
         "False",
         "False",
         "False",
         "False",
         "False",
         "False",
         "False",
         "False",
         "False",
         "False",
         "False",
         "True",
         "False"
        ]
       ],
       "shape": {
        "columns": 52,
        "rows": 5
       }
      },
      "text/html": [
       "<div>\n",
       "<style scoped>\n",
       "    .dataframe tbody tr th:only-of-type {\n",
       "        vertical-align: middle;\n",
       "    }\n",
       "\n",
       "    .dataframe tbody tr th {\n",
       "        vertical-align: top;\n",
       "    }\n",
       "\n",
       "    .dataframe thead th {\n",
       "        text-align: right;\n",
       "    }\n",
       "</style>\n",
       "<table border=\"1\" class=\"dataframe\">\n",
       "  <thead>\n",
       "    <tr style=\"text-align: right;\">\n",
       "      <th></th>\n",
       "      <th>Month</th>\n",
       "      <th>WeekOfMonth</th>\n",
       "      <th>DayOfWeek</th>\n",
       "      <th>AccidentArea</th>\n",
       "      <th>DayOfWeekClaimed</th>\n",
       "      <th>MonthClaimed</th>\n",
       "      <th>WeekOfMonthClaimed</th>\n",
       "      <th>Age</th>\n",
       "      <th>Fault</th>\n",
       "      <th>PolicyType</th>\n",
       "      <th>...</th>\n",
       "      <th>Make_Pontiac</th>\n",
       "      <th>Make_Porche</th>\n",
       "      <th>Make_Saab</th>\n",
       "      <th>Make_Saturn</th>\n",
       "      <th>Make_Toyota</th>\n",
       "      <th>Make_VW</th>\n",
       "      <th>Sex_Male</th>\n",
       "      <th>MaritalStatus_Married</th>\n",
       "      <th>MaritalStatus_Single</th>\n",
       "      <th>MaritalStatus_Widow</th>\n",
       "    </tr>\n",
       "  </thead>\n",
       "  <tbody>\n",
       "    <tr>\n",
       "      <th>0</th>\n",
       "      <td>Dec</td>\n",
       "      <td>5</td>\n",
       "      <td>Wednesday</td>\n",
       "      <td>Urban</td>\n",
       "      <td>Tuesday</td>\n",
       "      <td>Jan</td>\n",
       "      <td>1</td>\n",
       "      <td>21</td>\n",
       "      <td>Policy Holder</td>\n",
       "      <td>Sport - Liability</td>\n",
       "      <td>...</td>\n",
       "      <td>False</td>\n",
       "      <td>False</td>\n",
       "      <td>False</td>\n",
       "      <td>False</td>\n",
       "      <td>False</td>\n",
       "      <td>False</td>\n",
       "      <td>False</td>\n",
       "      <td>False</td>\n",
       "      <td>True</td>\n",
       "      <td>False</td>\n",
       "    </tr>\n",
       "    <tr>\n",
       "      <th>1</th>\n",
       "      <td>Jan</td>\n",
       "      <td>3</td>\n",
       "      <td>Wednesday</td>\n",
       "      <td>Urban</td>\n",
       "      <td>Monday</td>\n",
       "      <td>Jan</td>\n",
       "      <td>4</td>\n",
       "      <td>34</td>\n",
       "      <td>Policy Holder</td>\n",
       "      <td>Sport - Collision</td>\n",
       "      <td>...</td>\n",
       "      <td>False</td>\n",
       "      <td>False</td>\n",
       "      <td>False</td>\n",
       "      <td>False</td>\n",
       "      <td>False</td>\n",
       "      <td>False</td>\n",
       "      <td>True</td>\n",
       "      <td>False</td>\n",
       "      <td>True</td>\n",
       "      <td>False</td>\n",
       "    </tr>\n",
       "    <tr>\n",
       "      <th>2</th>\n",
       "      <td>Oct</td>\n",
       "      <td>5</td>\n",
       "      <td>Friday</td>\n",
       "      <td>Urban</td>\n",
       "      <td>Thursday</td>\n",
       "      <td>Nov</td>\n",
       "      <td>2</td>\n",
       "      <td>47</td>\n",
       "      <td>Policy Holder</td>\n",
       "      <td>Sport - Collision</td>\n",
       "      <td>...</td>\n",
       "      <td>False</td>\n",
       "      <td>False</td>\n",
       "      <td>False</td>\n",
       "      <td>False</td>\n",
       "      <td>False</td>\n",
       "      <td>False</td>\n",
       "      <td>True</td>\n",
       "      <td>True</td>\n",
       "      <td>False</td>\n",
       "      <td>False</td>\n",
       "    </tr>\n",
       "    <tr>\n",
       "      <th>3</th>\n",
       "      <td>Jun</td>\n",
       "      <td>2</td>\n",
       "      <td>Saturday</td>\n",
       "      <td>Rural</td>\n",
       "      <td>Friday</td>\n",
       "      <td>Jul</td>\n",
       "      <td>1</td>\n",
       "      <td>65</td>\n",
       "      <td>Third Party</td>\n",
       "      <td>Sedan - Liability</td>\n",
       "      <td>...</td>\n",
       "      <td>False</td>\n",
       "      <td>False</td>\n",
       "      <td>False</td>\n",
       "      <td>False</td>\n",
       "      <td>True</td>\n",
       "      <td>False</td>\n",
       "      <td>True</td>\n",
       "      <td>True</td>\n",
       "      <td>False</td>\n",
       "      <td>False</td>\n",
       "    </tr>\n",
       "    <tr>\n",
       "      <th>4</th>\n",
       "      <td>Jan</td>\n",
       "      <td>5</td>\n",
       "      <td>Monday</td>\n",
       "      <td>Urban</td>\n",
       "      <td>Tuesday</td>\n",
       "      <td>Feb</td>\n",
       "      <td>2</td>\n",
       "      <td>27</td>\n",
       "      <td>Third Party</td>\n",
       "      <td>Sport - Collision</td>\n",
       "      <td>...</td>\n",
       "      <td>False</td>\n",
       "      <td>False</td>\n",
       "      <td>False</td>\n",
       "      <td>False</td>\n",
       "      <td>False</td>\n",
       "      <td>False</td>\n",
       "      <td>False</td>\n",
       "      <td>False</td>\n",
       "      <td>True</td>\n",
       "      <td>False</td>\n",
       "    </tr>\n",
       "  </tbody>\n",
       "</table>\n",
       "<p>5 rows × 52 columns</p>\n",
       "</div>"
      ],
      "text/plain": [
       "  Month  WeekOfMonth  DayOfWeek AccidentArea DayOfWeekClaimed MonthClaimed  \\\n",
       "0   Dec            5  Wednesday        Urban          Tuesday          Jan   \n",
       "1   Jan            3  Wednesday        Urban           Monday          Jan   \n",
       "2   Oct            5     Friday        Urban         Thursday          Nov   \n",
       "3   Jun            2   Saturday        Rural           Friday          Jul   \n",
       "4   Jan            5     Monday        Urban          Tuesday          Feb   \n",
       "\n",
       "   WeekOfMonthClaimed  Age          Fault         PolicyType  ...  \\\n",
       "0                   1   21  Policy Holder  Sport - Liability  ...   \n",
       "1                   4   34  Policy Holder  Sport - Collision  ...   \n",
       "2                   2   47  Policy Holder  Sport - Collision  ...   \n",
       "3                   1   65    Third Party  Sedan - Liability  ...   \n",
       "4                   2   27    Third Party  Sport - Collision  ...   \n",
       "\n",
       "  Make_Pontiac Make_Porche  Make_Saab  Make_Saturn  Make_Toyota  Make_VW  \\\n",
       "0        False       False      False        False        False    False   \n",
       "1        False       False      False        False        False    False   \n",
       "2        False       False      False        False        False    False   \n",
       "3        False       False      False        False         True    False   \n",
       "4        False       False      False        False        False    False   \n",
       "\n",
       "  Sex_Male MaritalStatus_Married MaritalStatus_Single MaritalStatus_Widow  \n",
       "0    False                 False                 True               False  \n",
       "1     True                 False                 True               False  \n",
       "2     True                  True                False               False  \n",
       "3     True                  True                False               False  \n",
       "4    False                 False                 True               False  \n",
       "\n",
       "[5 rows x 52 columns]"
      ]
     },
     "execution_count": 17,
     "metadata": {},
     "output_type": "execute_result"
    }
   ],
   "source": [
    "# Encode categorical variables using one-hot encoding\n",
    "categorical_columns = [\"Make\", \"Sex\", \"MaritalStatus\"]\n",
    "df_encoded = pd.get_dummies(dataset, columns=categorical_columns, drop_first=True)\n",
    "print(\"Categorical variables encoded.\")\n",
    "df_encoded.head()"
   ]
  },
  {
   "cell_type": "code",
   "execution_count": 18,
   "id": "7b699d07",
   "metadata": {},
   "outputs": [
    {
     "name": "stdout",
     "output_type": "stream",
     "text": [
      "<class 'pandas.core.frame.DataFrame'>\n",
      "RangeIndex: 15420 entries, 0 to 15419\n",
      "Data columns (total 52 columns):\n",
      " #   Column                 Non-Null Count  Dtype \n",
      "---  ------                 --------------  ----- \n",
      " 0   Month                  15420 non-null  object\n",
      " 1   WeekOfMonth            15420 non-null  int64 \n",
      " 2   DayOfWeek              15420 non-null  object\n",
      " 3   AccidentArea           15420 non-null  object\n",
      " 4   DayOfWeekClaimed       15420 non-null  object\n",
      " 5   MonthClaimed           15420 non-null  object\n",
      " 6   WeekOfMonthClaimed     15420 non-null  int64 \n",
      " 7   Age                    15420 non-null  int64 \n",
      " 8   Fault                  15420 non-null  object\n",
      " 9   PolicyType             15420 non-null  object\n",
      " 10  VehicleCategory        15420 non-null  object\n",
      " 11  VehiclePrice           15420 non-null  object\n",
      " 12  PolicyNumber           15420 non-null  int64 \n",
      " 13  RepNumber              15420 non-null  int64 \n",
      " 14  Deductible             15420 non-null  int64 \n",
      " 15  DriverRating           15420 non-null  int64 \n",
      " 16  Days:Policy-Accident   15420 non-null  object\n",
      " 17  Days:Policy-Claim      15420 non-null  object\n",
      " 18  PastNumberOfClaims     15420 non-null  object\n",
      " 19  AgeOfVehicle           15420 non-null  object\n",
      " 20  AgeOfPolicyHolder      15420 non-null  object\n",
      " 21  PoliceReportFiled      15420 non-null  object\n",
      " 22  WitnessPresent         15420 non-null  object\n",
      " 23  AgentType              15420 non-null  object\n",
      " 24  NumberOfSuppliments    15420 non-null  object\n",
      " 25  AddressChange-Claim    15420 non-null  object\n",
      " 26  NumberOfCars           15420 non-null  object\n",
      " 27  Year                   15420 non-null  int64 \n",
      " 28  BasePolicy             15420 non-null  object\n",
      " 29  FraudFound             15420 non-null  object\n",
      " 30  Make_BMW               15420 non-null  bool  \n",
      " 31  Make_Chevrolet         15420 non-null  bool  \n",
      " 32  Make_Dodge             15420 non-null  bool  \n",
      " 33  Make_Ferrari           15420 non-null  bool  \n",
      " 34  Make_Ford              15420 non-null  bool  \n",
      " 35  Make_Honda             15420 non-null  bool  \n",
      " 36  Make_Jaguar            15420 non-null  bool  \n",
      " 37  Make_Lexus             15420 non-null  bool  \n",
      " 38  Make_Mazda             15420 non-null  bool  \n",
      " 39  Make_Mecedes           15420 non-null  bool  \n",
      " 40  Make_Mercury           15420 non-null  bool  \n",
      " 41  Make_Nisson            15420 non-null  bool  \n",
      " 42  Make_Pontiac           15420 non-null  bool  \n",
      " 43  Make_Porche            15420 non-null  bool  \n",
      " 44  Make_Saab              15420 non-null  bool  \n",
      " 45  Make_Saturn            15420 non-null  bool  \n",
      " 46  Make_Toyota            15420 non-null  bool  \n",
      " 47  Make_VW                15420 non-null  bool  \n",
      " 48  Sex_Male               15420 non-null  bool  \n",
      " 49  MaritalStatus_Married  15420 non-null  bool  \n",
      " 50  MaritalStatus_Single   15420 non-null  bool  \n",
      " 51  MaritalStatus_Widow    15420 non-null  bool  \n",
      "dtypes: bool(22), int64(8), object(22)\n",
      "memory usage: 3.9+ MB\n"
     ]
    }
   ],
   "source": [
    "df_encoded.info()"
   ]
  },
  {
   "cell_type": "code",
   "execution_count": 19,
   "id": "f1a49a53",
   "metadata": {},
   "outputs": [
    {
     "name": "stdout",
     "output_type": "stream",
     "text": [
      "<class 'pandas.core.frame.DataFrame'>\n",
      "RangeIndex: 15420 entries, 0 to 15419\n",
      "Data columns (total 52 columns):\n",
      " #   Column                 Non-Null Count  Dtype \n",
      "---  ------                 --------------  ----- \n",
      " 0   Month                  15420 non-null  object\n",
      " 1   WeekOfMonth            15420 non-null  int64 \n",
      " 2   DayOfWeek              15420 non-null  object\n",
      " 3   AccidentArea           15420 non-null  object\n",
      " 4   DayOfWeekClaimed       15420 non-null  object\n",
      " 5   MonthClaimed           15420 non-null  object\n",
      " 6   WeekOfMonthClaimed     15420 non-null  int64 \n",
      " 7   Age                    15420 non-null  int64 \n",
      " 8   Fault                  15420 non-null  object\n",
      " 9   PolicyType             15420 non-null  object\n",
      " 10  VehicleCategory        15420 non-null  object\n",
      " 11  VehiclePrice           15420 non-null  object\n",
      " 12  PolicyNumber           15420 non-null  int64 \n",
      " 13  RepNumber              15420 non-null  int64 \n",
      " 14  Deductible             15420 non-null  int64 \n",
      " 15  DriverRating           15420 non-null  int64 \n",
      " 16  Days:Policy-Accident   15420 non-null  object\n",
      " 17  Days:Policy-Claim      15420 non-null  object\n",
      " 18  PastNumberOfClaims     15420 non-null  object\n",
      " 19  AgeOfVehicle           15420 non-null  object\n",
      " 20  AgeOfPolicyHolder      15420 non-null  object\n",
      " 21  PoliceReportFiled      15420 non-null  object\n",
      " 22  WitnessPresent         15420 non-null  object\n",
      " 23  AgentType              15420 non-null  object\n",
      " 24  NumberOfSuppliments    15420 non-null  object\n",
      " 25  AddressChange-Claim    15420 non-null  object\n",
      " 26  NumberOfCars           15420 non-null  object\n",
      " 27  Year                   15420 non-null  int64 \n",
      " 28  BasePolicy             15420 non-null  object\n",
      " 29  FraudFound             15420 non-null  object\n",
      " 30  Make_BMW               15420 non-null  int64 \n",
      " 31  Make_Chevrolet         15420 non-null  int64 \n",
      " 32  Make_Dodge             15420 non-null  int64 \n",
      " 33  Make_Ferrari           15420 non-null  int64 \n",
      " 34  Make_Ford              15420 non-null  int64 \n",
      " 35  Make_Honda             15420 non-null  int64 \n",
      " 36  Make_Jaguar            15420 non-null  int64 \n",
      " 37  Make_Lexus             15420 non-null  int64 \n",
      " 38  Make_Mazda             15420 non-null  int64 \n",
      " 39  Make_Mecedes           15420 non-null  int64 \n",
      " 40  Make_Mercury           15420 non-null  int64 \n",
      " 41  Make_Nisson            15420 non-null  int64 \n",
      " 42  Make_Pontiac           15420 non-null  int64 \n",
      " 43  Make_Porche            15420 non-null  int64 \n",
      " 44  Make_Saab              15420 non-null  int64 \n",
      " 45  Make_Saturn            15420 non-null  int64 \n",
      " 46  Make_Toyota            15420 non-null  int64 \n",
      " 47  Make_VW                15420 non-null  int64 \n",
      " 48  Sex_Male               15420 non-null  int64 \n",
      " 49  MaritalStatus_Married  15420 non-null  int64 \n",
      " 50  MaritalStatus_Single   15420 non-null  int64 \n",
      " 51  MaritalStatus_Widow    15420 non-null  int64 \n",
      "dtypes: int64(30), object(22)\n",
      "memory usage: 6.1+ MB\n"
     ]
    }
   ],
   "source": [
    "# Convert boolean columns to integer\n",
    "bool_cols = df_encoded.select_dtypes(include=[\"bool\"]).columns\n",
    "df_encoded[bool_cols] = df_encoded[bool_cols].astype(int)\n",
    "df_encoded.info()"
   ]
  },
  {
   "cell_type": "code",
   "execution_count": 20,
   "id": "8e9efdf3",
   "metadata": {},
   "outputs": [
    {
     "name": "stdout",
     "output_type": "stream",
     "text": [
      "Class distribution for Make:\n",
      " Make\n",
      "Pontiac      3837\n",
      "Toyota       3121\n",
      "Honda        2801\n",
      "Mazda        2354\n",
      "Chevrolet    1681\n",
      "Accura        472\n",
      "Ford          450\n",
      "VW            283\n",
      "Dodge         109\n",
      "Saab          108\n",
      "Mercury        83\n",
      "Saturn         58\n",
      "Nisson         30\n",
      "BMW            15\n",
      "Jaguar          6\n",
      "Porche          5\n",
      "Mecedes         4\n",
      "Ferrari         2\n",
      "Lexus           1\n",
      "Name: count, dtype: int64\n",
      "Class distribution for Sex:\n",
      " Sex\n",
      "Male      13000\n",
      "Female     2420\n",
      "Name: count, dtype: int64\n",
      "Class distribution for MaritalStatus:\n",
      " MaritalStatus\n",
      "Married     10625\n",
      "Single       4684\n",
      "Divorced       76\n",
      "Widow          35\n",
      "Name: count, dtype: int64\n"
     ]
    }
   ],
   "source": [
    "# Check for class imbalance in categorical columns\n",
    "for col in categorical_columns:\n",
    "    print(f\"Class distribution for {col}:\\n\", dataset[col].value_counts())\n"
   ]
  },
  {
   "cell_type": "code",
   "execution_count": 23,
   "id": "76ab59c7",
   "metadata": {},
   "outputs": [
    {
     "data": {
      "image/png": "[encoded data removed]",
      "text/plain": [
       "<Figure size 800x500 with 1 Axes>"
      ]
     },
     "metadata": {},
     "output_type": "display_data"
    }
   ],
   "source": [
    "# \"Make\", \"Sex\", \"MaritalStatus\"\n",
    "# Display class imbalance\n",
    "df_categorical = pd.DataFrame({\n",
    "    \"Make\": dataset[\"Make\"].value_counts().index,\n",
    "    \"Count\": dataset[\"Make\"].value_counts().values\n",
    "})\n",
    "\n",
    "plt.figure(figsize=(8, 5))\n",
    "sns.barplot(x=\"Make\", y=\"Count\", data=df_categorical)\n",
    "plt.title(\"Class Imbalance Check - Make\")\n",
    "plt.xlabel(\"Make\")\n",
    "plt.ylabel(\"Count\")\n",
    "plt.xticks(rotation=45)\n",
    "plt.show()"
   ]
  },
  {
   "cell_type": "code",
   "execution_count": 25,
   "id": "02ff6175",
   "metadata": {},
   "outputs": [
    {
     "data": {
      "image/png": "[encoded data removed]",
      "text/plain": [
       "<Figure size 800x500 with 1 Axes>"
      ]
     },
     "metadata": {},
     "output_type": "display_data"
    }
   ],
   "source": [
    "# Display class imbalance in Gender\n",
    "df_gender = pd.DataFrame({\n",
    "    \"Sex\": dataset[\"Sex\"].value_counts().index,\n",
    "    \"Count\": dataset[\"Sex\"].value_counts().values\n",
    "})\n",
    "\n",
    "plt.figure(figsize=(8, 5))\n",
    "sns.barplot(x=\"Sex\", y=\"Count\", data=df_gender)\n",
    "plt.title(\"Class Imbalance Check - Sex\")\n",
    "plt.xlabel(\"Sex\")\n",
    "plt.ylabel(\"Count\")\n",
    "plt.show()\n"
   ]
  },
  {
   "cell_type": "code",
   "execution_count": 26,
   "id": "0972fb3d",
   "metadata": {},
   "outputs": [
    {
     "data": {
      "text/plain": [
       "<Axes: xlabel='Age', ylabel='Count'>"
      ]
     },
     "execution_count": 26,
     "metadata": {},
     "output_type": "execute_result"
    },
    {
     "data": {
      "image/png": "[encoded data removed]",
      "text/plain": [
       "<Figure size 640x480 with 1 Axes>"
      ]
     },
     "metadata": {},
     "output_type": "display_data"
    }
   ],
   "source": [
    "\n",
    "# KDE plot of Age\n",
    "sns.histplot(dataset[\"Age\"], kde = True)"
   ]
  },
  {
   "cell_type": "code",
   "execution_count": 30,
   "id": "84dc2119",
   "metadata": {},
   "outputs": [
    {
     "data": {
      "text/plain": [
       "<Axes: xlabel='Fault', ylabel='Count'>"
      ]
     },
     "execution_count": 30,
     "metadata": {},
     "output_type": "execute_result"
    },
    {
     "data": {
      "image/png": "[encoded data removed]",
      "text/plain": [
       "<Figure size 640x480 with 1 Axes>"
      ]
     },
     "metadata": {},
     "output_type": "display_data"
    }
   ],
   "source": [
    "# KDE plot of Fault\n",
    "sns.histplot(dataset[\"Fault\"], kde = True)"
   ]
  },
  {
   "cell_type": "markdown",
   "id": "a9373cf9",
   "metadata": {},
   "source": [
    "- The dataset is not evenly distributed across car makers\n",
    "- Gender is not evenly balanced with higher number of males."
   ]
  },
  {
   "cell_type": "markdown",
   "id": "5c39bb8e",
   "metadata": {},
   "source": [
    "### Conclusions:\n",
    " - Identify required modifications or corrections: No modifications are needed since it is synthetic data.\n",
    " - Detect class imbalances: The dataset has an uneven distribution in Make and Gender. These factors should be considered in model development."
   ]
  },
  {
   "cell_type": "markdown",
   "id": "a3f1934f-7ef3-4cbb-84bd-b27d93ba95d2",
   "metadata": {},
   "source": [
    "# 4. Storytelling With Data graph"
   ]
  },
  {
   "cell_type": "markdown",
   "id": "91ba396b-fc00-48ec-acc6-e026348536f6",
   "metadata": {},
   "source": [
    "Reproduce any graph of your choice in p. 52-68 of the Storytelling With Data book as best you can.  (The second half of chapter two).  You do not have to get the exact data values right, just the overall look and feel."
   ]
  },
  {
   "cell_type": "markdown",
   "id": "f32d0d32",
   "metadata": {},
   "source": [
    "#### FIGURE 2.7 Modified scatterplot (page 45)"
   ]
  },
  {
   "cell_type": "code",
   "execution_count": 111,
   "id": "5a7e4b4b-977a-4b0e-bec2-1f34a514da44",
   "metadata": {},
   "outputs": [],
   "source": [
    "# Generate synthetic data\n",
    "# Adjust data distribution to better match a U-shaped (parabolic) curve\n",
    "np.random.seed(42)\n",
    "\n",
    "# Generate miles driven values\n",
    "x = np.linspace(500, 4000, 50)\n",
    "\n",
    "# Create a U-shaped distribution for cost per mile (parabolic)\n",
    "y_base = 1.0 + ((x - 2000) ** 2) / 3e6  # Parabolic shape with a minimum around 2000 miles\n",
    "\n",
    "# Add some random noise\n",
    "cost_per_mile = y_base + np.random.uniform(-0.2, 0.2, len(x))\n",
    "\n",
    "# Determine colors based on threshold\n",
    "colors = ['orange' if c > 1.5 else 'gray' for c in cost_per_mile]\n"
   ]
  },
  {
   "cell_type": "code",
   "execution_count": 112,
   "id": "3ae26976",
   "metadata": {},
   "outputs": [
    {
     "data": {
      "image/png": "[encoded data removed]",
      "text/plain": [
       "<Figure size 600x400 with 1 Axes>"
      ]
     },
     "metadata": {},
     "output_type": "display_data"
    }
   ],
   "source": [
    "# Plot\n",
    "plt.figure(figsize=(6, 4))\n",
    "plt.scatter(x, cost_per_mile, c=colors, edgecolors='black')\n",
    "\n",
    "# Add the average cost per mile line\n",
    "plt.axhline(avg_cost, color='black', linestyle='dashed')\n",
    "\n",
    "# Add the \"AVG\" point as a dark gray dot\n",
    "plt.scatter([2000], [avg_cost], color='dimgray', s=80, edgecolors='black', zorder=3)\n",
    "plt.text(2050, avg_cost + 0.05, \"AVG\", fontsize=10, fontweight='bold', color='dimgray')\n",
    "\n",
    "# Labels with dark gray color\n",
    "plt.xlabel(\"Miles driven per month\", color='dimgray', loc='left')\n",
    "plt.ylabel(\"Cost per mile ($)\", color='dimgray', loc='top')\n",
    "plt.title(\"Cost per mile by miles driven\", color='dimgray', loc='left')\n",
    "\n",
    "# Formatting\n",
    "plt.xticks([0, 1000, 2000, 3000, 4000], labels=['0', '1,000', '2,000', '3,000', '4,000'], color='dimgray')\n",
    "plt.yticks([0, 0.5, 1.0, 1.5, 2.0, 2.5, 3.0], labels=[\"$0.00\", \"$0.50\", \"$1.00\", \"$1.50\", \"$2.00\", \"$2.50\", \"$3.00\"], color='dimgray')\n",
    "plt.xlim(0, 4000)\n",
    "plt.ylim(0, 3)\n",
    "\n",
    "# Show plot\n",
    "plt.show()\n"
   ]
  }
 ],
 "metadata": {
  "kernelspec": {
   "display_name": ".venv",
   "language": "python",
   "name": "python3"
  },
  "language_info": {
   "codemirror_mode": {
    "name": "ipython",
    "version": 3
   },
   "file_extension": ".py",
   "mimetype": "text/x-python",
   "name": "python",
   "nbconvert_exporter": "python",
   "pygments_lexer": "ipython3",
   "version": "3.9.13"
  }
 },
 "nbformat": 4,
 "nbformat_minor": 5
}
