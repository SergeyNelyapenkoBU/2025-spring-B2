{
 "cells": [
  {
   "cell_type": "markdown",
   "id": "5190b54c-d49c-4d6f-80cc-22555336a9cd",
   "metadata": {},
   "source": [
    "# Week 2 - Preprocessing, part 2\n",
    "\n",
    "# 1. Lesson: None"
   ]
  },
  {
   "cell_type": "markdown",
   "id": "47c4e5ff-b05f-4ef2-96f1-49dcb5beb158",
   "metadata": {},
   "source": [
    "# 2. Weekly graph question"
   ]
  },
  {
   "cell_type": "markdown",
   "id": "aad37e29-6e84-41fa-886d-abc1312213ab",
   "metadata": {},
   "source": [
    "✅ The Storytelling With Data book mentions planning on a \"Who, What, and How\" for your data story.  Write down a possible Who, What, and How for your data, using the ideas in the book."
   ]
  },
  {
   "cell_type": "markdown",
   "id": "cca941aa",
   "metadata": {},
   "source": [
    "The *Car Claims* dataset, available on [Kaggle](https://www.kaggle.com/datasets/khusheekapoor/vehicle-insurance-fraud-detection/data) and provided by **Angoss Knowledge Seeker**, contains 15,420 automobile insurance claims. Of these, 14,497 are legitimate and 923 are fraudulent, reflecting a significant class imbalance.\n",
    "\n",
    "#### **Who (Audience)**\n",
    "- **Fraud Investigators & Analysts:** Improve fraud detection models.  \n",
    "- **Claims Adjusters & Underwriters:** Assess claim validity.  \n",
    "- **Insurance Executives & Risk Managers:** Reduce fraud losses.  \n",
    "\n",
    "#### **What (Key Message)**\n",
    "- **Fraud is rare (6%) but costly.**  \n",
    "- **Patterns exist** in claim amount, number of vehicles, and incident type.  \n",
    "- **Better detection models** can minimize losses while ensuring fair claims.  \n",
    "\n",
    "#### **How (Visualization Approach)**\n",
    "- **Bar charts**: Fraud vs. non-fraud distribution.  \n",
    "- **Heatmaps**: Feature correlations.  \n",
    "- **Decision Trees**: Key fraud indicators.  \n",
    "- **Time trends**: Fraud patterns over time.  \n",
    "- **Geospatial maps**: Fraud hotspots.  "
   ]
  },
  {
   "cell_type": "markdown",
   "id": "898eb327-aefd-4ac0-b95a-92b616a2181b",
   "metadata": {},
   "source": [
    "# 3. Homework - work with your own data"
   ]
  },
  {
   "cell_type": "code",
   "execution_count": 1,
   "id": "fe925521-979f-4983-8d85-8db8d1316e99",
   "metadata": {},
   "outputs": [],
   "source": [
    "import pandas as pd\n",
    "import numpy as np\n",
    "from datetime import datetime, timedelta\n",
    "import kagglehub\n",
    "import os\n",
    "import matplotlib.pyplot as plt\n",
    "import seaborn as sns"
   ]
  },
  {
   "cell_type": "markdown",
   "id": "14836788-b235-4cd4-b94d-5f749c6141a8",
   "metadata": {},
   "source": [
    "This week, you will do the same types of exercises as last week, but you should use your own datasets that you found last semester.\n",
    "\n",
    "### Here are some types of analysis you can do  Use Google, documentation, and ChatGPT to help you:\n",
    "\n",
    "- ✅  Summarize the datasets using info() and describe()\n",
    "\n",
    "- ✅ Are there any duplicate rows?\n",
    "\n",
    "- ✅ Are there any duplicate values in a given column (when this would be inappropriate?)\n",
    "\n",
    "- ✅ What are the mean, median, and mode of each column?\n",
    "\n",
    "- ✅ Are there any missing or null values?\n",
    "\n",
    "    - ✅ Do you want to fill in the missing value with a mean value?  A value of your choice?  Remove that row?\n",
    "\n",
    "- ✅ Identify any other inconsistent data (e.g. someone seems to be taking an action before they are born.)\n",
    "\n",
    "- ✅ Encode any categorical variables (e.g. with one-hot encoding.)\n",
    "\n",
    "### Conclusions:\n",
    "\n",
    "- ✅ Are the data usable?  If not, find some new data!\n",
    "\n",
    "- ✅ Do you need to modify or correct the data in some way?\n",
    "\n",
    "- ✅ Is there any class imbalance?  (Categories that have many more items than other categories)."
   ]
  },
  {
   "cell_type": "code",
   "execution_count": 2,
   "id": "d927dc06",
   "metadata": {},
   "outputs": [
    {
     "name": "stdout",
     "output_type": "stream",
     "text": [
      "Path to kaggle dataset: khusheekapoor/vehicle-insurance-fraud-detection\n",
      "Kaggle dataset file name: carclaims.csv\n",
      "Warning: Looks like you're using an outdated `kagglehub` version (installed: 0.3.6), please consider upgrading to the latest version (0.3.10).\n",
      "Path to downloaded file: C:\\Users\\serge\\.cache\\kagglehub\\datasets\\khusheekapoor\\vehicle-insurance-fraud-detection\\versions\\1\n"
     ]
    },
    {
     "data": {
      "application/vnd.microsoft.datawrangler.viewer.v0+json": {
       "columns": [
        {
         "name": "index",
         "rawType": "int64",
         "type": "integer"
        },
        {
         "name": "Month",
         "rawType": "object",
         "type": "string"
        },
        {
         "name": "WeekOfMonth",
         "rawType": "int64",
         "type": "integer"
        },
        {
         "name": "DayOfWeek",
         "rawType": "object",
         "type": "string"
        },
        {
         "name": "Make",
         "rawType": "object",
         "type": "string"
        },
        {
         "name": "AccidentArea",
         "rawType": "object",
         "type": "string"
        },
        {
         "name": "DayOfWeekClaimed",
         "rawType": "object",
         "type": "string"
        },
        {
         "name": "MonthClaimed",
         "rawType": "object",
         "type": "string"
        },
        {
         "name": "WeekOfMonthClaimed",
         "rawType": "int64",
         "type": "integer"
        },
        {
         "name": "Sex",
         "rawType": "object",
         "type": "string"
        },
        {
         "name": "MaritalStatus",
         "rawType": "object",
         "type": "string"
        },
        {
         "name": "Age",
         "rawType": "int64",
         "type": "integer"
        },
        {
         "name": "Fault",
         "rawType": "object",
         "type": "string"
        },
        {
         "name": "PolicyType",
         "rawType": "object",
         "type": "string"
        },
        {
         "name": "VehicleCategory",
         "rawType": "object",
         "type": "string"
        },
        {
         "name": "VehiclePrice",
         "rawType": "object",
         "type": "string"
        },
        {
         "name": "PolicyNumber",
         "rawType": "int64",
         "type": "integer"
        },
        {
         "name": "RepNumber",
         "rawType": "int64",
         "type": "integer"
        },
        {
         "name": "Deductible",
         "rawType": "int64",
         "type": "integer"
        },
        {
         "name": "DriverRating",
         "rawType": "int64",
         "type": "integer"
        },
        {
         "name": "Days:Policy-Accident",
         "rawType": "object",
         "type": "string"
        },
        {
         "name": "Days:Policy-Claim",
         "rawType": "object",
         "type": "string"
        },
        {
         "name": "PastNumberOfClaims",
         "rawType": "object",
         "type": "string"
        },
        {
         "name": "AgeOfVehicle",
         "rawType": "object",
         "type": "string"
        },
        {
         "name": "AgeOfPolicyHolder",
         "rawType": "object",
         "type": "string"
        },
        {
         "name": "PoliceReportFiled",
         "rawType": "object",
         "type": "string"
        },
        {
         "name": "WitnessPresent",
         "rawType": "object",
         "type": "string"
        },
        {
         "name": "AgentType",
         "rawType": "object",
         "type": "string"
        },
        {
         "name": "NumberOfSuppliments",
         "rawType": "object",
         "type": "string"
        },
        {
         "name": "AddressChange-Claim",
         "rawType": "object",
         "type": "string"
        },
        {
         "name": "NumberOfCars",
         "rawType": "object",
         "type": "string"
        },
        {
         "name": "Year",
         "rawType": "int64",
         "type": "integer"
        },
        {
         "name": "BasePolicy",
         "rawType": "object",
         "type": "string"
        },
        {
         "name": "FraudFound",
         "rawType": "object",
         "type": "string"
        }
       ],
       "conversionMethod": "pd.DataFrame",
       "ref": "aed3e287-610a-4937-b4d6-36236cbe85f8",
       "rows": [
        [
         "0",
         "Dec",
         "5",
         "Wednesday",
         "Honda",
         "Urban",
         "Tuesday",
         "Jan",
         "1",
         "Female",
         "Single",
         "21",
         "Policy Holder",
         "Sport - Liability",
         "Sport",
         "more than 69,000",
         "1",
         "12",
         "300",
         "1",
         "more than 30",
         "more than 30",
         "none",
         "3 years",
         "26 to 30",
         "No",
         "No",
         "External",
         "none",
         "1 year",
         "3 to 4",
         "1994",
         "Liability",
         "No"
        ],
        [
         "1",
         "Jan",
         "3",
         "Wednesday",
         "Honda",
         "Urban",
         "Monday",
         "Jan",
         "4",
         "Male",
         "Single",
         "34",
         "Policy Holder",
         "Sport - Collision",
         "Sport",
         "more than 69,000",
         "2",
         "15",
         "400",
         "4",
         "more than 30",
         "more than 30",
         "none",
         "6 years",
         "31 to 35",
         "Yes",
         "No",
         "External",
         "none",
         "no change",
         "1 vehicle",
         "1994",
         "Collision",
         "No"
        ],
        [
         "2",
         "Oct",
         "5",
         "Friday",
         "Honda",
         "Urban",
         "Thursday",
         "Nov",
         "2",
         "Male",
         "Married",
         "47",
         "Policy Holder",
         "Sport - Collision",
         "Sport",
         "more than 69,000",
         "3",
         "7",
         "400",
         "3",
         "more than 30",
         "more than 30",
         "1",
         "7 years",
         "41 to 50",
         "No",
         "No",
         "External",
         "none",
         "no change",
         "1 vehicle",
         "1994",
         "Collision",
         "No"
        ],
        [
         "3",
         "Jun",
         "2",
         "Saturday",
         "Toyota",
         "Rural",
         "Friday",
         "Jul",
         "1",
         "Male",
         "Married",
         "65",
         "Third Party",
         "Sedan - Liability",
         "Sport",
         "20,000 to 29,000",
         "4",
         "4",
         "400",
         "2",
         "more than 30",
         "more than 30",
         "1",
         "more than 7",
         "51 to 65",
         "Yes",
         "No",
         "External",
         "more than 5",
         "no change",
         "1 vehicle",
         "1994",
         "Liability",
         "No"
        ],
        [
         "4",
         "Jan",
         "5",
         "Monday",
         "Honda",
         "Urban",
         "Tuesday",
         "Feb",
         "2",
         "Female",
         "Single",
         "27",
         "Third Party",
         "Sport - Collision",
         "Sport",
         "more than 69,000",
         "5",
         "3",
         "400",
         "1",
         "more than 30",
         "more than 30",
         "none",
         "5 years",
         "31 to 35",
         "No",
         "No",
         "External",
         "none",
         "no change",
         "1 vehicle",
         "1994",
         "Collision",
         "No"
        ]
       ],
       "shape": {
        "columns": 33,
        "rows": 5
       }
      },
      "text/html": [
       "<div>\n",
       "<style scoped>\n",
       "    .dataframe tbody tr th:only-of-type {\n",
       "        vertical-align: middle;\n",
       "    }\n",
       "\n",
       "    .dataframe tbody tr th {\n",
       "        vertical-align: top;\n",
       "    }\n",
       "\n",
       "    .dataframe thead th {\n",
       "        text-align: right;\n",
       "    }\n",
       "</style>\n",
       "<table border=\"1\" class=\"dataframe\">\n",
       "  <thead>\n",
       "    <tr style=\"text-align: right;\">\n",
       "      <th></th>\n",
       "      <th>Month</th>\n",
       "      <th>WeekOfMonth</th>\n",
       "      <th>DayOfWeek</th>\n",
       "      <th>Make</th>\n",
       "      <th>AccidentArea</th>\n",
       "      <th>DayOfWeekClaimed</th>\n",
       "      <th>MonthClaimed</th>\n",
       "      <th>WeekOfMonthClaimed</th>\n",
       "      <th>Sex</th>\n",
       "      <th>MaritalStatus</th>\n",
       "      <th>...</th>\n",
       "      <th>AgeOfPolicyHolder</th>\n",
       "      <th>PoliceReportFiled</th>\n",
       "      <th>WitnessPresent</th>\n",
       "      <th>AgentType</th>\n",
       "      <th>NumberOfSuppliments</th>\n",
       "      <th>AddressChange-Claim</th>\n",
       "      <th>NumberOfCars</th>\n",
       "      <th>Year</th>\n",
       "      <th>BasePolicy</th>\n",
       "      <th>FraudFound</th>\n",
       "    </tr>\n",
       "  </thead>\n",
       "  <tbody>\n",
       "    <tr>\n",
       "      <th>0</th>\n",
       "      <td>Dec</td>\n",
       "      <td>5</td>\n",
       "      <td>Wednesday</td>\n",
       "      <td>Honda</td>\n",
       "      <td>Urban</td>\n",
       "      <td>Tuesday</td>\n",
       "      <td>Jan</td>\n",
       "      <td>1</td>\n",
       "      <td>Female</td>\n",
       "      <td>Single</td>\n",
       "      <td>...</td>\n",
       "      <td>26 to 30</td>\n",
       "      <td>No</td>\n",
       "      <td>No</td>\n",
       "      <td>External</td>\n",
       "      <td>none</td>\n",
       "      <td>1 year</td>\n",
       "      <td>3 to 4</td>\n",
       "      <td>1994</td>\n",
       "      <td>Liability</td>\n",
       "      <td>No</td>\n",
       "    </tr>\n",
       "    <tr>\n",
       "      <th>1</th>\n",
       "      <td>Jan</td>\n",
       "      <td>3</td>\n",
       "      <td>Wednesday</td>\n",
       "      <td>Honda</td>\n",
       "      <td>Urban</td>\n",
       "      <td>Monday</td>\n",
       "      <td>Jan</td>\n",
       "      <td>4</td>\n",
       "      <td>Male</td>\n",
       "      <td>Single</td>\n",
       "      <td>...</td>\n",
       "      <td>31 to 35</td>\n",
       "      <td>Yes</td>\n",
       "      <td>No</td>\n",
       "      <td>External</td>\n",
       "      <td>none</td>\n",
       "      <td>no change</td>\n",
       "      <td>1 vehicle</td>\n",
       "      <td>1994</td>\n",
       "      <td>Collision</td>\n",
       "      <td>No</td>\n",
       "    </tr>\n",
       "    <tr>\n",
       "      <th>2</th>\n",
       "      <td>Oct</td>\n",
       "      <td>5</td>\n",
       "      <td>Friday</td>\n",
       "      <td>Honda</td>\n",
       "      <td>Urban</td>\n",
       "      <td>Thursday</td>\n",
       "      <td>Nov</td>\n",
       "      <td>2</td>\n",
       "      <td>Male</td>\n",
       "      <td>Married</td>\n",
       "      <td>...</td>\n",
       "      <td>41 to 50</td>\n",
       "      <td>No</td>\n",
       "      <td>No</td>\n",
       "      <td>External</td>\n",
       "      <td>none</td>\n",
       "      <td>no change</td>\n",
       "      <td>1 vehicle</td>\n",
       "      <td>1994</td>\n",
       "      <td>Collision</td>\n",
       "      <td>No</td>\n",
       "    </tr>\n",
       "    <tr>\n",
       "      <th>3</th>\n",
       "      <td>Jun</td>\n",
       "      <td>2</td>\n",
       "      <td>Saturday</td>\n",
       "      <td>Toyota</td>\n",
       "      <td>Rural</td>\n",
       "      <td>Friday</td>\n",
       "      <td>Jul</td>\n",
       "      <td>1</td>\n",
       "      <td>Male</td>\n",
       "      <td>Married</td>\n",
       "      <td>...</td>\n",
       "      <td>51 to 65</td>\n",
       "      <td>Yes</td>\n",
       "      <td>No</td>\n",
       "      <td>External</td>\n",
       "      <td>more than 5</td>\n",
       "      <td>no change</td>\n",
       "      <td>1 vehicle</td>\n",
       "      <td>1994</td>\n",
       "      <td>Liability</td>\n",
       "      <td>No</td>\n",
       "    </tr>\n",
       "    <tr>\n",
       "      <th>4</th>\n",
       "      <td>Jan</td>\n",
       "      <td>5</td>\n",
       "      <td>Monday</td>\n",
       "      <td>Honda</td>\n",
       "      <td>Urban</td>\n",
       "      <td>Tuesday</td>\n",
       "      <td>Feb</td>\n",
       "      <td>2</td>\n",
       "      <td>Female</td>\n",
       "      <td>Single</td>\n",
       "      <td>...</td>\n",
       "      <td>31 to 35</td>\n",
       "      <td>No</td>\n",
       "      <td>No</td>\n",
       "      <td>External</td>\n",
       "      <td>none</td>\n",
       "      <td>no change</td>\n",
       "      <td>1 vehicle</td>\n",
       "      <td>1994</td>\n",
       "      <td>Collision</td>\n",
       "      <td>No</td>\n",
       "    </tr>\n",
       "  </tbody>\n",
       "</table>\n",
       "<p>5 rows × 33 columns</p>\n",
       "</div>"
      ],
      "text/plain": [
       "  Month  WeekOfMonth  DayOfWeek    Make AccidentArea DayOfWeekClaimed  \\\n",
       "0   Dec            5  Wednesday   Honda        Urban          Tuesday   \n",
       "1   Jan            3  Wednesday   Honda        Urban           Monday   \n",
       "2   Oct            5     Friday   Honda        Urban         Thursday   \n",
       "3   Jun            2   Saturday  Toyota        Rural           Friday   \n",
       "4   Jan            5     Monday   Honda        Urban          Tuesday   \n",
       "\n",
       "  MonthClaimed  WeekOfMonthClaimed     Sex MaritalStatus  ...  \\\n",
       "0          Jan                   1  Female        Single  ...   \n",
       "1          Jan                   4    Male        Single  ...   \n",
       "2          Nov                   2    Male       Married  ...   \n",
       "3          Jul                   1    Male       Married  ...   \n",
       "4          Feb                   2  Female        Single  ...   \n",
       "\n",
       "   AgeOfPolicyHolder PoliceReportFiled WitnessPresent AgentType  \\\n",
       "0           26 to 30                No             No  External   \n",
       "1           31 to 35               Yes             No  External   \n",
       "2           41 to 50                No             No  External   \n",
       "3           51 to 65               Yes             No  External   \n",
       "4           31 to 35                No             No  External   \n",
       "\n",
       "  NumberOfSuppliments  AddressChange-Claim  NumberOfCars  Year  BasePolicy  \\\n",
       "0                none               1 year        3 to 4  1994   Liability   \n",
       "1                none            no change     1 vehicle  1994   Collision   \n",
       "2                none            no change     1 vehicle  1994   Collision   \n",
       "3         more than 5            no change     1 vehicle  1994   Liability   \n",
       "4                none            no change     1 vehicle  1994   Collision   \n",
       "\n",
       "  FraudFound  \n",
       "0         No  \n",
       "1         No  \n",
       "2         No  \n",
       "3         No  \n",
       "4         No  \n",
       "\n",
       "[5 rows x 33 columns]"
      ]
     },
     "execution_count": 2,
     "metadata": {},
     "output_type": "execute_result"
    }
   ],
   "source": [
    "# set variables\n",
    "kaggle_dataset_path = \"khusheekapoor/vehicle-insurance-fraud-detection\"\n",
    "kaggle_dataset_file_name = \"carclaims.csv\"\n",
    "print(f\"Path to kaggle dataset: {kaggle_dataset_path}\")\n",
    "print(f\"Kaggle dataset file name: {kaggle_dataset_file_name}\")\n",
    "\n",
    "# download the data set\n",
    "kaggle_dataset_local_path = kagglehub.dataset_download(kaggle_dataset_path)\n",
    "print(f\"Path to downloaded file: {kaggle_dataset_local_path}\")\n",
    "\n",
    "# read csv file to pandas dataframe\n",
    "kaggle_dataset_local_path_to_file = os.path.join(kaggle_dataset_local_path, kaggle_dataset_file_name)\n",
    "kaggle_dataset_raw = pd.read_csv(kaggle_dataset_local_path_to_file)\n",
    "\n",
    "# copy dataframe for EDA\n",
    "dataset = kaggle_dataset_raw.copy()\n",
    "\n",
    "# show top rows\n",
    "dataset.head()"
   ]
  },
  {
   "cell_type": "markdown",
   "id": "cf13ad4c",
   "metadata": {},
   "source": [
    "#### *Summarize the datasets using info() and describe()*"
   ]
  },
  {
   "cell_type": "code",
   "execution_count": 3,
   "id": "da95e54a",
   "metadata": {},
   "outputs": [
    {
     "name": "stdout",
     "output_type": "stream",
     "text": [
      "<class 'pandas.core.frame.DataFrame'>\n",
      "RangeIndex: 15420 entries, 0 to 15419\n",
      "Data columns (total 33 columns):\n",
      " #   Column                Non-Null Count  Dtype \n",
      "---  ------                --------------  ----- \n",
      " 0   Month                 15420 non-null  object\n",
      " 1   WeekOfMonth           15420 non-null  int64 \n",
      " 2   DayOfWeek             15420 non-null  object\n",
      " 3   Make                  15420 non-null  object\n",
      " 4   AccidentArea          15420 non-null  object\n",
      " 5   DayOfWeekClaimed      15420 non-null  object\n",
      " 6   MonthClaimed          15420 non-null  object\n",
      " 7   WeekOfMonthClaimed    15420 non-null  int64 \n",
      " 8   Sex                   15420 non-null  object\n",
      " 9   MaritalStatus         15420 non-null  object\n",
      " 10  Age                   15420 non-null  int64 \n",
      " 11  Fault                 15420 non-null  object\n",
      " 12  PolicyType            15420 non-null  object\n",
      " 13  VehicleCategory       15420 non-null  object\n",
      " 14  VehiclePrice          15420 non-null  object\n",
      " 15  PolicyNumber          15420 non-null  int64 \n",
      " 16  RepNumber             15420 non-null  int64 \n",
      " 17  Deductible            15420 non-null  int64 \n",
      " 18  DriverRating          15420 non-null  int64 \n",
      " 19  Days:Policy-Accident  15420 non-null  object\n",
      " 20  Days:Policy-Claim     15420 non-null  object\n",
      " 21  PastNumberOfClaims    15420 non-null  object\n",
      " 22  AgeOfVehicle          15420 non-null  object\n",
      " 23  AgeOfPolicyHolder     15420 non-null  object\n",
      " 24  PoliceReportFiled     15420 non-null  object\n",
      " 25  WitnessPresent        15420 non-null  object\n",
      " 26  AgentType             15420 non-null  object\n",
      " 27  NumberOfSuppliments   15420 non-null  object\n",
      " 28  AddressChange-Claim   15420 non-null  object\n",
      " 29  NumberOfCars          15420 non-null  object\n",
      " 30  Year                  15420 non-null  int64 \n",
      " 31  BasePolicy            15420 non-null  object\n",
      " 32  FraudFound            15420 non-null  object\n",
      "dtypes: int64(8), object(25)\n",
      "memory usage: 3.9+ MB\n"
     ]
    }
   ],
   "source": [
    "# Summarize the datasets using info()\n",
    "dataset.info()"
   ]
  },
  {
   "cell_type": "code",
   "execution_count": 4,
   "id": "ff184d96",
   "metadata": {},
   "outputs": [],
   "source": [
    "# add target feature as integer\n",
    "dataset['FraudFound_Int'] = dataset['FraudFound'].map({'Yes': 1, 'No': 0})"
   ]
  },
  {
   "cell_type": "code",
   "execution_count": 5,
   "id": "baa0ba50",
   "metadata": {},
   "outputs": [
    {
     "data": {
      "application/vnd.microsoft.datawrangler.viewer.v0+json": {
       "columns": [
        {
         "name": "index",
         "rawType": "object",
         "type": "string"
        },
        {
         "name": "count",
         "rawType": "float64",
         "type": "float"
        },
        {
         "name": "mean",
         "rawType": "float64",
         "type": "float"
        },
        {
         "name": "std",
         "rawType": "float64",
         "type": "float"
        },
        {
         "name": "min",
         "rawType": "float64",
         "type": "float"
        },
        {
         "name": "25%",
         "rawType": "float64",
         "type": "float"
        },
        {
         "name": "50%",
         "rawType": "float64",
         "type": "float"
        },
        {
         "name": "75%",
         "rawType": "float64",
         "type": "float"
        },
        {
         "name": "max",
         "rawType": "float64",
         "type": "float"
        }
       ],
       "conversionMethod": "pd.DataFrame",
       "ref": "e65bc500-3fb2-461d-ab1e-7494a78d727f",
       "rows": [
        [
         "WeekOfMonth",
         "15420.0",
         "2.788586251621271",
         "1.2875853655947793",
         "1.0",
         "2.0",
         "3.0",
         "4.0",
         "5.0"
        ],
        [
         "WeekOfMonthClaimed",
         "15420.0",
         "2.693968871595331",
         "1.259115259662055",
         "1.0",
         "2.0",
         "3.0",
         "4.0",
         "5.0"
        ],
        [
         "Age",
         "15420.0",
         "39.855706874189366",
         "13.492376653415858",
         "0.0",
         "31.0",
         "38.0",
         "48.0",
         "80.0"
        ],
        [
         "PolicyNumber",
         "15420.0",
         "7710.5",
         "4451.514910679285",
         "1.0",
         "3855.75",
         "7710.5",
         "11565.25",
         "15420.0"
        ],
        [
         "RepNumber",
         "15420.0",
         "8.483268482490272",
         "4.599948138709523",
         "1.0",
         "5.0",
         "8.0",
         "12.0",
         "16.0"
        ],
        [
         "Deductible",
         "15420.0",
         "407.70428015564204",
         "43.9509979521991",
         "300.0",
         "400.0",
         "400.0",
         "400.0",
         "700.0"
        ],
        [
         "DriverRating",
         "15420.0",
         "2.4878080415045396",
         "1.1194530663530406",
         "1.0",
         "1.0",
         "2.0",
         "3.0",
         "4.0"
        ],
        [
         "Year",
         "15420.0",
         "1994.8664721141374",
         "0.8033131537726312",
         "1994.0",
         "1994.0",
         "1995.0",
         "1996.0",
         "1996.0"
        ],
        [
         "FraudFound_Int",
         "15420.0",
         "0.05985732814526589",
         "0.2372300109458878",
         "0.0",
         "0.0",
         "0.0",
         "0.0",
         "1.0"
        ]
       ],
       "shape": {
        "columns": 8,
        "rows": 9
       }
      },
      "text/html": [
       "<div>\n",
       "<style scoped>\n",
       "    .dataframe tbody tr th:only-of-type {\n",
       "        vertical-align: middle;\n",
       "    }\n",
       "\n",
       "    .dataframe tbody tr th {\n",
       "        vertical-align: top;\n",
       "    }\n",
       "\n",
       "    .dataframe thead th {\n",
       "        text-align: right;\n",
       "    }\n",
       "</style>\n",
       "<table border=\"1\" class=\"dataframe\">\n",
       "  <thead>\n",
       "    <tr style=\"text-align: right;\">\n",
       "      <th></th>\n",
       "      <th>count</th>\n",
       "      <th>mean</th>\n",
       "      <th>std</th>\n",
       "      <th>min</th>\n",
       "      <th>25%</th>\n",
       "      <th>50%</th>\n",
       "      <th>75%</th>\n",
       "      <th>max</th>\n",
       "    </tr>\n",
       "  </thead>\n",
       "  <tbody>\n",
       "    <tr>\n",
       "      <th>WeekOfMonth</th>\n",
       "      <td>15420.0</td>\n",
       "      <td>2.788586</td>\n",
       "      <td>1.287585</td>\n",
       "      <td>1.0</td>\n",
       "      <td>2.00</td>\n",
       "      <td>3.0</td>\n",
       "      <td>4.00</td>\n",
       "      <td>5.0</td>\n",
       "    </tr>\n",
       "    <tr>\n",
       "      <th>WeekOfMonthClaimed</th>\n",
       "      <td>15420.0</td>\n",
       "      <td>2.693969</td>\n",
       "      <td>1.259115</td>\n",
       "      <td>1.0</td>\n",
       "      <td>2.00</td>\n",
       "      <td>3.0</td>\n",
       "      <td>4.00</td>\n",
       "      <td>5.0</td>\n",
       "    </tr>\n",
       "    <tr>\n",
       "      <th>Age</th>\n",
       "      <td>15420.0</td>\n",
       "      <td>39.855707</td>\n",
       "      <td>13.492377</td>\n",
       "      <td>0.0</td>\n",
       "      <td>31.00</td>\n",
       "      <td>38.0</td>\n",
       "      <td>48.00</td>\n",
       "      <td>80.0</td>\n",
       "    </tr>\n",
       "    <tr>\n",
       "      <th>PolicyNumber</th>\n",
       "      <td>15420.0</td>\n",
       "      <td>7710.500000</td>\n",
       "      <td>4451.514911</td>\n",
       "      <td>1.0</td>\n",
       "      <td>3855.75</td>\n",
       "      <td>7710.5</td>\n",
       "      <td>11565.25</td>\n",
       "      <td>15420.0</td>\n",
       "    </tr>\n",
       "    <tr>\n",
       "      <th>RepNumber</th>\n",
       "      <td>15420.0</td>\n",
       "      <td>8.483268</td>\n",
       "      <td>4.599948</td>\n",
       "      <td>1.0</td>\n",
       "      <td>5.00</td>\n",
       "      <td>8.0</td>\n",
       "      <td>12.00</td>\n",
       "      <td>16.0</td>\n",
       "    </tr>\n",
       "    <tr>\n",
       "      <th>Deductible</th>\n",
       "      <td>15420.0</td>\n",
       "      <td>407.704280</td>\n",
       "      <td>43.950998</td>\n",
       "      <td>300.0</td>\n",
       "      <td>400.00</td>\n",
       "      <td>400.0</td>\n",
       "      <td>400.00</td>\n",
       "      <td>700.0</td>\n",
       "    </tr>\n",
       "    <tr>\n",
       "      <th>DriverRating</th>\n",
       "      <td>15420.0</td>\n",
       "      <td>2.487808</td>\n",
       "      <td>1.119453</td>\n",
       "      <td>1.0</td>\n",
       "      <td>1.00</td>\n",
       "      <td>2.0</td>\n",
       "      <td>3.00</td>\n",
       "      <td>4.0</td>\n",
       "    </tr>\n",
       "    <tr>\n",
       "      <th>Year</th>\n",
       "      <td>15420.0</td>\n",
       "      <td>1994.866472</td>\n",
       "      <td>0.803313</td>\n",
       "      <td>1994.0</td>\n",
       "      <td>1994.00</td>\n",
       "      <td>1995.0</td>\n",
       "      <td>1996.00</td>\n",
       "      <td>1996.0</td>\n",
       "    </tr>\n",
       "    <tr>\n",
       "      <th>FraudFound_Int</th>\n",
       "      <td>15420.0</td>\n",
       "      <td>0.059857</td>\n",
       "      <td>0.237230</td>\n",
       "      <td>0.0</td>\n",
       "      <td>0.00</td>\n",
       "      <td>0.0</td>\n",
       "      <td>0.00</td>\n",
       "      <td>1.0</td>\n",
       "    </tr>\n",
       "  </tbody>\n",
       "</table>\n",
       "</div>"
      ],
      "text/plain": [
       "                      count         mean          std     min      25%  \\\n",
       "WeekOfMonth         15420.0     2.788586     1.287585     1.0     2.00   \n",
       "WeekOfMonthClaimed  15420.0     2.693969     1.259115     1.0     2.00   \n",
       "Age                 15420.0    39.855707    13.492377     0.0    31.00   \n",
       "PolicyNumber        15420.0  7710.500000  4451.514911     1.0  3855.75   \n",
       "RepNumber           15420.0     8.483268     4.599948     1.0     5.00   \n",
       "Deductible          15420.0   407.704280    43.950998   300.0   400.00   \n",
       "DriverRating        15420.0     2.487808     1.119453     1.0     1.00   \n",
       "Year                15420.0  1994.866472     0.803313  1994.0  1994.00   \n",
       "FraudFound_Int      15420.0     0.059857     0.237230     0.0     0.00   \n",
       "\n",
       "                       50%       75%      max  \n",
       "WeekOfMonth            3.0      4.00      5.0  \n",
       "WeekOfMonthClaimed     3.0      4.00      5.0  \n",
       "Age                   38.0     48.00     80.0  \n",
       "PolicyNumber        7710.5  11565.25  15420.0  \n",
       "RepNumber              8.0     12.00     16.0  \n",
       "Deductible           400.0    400.00    700.0  \n",
       "DriverRating           2.0      3.00      4.0  \n",
       "Year                1995.0   1996.00   1996.0  \n",
       "FraudFound_Int         0.0      0.00      1.0  "
      ]
     },
     "execution_count": 5,
     "metadata": {},
     "output_type": "execute_result"
    }
   ],
   "source": [
    "# Summarize the datasets using describe()\n",
    "dataset.describe().transpose()"
   ]
  },
  {
   "cell_type": "markdown",
   "id": "a693c038",
   "metadata": {},
   "source": [
    "#### *Are there any duplicate rows?*"
   ]
  },
  {
   "cell_type": "code",
   "execution_count": 6,
   "id": "8c07fa97",
   "metadata": {},
   "outputs": [
    {
     "name": "stdout",
     "output_type": "stream",
     "text": [
      "Number of duplicated Rows:  0\n",
      "No duplicates found.\n"
     ]
    }
   ],
   "source": [
    "# Are there any duplicate rows?\n",
    "# Note: There is no information describing primary key, therefore first duplicates check for all of the columns:\n",
    "print(\"Number of duplicated Rows: \", dataset.duplicated().sum())\n",
    "\n",
    "# show duplicated if any:\n",
    "if  dataset.duplicated().sum() > 0:\n",
    "    dataset_duplicates = dataset[dataset.duplicated()]\n",
    "    print(\"Duplicated Rows: \", dataset_duplicates)\n",
    "    # clean up from duplicates\n",
    "    deleted_duplicates = dataset.drop_duplicates()\n",
    "    print(\"Deleted Duplicated Rows:\", dataset_duplicates)\n",
    "    \n",
    "else:\n",
    "    print(\"No duplicates found.\")"
   ]
  },
  {
   "cell_type": "markdown",
   "id": "2b9500ea",
   "metadata": {},
   "source": [
    "#### *What are the mean, median, and mode of each column?*"
   ]
  },
  {
   "cell_type": "code",
   "execution_count": 7,
   "id": "b3dc9bcd",
   "metadata": {},
   "outputs": [
    {
     "name": "stdout",
     "output_type": "stream",
     "text": [
      "Mean, median, and mode:\n"
     ]
    },
    {
     "data": {
      "application/vnd.microsoft.datawrangler.viewer.v0+json": {
       "columns": [
        {
         "name": "index",
         "rawType": "object",
         "type": "string"
        },
        {
         "name": "mean",
         "rawType": "float64",
         "type": "float"
        },
        {
         "name": "median",
         "rawType": "float64",
         "type": "float"
        },
        {
         "name": "mode",
         "rawType": "float64",
         "type": "float"
        }
       ],
       "conversionMethod": "pd.DataFrame",
       "ref": "fc83c582-ae96-45e8-98b8-434a4d836b93",
       "rows": [
        [
         "WeekOfMonth",
         "2.788586251621271",
         "3.0",
         "3.0"
        ],
        [
         "WeekOfMonthClaimed",
         "2.693968871595331",
         "3.0",
         "2.0"
        ],
        [
         "Age",
         "39.855706874189366",
         "38.0",
         "30.0"
        ],
        [
         "PolicyNumber",
         "7710.5",
         "7710.5",
         "1.0"
        ],
        [
         "RepNumber",
         "8.483268482490272",
         "8.0",
         "7.0"
        ],
        [
         "Deductible",
         "407.70428015564204",
         "400.0",
         "400.0"
        ],
        [
         "DriverRating",
         "2.4878080415045396",
         "2.0",
         "1.0"
        ],
        [
         "Year",
         "1994.8664721141374",
         "1995.0",
         "1994.0"
        ],
        [
         "FraudFound_Int",
         "0.05985732814526589",
         "0.0",
         "0.0"
        ]
       ],
       "shape": {
        "columns": 3,
        "rows": 9
       }
      },
      "text/html": [
       "<div>\n",
       "<style scoped>\n",
       "    .dataframe tbody tr th:only-of-type {\n",
       "        vertical-align: middle;\n",
       "    }\n",
       "\n",
       "    .dataframe tbody tr th {\n",
       "        vertical-align: top;\n",
       "    }\n",
       "\n",
       "    .dataframe thead th {\n",
       "        text-align: right;\n",
       "    }\n",
       "</style>\n",
       "<table border=\"1\" class=\"dataframe\">\n",
       "  <thead>\n",
       "    <tr style=\"text-align: right;\">\n",
       "      <th></th>\n",
       "      <th>mean</th>\n",
       "      <th>median</th>\n",
       "      <th>mode</th>\n",
       "    </tr>\n",
       "  </thead>\n",
       "  <tbody>\n",
       "    <tr>\n",
       "      <th>WeekOfMonth</th>\n",
       "      <td>2.788586</td>\n",
       "      <td>3.0</td>\n",
       "      <td>3.0</td>\n",
       "    </tr>\n",
       "    <tr>\n",
       "      <th>WeekOfMonthClaimed</th>\n",
       "      <td>2.693969</td>\n",
       "      <td>3.0</td>\n",
       "      <td>2.0</td>\n",
       "    </tr>\n",
       "    <tr>\n",
       "      <th>Age</th>\n",
       "      <td>39.855707</td>\n",
       "      <td>38.0</td>\n",
       "      <td>30.0</td>\n",
       "    </tr>\n",
       "    <tr>\n",
       "      <th>PolicyNumber</th>\n",
       "      <td>7710.500000</td>\n",
       "      <td>7710.5</td>\n",
       "      <td>1.0</td>\n",
       "    </tr>\n",
       "    <tr>\n",
       "      <th>RepNumber</th>\n",
       "      <td>8.483268</td>\n",
       "      <td>8.0</td>\n",
       "      <td>7.0</td>\n",
       "    </tr>\n",
       "    <tr>\n",
       "      <th>Deductible</th>\n",
       "      <td>407.704280</td>\n",
       "      <td>400.0</td>\n",
       "      <td>400.0</td>\n",
       "    </tr>\n",
       "    <tr>\n",
       "      <th>DriverRating</th>\n",
       "      <td>2.487808</td>\n",
       "      <td>2.0</td>\n",
       "      <td>1.0</td>\n",
       "    </tr>\n",
       "    <tr>\n",
       "      <th>Year</th>\n",
       "      <td>1994.866472</td>\n",
       "      <td>1995.0</td>\n",
       "      <td>1994.0</td>\n",
       "    </tr>\n",
       "    <tr>\n",
       "      <th>FraudFound_Int</th>\n",
       "      <td>0.059857</td>\n",
       "      <td>0.0</td>\n",
       "      <td>0.0</td>\n",
       "    </tr>\n",
       "  </tbody>\n",
       "</table>\n",
       "</div>"
      ],
      "text/plain": [
       "                           mean  median    mode\n",
       "WeekOfMonth            2.788586     3.0     3.0\n",
       "WeekOfMonthClaimed     2.693969     3.0     2.0\n",
       "Age                   39.855707    38.0    30.0\n",
       "PolicyNumber        7710.500000  7710.5     1.0\n",
       "RepNumber              8.483268     8.0     7.0\n",
       "Deductible           407.704280   400.0   400.0\n",
       "DriverRating           2.487808     2.0     1.0\n",
       "Year                1994.866472  1995.0  1994.0\n",
       "FraudFound_Int         0.059857     0.0     0.0"
      ]
     },
     "execution_count": 7,
     "metadata": {},
     "output_type": "execute_result"
    }
   ],
   "source": [
    "# What are the mean, median, and mode of each column?\n",
    "# select only numeric columns\n",
    "numeric_dataset = dataset.select_dtypes(include=['number'])\n",
    "\n",
    "# compute mean, median, and mode only for numeric columns\n",
    "summary_stats = numeric_dataset.agg(['mean', 'median']).transpose()\n",
    "\n",
    "# compute mode separately\n",
    "mode_values = numeric_dataset.mode().iloc[0]  # First mode for each column\n",
    "summary_stats['mode'] = mode_values\n",
    "print(\"Mean, median, and mode:\")\n",
    "summary_stats"
   ]
  },
  {
   "cell_type": "code",
   "execution_count": 8,
   "id": "3132c1f4",
   "metadata": {},
   "outputs": [
    {
     "name": "stdout",
     "output_type": "stream",
     "text": [
      "This dataset contain 15420 rows\n",
      "This dataset contain 34 columns\n"
     ]
    },
    {
     "data": {
      "application/vnd.microsoft.datawrangler.viewer.v0+json": {
       "columns": [
        {
         "name": "index",
         "rawType": "object",
         "type": "string"
        },
        {
         "name": "count",
         "rawType": "object",
         "type": "unknown"
        },
        {
         "name": "nunique",
         "rawType": "object",
         "type": "unknown"
        },
        {
         "name": "min",
         "rawType": "object",
         "type": "unknown"
        },
        {
         "name": "max",
         "rawType": "object",
         "type": "unknown"
        }
       ],
       "conversionMethod": "pd.DataFrame",
       "ref": "67ca4d1d-d3bf-491e-8d78-9c32ca5a6d51",
       "rows": [
        [
         "Month",
         "15420",
         "12",
         "Apr",
         "Sep"
        ],
        [
         "WeekOfMonth",
         "15420",
         "5",
         "1",
         "5"
        ],
        [
         "DayOfWeek",
         "15420",
         "7",
         "Friday",
         "Wednesday"
        ],
        [
         "Make",
         "15420",
         "19",
         "Accura",
         "VW"
        ],
        [
         "AccidentArea",
         "15420",
         "2",
         "Rural",
         "Urban"
        ],
        [
         "DayOfWeekClaimed",
         "15420",
         "8",
         "0",
         "Wednesday"
        ],
        [
         "MonthClaimed",
         "15420",
         "13",
         "0",
         "Sep"
        ],
        [
         "WeekOfMonthClaimed",
         "15420",
         "5",
         "1",
         "5"
        ],
        [
         "Sex",
         "15420",
         "2",
         "Female",
         "Male"
        ],
        [
         "MaritalStatus",
         "15420",
         "4",
         "Divorced",
         "Widow"
        ],
        [
         "Age",
         "15420",
         "66",
         "0",
         "80"
        ],
        [
         "Fault",
         "15420",
         "2",
         "Policy Holder",
         "Third Party"
        ],
        [
         "PolicyType",
         "15420",
         "9",
         "Sedan - All Perils",
         "Utility - Liability"
        ],
        [
         "VehicleCategory",
         "15420",
         "3",
         "Sedan",
         "Utility"
        ],
        [
         "VehiclePrice",
         "15420",
         "6",
         "20,000 to 29,000",
         "more than 69,000"
        ],
        [
         "PolicyNumber",
         "15420",
         "15420",
         "1",
         "15420"
        ],
        [
         "RepNumber",
         "15420",
         "16",
         "1",
         "16"
        ],
        [
         "Deductible",
         "15420",
         "4",
         "300",
         "700"
        ],
        [
         "DriverRating",
         "15420",
         "4",
         "1",
         "4"
        ],
        [
         "Days:Policy-Accident",
         "15420",
         "5",
         "1 to 7",
         "none"
        ],
        [
         "Days:Policy-Claim",
         "15420",
         "4",
         "15 to 30",
         "none"
        ],
        [
         "PastNumberOfClaims",
         "15420",
         "4",
         "1",
         "none"
        ],
        [
         "AgeOfVehicle",
         "15420",
         "8",
         "2 years",
         "new"
        ],
        [
         "AgeOfPolicyHolder",
         "15420",
         "9",
         "16 to 17",
         "over 65"
        ],
        [
         "PoliceReportFiled",
         "15420",
         "2",
         "No",
         "Yes"
        ],
        [
         "WitnessPresent",
         "15420",
         "2",
         "No",
         "Yes"
        ],
        [
         "AgentType",
         "15420",
         "2",
         "External",
         "Internal"
        ],
        [
         "NumberOfSuppliments",
         "15420",
         "4",
         "1 to 2",
         "none"
        ],
        [
         "AddressChange-Claim",
         "15420",
         "5",
         "1 year",
         "under 6 months"
        ],
        [
         "NumberOfCars",
         "15420",
         "5",
         "1 vehicle",
         "more than 8"
        ],
        [
         "Year",
         "15420",
         "3",
         "1994",
         "1996"
        ],
        [
         "BasePolicy",
         "15420",
         "3",
         "All Perils",
         "Liability"
        ],
        [
         "FraudFound",
         "15420",
         "2",
         "No",
         "Yes"
        ],
        [
         "FraudFound_Int",
         "15420",
         "2",
         "0",
         "1"
        ]
       ],
       "shape": {
        "columns": 4,
        "rows": 34
       }
      },
      "text/html": [
       "<div>\n",
       "<style scoped>\n",
       "    .dataframe tbody tr th:only-of-type {\n",
       "        vertical-align: middle;\n",
       "    }\n",
       "\n",
       "    .dataframe tbody tr th {\n",
       "        vertical-align: top;\n",
       "    }\n",
       "\n",
       "    .dataframe thead th {\n",
       "        text-align: right;\n",
       "    }\n",
       "</style>\n",
       "<table border=\"1\" class=\"dataframe\">\n",
       "  <thead>\n",
       "    <tr style=\"text-align: right;\">\n",
       "      <th></th>\n",
       "      <th>count</th>\n",
       "      <th>nunique</th>\n",
       "      <th>min</th>\n",
       "      <th>max</th>\n",
       "    </tr>\n",
       "  </thead>\n",
       "  <tbody>\n",
       "    <tr>\n",
       "      <th>Month</th>\n",
       "      <td>15420</td>\n",
       "      <td>12</td>\n",
       "      <td>Apr</td>\n",
       "      <td>Sep</td>\n",
       "    </tr>\n",
       "    <tr>\n",
       "      <th>WeekOfMonth</th>\n",
       "      <td>15420</td>\n",
       "      <td>5</td>\n",
       "      <td>1</td>\n",
       "      <td>5</td>\n",
       "    </tr>\n",
       "    <tr>\n",
       "      <th>DayOfWeek</th>\n",
       "      <td>15420</td>\n",
       "      <td>7</td>\n",
       "      <td>Friday</td>\n",
       "      <td>Wednesday</td>\n",
       "    </tr>\n",
       "    <tr>\n",
       "      <th>Make</th>\n",
       "      <td>15420</td>\n",
       "      <td>19</td>\n",
       "      <td>Accura</td>\n",
       "      <td>VW</td>\n",
       "    </tr>\n",
       "    <tr>\n",
       "      <th>AccidentArea</th>\n",
       "      <td>15420</td>\n",
       "      <td>2</td>\n",
       "      <td>Rural</td>\n",
       "      <td>Urban</td>\n",
       "    </tr>\n",
       "    <tr>\n",
       "      <th>DayOfWeekClaimed</th>\n",
       "      <td>15420</td>\n",
       "      <td>8</td>\n",
       "      <td>0</td>\n",
       "      <td>Wednesday</td>\n",
       "    </tr>\n",
       "    <tr>\n",
       "      <th>MonthClaimed</th>\n",
       "      <td>15420</td>\n",
       "      <td>13</td>\n",
       "      <td>0</td>\n",
       "      <td>Sep</td>\n",
       "    </tr>\n",
       "    <tr>\n",
       "      <th>WeekOfMonthClaimed</th>\n",
       "      <td>15420</td>\n",
       "      <td>5</td>\n",
       "      <td>1</td>\n",
       "      <td>5</td>\n",
       "    </tr>\n",
       "    <tr>\n",
       "      <th>Sex</th>\n",
       "      <td>15420</td>\n",
       "      <td>2</td>\n",
       "      <td>Female</td>\n",
       "      <td>Male</td>\n",
       "    </tr>\n",
       "    <tr>\n",
       "      <th>MaritalStatus</th>\n",
       "      <td>15420</td>\n",
       "      <td>4</td>\n",
       "      <td>Divorced</td>\n",
       "      <td>Widow</td>\n",
       "    </tr>\n",
       "    <tr>\n",
       "      <th>Age</th>\n",
       "      <td>15420</td>\n",
       "      <td>66</td>\n",
       "      <td>0</td>\n",
       "      <td>80</td>\n",
       "    </tr>\n",
       "    <tr>\n",
       "      <th>Fault</th>\n",
       "      <td>15420</td>\n",
       "      <td>2</td>\n",
       "      <td>Policy Holder</td>\n",
       "      <td>Third Party</td>\n",
       "    </tr>\n",
       "    <tr>\n",
       "      <th>PolicyType</th>\n",
       "      <td>15420</td>\n",
       "      <td>9</td>\n",
       "      <td>Sedan - All Perils</td>\n",
       "      <td>Utility - Liability</td>\n",
       "    </tr>\n",
       "    <tr>\n",
       "      <th>VehicleCategory</th>\n",
       "      <td>15420</td>\n",
       "      <td>3</td>\n",
       "      <td>Sedan</td>\n",
       "      <td>Utility</td>\n",
       "    </tr>\n",
       "    <tr>\n",
       "      <th>VehiclePrice</th>\n",
       "      <td>15420</td>\n",
       "      <td>6</td>\n",
       "      <td>20,000 to 29,000</td>\n",
       "      <td>more than 69,000</td>\n",
       "    </tr>\n",
       "    <tr>\n",
       "      <th>PolicyNumber</th>\n",
       "      <td>15420</td>\n",
       "      <td>15420</td>\n",
       "      <td>1</td>\n",
       "      <td>15420</td>\n",
       "    </tr>\n",
       "    <tr>\n",
       "      <th>RepNumber</th>\n",
       "      <td>15420</td>\n",
       "      <td>16</td>\n",
       "      <td>1</td>\n",
       "      <td>16</td>\n",
       "    </tr>\n",
       "    <tr>\n",
       "      <th>Deductible</th>\n",
       "      <td>15420</td>\n",
       "      <td>4</td>\n",
       "      <td>300</td>\n",
       "      <td>700</td>\n",
       "    </tr>\n",
       "    <tr>\n",
       "      <th>DriverRating</th>\n",
       "      <td>15420</td>\n",
       "      <td>4</td>\n",
       "      <td>1</td>\n",
       "      <td>4</td>\n",
       "    </tr>\n",
       "    <tr>\n",
       "      <th>Days:Policy-Accident</th>\n",
       "      <td>15420</td>\n",
       "      <td>5</td>\n",
       "      <td>1 to 7</td>\n",
       "      <td>none</td>\n",
       "    </tr>\n",
       "    <tr>\n",
       "      <th>Days:Policy-Claim</th>\n",
       "      <td>15420</td>\n",
       "      <td>4</td>\n",
       "      <td>15 to 30</td>\n",
       "      <td>none</td>\n",
       "    </tr>\n",
       "    <tr>\n",
       "      <th>PastNumberOfClaims</th>\n",
       "      <td>15420</td>\n",
       "      <td>4</td>\n",
       "      <td>1</td>\n",
       "      <td>none</td>\n",
       "    </tr>\n",
       "    <tr>\n",
       "      <th>AgeOfVehicle</th>\n",
       "      <td>15420</td>\n",
       "      <td>8</td>\n",
       "      <td>2 years</td>\n",
       "      <td>new</td>\n",
       "    </tr>\n",
       "    <tr>\n",
       "      <th>AgeOfPolicyHolder</th>\n",
       "      <td>15420</td>\n",
       "      <td>9</td>\n",
       "      <td>16 to 17</td>\n",
       "      <td>over 65</td>\n",
       "    </tr>\n",
       "    <tr>\n",
       "      <th>PoliceReportFiled</th>\n",
       "      <td>15420</td>\n",
       "      <td>2</td>\n",
       "      <td>No</td>\n",
       "      <td>Yes</td>\n",
       "    </tr>\n",
       "    <tr>\n",
       "      <th>WitnessPresent</th>\n",
       "      <td>15420</td>\n",
       "      <td>2</td>\n",
       "      <td>No</td>\n",
       "      <td>Yes</td>\n",
       "    </tr>\n",
       "    <tr>\n",
       "      <th>AgentType</th>\n",
       "      <td>15420</td>\n",
       "      <td>2</td>\n",
       "      <td>External</td>\n",
       "      <td>Internal</td>\n",
       "    </tr>\n",
       "    <tr>\n",
       "      <th>NumberOfSuppliments</th>\n",
       "      <td>15420</td>\n",
       "      <td>4</td>\n",
       "      <td>1 to 2</td>\n",
       "      <td>none</td>\n",
       "    </tr>\n",
       "    <tr>\n",
       "      <th>AddressChange-Claim</th>\n",
       "      <td>15420</td>\n",
       "      <td>5</td>\n",
       "      <td>1 year</td>\n",
       "      <td>under 6 months</td>\n",
       "    </tr>\n",
       "    <tr>\n",
       "      <th>NumberOfCars</th>\n",
       "      <td>15420</td>\n",
       "      <td>5</td>\n",
       "      <td>1 vehicle</td>\n",
       "      <td>more than 8</td>\n",
       "    </tr>\n",
       "    <tr>\n",
       "      <th>Year</th>\n",
       "      <td>15420</td>\n",
       "      <td>3</td>\n",
       "      <td>1994</td>\n",
       "      <td>1996</td>\n",
       "    </tr>\n",
       "    <tr>\n",
       "      <th>BasePolicy</th>\n",
       "      <td>15420</td>\n",
       "      <td>3</td>\n",
       "      <td>All Perils</td>\n",
       "      <td>Liability</td>\n",
       "    </tr>\n",
       "    <tr>\n",
       "      <th>FraudFound</th>\n",
       "      <td>15420</td>\n",
       "      <td>2</td>\n",
       "      <td>No</td>\n",
       "      <td>Yes</td>\n",
       "    </tr>\n",
       "    <tr>\n",
       "      <th>FraudFound_Int</th>\n",
       "      <td>15420</td>\n",
       "      <td>2</td>\n",
       "      <td>0</td>\n",
       "      <td>1</td>\n",
       "    </tr>\n",
       "  </tbody>\n",
       "</table>\n",
       "</div>"
      ],
      "text/plain": [
       "                      count nunique                 min                  max\n",
       "Month                 15420      12                 Apr                  Sep\n",
       "WeekOfMonth           15420       5                   1                    5\n",
       "DayOfWeek             15420       7              Friday            Wednesday\n",
       "Make                  15420      19              Accura                   VW\n",
       "AccidentArea          15420       2               Rural                Urban\n",
       "DayOfWeekClaimed      15420       8                   0            Wednesday\n",
       "MonthClaimed          15420      13                   0                  Sep\n",
       "WeekOfMonthClaimed    15420       5                   1                    5\n",
       "Sex                   15420       2              Female                 Male\n",
       "MaritalStatus         15420       4            Divorced                Widow\n",
       "Age                   15420      66                   0                   80\n",
       "Fault                 15420       2       Policy Holder          Third Party\n",
       "PolicyType            15420       9  Sedan - All Perils  Utility - Liability\n",
       "VehicleCategory       15420       3               Sedan              Utility\n",
       "VehiclePrice          15420       6    20,000 to 29,000     more than 69,000\n",
       "PolicyNumber          15420   15420                   1                15420\n",
       "RepNumber             15420      16                   1                   16\n",
       "Deductible            15420       4                 300                  700\n",
       "DriverRating          15420       4                   1                    4\n",
       "Days:Policy-Accident  15420       5              1 to 7                 none\n",
       "Days:Policy-Claim     15420       4            15 to 30                 none\n",
       "PastNumberOfClaims    15420       4                   1                 none\n",
       "AgeOfVehicle          15420       8             2 years                  new\n",
       "AgeOfPolicyHolder     15420       9            16 to 17              over 65\n",
       "PoliceReportFiled     15420       2                  No                  Yes\n",
       "WitnessPresent        15420       2                  No                  Yes\n",
       "AgentType             15420       2            External             Internal\n",
       "NumberOfSuppliments   15420       4              1 to 2                 none\n",
       "AddressChange-Claim   15420       5              1 year       under 6 months\n",
       "NumberOfCars          15420       5           1 vehicle          more than 8\n",
       "Year                  15420       3                1994                 1996\n",
       "BasePolicy            15420       3          All Perils            Liability\n",
       "FraudFound            15420       2                  No                  Yes\n",
       "FraudFound_Int        15420       2                   0                    1"
      ]
     },
     "execution_count": 8,
     "metadata": {},
     "output_type": "execute_result"
    }
   ],
   "source": [
    "# add some very basic data profiling:\n",
    "# shape \n",
    "print(f\"This dataset contain {dataset.shape[0]} rows\")\n",
    "print(f\"This dataset contain {dataset.shape[1]} columns\")\n",
    "\n",
    "# basic aggregates\n",
    "data_profiling = dataset.agg(['count', 'nunique', 'min', 'max']).transpose()\n",
    "data_profiling"
   ]
  },
  {
   "cell_type": "markdown",
   "id": "e4efa801",
   "metadata": {},
   "source": [
    "#### *Are there any duplicate values in a given column (when this would be inappropriate?)*"
   ]
  },
  {
   "cell_type": "code",
   "execution_count": 9,
   "id": "7d7d095c",
   "metadata": {},
   "outputs": [
    {
     "data": {
      "application/vnd.microsoft.datawrangler.viewer.v0+json": {
       "columns": [
        {
         "name": "index",
         "rawType": "object",
         "type": "string"
        },
        {
         "name": "count",
         "rawType": "object",
         "type": "unknown"
        },
        {
         "name": "nunique",
         "rawType": "object",
         "type": "unknown"
        },
        {
         "name": "min",
         "rawType": "object",
         "type": "unknown"
        },
        {
         "name": "max",
         "rawType": "object",
         "type": "unknown"
        }
       ],
       "conversionMethod": "pd.DataFrame",
       "ref": "8014eb2a-6362-4a0d-af69-85f545533e10",
       "rows": [
        [
         "PolicyNumber",
         "15420",
         "15420",
         "1",
         "15420"
        ]
       ],
       "shape": {
        "columns": 4,
        "rows": 1
       }
      },
      "text/html": [
       "<div>\n",
       "<style scoped>\n",
       "    .dataframe tbody tr th:only-of-type {\n",
       "        vertical-align: middle;\n",
       "    }\n",
       "\n",
       "    .dataframe tbody tr th {\n",
       "        vertical-align: top;\n",
       "    }\n",
       "\n",
       "    .dataframe thead th {\n",
       "        text-align: right;\n",
       "    }\n",
       "</style>\n",
       "<table border=\"1\" class=\"dataframe\">\n",
       "  <thead>\n",
       "    <tr style=\"text-align: right;\">\n",
       "      <th></th>\n",
       "      <th>count</th>\n",
       "      <th>nunique</th>\n",
       "      <th>min</th>\n",
       "      <th>max</th>\n",
       "    </tr>\n",
       "  </thead>\n",
       "  <tbody>\n",
       "    <tr>\n",
       "      <th>PolicyNumber</th>\n",
       "      <td>15420</td>\n",
       "      <td>15420</td>\n",
       "      <td>1</td>\n",
       "      <td>15420</td>\n",
       "    </tr>\n",
       "  </tbody>\n",
       "</table>\n",
       "</div>"
      ],
      "text/plain": [
       "              count nunique min    max\n",
       "PolicyNumber  15420   15420   1  15420"
      ]
     },
     "execution_count": 9,
     "metadata": {},
     "output_type": "execute_result"
    }
   ],
   "source": [
    "# get list of columns where 'count' is equal to 'nunique', these are our natural key candidates:\n",
    "data_profiling_unique_columns = data_profiling[data_profiling['count'] == data_profiling['nunique']]\n",
    "data_profiling_unique_columns"
   ]
  },
  {
   "cell_type": "markdown",
   "id": "a8f1eb0f",
   "metadata": {},
   "source": [
    "Based on the data:\n",
    "\n",
    "- PolicyNumber has 15,420 unique values, which matches the total row count (15,420).\n",
    "- The min value is 1 and the max value is 15,420, indicating a continuous sequence.\n",
    "- The data type is int64, confirming it's numeric.\n",
    "\n",
    "Conclusion:\n",
    "- PolicyNumber is a valid primary key for uniquely identifying each row in the dataset.\n",
    "- Not useful for analysis since it carries no meaningful information about the claims."
   ]
  },
  {
   "cell_type": "code",
   "execution_count": 10,
   "id": "eef10c18",
   "metadata": {},
   "outputs": [
    {
     "name": "stdout",
     "output_type": "stream",
     "text": [
      "Duplicates of Policy Numbers: 0\n"
     ]
    },
    {
     "data": {
      "application/vnd.microsoft.datawrangler.viewer.v0+json": {
       "columns": [
        {
         "name": "index",
         "rawType": "int64",
         "type": "integer"
        },
        {
         "name": "Month",
         "rawType": "object",
         "type": "string"
        },
        {
         "name": "WeekOfMonth",
         "rawType": "int64",
         "type": "integer"
        },
        {
         "name": "DayOfWeek",
         "rawType": "object",
         "type": "string"
        },
        {
         "name": "Make",
         "rawType": "object",
         "type": "string"
        },
        {
         "name": "AccidentArea",
         "rawType": "object",
         "type": "string"
        },
        {
         "name": "DayOfWeekClaimed",
         "rawType": "object",
         "type": "string"
        },
        {
         "name": "MonthClaimed",
         "rawType": "object",
         "type": "string"
        },
        {
         "name": "WeekOfMonthClaimed",
         "rawType": "int64",
         "type": "integer"
        },
        {
         "name": "Sex",
         "rawType": "object",
         "type": "string"
        },
        {
         "name": "MaritalStatus",
         "rawType": "object",
         "type": "string"
        },
        {
         "name": "Age",
         "rawType": "int64",
         "type": "integer"
        },
        {
         "name": "Fault",
         "rawType": "object",
         "type": "string"
        },
        {
         "name": "PolicyType",
         "rawType": "object",
         "type": "string"
        },
        {
         "name": "VehicleCategory",
         "rawType": "object",
         "type": "string"
        },
        {
         "name": "VehiclePrice",
         "rawType": "object",
         "type": "string"
        },
        {
         "name": "PolicyNumber",
         "rawType": "int64",
         "type": "integer"
        },
        {
         "name": "RepNumber",
         "rawType": "int64",
         "type": "integer"
        },
        {
         "name": "Deductible",
         "rawType": "int64",
         "type": "integer"
        },
        {
         "name": "DriverRating",
         "rawType": "int64",
         "type": "integer"
        },
        {
         "name": "Days:Policy-Accident",
         "rawType": "object",
         "type": "string"
        },
        {
         "name": "Days:Policy-Claim",
         "rawType": "object",
         "type": "string"
        },
        {
         "name": "PastNumberOfClaims",
         "rawType": "object",
         "type": "string"
        },
        {
         "name": "AgeOfVehicle",
         "rawType": "object",
         "type": "string"
        },
        {
         "name": "AgeOfPolicyHolder",
         "rawType": "object",
         "type": "string"
        },
        {
         "name": "PoliceReportFiled",
         "rawType": "object",
         "type": "string"
        },
        {
         "name": "WitnessPresent",
         "rawType": "object",
         "type": "string"
        },
        {
         "name": "AgentType",
         "rawType": "object",
         "type": "string"
        },
        {
         "name": "NumberOfSuppliments",
         "rawType": "object",
         "type": "string"
        },
        {
         "name": "AddressChange-Claim",
         "rawType": "object",
         "type": "string"
        },
        {
         "name": "NumberOfCars",
         "rawType": "object",
         "type": "string"
        },
        {
         "name": "Year",
         "rawType": "int64",
         "type": "integer"
        },
        {
         "name": "BasePolicy",
         "rawType": "object",
         "type": "string"
        },
        {
         "name": "FraudFound",
         "rawType": "object",
         "type": "string"
        },
        {
         "name": "FraudFound_Int",
         "rawType": "int64",
         "type": "integer"
        }
       ],
       "conversionMethod": "pd.DataFrame",
       "ref": "4ddb7c76-3bec-4ced-a9d7-90d4f7d6e123",
       "rows": [
        [
         "0",
         "Dec",
         "5",
         "Wednesday",
         "Honda",
         "Urban",
         "Tuesday",
         "Jan",
         "1",
         "Female",
         "Single",
         "21",
         "Policy Holder",
         "Sport - Liability",
         "Sport",
         "more than 69,000",
         "1",
         "12",
         "300",
         "1",
         "more than 30",
         "more than 30",
         "none",
         "3 years",
         "26 to 30",
         "No",
         "No",
         "External",
         "none",
         "1 year",
         "3 to 4",
         "1994",
         "Liability",
         "No",
         "0"
        ],
        [
         "1",
         "Jan",
         "3",
         "Wednesday",
         "Honda",
         "Urban",
         "Monday",
         "Jan",
         "4",
         "Male",
         "Single",
         "34",
         "Policy Holder",
         "Sport - Collision",
         "Sport",
         "more than 69,000",
         "2",
         "15",
         "400",
         "4",
         "more than 30",
         "more than 30",
         "none",
         "6 years",
         "31 to 35",
         "Yes",
         "No",
         "External",
         "none",
         "no change",
         "1 vehicle",
         "1994",
         "Collision",
         "No",
         "0"
        ],
        [
         "2",
         "Oct",
         "5",
         "Friday",
         "Honda",
         "Urban",
         "Thursday",
         "Nov",
         "2",
         "Male",
         "Married",
         "47",
         "Policy Holder",
         "Sport - Collision",
         "Sport",
         "more than 69,000",
         "3",
         "7",
         "400",
         "3",
         "more than 30",
         "more than 30",
         "1",
         "7 years",
         "41 to 50",
         "No",
         "No",
         "External",
         "none",
         "no change",
         "1 vehicle",
         "1994",
         "Collision",
         "No",
         "0"
        ],
        [
         "3",
         "Jun",
         "2",
         "Saturday",
         "Toyota",
         "Rural",
         "Friday",
         "Jul",
         "1",
         "Male",
         "Married",
         "65",
         "Third Party",
         "Sedan - Liability",
         "Sport",
         "20,000 to 29,000",
         "4",
         "4",
         "400",
         "2",
         "more than 30",
         "more than 30",
         "1",
         "more than 7",
         "51 to 65",
         "Yes",
         "No",
         "External",
         "more than 5",
         "no change",
         "1 vehicle",
         "1994",
         "Liability",
         "No",
         "0"
        ],
        [
         "4",
         "Jan",
         "5",
         "Monday",
         "Honda",
         "Urban",
         "Tuesday",
         "Feb",
         "2",
         "Female",
         "Single",
         "27",
         "Third Party",
         "Sport - Collision",
         "Sport",
         "more than 69,000",
         "5",
         "3",
         "400",
         "1",
         "more than 30",
         "more than 30",
         "none",
         "5 years",
         "31 to 35",
         "No",
         "No",
         "External",
         "none",
         "no change",
         "1 vehicle",
         "1994",
         "Collision",
         "No",
         "0"
        ]
       ],
       "shape": {
        "columns": 34,
        "rows": 5
       }
      },
      "text/html": [
       "<div>\n",
       "<style scoped>\n",
       "    .dataframe tbody tr th:only-of-type {\n",
       "        vertical-align: middle;\n",
       "    }\n",
       "\n",
       "    .dataframe tbody tr th {\n",
       "        vertical-align: top;\n",
       "    }\n",
       "\n",
       "    .dataframe thead th {\n",
       "        text-align: right;\n",
       "    }\n",
       "</style>\n",
       "<table border=\"1\" class=\"dataframe\">\n",
       "  <thead>\n",
       "    <tr style=\"text-align: right;\">\n",
       "      <th></th>\n",
       "      <th>Month</th>\n",
       "      <th>WeekOfMonth</th>\n",
       "      <th>DayOfWeek</th>\n",
       "      <th>Make</th>\n",
       "      <th>AccidentArea</th>\n",
       "      <th>DayOfWeekClaimed</th>\n",
       "      <th>MonthClaimed</th>\n",
       "      <th>WeekOfMonthClaimed</th>\n",
       "      <th>Sex</th>\n",
       "      <th>MaritalStatus</th>\n",
       "      <th>...</th>\n",
       "      <th>PoliceReportFiled</th>\n",
       "      <th>WitnessPresent</th>\n",
       "      <th>AgentType</th>\n",
       "      <th>NumberOfSuppliments</th>\n",
       "      <th>AddressChange-Claim</th>\n",
       "      <th>NumberOfCars</th>\n",
       "      <th>Year</th>\n",
       "      <th>BasePolicy</th>\n",
       "      <th>FraudFound</th>\n",
       "      <th>FraudFound_Int</th>\n",
       "    </tr>\n",
       "  </thead>\n",
       "  <tbody>\n",
       "    <tr>\n",
       "      <th>0</th>\n",
       "      <td>Dec</td>\n",
       "      <td>5</td>\n",
       "      <td>Wednesday</td>\n",
       "      <td>Honda</td>\n",
       "      <td>Urban</td>\n",
       "      <td>Tuesday</td>\n",
       "      <td>Jan</td>\n",
       "      <td>1</td>\n",
       "      <td>Female</td>\n",
       "      <td>Single</td>\n",
       "      <td>...</td>\n",
       "      <td>No</td>\n",
       "      <td>No</td>\n",
       "      <td>External</td>\n",
       "      <td>none</td>\n",
       "      <td>1 year</td>\n",
       "      <td>3 to 4</td>\n",
       "      <td>1994</td>\n",
       "      <td>Liability</td>\n",
       "      <td>No</td>\n",
       "      <td>0</td>\n",
       "    </tr>\n",
       "    <tr>\n",
       "      <th>1</th>\n",
       "      <td>Jan</td>\n",
       "      <td>3</td>\n",
       "      <td>Wednesday</td>\n",
       "      <td>Honda</td>\n",
       "      <td>Urban</td>\n",
       "      <td>Monday</td>\n",
       "      <td>Jan</td>\n",
       "      <td>4</td>\n",
       "      <td>Male</td>\n",
       "      <td>Single</td>\n",
       "      <td>...</td>\n",
       "      <td>Yes</td>\n",
       "      <td>No</td>\n",
       "      <td>External</td>\n",
       "      <td>none</td>\n",
       "      <td>no change</td>\n",
       "      <td>1 vehicle</td>\n",
       "      <td>1994</td>\n",
       "      <td>Collision</td>\n",
       "      <td>No</td>\n",
       "      <td>0</td>\n",
       "    </tr>\n",
       "    <tr>\n",
       "      <th>2</th>\n",
       "      <td>Oct</td>\n",
       "      <td>5</td>\n",
       "      <td>Friday</td>\n",
       "      <td>Honda</td>\n",
       "      <td>Urban</td>\n",
       "      <td>Thursday</td>\n",
       "      <td>Nov</td>\n",
       "      <td>2</td>\n",
       "      <td>Male</td>\n",
       "      <td>Married</td>\n",
       "      <td>...</td>\n",
       "      <td>No</td>\n",
       "      <td>No</td>\n",
       "      <td>External</td>\n",
       "      <td>none</td>\n",
       "      <td>no change</td>\n",
       "      <td>1 vehicle</td>\n",
       "      <td>1994</td>\n",
       "      <td>Collision</td>\n",
       "      <td>No</td>\n",
       "      <td>0</td>\n",
       "    </tr>\n",
       "    <tr>\n",
       "      <th>3</th>\n",
       "      <td>Jun</td>\n",
       "      <td>2</td>\n",
       "      <td>Saturday</td>\n",
       "      <td>Toyota</td>\n",
       "      <td>Rural</td>\n",
       "      <td>Friday</td>\n",
       "      <td>Jul</td>\n",
       "      <td>1</td>\n",
       "      <td>Male</td>\n",
       "      <td>Married</td>\n",
       "      <td>...</td>\n",
       "      <td>Yes</td>\n",
       "      <td>No</td>\n",
       "      <td>External</td>\n",
       "      <td>more than 5</td>\n",
       "      <td>no change</td>\n",
       "      <td>1 vehicle</td>\n",
       "      <td>1994</td>\n",
       "      <td>Liability</td>\n",
       "      <td>No</td>\n",
       "      <td>0</td>\n",
       "    </tr>\n",
       "    <tr>\n",
       "      <th>4</th>\n",
       "      <td>Jan</td>\n",
       "      <td>5</td>\n",
       "      <td>Monday</td>\n",
       "      <td>Honda</td>\n",
       "      <td>Urban</td>\n",
       "      <td>Tuesday</td>\n",
       "      <td>Feb</td>\n",
       "      <td>2</td>\n",
       "      <td>Female</td>\n",
       "      <td>Single</td>\n",
       "      <td>...</td>\n",
       "      <td>No</td>\n",
       "      <td>No</td>\n",
       "      <td>External</td>\n",
       "      <td>none</td>\n",
       "      <td>no change</td>\n",
       "      <td>1 vehicle</td>\n",
       "      <td>1994</td>\n",
       "      <td>Collision</td>\n",
       "      <td>No</td>\n",
       "      <td>0</td>\n",
       "    </tr>\n",
       "  </tbody>\n",
       "</table>\n",
       "<p>5 rows × 34 columns</p>\n",
       "</div>"
      ],
      "text/plain": [
       "  Month  WeekOfMonth  DayOfWeek    Make AccidentArea DayOfWeekClaimed  \\\n",
       "0   Dec            5  Wednesday   Honda        Urban          Tuesday   \n",
       "1   Jan            3  Wednesday   Honda        Urban           Monday   \n",
       "2   Oct            5     Friday   Honda        Urban         Thursday   \n",
       "3   Jun            2   Saturday  Toyota        Rural           Friday   \n",
       "4   Jan            5     Monday   Honda        Urban          Tuesday   \n",
       "\n",
       "  MonthClaimed  WeekOfMonthClaimed     Sex MaritalStatus  ...  \\\n",
       "0          Jan                   1  Female        Single  ...   \n",
       "1          Jan                   4    Male        Single  ...   \n",
       "2          Nov                   2    Male       Married  ...   \n",
       "3          Jul                   1    Male       Married  ...   \n",
       "4          Feb                   2  Female        Single  ...   \n",
       "\n",
       "   PoliceReportFiled WitnessPresent AgentType NumberOfSuppliments  \\\n",
       "0                 No             No  External                none   \n",
       "1                Yes             No  External                none   \n",
       "2                 No             No  External                none   \n",
       "3                Yes             No  External         more than 5   \n",
       "4                 No             No  External                none   \n",
       "\n",
       "  AddressChange-Claim  NumberOfCars  Year  BasePolicy  FraudFound  \\\n",
       "0              1 year        3 to 4  1994   Liability          No   \n",
       "1           no change     1 vehicle  1994   Collision          No   \n",
       "2           no change     1 vehicle  1994   Collision          No   \n",
       "3           no change     1 vehicle  1994   Liability          No   \n",
       "4           no change     1 vehicle  1994   Collision          No   \n",
       "\n",
       "  FraudFound_Int  \n",
       "0              0  \n",
       "1              0  \n",
       "2              0  \n",
       "3              0  \n",
       "4              0  \n",
       "\n",
       "[5 rows x 34 columns]"
      ]
     },
     "execution_count": 10,
     "metadata": {},
     "output_type": "execute_result"
    }
   ],
   "source": [
    "# Assume the data must have a unique ID, such as PolicyNumber  \n",
    "# This is how duplicates can be detected  \n",
    "print(f\"Duplicates of Policy Numbers: {dataset['PolicyNumber'].duplicated().sum()}\")\n",
    "\n",
    "# and deleted\n",
    "dataset_with_unique_policy_numbers = dataset.drop_duplicates(subset=['PolicyNumber'], keep='last')\n",
    "dataset_with_unique_policy_numbers.head()"
   ]
  },
  {
   "cell_type": "markdown",
   "id": "52079df1",
   "metadata": {},
   "source": [
    "#### *Are there any duplicate values in a given column (when this would be inappropriate?)*\n",
    "\n",
    "##### Inapropriate duplicates could be : \n",
    "- Primary or natural keys: Unique identifiers such as a claim number(if provided), or a composite key formed by combining multiple columns (e.g., `PolicyNumber` + `Timestamp`).\n",
    "- Timestamps: Expected to be unique per claim, but collisions may occur.\n",
    "\n",
    "##### Apropriate duplicates are : \n",
    "- Categorical attributes: Examples include `Month`, `Sex`, `Marital Status`, etc.\n",
    "- Numerical values: Examples include `Deductible Amount`, etc."
   ]
  },
  {
   "cell_type": "markdown",
   "id": "f093503a",
   "metadata": {},
   "source": [
    "#### *Are there any missing or null values?*"
   ]
  },
  {
   "cell_type": "code",
   "execution_count": 11,
   "id": "5a5fb0b0",
   "metadata": {},
   "outputs": [
    {
     "name": "stdout",
     "output_type": "stream",
     "text": [
      "No null values detected.\n"
     ]
    }
   ],
   "source": [
    "# Are there any null values?\n",
    "\n",
    "# check null Values\n",
    "missing_values_number = dataset.isnull().sum().sum()\n",
    "if missing_values_number > 0:\n",
    "    print(f\"This dataframe contain null values = {missing_values_number}\")\n",
    "else:\n",
    "    print(\"No null values detected.\")"
   ]
  },
  {
   "cell_type": "code",
   "execution_count": 18,
   "id": "244531c0",
   "metadata": {},
   "outputs": [
    {
     "name": "stdout",
     "output_type": "stream",
     "text": [
      "Missing values per column:\n",
      " Series([], dtype: int64)\n"
     ]
    }
   ],
   "source": [
    "# Check for missing values\n",
    "missing_values = dataset.isnull().sum()\n",
    "print(\"Missing values per column:\\n\", missing_values[missing_values>0])"
   ]
  },
  {
   "cell_type": "code",
   "execution_count": 19,
   "id": "57a762cc",
   "metadata": {},
   "outputs": [
    {
     "name": "stdout",
     "output_type": "stream",
     "text": [
      "Missing values filled with column means.\n"
     ]
    }
   ],
   "source": [
    "# Handling missing values\n",
    "dataset.fillna(dataset.mean(numeric_only=True), inplace=True)\n",
    "print(\"Missing values filled with column means.\")\n"
   ]
  },
  {
   "cell_type": "markdown",
   "id": "787acd4a",
   "metadata": {},
   "source": [
    "#### *Do you want to fill in the missing value with a mean value?  A value of your choice?  Remove that row?*\n",
    "- **Few missing values or rows**:  Remove the rows.  \n",
    "- **Significant percentage of missing values**:  \n",
    "  - **Numerical columns**: Fill with the mean.  \n",
    "  - **Categorical columns**: Fill with \"Unknown\" and encode."
   ]
  },
  {
   "cell_type": "markdown",
   "id": "48c19fba",
   "metadata": {},
   "source": [
    "#### *Identify any other inconsistent data (e.g. someone seems to be taking an action before they are born.)*\n",
    "\n",
    "Based on the `data_profiling` dataframe: \n",
    " - Column `MonthClaimed` should contain valid month names (e.g., Jan, Feb, ..., Dec), but some rows have a value of 0, which is an inconsistency.\n",
    " - The column `Age` contains values of 0, which may indicate inconsistencies or errors.\n",
    " - The column `DayOfWeekClaimed` has 8 distinct values, which may indicate inconsistencies or errors, as there should only be 7 possible values (Monday to Sunday).\n",
    " - There are duplicated features like `AgeOfPolicyHolder` (categorical age range)  and `Age` (exact age).\n",
    "\n"
   ]
  },
  {
   "cell_type": "markdown",
   "id": "6bdbe8d0",
   "metadata": {},
   "source": [
    "#### *Encode any categorical variables (e.g. with one-hot encoding.)*\n"
   ]
  },
  {
   "cell_type": "code",
   "execution_count": 14,
   "id": "17d1d4c4",
   "metadata": {},
   "outputs": [
    {
     "data": {
      "application/vnd.microsoft.datawrangler.viewer.v0+json": {
       "columns": [
        {
         "name": "index",
         "rawType": "int64",
         "type": "integer"
        },
        {
         "name": "WeekOfMonth",
         "rawType": "int64",
         "type": "integer"
        },
        {
         "name": "DayOfWeek",
         "rawType": "object",
         "type": "string"
        },
        {
         "name": "AccidentArea",
         "rawType": "object",
         "type": "string"
        },
        {
         "name": "DayOfWeekClaimed",
         "rawType": "object",
         "type": "string"
        },
        {
         "name": "MonthClaimed",
         "rawType": "object",
         "type": "string"
        },
        {
         "name": "WeekOfMonthClaimed",
         "rawType": "int64",
         "type": "integer"
        },
        {
         "name": "Sex",
         "rawType": "object",
         "type": "string"
        },
        {
         "name": "MaritalStatus",
         "rawType": "object",
         "type": "string"
        },
        {
         "name": "Age",
         "rawType": "int64",
         "type": "integer"
        },
        {
         "name": "Fault",
         "rawType": "object",
         "type": "string"
        },
        {
         "name": "PolicyType",
         "rawType": "object",
         "type": "string"
        },
        {
         "name": "VehicleCategory",
         "rawType": "object",
         "type": "string"
        },
        {
         "name": "VehiclePrice",
         "rawType": "object",
         "type": "string"
        },
        {
         "name": "PolicyNumber",
         "rawType": "int64",
         "type": "integer"
        },
        {
         "name": "RepNumber",
         "rawType": "int64",
         "type": "integer"
        },
        {
         "name": "Deductible",
         "rawType": "int64",
         "type": "integer"
        },
        {
         "name": "DriverRating",
         "rawType": "int64",
         "type": "integer"
        },
        {
         "name": "Days:Policy-Accident",
         "rawType": "object",
         "type": "string"
        },
        {
         "name": "Days:Policy-Claim",
         "rawType": "object",
         "type": "string"
        },
        {
         "name": "PastNumberOfClaims",
         "rawType": "object",
         "type": "string"
        },
        {
         "name": "AgeOfVehicle",
         "rawType": "object",
         "type": "string"
        },
        {
         "name": "AgeOfPolicyHolder",
         "rawType": "object",
         "type": "string"
        },
        {
         "name": "PoliceReportFiled",
         "rawType": "object",
         "type": "string"
        },
        {
         "name": "WitnessPresent",
         "rawType": "object",
         "type": "string"
        },
        {
         "name": "AgentType",
         "rawType": "object",
         "type": "string"
        },
        {
         "name": "NumberOfSuppliments",
         "rawType": "object",
         "type": "string"
        },
        {
         "name": "AddressChange-Claim",
         "rawType": "object",
         "type": "string"
        },
        {
         "name": "NumberOfCars",
         "rawType": "object",
         "type": "string"
        },
        {
         "name": "Year",
         "rawType": "int64",
         "type": "integer"
        },
        {
         "name": "BasePolicy",
         "rawType": "object",
         "type": "string"
        },
        {
         "name": "FraudFound",
         "rawType": "object",
         "type": "string"
        },
        {
         "name": "FraudFound_Int",
         "rawType": "int64",
         "type": "integer"
        },
        {
         "name": "Month_Apr",
         "rawType": "bool",
         "type": "boolean"
        },
        {
         "name": "Month_Aug",
         "rawType": "bool",
         "type": "boolean"
        },
        {
         "name": "Month_Dec",
         "rawType": "bool",
         "type": "boolean"
        },
        {
         "name": "Month_Feb",
         "rawType": "bool",
         "type": "boolean"
        },
        {
         "name": "Month_Jan",
         "rawType": "bool",
         "type": "boolean"
        },
        {
         "name": "Month_Jul",
         "rawType": "bool",
         "type": "boolean"
        },
        {
         "name": "Month_Jun",
         "rawType": "bool",
         "type": "boolean"
        },
        {
         "name": "Month_Mar",
         "rawType": "bool",
         "type": "boolean"
        },
        {
         "name": "Month_May",
         "rawType": "bool",
         "type": "boolean"
        },
        {
         "name": "Month_Nov",
         "rawType": "bool",
         "type": "boolean"
        },
        {
         "name": "Month_Oct",
         "rawType": "bool",
         "type": "boolean"
        },
        {
         "name": "Month_Sep",
         "rawType": "bool",
         "type": "boolean"
        },
        {
         "name": "Make_Accura",
         "rawType": "bool",
         "type": "boolean"
        },
        {
         "name": "Make_BMW",
         "rawType": "bool",
         "type": "boolean"
        },
        {
         "name": "Make_Chevrolet",
         "rawType": "bool",
         "type": "boolean"
        },
        {
         "name": "Make_Dodge",
         "rawType": "bool",
         "type": "boolean"
        },
        {
         "name": "Make_Ferrari",
         "rawType": "bool",
         "type": "boolean"
        },
        {
         "name": "Make_Ford",
         "rawType": "bool",
         "type": "boolean"
        },
        {
         "name": "Make_Honda",
         "rawType": "bool",
         "type": "boolean"
        },
        {
         "name": "Make_Jaguar",
         "rawType": "bool",
         "type": "boolean"
        },
        {
         "name": "Make_Lexus",
         "rawType": "bool",
         "type": "boolean"
        },
        {
         "name": "Make_Mazda",
         "rawType": "bool",
         "type": "boolean"
        },
        {
         "name": "Make_Mecedes",
         "rawType": "bool",
         "type": "boolean"
        },
        {
         "name": "Make_Mercury",
         "rawType": "bool",
         "type": "boolean"
        },
        {
         "name": "Make_Nisson",
         "rawType": "bool",
         "type": "boolean"
        },
        {
         "name": "Make_Pontiac",
         "rawType": "bool",
         "type": "boolean"
        },
        {
         "name": "Make_Porche",
         "rawType": "bool",
         "type": "boolean"
        },
        {
         "name": "Make_Saab",
         "rawType": "bool",
         "type": "boolean"
        },
        {
         "name": "Make_Saturn",
         "rawType": "bool",
         "type": "boolean"
        },
        {
         "name": "Make_Toyota",
         "rawType": "bool",
         "type": "boolean"
        },
        {
         "name": "Make_VW",
         "rawType": "bool",
         "type": "boolean"
        }
       ],
       "conversionMethod": "pd.DataFrame",
       "ref": "e2f0ab2b-2edc-494f-be8a-fe96adbbcdfc",
       "rows": [
        [
         "0",
         "5",
         "Wednesday",
         "Urban",
         "Tuesday",
         "Jan",
         "1",
         "Female",
         "Single",
         "21",
         "Policy Holder",
         "Sport - Liability",
         "Sport",
         "more than 69,000",
         "1",
         "12",
         "300",
         "1",
         "more than 30",
         "more than 30",
         "none",
         "3 years",
         "26 to 30",
         "No",
         "No",
         "External",
         "none",
         "1 year",
         "3 to 4",
         "1994",
         "Liability",
         "No",
         "0",
         "False",
         "False",
         "True",
         "False",
         "False",
         "False",
         "False",
         "False",
         "False",
         "False",
         "False",
         "False",
         "False",
         "False",
         "False",
         "False",
         "False",
         "False",
         "True",
         "False",
         "False",
         "False",
         "False",
         "False",
         "False",
         "False",
         "False",
         "False",
         "False",
         "False",
         "False"
        ],
        [
         "1",
         "3",
         "Wednesday",
         "Urban",
         "Monday",
         "Jan",
         "4",
         "Male",
         "Single",
         "34",
         "Policy Holder",
         "Sport - Collision",
         "Sport",
         "more than 69,000",
         "2",
         "15",
         "400",
         "4",
         "more than 30",
         "more than 30",
         "none",
         "6 years",
         "31 to 35",
         "Yes",
         "No",
         "External",
         "none",
         "no change",
         "1 vehicle",
         "1994",
         "Collision",
         "No",
         "0",
         "False",
         "False",
         "False",
         "False",
         "True",
         "False",
         "False",
         "False",
         "False",
         "False",
         "False",
         "False",
         "False",
         "False",
         "False",
         "False",
         "False",
         "False",
         "True",
         "False",
         "False",
         "False",
         "False",
         "False",
         "False",
         "False",
         "False",
         "False",
         "False",
         "False",
         "False"
        ],
        [
         "2",
         "5",
         "Friday",
         "Urban",
         "Thursday",
         "Nov",
         "2",
         "Male",
         "Married",
         "47",
         "Policy Holder",
         "Sport - Collision",
         "Sport",
         "more than 69,000",
         "3",
         "7",
         "400",
         "3",
         "more than 30",
         "more than 30",
         "1",
         "7 years",
         "41 to 50",
         "No",
         "No",
         "External",
         "none",
         "no change",
         "1 vehicle",
         "1994",
         "Collision",
         "No",
         "0",
         "False",
         "False",
         "False",
         "False",
         "False",
         "False",
         "False",
         "False",
         "False",
         "False",
         "True",
         "False",
         "False",
         "False",
         "False",
         "False",
         "False",
         "False",
         "True",
         "False",
         "False",
         "False",
         "False",
         "False",
         "False",
         "False",
         "False",
         "False",
         "False",
         "False",
         "False"
        ],
        [
         "3",
         "2",
         "Saturday",
         "Rural",
         "Friday",
         "Jul",
         "1",
         "Male",
         "Married",
         "65",
         "Third Party",
         "Sedan - Liability",
         "Sport",
         "20,000 to 29,000",
         "4",
         "4",
         "400",
         "2",
         "more than 30",
         "more than 30",
         "1",
         "more than 7",
         "51 to 65",
         "Yes",
         "No",
         "External",
         "more than 5",
         "no change",
         "1 vehicle",
         "1994",
         "Liability",
         "No",
         "0",
         "False",
         "False",
         "False",
         "False",
         "False",
         "False",
         "True",
         "False",
         "False",
         "False",
         "False",
         "False",
         "False",
         "False",
         "False",
         "False",
         "False",
         "False",
         "False",
         "False",
         "False",
         "False",
         "False",
         "False",
         "False",
         "False",
         "False",
         "False",
         "False",
         "True",
         "False"
        ],
        [
         "4",
         "5",
         "Monday",
         "Urban",
         "Tuesday",
         "Feb",
         "2",
         "Female",
         "Single",
         "27",
         "Third Party",
         "Sport - Collision",
         "Sport",
         "more than 69,000",
         "5",
         "3",
         "400",
         "1",
         "more than 30",
         "more than 30",
         "none",
         "5 years",
         "31 to 35",
         "No",
         "No",
         "External",
         "none",
         "no change",
         "1 vehicle",
         "1994",
         "Collision",
         "No",
         "0",
         "False",
         "False",
         "False",
         "False",
         "True",
         "False",
         "False",
         "False",
         "False",
         "False",
         "False",
         "False",
         "False",
         "False",
         "False",
         "False",
         "False",
         "False",
         "True",
         "False",
         "False",
         "False",
         "False",
         "False",
         "False",
         "False",
         "False",
         "False",
         "False",
         "False",
         "False"
        ]
       ],
       "shape": {
        "columns": 63,
        "rows": 5
       }
      },
      "text/html": [
       "<div>\n",
       "<style scoped>\n",
       "    .dataframe tbody tr th:only-of-type {\n",
       "        vertical-align: middle;\n",
       "    }\n",
       "\n",
       "    .dataframe tbody tr th {\n",
       "        vertical-align: top;\n",
       "    }\n",
       "\n",
       "    .dataframe thead th {\n",
       "        text-align: right;\n",
       "    }\n",
       "</style>\n",
       "<table border=\"1\" class=\"dataframe\">\n",
       "  <thead>\n",
       "    <tr style=\"text-align: right;\">\n",
       "      <th></th>\n",
       "      <th>WeekOfMonth</th>\n",
       "      <th>DayOfWeek</th>\n",
       "      <th>AccidentArea</th>\n",
       "      <th>DayOfWeekClaimed</th>\n",
       "      <th>MonthClaimed</th>\n",
       "      <th>WeekOfMonthClaimed</th>\n",
       "      <th>Sex</th>\n",
       "      <th>MaritalStatus</th>\n",
       "      <th>Age</th>\n",
       "      <th>Fault</th>\n",
       "      <th>...</th>\n",
       "      <th>Make_Mazda</th>\n",
       "      <th>Make_Mecedes</th>\n",
       "      <th>Make_Mercury</th>\n",
       "      <th>Make_Nisson</th>\n",
       "      <th>Make_Pontiac</th>\n",
       "      <th>Make_Porche</th>\n",
       "      <th>Make_Saab</th>\n",
       "      <th>Make_Saturn</th>\n",
       "      <th>Make_Toyota</th>\n",
       "      <th>Make_VW</th>\n",
       "    </tr>\n",
       "  </thead>\n",
       "  <tbody>\n",
       "    <tr>\n",
       "      <th>0</th>\n",
       "      <td>5</td>\n",
       "      <td>Wednesday</td>\n",
       "      <td>Urban</td>\n",
       "      <td>Tuesday</td>\n",
       "      <td>Jan</td>\n",
       "      <td>1</td>\n",
       "      <td>Female</td>\n",
       "      <td>Single</td>\n",
       "      <td>21</td>\n",
       "      <td>Policy Holder</td>\n",
       "      <td>...</td>\n",
       "      <td>False</td>\n",
       "      <td>False</td>\n",
       "      <td>False</td>\n",
       "      <td>False</td>\n",
       "      <td>False</td>\n",
       "      <td>False</td>\n",
       "      <td>False</td>\n",
       "      <td>False</td>\n",
       "      <td>False</td>\n",
       "      <td>False</td>\n",
       "    </tr>\n",
       "    <tr>\n",
       "      <th>1</th>\n",
       "      <td>3</td>\n",
       "      <td>Wednesday</td>\n",
       "      <td>Urban</td>\n",
       "      <td>Monday</td>\n",
       "      <td>Jan</td>\n",
       "      <td>4</td>\n",
       "      <td>Male</td>\n",
       "      <td>Single</td>\n",
       "      <td>34</td>\n",
       "      <td>Policy Holder</td>\n",
       "      <td>...</td>\n",
       "      <td>False</td>\n",
       "      <td>False</td>\n",
       "      <td>False</td>\n",
       "      <td>False</td>\n",
       "      <td>False</td>\n",
       "      <td>False</td>\n",
       "      <td>False</td>\n",
       "      <td>False</td>\n",
       "      <td>False</td>\n",
       "      <td>False</td>\n",
       "    </tr>\n",
       "    <tr>\n",
       "      <th>2</th>\n",
       "      <td>5</td>\n",
       "      <td>Friday</td>\n",
       "      <td>Urban</td>\n",
       "      <td>Thursday</td>\n",
       "      <td>Nov</td>\n",
       "      <td>2</td>\n",
       "      <td>Male</td>\n",
       "      <td>Married</td>\n",
       "      <td>47</td>\n",
       "      <td>Policy Holder</td>\n",
       "      <td>...</td>\n",
       "      <td>False</td>\n",
       "      <td>False</td>\n",
       "      <td>False</td>\n",
       "      <td>False</td>\n",
       "      <td>False</td>\n",
       "      <td>False</td>\n",
       "      <td>False</td>\n",
       "      <td>False</td>\n",
       "      <td>False</td>\n",
       "      <td>False</td>\n",
       "    </tr>\n",
       "    <tr>\n",
       "      <th>3</th>\n",
       "      <td>2</td>\n",
       "      <td>Saturday</td>\n",
       "      <td>Rural</td>\n",
       "      <td>Friday</td>\n",
       "      <td>Jul</td>\n",
       "      <td>1</td>\n",
       "      <td>Male</td>\n",
       "      <td>Married</td>\n",
       "      <td>65</td>\n",
       "      <td>Third Party</td>\n",
       "      <td>...</td>\n",
       "      <td>False</td>\n",
       "      <td>False</td>\n",
       "      <td>False</td>\n",
       "      <td>False</td>\n",
       "      <td>False</td>\n",
       "      <td>False</td>\n",
       "      <td>False</td>\n",
       "      <td>False</td>\n",
       "      <td>True</td>\n",
       "      <td>False</td>\n",
       "    </tr>\n",
       "    <tr>\n",
       "      <th>4</th>\n",
       "      <td>5</td>\n",
       "      <td>Monday</td>\n",
       "      <td>Urban</td>\n",
       "      <td>Tuesday</td>\n",
       "      <td>Feb</td>\n",
       "      <td>2</td>\n",
       "      <td>Female</td>\n",
       "      <td>Single</td>\n",
       "      <td>27</td>\n",
       "      <td>Third Party</td>\n",
       "      <td>...</td>\n",
       "      <td>False</td>\n",
       "      <td>False</td>\n",
       "      <td>False</td>\n",
       "      <td>False</td>\n",
       "      <td>False</td>\n",
       "      <td>False</td>\n",
       "      <td>False</td>\n",
       "      <td>False</td>\n",
       "      <td>False</td>\n",
       "      <td>False</td>\n",
       "    </tr>\n",
       "  </tbody>\n",
       "</table>\n",
       "<p>5 rows × 63 columns</p>\n",
       "</div>"
      ],
      "text/plain": [
       "   WeekOfMonth  DayOfWeek AccidentArea DayOfWeekClaimed MonthClaimed  \\\n",
       "0            5  Wednesday        Urban          Tuesday          Jan   \n",
       "1            3  Wednesday        Urban           Monday          Jan   \n",
       "2            5     Friday        Urban         Thursday          Nov   \n",
       "3            2   Saturday        Rural           Friday          Jul   \n",
       "4            5     Monday        Urban          Tuesday          Feb   \n",
       "\n",
       "   WeekOfMonthClaimed     Sex MaritalStatus  Age          Fault  ...  \\\n",
       "0                   1  Female        Single   21  Policy Holder  ...   \n",
       "1                   4    Male        Single   34  Policy Holder  ...   \n",
       "2                   2    Male       Married   47  Policy Holder  ...   \n",
       "3                   1    Male       Married   65    Third Party  ...   \n",
       "4                   2  Female        Single   27    Third Party  ...   \n",
       "\n",
       "  Make_Mazda Make_Mecedes Make_Mercury  Make_Nisson  Make_Pontiac  \\\n",
       "0      False        False        False        False         False   \n",
       "1      False        False        False        False         False   \n",
       "2      False        False        False        False         False   \n",
       "3      False        False        False        False         False   \n",
       "4      False        False        False        False         False   \n",
       "\n",
       "   Make_Porche  Make_Saab Make_Saturn Make_Toyota Make_VW  \n",
       "0        False      False       False       False   False  \n",
       "1        False      False       False       False   False  \n",
       "2        False      False       False       False   False  \n",
       "3        False      False       False        True   False  \n",
       "4        False      False       False       False   False  \n",
       "\n",
       "[5 rows x 63 columns]"
      ]
     },
     "execution_count": 14,
     "metadata": {},
     "output_type": "execute_result"
    }
   ],
   "source": [
    "# One-hot encode categorical columns\n",
    "dataset_encoded = pd.get_dummies(dataset, columns=['Month', 'Make'])\n",
    "dataset_encoded.head()"
   ]
  },
  {
   "cell_type": "markdown",
   "id": "9b2a1508",
   "metadata": {},
   "source": [
    "### Conclusions:\n",
    "\n",
    "- *Are the data usable?  If not, find some new data!*\n",
    "  - The data appears usable, with minor inconsistencies.\n",
    "\n",
    "- *Do you need to modify or correct the data in some way?*\n",
    "  - There are some inconsistencies that can be fixed:\n",
    "    - `MonthClaimed`: Rows with 0 values can be removed.\n",
    "    - `Age`: This feature can be dropped, or 0 values can be replaced with the median age from the corresponding `AgeOfPolicyHolder` (categorical age range).\n",
    "    - `DayOfWeekClaimed`: Rows with 0 values can be removed.\n",
    "\n",
    "- *Is there any class imbalance?  (Categories that have many more items than other categories).*\n",
    "  - Most categorical columns have fewer than 10 unique values, while `Age` has 64 distinct categories."
   ]
  },
  {
   "cell_type": "markdown",
   "id": "abab9e6d-18cc-4863-b980-3e52f581763a",
   "metadata": {},
   "source": [
    "# 4. Storytelling With Data graph"
   ]
  },
  {
   "cell_type": "markdown",
   "id": "1911148d-9df6-4b33-a875-8c96408ec834",
   "metadata": {},
   "source": [
    "Just like last week: choose any graph in the Introduction of Storytelling With Data. \n",
    "- ✅ Use matplotlib to reproduce it in a rough way. I don't expect you to spend an enormous amount of time on this; I understand that you likely will not have time to re-create every feature of the graph. However, if you're excited about learning to use matplotlib, this is a good way to do that. You don't have to duplicate the exact values on the graph; just the same rough shape will be enough.  \n",
    "- ✅ If you don't feel comfortable using matplotlib yet, do the best you can and write down what you tried or what Google searches you did to find the answers."
   ]
  },
  {
   "cell_type": "code",
   "execution_count": 15,
   "id": "8b2888f9-3700-45ab-9829-6a5372106f9f",
   "metadata": {},
   "outputs": [
    {
     "data": {
      "image/png": "[encoded data removed]",
      "text/plain": [
       "<Figure size 800x500 with 1 Axes>"
      ]
     },
     "metadata": {},
     "output_type": "display_data"
    }
   ],
   "source": [
    "df = dataset.copy()\n",
    "\n",
    "fraud_counts = df.groupby([\"WitnessPresent\", \"FraudFound\"]).size().unstack(fill_value=0)\n",
    "\n",
    "fig, ax = plt.subplots(figsize=(8, 5))\n",
    "\n",
    "# plot the bars side by side (stacked=False for grouped bars)\n",
    "bars = fraud_counts.plot(kind='bar', stacked=False, ax=ax, color=['blue', 'red'], width=0.8)\n",
    "\n",
    "# adjusting labels on bars to prevent overlapping\n",
    "for bar_container in bars.containers:\n",
    "    ax.bar_label(bar_container, fmt='%d', padding=3, fontsize=10)\n",
    "\n",
    "# add labels and title\n",
    "ax.set_xlabel(\"Witness Present\")\n",
    "ax.set_ylabel(\"Number of Claims\")\n",
    "ax.set_title(\"Legitimate vs. Fraudulent Claims by Witness Present\")\n",
    "ax.legend(title=\"Fraud Found\", labels=[\"No (Legitimate)\", \"Yes (Fraudulent)\"])\n",
    "\n",
    "# adjust tick rotation and layout\n",
    "plt.xticks(rotation=0)\n",
    "plt.tight_layout()\n",
    "\n",
    "# show the chart\n",
    "plt.show()"
   ]
  },
  {
   "cell_type": "code",
   "execution_count": 16,
   "id": "fa64656b",
   "metadata": {},
   "outputs": [
    {
     "data": {
      "image/png": "[encoded data removed]",
      "text/plain": [
       "<Figure size 800x500 with 1 Axes>"
      ]
     },
     "metadata": {},
     "output_type": "display_data"
    }
   ],
   "source": [
    "fraud_counts = df.groupby([\"AgeOfPolicyHolder\", \"FraudFound\"]).size().unstack(fill_value=0)\n",
    "\n",
    "# Plot grouped bar chart (bars next to each other)\n",
    "fig, ax = plt.subplots(figsize=(8, 5))\n",
    "fraud_counts.plot(kind='bar', stacked=False, ax=ax, color=['blue', 'red'], width=0.8)\n",
    "\n",
    "# add labels and title\n",
    "ax.set_xlabel(\"Age of Policy Holder\")\n",
    "ax.set_ylabel(\"Number of Claims\")\n",
    "ax.set_title(\"Legitimate vs. Fraudulent Claims by Age of Policy Holder\")\n",
    "ax.legend(title=\"Fraud Found\", labels=[\"No (Legitimate)\", \"Yes (Fraudulent)\"])\n",
    "\n",
    "# show the chart\n",
    "plt.xticks(rotation=45)\n",
    "plt.show()"
   ]
  },
  {
   "cell_type": "markdown",
   "id": "1a4545b0",
   "metadata": {},
   "source": [
    "#### *Write down what you tried or what Google searches you did to find the answers.*\n",
    "I've tried multiple combinations of categorical features, aiming to keep the chart readable while avoiding unnecessary complexity. \n",
    "\n",
    "I prefer bar charts as they are the easiest to read and interpret. I also searched on Google and found other projects on Kaggle with this dataset, but most of them focus on machine learning rather than descriptive analytics.\n",
    "\n",
    "Additionally, I added a heatmap below to visualize correlations and try to identify patterns in the data."
   ]
  },
  {
   "cell_type": "code",
   "execution_count": 17,
   "id": "ed850f90",
   "metadata": {},
   "outputs": [
    {
     "data": {
      "image/png": "[encoded data removed]",
      "text/plain": [
       "<Figure size 1000x600 with 2 Axes>"
      ]
     },
     "metadata": {},
     "output_type": "display_data"
    }
   ],
   "source": [
    "# Feature Correlation Heatmap\n",
    "# use only numeric features for the heat map\n",
    "# do not use `PolicyNumber`, leaving them for the numerologists.\n",
    "df_numeric = dataset.select_dtypes(include=['number']).drop(columns=['PolicyNumber'])\n",
    "\n",
    "# plot heatmap\n",
    "plt.figure(figsize=(10, 6))\n",
    "sns.heatmap(df_numeric.corr(), annot=True, fmt=\".2f\", cmap=\"coolwarm\", linewidths=0.5)\n",
    "\n",
    "# add title\n",
    "plt.title(\"Numeric features Correlation Heatmap\")\n",
    "\n",
    "# show the heatmap\n",
    "plt.show()"
   ]
  },
  {
   "cell_type": "markdown",
   "id": "343b257a",
   "metadata": {},
   "source": [
    "#### Heatmap observations\n",
    "The heatmap suggests that no strong correlations exist among the **numeric** features, meaning each variable is relatively independent.\n",
    "\n",
    "More feature engineering is needed, such as encoding categorical variables or creating new derived features to improve model performance.\n"
   ]
  },
  {
   "cell_type": "markdown",
   "id": "f15a2827",
   "metadata": {},
   "source": [
    "#### References\n",
    "\n",
    "1. Kaggle. (n.d.). *Vehicle Insurance Fraud Detection.* Retrieved from https://www.kaggle.com/datasets/khusheekapoor/vehicle-insurance-fraud-detection/data\n",
    "\n",
    "2. Nelyapenko, (2025). *ModB-Sem2 Weekly Homework: Week 02. OMDS-ModB2-Week2-Nelyapenko-Sergey.ipynb GitHub.* Retrieved from https://github.com/SergeyNelyapenkoBU/2025-spring-B2/blob/main/OMDS-ModB2-Week2-Nelyapenko-Sergey.ipynb\n"
   ]
  }
 ],
 "metadata": {
  "kernelspec": {
   "display_name": ".venv",
   "language": "python",
   "name": "python3"
  },
  "language_info": {
   "codemirror_mode": {
    "name": "ipython",
    "version": 3
   },
   "file_extension": ".py",
   "mimetype": "text/x-python",
   "name": "python",
   "nbconvert_exporter": "python",
   "pygments_lexer": "ipython3",
   "version": "3.9.13"
  }
 },
 "nbformat": 4,
 "nbformat_minor": 5
}
